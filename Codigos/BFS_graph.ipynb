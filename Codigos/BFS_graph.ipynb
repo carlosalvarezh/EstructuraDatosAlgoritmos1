{
 "cells": [
  {
   "cell_type": "code",
   "execution_count": null,
   "id": "081d1c4b",
   "metadata": {},
   "outputs": [],
   "source": [
    "from collections import defaultdict\n",
    "\n",
    "# Clase para representar un grafo\n",
    "class Grafo:\n",
    "    def __init__(self):\n",
    "        self.grafo = defaultdict(list)\n",
    "\n",
    "    # Función para agregar una arista al grafo\n",
    "    def agregar_arista(self, u, v):\n",
    "        self.grafo[u].append(v)\n",
    "\n",
    "    # Función para realizar el recorrido BFS\n",
    "    def bfs(self, inicio):\n",
    "        # Verificar que el nodo de inicio es válido\n",
    "        if inicio > max(self.grafo):\n",
    "            print(\"El nodo de inicio es mayor que el nodo máximo en el grafo.\")\n",
    "            return\n",
    "            \n",
    "        # Lista para almacenar los nodos visitados\n",
    "        visitados = [False] * (len(self.grafo) + 1)\n",
    "\n",
    "        # Cola para el recorrido BFS\n",
    "        cola = []\n",
    "\n",
    "        # Marcar el nodo inicial como visitado y agregarlo a la cola\n",
    "        visitados[inicio] = True\n",
    "        cola.append(inicio)\n",
    "\n",
    "        while cola:\n",
    "            # Sacar un nodo de la cola y mostrarlo\n",
    "            nodo = cola.pop(0)\n",
    "            print(nodo, end=\" \")\n",
    "\n",
    "            # Obtener todos los nodos adyacentes al nodo actual\n",
    "            # Si no han sido visitados, marcarlos como visitados y agregarlos a la cola\n",
    "            for adyacente in self.grafo[nodo]:\n",
    "                if not visitados[adyacente]:\n",
    "                    visitados[adyacente] = True\n",
    "                    cola.append(adyacente)\n",
    "\n",
    "# Crear un objeto de la clase Grafo\n",
    "grafo = Grafo()\n",
    "\n",
    "# Agregar las aristas al grafo\n",
    "aristas = [(0, 1), (0, 2), (1, 3), (1, 2), (2, 4), (3, 4)]\n",
    "for u, v in aristas:\n",
    "    grafo.agregar_arista(u, v)\n",
    "\n",
    "# Realizar el recorrido BFS desde el nodo 0\n",
    "print(\"Recorrido BFS:\")\n",
    "if len(grafo.grafo) > 0:\n",
    "    grafo.bfs(0)\n",
    "else:\n",
    "    print(\"El grafo está vacío.\")\n"
   ]
  },
  {
   "cell_type": "markdown",
   "id": "406aa06d",
   "metadata": {},
   "source": [
    "# Explicación del código"
   ]
  },
  {
   "cell_type": "markdown",
   "id": "9ba2e845",
   "metadata": {},
   "source": [
    "```python\n",
    "from collections import defaultdict\n",
    "```\n",
    "Esta línea es una importación de la clase `defaultdict` del módulo `collections` en Python.\n",
    "\n",
    "`defaultdict` es un tipo de diccionario que proporciona un valor predeterminado para la clave que no existe. En lugar de lanzar un KeyError, devuelve el valor predeterminado.\n",
    "\n",
    "Aquí hay un ejemplo de cómo se puede usar:"
   ]
  },
  {
   "cell_type": "code",
   "execution_count": 2,
   "id": "c3394a63",
   "metadata": {},
   "outputs": [
    {
     "name": "stdout",
     "output_type": "stream",
     "text": [
      "0\n"
     ]
    }
   ],
   "source": [
    "from collections import defaultdict\n",
    "\n",
    "# Crear un defaultdict con int como valor predeterminado\n",
    "d = defaultdict(int)\n",
    "\n",
    "# Acceder a una clave que no existe\n",
    "print(d[\"clave_no_existente\"])  # Imprime: 0"
   ]
  },
  {
   "cell_type": "markdown",
   "id": "45445f07",
   "metadata": {},
   "source": [
    "En este caso, `int` es una función que devuelve 0, por lo que las claves que no existen en el diccionario devolverán 0. Puedes proporcionar cualquier función que no tome argumentos como valor predeterminado, incluyendo listas, conjuntos, cadenas, etc."
   ]
  },
  {
   "cell_type": "markdown",
   "id": "ca1ecb34",
   "metadata": {},
   "source": [
    "```python\n",
    "def __init__(self):\n",
    "        self.grafo = defaultdict(list)\n",
    "```\n",
    "\n",
    "El método `__init__` es un método especial en Python que se llama automáticamente cuando se crea un nuevo objeto de una clase. Es el constructor de la clase y se utiliza para inicializar los atributos de la clase.\n",
    "\n",
    "En este caso, `__init__` está inicializando un atributo llamado `grafo` en la clase `Grafo`. Este atributo es un `defaultdict` que devuelve una lista vacía cuando se intenta acceder a una clave que no existe en el diccionario.\n",
    "\n",
    "A continuación se describe lo que hace cada parte:\n",
    "\n",
    "- `self` es una referencia al objeto actual. Se utiliza para acceder a los atributos y métodos del objeto.\n",
    "- `grafo` es un atributo del objeto. Puedes pensar en los atributos como variables que pertenecen al objeto.\n",
    "- `defaultdict(list)` crea un nuevo diccionario que devuelve una lista vacía cuando se intenta acceder a una clave que no existe.\n",
    "\n",
    "Por lo tanto, se pueden agregar aristas al grafo simplemente agregando elementos a las listas en `self.grafo`. No se necesita verificar si la clave existe en el diccionario, porque `defaultdict` se encarga de eso por ti."
   ]
  },
  {
   "cell_type": "markdown",
   "id": "c30512c5",
   "metadata": {},
   "source": [
    "```python\n",
    "def agregar_arista(self, u, v):\n",
    "        self.grafo[u].append(v)\n",
    "```\n",
    "El método `agregar_arista` se utiliza para agregar una arista al grafo. En términos de un grafo, una arista es una conexión entre dos nodos. Aquí, los nodos son representados por `u` y `v`.\n",
    "\n",
    "El método toma dos argumentos:\n",
    "\n",
    "- `u`: el nodo de inicio de la arista.\n",
    "- `v`: el nodo final de la arista.\n",
    "\n",
    "La línea `self.grafo[u].append(v)` agrega el nodo `v` a la lista de nodos adyacentes de `u`. En otras palabras, está creando una arista desde `u` hasta `v`.\n",
    "\n",
    "Dado que `self.grafo` es un `defaultdict` con listas como valores predeterminados, si `u` no existe en el diccionario, `self.grafo[u]` creará automáticamente una nueva lista. Luego, `append(v)` agrega `v` a esta lista.\n",
    "\n",
    "Por lo tanto, este método está construyendo un grafo dirigido, donde las aristas tienen una dirección desde `u` hasta `v`. Si quisieras un grafo no dirigido, donde las aristas no tienen dirección, podrías modificar el método para agregar `v` a la lista de `u` y `u` a la lista de `v`:\n",
    "\n",
    "```python\n",
    "def agregar_arista(self, u, v):\n",
    "    self.grafo[u].append(v)\n",
    "    self.grafo[v].append(u)\n",
    "```"
   ]
  },
  {
   "cell_type": "markdown",
   "id": "9a45ba10",
   "metadata": {},
   "source": [
    "```python\n",
    "def bfs(self, inicio):\n",
    "```\n",
    "Este es un método para realizar un recorrido en anchura (Breadth-First Search, BFS) en un grafo. Aquí está lo que hace cada parte del código:\n",
    "\n",
    "1. `def bfs(self, inicio):` - Este es el método `bfs` que toma un argumento `inicio`, que es el nodo desde el cual comenzará el recorrido.\n",
    "\n",
    "2. `if inicio > max(self.grafo):` - Verifica si el nodo de inicio es válido. Si el nodo de inicio es mayor que el nodo máximo en el grafo, imprime un mensaje de error y termina el método.\n",
    "\n",
    "3. `visitados = [False] * (len(self.grafo) + 1)` - Crea una lista de nodos visitados. Inicialmente, todos los nodos se marcan como no visitados (False).\n",
    "\n",
    "4. `cola = []` - Crea una cola vacía. La cola se utiliza para almacenar los nodos que se visitarán en el recorrido BFS.\n",
    "\n",
    "5. `visitados[inicio] = True` y `cola.append(inicio)` - Marca el nodo de inicio como visitado y lo agrega a la cola.\n",
    "\n",
    "6. `while cola:` - Mientras haya nodos en la cola, el recorrido continúa.\n",
    "\n",
    "7. `nodo = cola.pop(0)` - Extrae el primer nodo de la cola.\n",
    "\n",
    "8. `print(nodo, end=\" \")` - Imprime el nodo actual.\n",
    "\n",
    "9. `for adyacente in self.grafo[nodo]:` - Para cada nodo adyacente al nodo actual...\n",
    "\n",
    "10. `if not visitados[adyacente]:` - Si el nodo adyacente no ha sido visitado...\n",
    "\n",
    "11. `visitados[adyacente] = True` y `cola.append(adyacente)` - Marca el nodo adyacente como visitado y lo agrega a la cola.\n",
    "\n",
    "Este método realiza un recorrido BFS en el grafo, visitando cada nodo una vez en el orden de anchura, es decir, visitando primero todos los nodos adyacentes a un nodo antes de pasar al siguiente nivel de nodos."
   ]
  },
  {
   "cell_type": "code",
   "execution_count": null,
   "id": "3ea6f2b5",
   "metadata": {},
   "outputs": [],
   "source": []
  }
 ],
 "metadata": {
  "kernelspec": {
   "display_name": "Python 3 (ipykernel)",
   "language": "python",
   "name": "python3"
  },
  "language_info": {
   "codemirror_mode": {
    "name": "ipython",
    "version": 3
   },
   "file_extension": ".py",
   "mimetype": "text/x-python",
   "name": "python",
   "nbconvert_exporter": "python",
   "pygments_lexer": "ipython3",
   "version": "3.11.8"
  },
  "toc": {
   "base_numbering": 1,
   "nav_menu": {},
   "number_sections": true,
   "sideBar": true,
   "skip_h1_title": true,
   "title_cell": "Table of Contents",
   "title_sidebar": "Contents",
   "toc_cell": false,
   "toc_position": {
    "height": "calc(100% - 180px)",
    "left": "10px",
    "top": "150px",
    "width": "219.429px"
   },
   "toc_section_display": true,
   "toc_window_display": false
  }
 },
 "nbformat": 4,
 "nbformat_minor": 5
}
