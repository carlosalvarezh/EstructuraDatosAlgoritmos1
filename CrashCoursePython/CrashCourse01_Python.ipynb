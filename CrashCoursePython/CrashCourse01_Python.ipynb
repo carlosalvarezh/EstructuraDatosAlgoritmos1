{
 "cells": [
  {
   "cell_type": "markdown",
   "id": "2f6e1045",
   "metadata": {},
   "source": [
    "<h1 align=\"center\">Crash Course: Python</h1>\n",
    "<h1 align=\"center\">2024</h1>\n",
    "<h1 align=\"center\">MEDELLÍN - COLOMBIA </h1>"
   ]
  },
  {
   "cell_type": "markdown",
   "id": "2c179c27",
   "metadata": {},
   "source": [
    "*** \n",
    "|[![Outlook](https://img.shields.io/badge/Microsoft_Outlook-0078D4?style=plastic&logo=microsoft-outlook&logoColor=white)](mailto:calvar52@eafit.edu.co)||[![Open In Colab](https://colab.research.google.com/assets/colab-badge.svg)](https://colab.research.google.com/github/carlosalvarezh/EstructuraDatosAlgoritmos1/blob/main/CrashCoursePython/CrashCourse01_Python.ipynb)\n",
    "|-:|:-|--:|\n",
    "|[![LinkedIn](https://img.shields.io/badge/linkedin-%230077B5.svg?style=plastic&logo=linkedin&logoColor=white)](https://www.linkedin.com/in/carlosalvarez5/)|[![@alvarezhenao](https://img.shields.io/twitter/url/https/twitter.com/alvarezhenao.svg?style=social&label=Follow%20%40alvarezhenao)](https://twitter.com/alvarezhenao)|[![@carlosalvarezh](https://img.shields.io/badge/github-%23121011.svg?style=plastic&logo=github&logoColor=white)](https://github.com/carlosalvarezh)|\n",
    "\n",
    "<table>\n",
    " <tr align=left><td><img align=left src=\"https://github.com/carlosalvarezh/Curso_CEC_EAFIT/blob/main/images/CCLogoColorPop1.gif?raw=true\" width=\"25\">\n",
    " <td>Text provided under a Creative Commons Attribution license, CC-BY. All code is made available under the FSF-approved MIT license.(c) Carlos Alberto Alvarez Henao</td>\n",
    "</table>\n",
    "\n",
    "***"
   ]
  },
  {
   "cell_type": "markdown",
   "id": "60fef0f9",
   "metadata": {},
   "source": [
    "## Conceptos básicos de Python"
   ]
  },
  {
   "cell_type": "markdown",
   "id": "248bbdb6",
   "metadata": {},
   "source": [
    "***Nota:*** Las siguientes notas tienen como objetivo presentar una visión rápida de diferentes funcionalidades del lenguaje Python. En ningún momento debe ser entendido como un curso para aprender python. Son más como una especie de breve guía de referencia para adentrarse en su aplicabilidad."
   ]
  },
  {
   "cell_type": "markdown",
   "id": "2c207cbf",
   "metadata": {},
   "source": [
    "### Variables y tipos"
   ]
  },
  {
   "cell_type": "markdown",
   "id": "016085a3",
   "metadata": {},
   "source": [
    "Una variable es un nombre que se utiliza para hacer referencia a un valor en la memoria de la computadora. Estos valores pueden ser de diversos tipos, como numéricos ([int / float / complex](https://docs.python.org/3/library/stdtypes.html#numeric-types-int-float-complex)), cadenas de texto([str](https://docs.python.org/3/library/stdtypes.html#text-sequence-type-str)), secuencia ([tuple/list](https://docs.python.org/3/library/stdtypes.html#sequence-types-list-tuple-range)), asignación (mapping) ([dict](https://docs.python.org/3/library/stdtypes.html#mapping-types-dict)), objetos y más. Las variables son fundamentales en la programación ya que permiten almacenar y manipular datos de manera dinámica.\n",
    "\n",
    "En Python, se crea una variable al asignarle un valor usando el operador de asignación (`=`). Por ejemplo:"
   ]
  },
  {
   "cell_type": "code",
   "execution_count": null,
   "id": "04c368a4",
   "metadata": {},
   "outputs": [],
   "source": [
    "entero = 10\n",
    "flotante = 10.\n",
    "name = 'Juan'\n",
    "di = '12365987'\n",
    "\n",
    "tupla = \"Carlos\",\"Alvarez\", 52, 1.75, 72, \"O-\",True, (1,2,3,4)\n",
    "lista = [\"Carlos\",\"Alvarez\", 52, 1.75, 72, \"O-\",True, [1,2,3,4]]\n",
    "dicc = {\"Nombre: \":\"Carlos\", \"Apellido: \": \"Alvarez\", \"Edad: \" : 52, \n",
    "        \"Estatura: \":1.75, \"Peso: \":72, \"RH: \": \"O-\", \"F/V\": True, \"otro\":(1,2,3,4)}"
   ]
  },
  {
   "cell_type": "code",
   "execution_count": null,
   "id": "c6841e66",
   "metadata": {},
   "outputs": [],
   "source": [
    "print(entero)"
   ]
  },
  {
   "cell_type": "code",
   "execution_count": null,
   "id": "93d0480a",
   "metadata": {},
   "outputs": [],
   "source": [
    "type(entero)"
   ]
  },
  {
   "cell_type": "code",
   "execution_count": null,
   "id": "85cf0375",
   "metadata": {},
   "outputs": [],
   "source": [
    "print(flotante)"
   ]
  },
  {
   "cell_type": "code",
   "execution_count": null,
   "id": "56e48ed6",
   "metadata": {},
   "outputs": [],
   "source": [
    "type(flotante)"
   ]
  },
  {
   "cell_type": "code",
   "execution_count": null,
   "id": "9cf3788c",
   "metadata": {},
   "outputs": [],
   "source": [
    "print(name)"
   ]
  },
  {
   "cell_type": "code",
   "execution_count": null,
   "id": "31e72cd4",
   "metadata": {},
   "outputs": [],
   "source": [
    "type(name)"
   ]
  },
  {
   "cell_type": "code",
   "execution_count": null,
   "id": "a72c5398",
   "metadata": {},
   "outputs": [],
   "source": [
    "print(di)"
   ]
  },
  {
   "cell_type": "code",
   "execution_count": null,
   "id": "2c405e79",
   "metadata": {},
   "outputs": [],
   "source": [
    "type(di)"
   ]
  },
  {
   "cell_type": "code",
   "execution_count": null,
   "id": "b3404a06",
   "metadata": {},
   "outputs": [],
   "source": [
    "print(tupla)"
   ]
  },
  {
   "cell_type": "code",
   "execution_count": null,
   "id": "e1c28c49",
   "metadata": {},
   "outputs": [],
   "source": [
    "type(tupla)"
   ]
  },
  {
   "cell_type": "code",
   "execution_count": null,
   "id": "af446f0d",
   "metadata": {},
   "outputs": [],
   "source": [
    "print(lista)"
   ]
  },
  {
   "cell_type": "code",
   "execution_count": null,
   "id": "97fef694",
   "metadata": {},
   "outputs": [],
   "source": [
    "type(lista)"
   ]
  },
  {
   "cell_type": "code",
   "execution_count": null,
   "id": "aaca3950",
   "metadata": {},
   "outputs": [],
   "source": [
    "print(dicc)"
   ]
  },
  {
   "cell_type": "code",
   "execution_count": null,
   "id": "2798c6b7",
   "metadata": {},
   "outputs": [],
   "source": [
    "type(dicc)"
   ]
  },
  {
   "cell_type": "code",
   "execution_count": null,
   "id": "5e898468",
   "metadata": {},
   "outputs": [],
   "source": [
    "tupla"
   ]
  },
  {
   "cell_type": "code",
   "execution_count": null,
   "id": "38bbce6a",
   "metadata": {},
   "outputs": [],
   "source": [
    "tupla[0]"
   ]
  },
  {
   "cell_type": "code",
   "execution_count": null,
   "id": "6f87fe31",
   "metadata": {},
   "outputs": [],
   "source": [
    "lista[0]"
   ]
  },
  {
   "cell_type": "code",
   "execution_count": null,
   "id": "8716e061",
   "metadata": {},
   "outputs": [],
   "source": [
    "dicc['Nombre: ']"
   ]
  },
  {
   "cell_type": "markdown",
   "id": "3a9c2ed5",
   "metadata": {},
   "source": [
    "### Reglas para nombrar variables"
   ]
  },
  {
   "cell_type": "markdown",
   "id": "89e64ea4",
   "metadata": {},
   "source": [
    "- No pueden empezar por número"
   ]
  },
  {
   "cell_type": "code",
   "execution_count": null,
   "id": "7ec6dd93",
   "metadata": {},
   "outputs": [],
   "source": [
    "hola4 = 'holaholaholahola'"
   ]
  },
  {
   "cell_type": "markdown",
   "id": "60e57f05",
   "metadata": {},
   "source": [
    "- No pueden estar separadasa por espacio"
   ]
  },
  {
   "cell_type": "code",
   "execution_count": null,
   "id": "fe0c4f4e",
   "metadata": {},
   "outputs": [],
   "source": [
    "hola_Mundo = \"Hola mundo\""
   ]
  },
  {
   "cell_type": "markdown",
   "id": "b1ed124b",
   "metadata": {},
   "source": [
    "- No pueden usar caracteres especiales"
   ]
  },
  {
   "cell_type": "code",
   "execution_count": null,
   "id": "d6e47b07",
   "metadata": {},
   "outputs": [],
   "source": [
    "percent25 = 0.25"
   ]
  },
  {
   "cell_type": "code",
   "execution_count": null,
   "id": "5381fd8a",
   "metadata": {},
   "outputs": [],
   "source": [
    "Print = 25"
   ]
  },
  {
   "cell_type": "code",
   "execution_count": null,
   "id": "106b611f",
   "metadata": {},
   "outputs": [],
   "source": [
    "print(32)"
   ]
  },
  {
   "cell_type": "markdown",
   "id": "64f686bc",
   "metadata": {},
   "source": [
    "- No pueden ser palabras reservadas"
   ]
  },
  {
   "cell_type": "code",
   "execution_count": null,
   "id": "1f5b6da9",
   "metadata": {},
   "outputs": [],
   "source": [
    "# Palabras clave\n",
    "\n",
    "import keyword\n",
    "listkw = keyword.kwlist\n",
    "print(listkw)\n",
    "print(len(listkw))"
   ]
  },
  {
   "cell_type": "code",
   "execution_count": null,
   "id": "8696dff3",
   "metadata": {},
   "outputs": [],
   "source": [
    "Print = \"Carlos\""
   ]
  },
  {
   "cell_type": "code",
   "execution_count": null,
   "id": "11a38ee6",
   "metadata": {},
   "outputs": [],
   "source": [
    "print"
   ]
  },
  {
   "cell_type": "code",
   "execution_count": null,
   "id": "4cb86344",
   "metadata": {},
   "outputs": [],
   "source": [
    "print(Print)"
   ]
  },
  {
   "cell_type": "markdown",
   "id": "1bfe2bc3",
   "metadata": {},
   "source": [
    "Python tiene una [Guía de Estilo - PEP8](https://peps.python.org/) para poner de acuerdo a todos cómo deben hacerse las cosas al estilo python:\n",
    "\n",
    "- ***Camel Case:*** `nombreVariable`\n",
    "- ***Snake Case:*** `nombre_variable`\n",
    "- ***Pascal Case:*** `NombreVariable`\n",
    "\n"
   ]
  },
  {
   "cell_type": "code",
   "execution_count": null,
   "id": "db36c194",
   "metadata": {},
   "outputs": [],
   "source": [
    "# Camel Case\n",
    "holaMundo = \"Hola Mundo\"\n",
    "\n",
    "# Snake Case\n",
    "hola_mundo = \"Hola Mundo\"\n",
    "\n",
    "# Pascal case\n",
    "HolaMundo = \"Hola Mundo\""
   ]
  },
  {
   "cell_type": "code",
   "execution_count": null,
   "id": "611b4fe2",
   "metadata": {},
   "outputs": [],
   "source": [
    "HOLA_MUNDO = 5"
   ]
  },
  {
   "cell_type": "markdown",
   "id": "5e013458",
   "metadata": {},
   "source": [
    "### Ayuda"
   ]
  },
  {
   "cell_type": "code",
   "execution_count": null,
   "id": "c5993d31",
   "metadata": {},
   "outputs": [],
   "source": [
    "help(print)"
   ]
  },
  {
   "cell_type": "code",
   "execution_count": null,
   "id": "23e155e8",
   "metadata": {},
   "outputs": [],
   "source": [
    "print?"
   ]
  },
  {
   "cell_type": "markdown",
   "id": "3dbaadf0",
   "metadata": {},
   "source": [
    "### Operadores"
   ]
  },
  {
   "cell_type": "markdown",
   "id": "55bf1a4c",
   "metadata": {},
   "source": [
    "#### Operadores aritméticos"
   ]
  },
  {
   "cell_type": "markdown",
   "id": "21b957e7",
   "metadata": {},
   "source": [
    "Los operadores aritméticos son símbolos especiales que representan cálculos aritméticos: \n",
    "\n",
    "|Operador|Símbolo|\n",
    "|--------|-------|\n",
    "|Suma| +|\n",
    "|Resta| -|\n",
    "|Multiplicación| *|\n",
    "|División| /|\n",
    "|Potenciación| **|\n",
    "|División entera| //|\n",
    "|Módulo| %|"
   ]
  },
  {
   "cell_type": "code",
   "execution_count": null,
   "id": "65b6fb8c",
   "metadata": {},
   "outputs": [],
   "source": [
    "a = 5\n",
    "b = 3"
   ]
  },
  {
   "cell_type": "code",
   "execution_count": null,
   "id": "4db8f4ef",
   "metadata": {},
   "outputs": [],
   "source": [
    "3 + 5 "
   ]
  },
  {
   "cell_type": "code",
   "execution_count": null,
   "id": "dab4e74c",
   "metadata": {},
   "outputs": [],
   "source": [
    "suma = a + b\n",
    "print(suma)"
   ]
  },
  {
   "cell_type": "code",
   "execution_count": null,
   "id": "2e5bc40a",
   "metadata": {},
   "outputs": [],
   "source": [
    "resta = a - b\n",
    "resta"
   ]
  },
  {
   "cell_type": "code",
   "execution_count": null,
   "id": "659e09d1",
   "metadata": {},
   "outputs": [],
   "source": [
    "multip = a * b\n",
    "multip"
   ]
  },
  {
   "cell_type": "code",
   "execution_count": null,
   "id": "e4aec79d",
   "metadata": {},
   "outputs": [],
   "source": [
    "division = a / b\n",
    "division"
   ]
  },
  {
   "cell_type": "code",
   "execution_count": null,
   "id": "d61ab1f3",
   "metadata": {},
   "outputs": [],
   "source": [
    "potencia = a ** b\n",
    "potencia"
   ]
  },
  {
   "cell_type": "code",
   "execution_count": null,
   "id": "78c45ee1",
   "metadata": {},
   "outputs": [],
   "source": [
    "divInt = a // b\n",
    "divInt"
   ]
  },
  {
   "cell_type": "code",
   "execution_count": null,
   "id": "7a82058c",
   "metadata": {},
   "outputs": [],
   "source": [
    "modulo = 17%2\n",
    "modulo"
   ]
  },
  {
   "cell_type": "markdown",
   "id": "db554dfc",
   "metadata": {},
   "source": [
    "#### Operadores de Comparación (booleanos)"
   ]
  },
  {
   "cell_type": "markdown",
   "id": "5d065269",
   "metadata": {},
   "source": [
    "Una variable de tipo booleano sólo puede tener uno dedos valores `True` (*verdadero*) o `False` (*falso*).\n",
    "\n",
    "| Operador    | Descripción                   | Ejemplo                   |\n",
    "| -----------:|:-----------------------------:|--------------------------:|\n",
    "| ==          | Son iguales $a$ y $b$        | r = 5 == 3   # r es False |\n",
    "| !=          | Son distintos $a$ o $b$      | r = 5 != 3   # r es True  |\n",
    "| <           | $a$ es menor que $b$         | r = 5 < 3    # r es False |\n",
    "| >           | $a$ es mayor que $b$         | r = 5 > 3    # r es True  |\n",
    "| <=          | $a$ es menor o igual que $b$ | r = 5 <= 3   # r es False |\n",
    "| >=          | $a$ es mayor o igual que $b$ | r = 5 >= 3   # r es True  |"
   ]
  },
  {
   "cell_type": "code",
   "execution_count": null,
   "id": "edfd2feb",
   "metadata": {},
   "outputs": [],
   "source": [
    "a = 5\n",
    "b = 3"
   ]
  },
  {
   "cell_type": "code",
   "execution_count": null,
   "id": "bb903a59",
   "metadata": {},
   "outputs": [],
   "source": [
    "a == b"
   ]
  },
  {
   "cell_type": "code",
   "execution_count": null,
   "id": "6685a903",
   "metadata": {},
   "outputs": [],
   "source": [
    "a != b"
   ]
  },
  {
   "cell_type": "code",
   "execution_count": null,
   "id": "67d31838",
   "metadata": {},
   "outputs": [],
   "source": [
    "a < b"
   ]
  },
  {
   "cell_type": "code",
   "execution_count": null,
   "id": "907d1cee",
   "metadata": {},
   "outputs": [],
   "source": [
    "a > b"
   ]
  },
  {
   "cell_type": "code",
   "execution_count": null,
   "id": "df128587",
   "metadata": {},
   "outputs": [],
   "source": [
    "a <= b"
   ]
  },
  {
   "cell_type": "code",
   "execution_count": null,
   "id": "38888a12",
   "metadata": {},
   "outputs": [],
   "source": [
    "a >= b"
   ]
  },
  {
   "cell_type": "markdown",
   "id": "8dd6c8fc",
   "metadata": {},
   "source": [
    "#### Operadores Lógicos"
   ]
  },
  {
   "cell_type": "markdown",
   "id": "b8caccae",
   "metadata": {},
   "source": [
    "Los operadores lógicos se utilizan normalmente para evaluar si dos o más expresiones son verdaderas o no. Por ejemplo, se pueden usar para determinar si la calificación es aprobatoria y si el estudiante está registrado en el curso, y si ambos casos son verdaderos, se le asignará una calificación al estudiante en el sistema.\n",
    "\n",
    "| Operador    | Descripción           | Ejemplo                         |\n",
    "| -----------:|:---------------------:|--------------------------------:|\n",
    "| and         | Se cumple $a$ y $b$?  | r = True and False # r es False |\n",
    "| or          | Se cumple $a$ o $b$?  | r = True and False # r es true  |\n",
    "| not         | No $a$                | r = not True       # r es False |\n"
   ]
  },
  {
   "cell_type": "code",
   "execution_count": null,
   "id": "1b6ec8b3",
   "metadata": {},
   "outputs": [],
   "source": [
    "c = 6"
   ]
  },
  {
   "cell_type": "code",
   "execution_count": null,
   "id": "163a5374",
   "metadata": {},
   "outputs": [],
   "source": [
    "(a and b) < 6"
   ]
  },
  {
   "cell_type": "code",
   "execution_count": null,
   "id": "7e4998c6",
   "metadata": {},
   "outputs": [],
   "source": [
    "a = 5\n",
    "b = 3\n",
    "c = 6\n",
    "d = 5\n",
    "f = 7"
   ]
  },
  {
   "cell_type": "code",
   "execution_count": null,
   "id": "9cbdbcfc",
   "metadata": {},
   "outputs": [],
   "source": [
    "(a and b and c and d and f ) > 4"
   ]
  },
  {
   "cell_type": "code",
   "execution_count": null,
   "id": "bac2cdb0",
   "metadata": {},
   "outputs": [],
   "source": [
    "valor = True\n",
    "resultado = not valor\n",
    "resultado"
   ]
  },
  {
   "cell_type": "markdown",
   "id": "e960630d",
   "metadata": {},
   "source": [
    "#### Operadores entre conjuntos"
   ]
  },
  {
   "cell_type": "markdown",
   "id": "8005826c",
   "metadata": {},
   "source": [
    "| Operador     | Descripción                                      | Ejemplo                         |\n",
    "|--------------|--------------------------------------------------|---------------------------------|\n",
    "| &          | Intersección de conjuntos.                       | `set1 & set2` da como resultado el conjunto con elementos comunes. |\n",
    "| \\|         | Unión de conjuntos.                              | `set1 \\| set2` da como resultado el conjunto combinado sin duplicados. |\n",
    "\n",
    "\n",
    "Estos operadores permiten realizar operaciones de conjuntos de manera eficiente y directa en Python, lo que facilita el trabajo con conjuntos de datos y la manipulación de elementos comunes y únicos en conjuntos. Más adelante se explicarán los conjuntos, `set`."
   ]
  },
  {
   "cell_type": "code",
   "execution_count": null,
   "id": "7d893b4f",
   "metadata": {},
   "outputs": [],
   "source": [
    "set1 = {1, 2, 3, 4, 5}\n",
    "set2 = {3, 4, 5, 6, 7}"
   ]
  },
  {
   "cell_type": "code",
   "execution_count": null,
   "id": "6fe57070",
   "metadata": {},
   "outputs": [],
   "source": [
    "interseccion = set1 & set2\n",
    "print(interseccion)"
   ]
  },
  {
   "cell_type": "code",
   "execution_count": null,
   "id": "0ef0bf7f",
   "metadata": {},
   "outputs": [],
   "source": [
    "union = set1 | set2\n",
    "print(union)"
   ]
  },
  {
   "cell_type": "markdown",
   "id": "9ba9163f",
   "metadata": {},
   "source": [
    "#### Operadores de asignación"
   ]
  },
  {
   "cell_type": "markdown",
   "id": "bf61adcb",
   "metadata": {},
   "source": [
    "Los operadores de asignación en Python se utilizan para asignar valores a variables a la derecha y actualizar dicha variable. \n",
    "\n",
    "| Operador | Descripción                                         | Ejemplo                              |\n",
    "|----------|-----------------------------------------------------|--------------------------------------|\n",
    "| `=`        | Asigna el valor de la derecha a la variable a la izquierda. | `x = 5` asigna el valor 5 a la variable x. |\n",
    "| `+=`       | Añade el valor de la derecha al valor de la variable a la izquierda. | `x += 3` es equivalente a `x = x + 3`. |\n",
    "| `-=`       | Resta el valor de la derecha al valor de la variable a la izquierda. | `x -= 2` es equivalente a `x = x - 2`. |\n",
    "| `*=`       | Multiplica el valor de la variable a la izquierda por el valor de la derecha. | `x *= 4` es equivalente a `x = x * 4`. |\n",
    "| `/=`       | Divide el valor de la variable a la izquierda por el valor de la derecha. | `x /= 2` es equivalente a `x = x / 2`. |\n",
    "| `%=`       | Realiza la operación módulo entre el valor de la variable a la izquierda y el valor de la derecha. | `x %= 3` es equivalente a `x = x % 3`. |\n",
    "| `//=`      | Realiza la división entera entre el valor de la variable a la izquierda y el valor de la derecha. | `x //= 2` es equivalente a `x = x // 2`. |\n",
    "| `**=`      | Eleva el valor de la variable a la izquierda a la potencia del valor de la derecha. | `x **= 2` es equivalente a `x = x ** 2`. |\n",
    "| `&=`       | Realiza la operación AND a nivel de bit entre la variable a la izquierda y la variable a la derecha. | `x &= 3` es equivalente a `x = x & 3`. |\n",
    "| `\\|=`      | Realiza la operación OR a nivel de bit entre la variable a la izquierda y la variable a la derecha. | `x \\|= 3` es equivalente a `x = x \\| 3`. |\n",
    "| `^=`       | Realiza la operación XOR a nivel de bit entre la variable a la izquierda y la variable a la derecha. | `x ^= 3` es equivalente a `x = x ^ 3`. |\n",
    "| `>>=`      | Realiza la operación de desplazamiento a la derecha a nivel de bit entre la variable a la izquierda y la variable a la derecha. | `x >>= 2` es equivalente a `x = x >> 2`. |\n",
    "| `<<=`      | Realiza la operación de desplazamiento a la izquierda a nivel de bit entre la variable a la izquierda y la variable a la derecha. | `x <<= 2` es equivalente a `x = x << 2`. |\n",
    "\n",
    "Estos operadores de asignación son útiles para realizar operaciones específicas en las variables y actualizarlas directamente en Python."
   ]
  },
  {
   "cell_type": "markdown",
   "id": "cbd42b12",
   "metadata": {},
   "source": [
    "#### Operadores de identidad"
   ]
  },
  {
   "cell_type": "markdown",
   "id": "5fe0c0a1",
   "metadata": {},
   "source": [
    "En Python, los operadores de identidad se utilizan para comparar la identidad de dos objetos. \n",
    "\n",
    "| Operador | Descripción                    | Ejemplo                                     |\n",
    "|----------|--------------------------------|---------------------------------------------|\n",
    "| is       | Devuelve `True` si ambas variables son el mismo objeto.| a = [1, 2, 3]  b = a  `a is b` devuelve `True`.  |\n",
    "| is not   | Devuelve `True` si ambas variables no son el mismo objeto. | a = [1, 2, 3]  b = [1, 2, 3]  `a is not b` devuelve `True`. |\n",
    "\n",
    "Estos operadores se utilizan para verificar si dos variables se refieren al mismo objeto en la memoria. La comparación con estos operadores se basa en la identidad de los objetos y no en su valor."
   ]
  },
  {
   "cell_type": "code",
   "execution_count": null,
   "id": "5e1c1fc2",
   "metadata": {},
   "outputs": [],
   "source": [
    "a = [1,2,3]\n",
    "b = a"
   ]
  },
  {
   "cell_type": "code",
   "execution_count": null,
   "id": "89576adf",
   "metadata": {},
   "outputs": [],
   "source": [
    "a is b"
   ]
  },
  {
   "cell_type": "code",
   "execution_count": null,
   "id": "e58e0e56",
   "metadata": {},
   "outputs": [],
   "source": [
    "a = [1,2,3]\n",
    "b = [1,2,3]"
   ]
  },
  {
   "cell_type": "code",
   "execution_count": null,
   "id": "dc86a61d",
   "metadata": {},
   "outputs": [],
   "source": [
    "a is not b"
   ]
  },
  {
   "cell_type": "markdown",
   "id": "04ce3499",
   "metadata": {},
   "source": [
    "#### Operadores de pertenencia"
   ]
  },
  {
   "cell_type": "markdown",
   "id": "99db531f",
   "metadata": {},
   "source": [
    "En Python, los operadores de pertenencia se utilizan para evaluar si una secuencia contiene un valor específico. Aquí tienes una tabla que presenta los operadores de pertenencia junto con ejemplos explicativos:\n",
    "\n",
    "| Operador | Descripción                                                 | Ejemplo                                 |\n",
    "|----------|-------------------------------------------------------------|-----------------------------------------|\n",
    "| in       | Devuelve True si un valor se encuentra en una secuencia.    | `2 in [1, 2, 3]` devuelve True.     |\n",
    "| not in   | Devuelve True si un valor no se encuentra en una secuencia. | `5 not in [1, 2, 3]` devuelve True. |\n",
    "\n",
    "Estos operadores se utilizan para verificar la presencia de un valor en una secuencia, como una lista, tupla, conjunto o cadena."
   ]
  },
  {
   "cell_type": "code",
   "execution_count": null,
   "id": "98b6050f",
   "metadata": {},
   "outputs": [],
   "source": [
    "2 in [1,2,3]"
   ]
  },
  {
   "cell_type": "code",
   "execution_count": null,
   "id": "1ebd16e4",
   "metadata": {},
   "outputs": [],
   "source": [
    "5 not in [1,2,3]"
   ]
  },
  {
   "cell_type": "code",
   "execution_count": null,
   "id": "538ad575",
   "metadata": {},
   "outputs": [],
   "source": [
    "cadena = \"Hola mundo!\""
   ]
  },
  {
   "cell_type": "code",
   "execution_count": null,
   "id": "c59e0096",
   "metadata": {},
   "outputs": [],
   "source": [
    "'o' in cadena"
   ]
  },
  {
   "cell_type": "code",
   "execution_count": null,
   "id": "2c3fc627",
   "metadata": {},
   "outputs": [],
   "source": [
    "lista = [1,2,3,4,5]"
   ]
  },
  {
   "cell_type": "code",
   "execution_count": null,
   "id": "d1c49004",
   "metadata": {},
   "outputs": [],
   "source": [
    "3 in lista"
   ]
  },
  {
   "cell_type": "code",
   "execution_count": null,
   "id": "84bf2853",
   "metadata": {},
   "outputs": [],
   "source": [
    "3 not in lista"
   ]
  },
  {
   "cell_type": "markdown",
   "id": "ec83f9b3",
   "metadata": {},
   "source": [
    "### Orden de las operaciones"
   ]
  },
  {
   "cell_type": "markdown",
   "id": "8cc097d3",
   "metadata": {},
   "source": [
    "Al igual que en matemáticas, el orden de las operaciones es fundamental en programación. Debe respetarse:\n",
    "\n",
    "$$Paréntesis \\rightarrow Exponentes/Potencias/Radicales \\rightarrow Multiplicaciones/Divisiones \\rightarrow Sumas/Restas$$"
   ]
  },
  {
   "cell_type": "code",
   "execution_count": null,
   "id": "81ab93fa",
   "metadata": {},
   "outputs": [],
   "source": [
    "(2 + 3 + 5) / 2"
   ]
  },
  {
   "cell_type": "code",
   "execution_count": null,
   "id": "68774465",
   "metadata": {},
   "outputs": [],
   "source": [
    "2 + 3 + 5 / 2"
   ]
  },
  {
   "cell_type": "markdown",
   "id": "93441f6a",
   "metadata": {},
   "source": [
    "### Entrada/Salida"
   ]
  },
  {
   "cell_type": "code",
   "execution_count": null,
   "id": "6aabbfb6",
   "metadata": {},
   "outputs": [],
   "source": [
    "a = float(input('Ingrese el dato a: '))\n",
    "b = float(input('Ingrese el dato b: '))\n",
    "c = a / b\n",
    "print(c)"
   ]
  },
  {
   "cell_type": "code",
   "execution_count": null,
   "id": "15d6fb73",
   "metadata": {},
   "outputs": [],
   "source": [
    "type(b)"
   ]
  },
  {
   "cell_type": "code",
   "execution_count": null,
   "id": "3325d9af",
   "metadata": {
    "scrolled": true
   },
   "outputs": [],
   "source": [
    "a = float(input(\"Ingrese un valor: \"))\n",
    "b = int(input(\"ingrese otro valor: \"))\n",
    "c = a / b\n",
    "print(\"El resultado de dividir a entre b es {0:4.4f}\".format(c))"
   ]
  },
  {
   "cell_type": "code",
   "execution_count": null,
   "id": "dada495d",
   "metadata": {},
   "outputs": [],
   "source": [
    "type(b)"
   ]
  },
  {
   "cell_type": "markdown",
   "id": "da2d8cd9",
   "metadata": {},
   "source": [
    "### Cadenas de caracteres (string)"
   ]
  },
  {
   "cell_type": "markdown",
   "id": "e54bdec8",
   "metadata": {},
   "source": [
    "#### Operaciones con cadenas de caracteres"
   ]
  },
  {
   "cell_type": "code",
   "execution_count": null,
   "id": "94e1666d",
   "metadata": {},
   "outputs": [],
   "source": [
    "cadena = 'hola'\n",
    "blank = ' '\n",
    "n = \"mundo\"\n",
    "y = cadena + blank + n\n",
    "\n",
    "print(y)\n",
    "type(y)"
   ]
  },
  {
   "cell_type": "markdown",
   "id": "239c59d2",
   "metadata": {},
   "source": [
    "#### Indexación"
   ]
  },
  {
   "cell_type": "markdown",
   "id": "157c109f",
   "metadata": {},
   "source": [
    "Una cadena de caracteres (string) en `Python` consiste de una serie, o secuencia, de caracteres (letras, números y caracteres especiales). Las cadenas de caracteres pueden indexarse, similar al $C$, en donde el primer caracter tiene índice `0`. \n",
    "\n",
    "*El índice se refiere a la posición que ocupa el caracter* (esto también será válido para otras estructuras de datos que tiene python, como tuplas, listas y arreglos). \n",
    "\n",
    "- Si se lee de ***izquierda a derecha***, el índice aumenta positivamente empezando en cero: $0, 1, 2, \\ldots$ y va hasta la cantidad de caracteres, $n$, menos uno (porque empezó en cero): $n-1$. Esta será la posición del último elemento, leyéndose de izquierda a derecha.\n",
    "<p>&nbsp;</p>\n",
    "\n",
    "- Si se lee de ***derecha a izquierda***, el índice empieza en `-1` y aumenta negativamente: $-1,-2,-3, \\ldots$\n",
    "\n",
    "<p float=\"center\">\n",
    "  <img src=\"https://github.com/carlosalvarezh/FundamentosProgramacion/blob/main/images/Sem03Img01.png?raw=true\" width=\"750\" />\n",
    "</p>\n",
    "\n",
    "En este ejemplo, se observa que el primer caracter ($H$) está ubicado en la posición etiquetada con el índice $0$. La longitud (cantidad) de la cadena de caracteres mostrada es de $11$, pero el último caracter ($d$) tendrá un índice $10$. Debe tenerse muy en cuenta esta situación para evitar futuras complicaciones: Una cosa es la cantidad de caracteres (elementos) de la cadena de caracteres, y otra, la posición con que cada caracter es etiquetado dentro de la cadena."
   ]
  },
  {
   "cell_type": "code",
   "execution_count": null,
   "id": "08391e54",
   "metadata": {},
   "outputs": [],
   "source": [
    "a = \"Hello World\"\n",
    "\n",
    "print(a)"
   ]
  },
  {
   "cell_type": "markdown",
   "id": "e106bb2e",
   "metadata": {},
   "source": [
    "Para acceder alos diferentes métodos (funciones) de una cadena de caracteres (válido también para listas, tuplas y arreglos) es solo escribir el nombre de la cadena y seguidamente un punto (`.`). Con la tecla `tab` aparecerá un menú desplegable:"
   ]
  },
  {
   "cell_type": "code",
   "execution_count": null,
   "id": "83563379",
   "metadata": {},
   "outputs": [],
   "source": [
    "a."
   ]
  },
  {
   "cell_type": "markdown",
   "id": "6d4c06b4",
   "metadata": {},
   "source": [
    "La cantidad de elementos que contiene una cadena de caracteres se puede determinar con la función `len`."
   ]
  },
  {
   "cell_type": "code",
   "execution_count": null,
   "id": "85925510",
   "metadata": {},
   "outputs": [],
   "source": [
    "n = len(a)\n",
    "n"
   ]
  },
  {
   "cell_type": "markdown",
   "id": "3a116cc7",
   "metadata": {},
   "source": [
    "<div class=\"alert alert-danger\"><strong>Nota:</strong> No confundir la cantidad de elementos (len) que contiene una cadena de caracteres (lista, tupla o arreglo) con la posición de cada elemento (index), que se da por el índice. El índice empieza en cero (0) y para contabilizar la cantidad de elementos se empieza en uno, (1).</div>\n",
    "\n",
    "Por ejemplo, para acceder a un único elemento de una cadena de caracteres (tupla, lista o arreglo), se debe escribir el nombre de la variable y entre corchetes cuadrados, `[]`, escribir el índice que indica la posición del elemento a accederse:\n",
    "\n",
    "```python\n",
    "nombreVariable[index]\n",
    "```"
   ]
  },
  {
   "cell_type": "code",
   "execution_count": null,
   "id": "b1c108f0",
   "metadata": {},
   "outputs": [],
   "source": [
    "a[0]"
   ]
  },
  {
   "cell_type": "markdown",
   "id": "8d7ef887",
   "metadata": {},
   "source": [
    "Si se desea acceder al último elemento se tienen varias formas:\n",
    "\n",
    "- Contar la cantidad de elementos, n, como se acaba de ver y restarle uno:"
   ]
  },
  {
   "cell_type": "code",
   "execution_count": null,
   "id": "89b132a6",
   "metadata": {},
   "outputs": [],
   "source": [
    "a[11-1]"
   ]
  },
  {
   "cell_type": "markdown",
   "id": "f0f845f8",
   "metadata": {},
   "source": [
    "- Se puede hacer de una forma más automatizada empleando la función `len`:"
   ]
  },
  {
   "cell_type": "code",
   "execution_count": null,
   "id": "055e5d0e",
   "metadata": {},
   "outputs": [],
   "source": [
    "n = len(a) #se obtiene la cantidad de elementos en el arreglo y se guarda en la variable n\n",
    "a[n-1]     "
   ]
  },
  {
   "cell_type": "markdown",
   "id": "5ef23543",
   "metadata": {},
   "source": [
    "- Acceder directamente con el índice negativo (contando de derecha a izquierda)"
   ]
  },
  {
   "cell_type": "code",
   "execution_count": null,
   "id": "ff6ce86d",
   "metadata": {
    "scrolled": true
   },
   "outputs": [],
   "source": [
    "a[-1]"
   ]
  },
  {
   "cell_type": "markdown",
   "id": "29cc996b",
   "metadata": {},
   "source": [
    "#### Métodos"
   ]
  },
  {
   "cell_type": "markdown",
   "id": "b8c68550",
   "metadata": {},
   "source": [
    "En Python, los métodos son funciones que están asociadas a objetos y son invocadas sobre esos objetos. Los métodos son parte integral de la programación orientada a objetos (OOP) en Python. En OOP, los objetos tienen propiedades (llamadas atributos) y comportamientos (llamados métodos). Los métodos son funciones definidas dentro de la clase y operan en instancias de esa clase.\n",
    "Para saber cuáles métodos se aplican al objeto (variable) en mención, basta con escrirbir el nombre del objeto (variable) seguido de un punto (.):\n",
    "\n",
    "```python\n",
    "nombre.\n",
    "```\n",
    "\n",
    "esto desplegará un menú contextual con los diferentes métodos asociados a ese objeto (variable)\n",
    "\n",
    "\n",
    "Algunos métodos para cadenas de caracteres en python son:"
   ]
  },
  {
   "cell_type": "code",
   "execution_count": null,
   "id": "5c7a31f8",
   "metadata": {},
   "outputs": [],
   "source": [
    "#creación de la cadena de caracteres\n",
    "cadena = \"    Hola mundo!   \" \n",
    "cadena"
   ]
  },
  {
   "cell_type": "code",
   "execution_count": null,
   "id": "2e7da339",
   "metadata": {},
   "outputs": [],
   "source": [
    "cadena."
   ]
  },
  {
   "cell_type": "code",
   "execution_count": null,
   "id": "9d2fc3e0",
   "metadata": {},
   "outputs": [],
   "source": [
    "#Elimina los espacios sobrantes al inicio y al final de la cadena\n",
    "cadena = cadena.strip() \n",
    "cadena"
   ]
  },
  {
   "cell_type": "code",
   "execution_count": null,
   "id": "6d0f7fa9",
   "metadata": {},
   "outputs": [],
   "source": [
    "#convierte todos los caracteres a minúsculas\n",
    "cadena.lower() "
   ]
  },
  {
   "cell_type": "code",
   "execution_count": null,
   "id": "f67f6bb5",
   "metadata": {},
   "outputs": [],
   "source": [
    "#convierte todos los caracteres a mayúsculas\n",
    "cadena.upper() "
   ]
  },
  {
   "cell_type": "code",
   "execution_count": null,
   "id": "1ae61007",
   "metadata": {},
   "outputs": [],
   "source": [
    "#convierte en mayúscula el primer caracter\n",
    "cadena.capitalize() "
   ]
  },
  {
   "cell_type": "code",
   "execution_count": null,
   "id": "cd16978d",
   "metadata": {},
   "outputs": [],
   "source": [
    "#convierte en mayúscula el primer caracter de cada cadena\n",
    "cadena.title() "
   ]
  },
  {
   "cell_type": "code",
   "execution_count": null,
   "id": "6ebf8cb9",
   "metadata": {},
   "outputs": [],
   "source": [
    "#reemplaza una subcadena por otra subcadena\n",
    "nueva_cadena = cadena.replace(\"mundo!\", \"Python!\")\n",
    "nueva_cadena"
   ]
  },
  {
   "cell_type": "code",
   "execution_count": null,
   "id": "764f07fb",
   "metadata": {},
   "outputs": [],
   "source": [
    "#divide una cadena en una lista de subcadenas, utilizando el separador\n",
    "#indicado como criterio (en este ejemplo el espacio en blanco)\n",
    "nueva_cadena.split(\" \")"
   ]
  },
  {
   "cell_type": "code",
   "execution_count": null,
   "id": "fa8dad48",
   "metadata": {},
   "outputs": [],
   "source": [
    "#concatenar elementos\n",
    "palabras = [\"Hola\", \"mundo\", \"cómo\", \"estás\"]\n",
    "cadena_concatenada = \" \".join(palabras)\n",
    "cadena_concatenada"
   ]
  },
  {
   "cell_type": "code",
   "execution_count": null,
   "id": "78c7d426",
   "metadata": {},
   "outputs": [],
   "source": [
    "#indica la posición de la primera ocurrencia del caracter solicitado\n",
    "cadena.find('a')"
   ]
  },
  {
   "cell_type": "code",
   "execution_count": null,
   "id": "a1d64d6f",
   "metadata": {},
   "outputs": [],
   "source": [
    "#cuenta las ocurrencias de un caracter en una cadena\n",
    "cadena.count('o')"
   ]
  },
  {
   "cell_type": "code",
   "execution_count": null,
   "id": "32a29a2e",
   "metadata": {},
   "outputs": [],
   "source": [
    "#verifica si todos los caracteres en la cadena son alfabéticos\n",
    "cadena.isalpha()"
   ]
  },
  {
   "cell_type": "code",
   "execution_count": null,
   "id": "c9774aea",
   "metadata": {},
   "outputs": [],
   "source": [
    "#verifica si todos los caracteres en la cadena son digitos (números del 0 - 9)\n",
    "cadena.isdigit()"
   ]
  },
  {
   "cell_type": "code",
   "execution_count": null,
   "id": "7acde978",
   "metadata": {},
   "outputs": [],
   "source": [
    "#verifica si todos los caracteres en la cadena son alfanuméricos \n",
    "#números y letras,sin incluir caracteres especiales\n",
    "cadena.isalnum()"
   ]
  },
  {
   "cell_type": "code",
   "execution_count": null,
   "id": "fdded9a8",
   "metadata": {},
   "outputs": [],
   "source": [
    "#isnumeric verifica si todos los caracteres en la cadena son numéricos\n",
    "#no solamente los dígitos del 0 al 9, sino también números en otros idiomas, superíndices, etc.\n",
    "cadena1 = \"12345\"\n",
    "cadena2 = \"½\"\n",
    "cadena3 = \"٤٥٦\"  # Números árabes\n",
    "\n",
    "print(cadena1.isnumeric())  # Salida: True\n",
    "print(cadena2.isnumeric())  # Salida: True\n",
    "print(cadena3.isnumeric())  # Salida: True"
   ]
  },
  {
   "cell_type": "markdown",
   "id": "da839796",
   "metadata": {},
   "source": [
    "#### Particionado (slicing)"
   ]
  },
  {
   "cell_type": "markdown",
   "id": "43de21a1",
   "metadata": {},
   "source": [
    "Si se desea acceder a un bloque de elementos de la cadena de caracteres, se usa el particionado (slice). Para ello, se usa la siguiente notación:\n",
    "\n",
    "```pythoon\n",
    "nombreVariable[start:stop:step]\n",
    "```"
   ]
  },
  {
   "cell_type": "code",
   "execution_count": null,
   "id": "33919cbc",
   "metadata": {
    "scrolled": true
   },
   "outputs": [],
   "source": [
    "a"
   ]
  },
  {
   "cell_type": "markdown",
   "id": "49b16edd",
   "metadata": {},
   "source": [
    "Si no se indica los índices, por defecto los valores son: `start=0`, `stop=len(a-1)` y `step=1`, es decir, muestra la cadena completa:"
   ]
  },
  {
   "cell_type": "code",
   "execution_count": null,
   "id": "7f050c82",
   "metadata": {},
   "outputs": [],
   "source": [
    "a[::]"
   ]
  },
  {
   "cell_type": "code",
   "execution_count": null,
   "id": "8c85c017",
   "metadata": {},
   "outputs": [],
   "source": [
    "a[:12:]"
   ]
  },
  {
   "cell_type": "markdown",
   "id": "a693b02a",
   "metadata": {},
   "source": [
    "Si se desea acceder a un bloque dentro de la cadena, se indican los índices desde donde se desea empezar, hasta el elemento inmediatamente superior al que se desea acceder. Veamos el siguiente ejemplo:"
   ]
  },
  {
   "cell_type": "code",
   "execution_count": null,
   "id": "5dfb8892",
   "metadata": {},
   "outputs": [],
   "source": [
    "a[6:12:1]"
   ]
  },
  {
   "cell_type": "code",
   "execution_count": null,
   "id": "5112dfa7",
   "metadata": {},
   "outputs": [],
   "source": [
    "a[::-1]"
   ]
  },
  {
   "cell_type": "markdown",
   "id": "b83f0918",
   "metadata": {},
   "source": [
    "### Listas"
   ]
  },
  {
   "cell_type": "markdown",
   "id": "d5279fe3",
   "metadata": {},
   "source": [
    "Una lista es una colección de objetos a los que se les puede adicionar o quitar elementos. Su funcionamiento es básicamente el mismo de una cadena de caracteres (string). Para definir una lista con elemento simplemente ponemos los elementos dentro de los corchetes separados con comas.\n",
    "\n",
    "\n",
    "```python\n",
    "lista = [\"Carlos\", \"Alvarez\", 52, 1.75, True, (1,2,3), [4,5,6]]\n",
    "```\n",
    "\n",
    "Como podemos ver, una lista puede contener varios elementos de diferente tipo (int, str, bool, list, ...)"
   ]
  },
  {
   "cell_type": "code",
   "execution_count": null,
   "id": "146f3fb0",
   "metadata": {},
   "outputs": [],
   "source": [
    "lista = [\"Carlos\", \"Alvarez\", 52, 1.75, True, (1,2,3), [4,5,6]]"
   ]
  },
  {
   "cell_type": "markdown",
   "id": "300c07dc",
   "metadata": {},
   "source": [
    "Para acceder a las listas, se debe indicar el nombre de la lista y entre corchetes la posición del elemento a consultar. Al igual que las cadenas de caracteres, el índice (posición) empieza en cero (0):"
   ]
  },
  {
   "cell_type": "code",
   "execution_count": null,
   "id": "bd26d8f1",
   "metadata": {},
   "outputs": [],
   "source": [
    "elemento = lista[2]\n",
    "elemento"
   ]
  },
  {
   "cell_type": "markdown",
   "id": "853ee01d",
   "metadata": {},
   "source": [
    "Para determinar la cantidade de elementos de la lista "
   ]
  },
  {
   "cell_type": "code",
   "execution_count": null,
   "id": "87b67f29",
   "metadata": {},
   "outputs": [],
   "source": [
    "n = len(lista)\n",
    "n"
   ]
  },
  {
   "cell_type": "markdown",
   "id": "36b2b44a",
   "metadata": {},
   "source": [
    "Para modificar una lista podemos hacer uso de los siguientes métodos:"
   ]
  },
  {
   "cell_type": "code",
   "execution_count": null,
   "id": "87ffb87e",
   "metadata": {},
   "outputs": [],
   "source": [
    "# Cambiar el valor de un elemento de la lista\n",
    "lista[2] = 53\n",
    "lista"
   ]
  },
  {
   "cell_type": "markdown",
   "id": "fd8ad0fa",
   "metadata": {},
   "source": [
    "Adicionando un elemento (se posicionará después del último elemento de la lista actual)"
   ]
  },
  {
   "cell_type": "code",
   "execution_count": null,
   "id": "23f187dc",
   "metadata": {},
   "outputs": [],
   "source": [
    "lista.\n",
    "lista"
   ]
  },
  {
   "cell_type": "code",
   "execution_count": null,
   "id": "551cbdf0",
   "metadata": {},
   "outputs": [],
   "source": [
    "lista.append(\"adicionado\")\n",
    "lista"
   ]
  },
  {
   "cell_type": "markdown",
   "id": "86d3b758",
   "metadata": {},
   "source": [
    "Insertar un elemento en una posición específica"
   ]
  },
  {
   "cell_type": "code",
   "execution_count": null,
   "id": "0bbf5f76",
   "metadata": {},
   "outputs": [],
   "source": [
    "lista.insert(2,\"O-\")\n",
    "lista"
   ]
  },
  {
   "cell_type": "markdown",
   "id": "892e173a",
   "metadata": {},
   "source": [
    "Ahora vamos a eliminar un elemento de la lista dado el índice (posición) del elemento a eliminar"
   ]
  },
  {
   "cell_type": "code",
   "execution_count": null,
   "id": "7189811f",
   "metadata": {},
   "outputs": [],
   "source": [
    "del(lista[-1])\n",
    "lista"
   ]
  },
  {
   "cell_type": "markdown",
   "id": "e5a3ee7f",
   "metadata": {},
   "source": [
    "Ahora eliminaremos un elemento dado su valor"
   ]
  },
  {
   "cell_type": "code",
   "execution_count": null,
   "id": "f94cfe12",
   "metadata": {},
   "outputs": [],
   "source": [
    "lista.remove(53)\n",
    "lista"
   ]
  },
  {
   "cell_type": "code",
   "execution_count": null,
   "id": "28568277",
   "metadata": {},
   "outputs": [],
   "source": [
    "B = [1,2,3,1,2,5,8,2,3,1,5]"
   ]
  },
  {
   "cell_type": "code",
   "execution_count": null,
   "id": "4e13d829",
   "metadata": {},
   "outputs": [],
   "source": [
    "B.remove(1)\n",
    "B"
   ]
  },
  {
   "cell_type": "markdown",
   "id": "1a92174e",
   "metadata": {},
   "source": [
    "### Diccionarios"
   ]
  },
  {
   "cell_type": "markdown",
   "id": "a4a0d184",
   "metadata": {},
   "source": [
    "Un Diccionario es una estructura de datos y un tipo de dato en `Python`, con características especiales que nos permite almacenar cualquier tipo de valor como: enteros, cadenas, listas e incluso otras funciones. Estos diccionarios nos permiten además identificar cada elemento por una *clave* (`Key`), a diferencia de las tuplas y listas que se hace por un índice.\n",
    "\n",
    "\n",
    "Para definir un diccionario, se encierra el listado de valores entre llaves, `{clave0:valor0, clave1:valor1, clave2:valor1, ...}`. Las parejas de *clave* y *valor* se separan con comas, y la *clave* y el *valor* se separan con dos puntos, (`:`).\n",
    "\n",
    "\n",
    "Los diccionarios (llamados *arrays asociativos* o *tablas de hash* en otros lenguajes), son una estructura de datos muy poderosa, que permite asociar un valor a una clave.\n",
    "\n",
    "\n",
    "- Las claves deben ser de tipo inmutable, los valores pueden ser de cualquier tipo.\n",
    "\n",
    "\n",
    "- Los diccionarios no están ordenados. Si bien se los puede recorrer, el orden en el que se tomarán los elementos no está determinado.\n",
    "\n",
    "Veamos este ejemplo: Supongamos que tenemos dos listas. Una lista con los nombres de algunas ciudades y otra lista con la población de cada una de ellas. Usaremos los métodos `zip` y `dict` para crear un diccionario:"
   ]
  },
  {
   "cell_type": "code",
   "execution_count": null,
   "id": "b2a78709",
   "metadata": {},
   "outputs": [],
   "source": [
    "city_populationL = [8550405, 3971883, 2731571, 2720546, 2296224, 1704694, 1239220, 631486, 667137]\n",
    "city_namesL = [\"New York City\", \"Los Angeles\", \"Toronto\", \"Chicago\", \"Houston\", \"Montreal\", \"Calgary\", \"Vancouver\", \"Boston\"]"
   ]
  },
  {
   "cell_type": "code",
   "execution_count": null,
   "id": "d8562341",
   "metadata": {},
   "outputs": [],
   "source": [
    "habitantes = dict(zip(city_namesL,city_populationL))\n",
    "habitantes"
   ]
  },
  {
   "cell_type": "code",
   "execution_count": null,
   "id": "40224660",
   "metadata": {},
   "outputs": [],
   "source": [
    "habitantes['Montreal']"
   ]
  },
  {
   "cell_type": "code",
   "execution_count": null,
   "id": "87a1c1ab",
   "metadata": {},
   "outputs": [],
   "source": [
    "dicc = {\"Nombre: \":\"Carlos\", \"Apellido: \": \"Alvarez\", \"Edad: \" : 52, \n",
    "        \"Estatura: \":1.75, \"Peso: \":72, \"RH: \": \"O-\", \"F/V\": True, \"otro\":(1,2,3,4)}"
   ]
  },
  {
   "cell_type": "code",
   "execution_count": null,
   "id": "3c1aa5c5",
   "metadata": {},
   "outputs": [],
   "source": [
    "dicc['Apellido: ']"
   ]
  },
  {
   "cell_type": "markdown",
   "id": "b52a99eb",
   "metadata": {},
   "source": [
    "### Estructuras de control de flujo"
   ]
  },
  {
   "cell_type": "markdown",
   "id": "c574f5fc",
   "metadata": {},
   "source": [
    "#### Condicional (if - elif- else)"
   ]
  },
  {
   "cell_type": "markdown",
   "id": "212f8ef3",
   "metadata": {},
   "source": [
    "La estructura `if-elif-else` se utiliza para tomar decisiones basadas en condiciones.\n",
    "\n",
    "```python\n",
    "if <condición1>:\n",
    "    acción cuando condición1 es True\n",
    "    Si condición1 es False, no ingresa aquí y pasa a la siguiente condición\n",
    "elif <condición2>: \n",
    "    acción cuando condición2 es True\n",
    "    Si condición2 es False, no ingresa aquí y pasa a la siguiente condición\n",
    "else:\n",
    "    acción cuando todas las anteriroes condiciones (condición1 y condición2) fueron False\n",
    "```\n",
    "\n",
    "Veamos los siguientes ejemplos:"
   ]
  },
  {
   "cell_type": "markdown",
   "id": "201910e0",
   "metadata": {},
   "source": [
    "***Ejemplo - Determinar cuál valor es mayor:*** Dados dos valores, determinar cuál es el mayor o si son iguales."
   ]
  },
  {
   "cell_type": "code",
   "execution_count": null,
   "id": "63dbb7be",
   "metadata": {},
   "outputs": [],
   "source": [
    "a = 3 \n",
    "b = 3\n",
    "\n",
    "if a > b:\n",
    "    print(\"a es el de mayor valor\")\n",
    "elif a < b:\n",
    "    print(\"b es el de mayor valor\")\n",
    "else:\n",
    "    print(\"a y b son de igual valor\")"
   ]
  },
  {
   "cell_type": "markdown",
   "id": "dbc93b61",
   "metadata": {},
   "source": [
    "***Ejemplo - uso de operadores lógicos:*** en este ejemplo se evaluará si el niño pedro, que tiene 6 años de edad y mide 95 cm de estatura puede entrar a las atracciones de un parque de diversiones:\n",
    "\n",
    "- ***Salta-salta:*** Para poder ingresar a esta atracción, el niño debe tener más de 5 años y mínimo 100 cm de estatura.\n",
    "\n",
    "- ***noria:*** Para poder ingresar a esta atracción, el niño debe tener más de 5 años o mínimo 100 cm de estatura.\n",
    "\n",
    "Si no puede entrar a ninguna atracción mecánica, se le comprará una paleta."
   ]
  },
  {
   "cell_type": "code",
   "execution_count": null,
   "id": "fb91f7d0",
   "metadata": {
    "scrolled": true
   },
   "outputs": [],
   "source": [
    "# datos\n",
    "edad = 5\n",
    "estatura = 100\n",
    "\n",
    "if edad > 5 and estatura >= 100:\n",
    "    print(\"Puede entrar al salta-salta y a la noria\")\n",
    "elif edad > 5 or estatura >= 100:\n",
    "    print(\"Puede entrar a la noria\")\n",
    "else:\n",
    "    print(\"Ten tu paleta\")\n",
    "    "
   ]
  },
  {
   "cell_type": "markdown",
   "id": "f3c974bb",
   "metadata": {},
   "source": [
    "***Ejemplo - Condicionales anidados:*** En este ejemplo se desea determina cuál, entre tres valores, es mayor o si son iguales. "
   ]
  },
  {
   "cell_type": "code",
   "execution_count": null,
   "id": "251a6636",
   "metadata": {},
   "outputs": [],
   "source": [
    "# Solicita al usuario que ingrese los valores a, b y c\n",
    "a = 4\n",
    "b = 5\n",
    "c = 3\n",
    "\n",
    "if a > b:\n",
    "    if a > c:\n",
    "        print(\"a es el mayor\")\n",
    "    else:\n",
    "        print(\"c es el mayor\")\n",
    "else:\n",
    "    if b > c:\n",
    "        print(\"b es el mayor\")\n",
    "    else:\n",
    "        print(\"c es el mayor\")"
   ]
  },
  {
   "cell_type": "markdown",
   "id": "8b067c2a",
   "metadata": {},
   "source": [
    "Cómo lo mejorarías para que determine si dos valores son iguales, o los tres son iguales? "
   ]
  },
  {
   "cell_type": "markdown",
   "id": "2c51cf3c",
   "metadata": {},
   "source": [
    "#### Ciclo while"
   ]
  },
  {
   "cell_type": "markdown",
   "id": "1ebe807f",
   "metadata": {},
   "source": [
    "es un condicional que se repite mientras que una condición sea dada"
   ]
  },
  {
   "cell_type": "code",
   "execution_count": null,
   "id": "5c10550a",
   "metadata": {},
   "outputs": [],
   "source": [
    "i = 0\n",
    "while i < 10:\n",
    "    i = i + 1\n",
    "    print(i)"
   ]
  },
  {
   "cell_type": "markdown",
   "id": "ad424f34",
   "metadata": {},
   "source": [
    "veamos otro ejemplo. Adivinemos el número:"
   ]
  },
  {
   "cell_type": "code",
   "execution_count": null,
   "id": "fe9b36b7",
   "metadata": {},
   "outputs": [],
   "source": [
    "import random\n",
    "\n",
    "numero_secreto = random.randint(1, 10)  # Generamos un número secreto entre 1 y 10\n",
    "intentos = 0\n",
    "\n",
    "while True:\n",
    "    intento = int(input(\"Adivina el número (entre 1 y 10): \"))\n",
    "    intentos += 1  # Contamos los intentos\n",
    "\n",
    "    if intento == numero_secreto:\n",
    "        print(f\"¡Correcto! Adivinaste el número en {intentos} intentos.\")\n",
    "        break  # Salimos del ciclo si adivinamos el número\n",
    "    elif intento < numero_secreto:\n",
    "        print(\"El número es mayor.\")\n",
    "    else:\n",
    "        print(\"El número es menor.\")\n"
   ]
  },
  {
   "cell_type": "markdown",
   "id": "9f6fb6a8",
   "metadata": {},
   "source": [
    "#### Ciclo for"
   ]
  },
  {
   "cell_type": "markdown",
   "id": "69fc8d95",
   "metadata": {},
   "source": [
    "Ejecuta un bloque de instrucciones hasta que se cumpla una condición dada"
   ]
  },
  {
   "cell_type": "code",
   "execution_count": null,
   "id": "55cf90a9",
   "metadata": {},
   "outputs": [],
   "source": [
    "for i in [1,2,3,4,5,6,7,8,9,10]:\n",
    "    i += 1\n",
    "    print(i)"
   ]
  },
  {
   "cell_type": "markdown",
   "id": "2eded29b",
   "metadata": {},
   "source": [
    "#### Función `range()`"
   ]
  },
  {
   "cell_type": "markdown",
   "id": "ad749aff",
   "metadata": {},
   "source": [
    "La función `range()` en Python es una función incorporada que se utiliza para generar una secuencia de números enteros en un rango específico. Esta secuencia de números se crea de manera eficiente sin almacenar todos los valores en la memoria, lo que lo hace especialmente útil en bucles `for` y otras situaciones donde necesitas iterar sobre una secuencia de números.\n",
    "\n",
    "La función `range()` puede tomar uno, dos o tres argumentos:\n",
    "\n",
    "1. **Un Argumento**: Si solo proporcionas un argumento, `range(n)` generará una secuencia que comienza en 0 y llega hasta (pero no incluye) `n`. Por ejemplo, `range(5)` generará los números 0, 1, 2, 3 y 4.\n",
    "\n",
    "2. **Dos Argumentos**: Si proporcionas dos argumentos, `range(start, stop)` generará una secuencia que comienza en `start` y llega hasta (pero no incluye) `stop`. Por ejemplo, `range(2, 6)` generará los números 2, 3, 4 y 5.\n",
    "\n",
    "3. **Tres Argumentos**: Si proporcionas tres argumentos, `range(start, stop, step)` generará una secuencia que comienza en `start`, llega hasta (pero no incluye) `stop`, y avanza en incrementos de `step`. Por ejemplo, `range(1, 10, 2)` generará los números 1, 3, 5, 7 y 9, avanzando de 2 en 2.\n",
    "\n",
    "La función `range()` es comúnmente utilizada en bucles `for` para controlar la cantidad de iteraciones o para generar índices en una lista. Por ejemplo:"
   ]
  },
  {
   "cell_type": "code",
   "execution_count": null,
   "id": "0c64aa8b",
   "metadata": {},
   "outputs": [],
   "source": [
    "for i in range(10):\n",
    "    i += 1\n",
    "    print(i)"
   ]
  },
  {
   "cell_type": "markdown",
   "id": "21c2740f",
   "metadata": {},
   "source": [
    "Ten en cuenta que en Python 3, `range()` genera un objeto de tipo \"rango\" (range object), que es iterable, pero no es una lista. Si necesitas una lista con los valores del rango, puedes convertirlo a una lista usando `list()`. Por ejemplo:"
   ]
  },
  {
   "cell_type": "code",
   "execution_count": null,
   "id": "8b05f3a9",
   "metadata": {},
   "outputs": [],
   "source": [
    "my_list = list(range(5))\n",
    "my_list"
   ]
  },
  {
   "cell_type": "markdown",
   "id": "39a08ef9",
   "metadata": {},
   "source": [
    "retomando el ejemplo dado para el ciclo `for`"
   ]
  },
  {
   "cell_type": "code",
   "execution_count": null,
   "id": "a9f14220",
   "metadata": {},
   "outputs": [],
   "source": [
    "for i in [0, 1,2,3,4,5,6,7,8,9]:\n",
    "    i += 1\n",
    "    print(i)"
   ]
  },
  {
   "cell_type": "markdown",
   "id": "95da8723",
   "metadata": {},
   "source": [
    "en vez de escribir explícitamente la lista `[0, 1,2,3,4,5,6,7,8,9]`, podemos generarla de la siguiente manera:"
   ]
  },
  {
   "cell_type": "code",
   "execution_count": null,
   "id": "d2afb0b7",
   "metadata": {
    "scrolled": false
   },
   "outputs": [],
   "source": [
    "for i in range(0,10):\n",
    "    i += 1\n",
    "    print(i)"
   ]
  },
  {
   "cell_type": "markdown",
   "id": "ec317b46",
   "metadata": {},
   "source": [
    "Veamos otro ejemplo, ahora iterando sobre una lista de nombres:"
   ]
  },
  {
   "cell_type": "code",
   "execution_count": null,
   "id": "5728e37a",
   "metadata": {},
   "outputs": [],
   "source": [
    "nombres = [\"Alice\", \"Bob\", \"Charlie\", \"David\"]\n",
    "\n",
    "for nombre in nombres:\n",
    "    print(nombre)"
   ]
  },
  {
   "cell_type": "markdown",
   "id": "9ff1d08b",
   "metadata": {},
   "source": [
    "### Funciones"
   ]
  },
  {
   "cell_type": "markdown",
   "id": "901b7b62",
   "metadata": {},
   "source": [
    "***Función:*** Fragmento de código con un nombre asociado que realiza una serie de tareas y devuelve un valor. \n",
    "\n",
    "- En `Python` las funciones se declaran de la siguiente forma:\n",
    "\n",
    "```python\n",
    "def mi_funcion(lista de parámetros):\n",
    "    sentencias o cuerpo de la función\n",
    "```"
   ]
  },
  {
   "cell_type": "markdown",
   "id": "c6bccf6d",
   "metadata": {},
   "source": [
    "#### Función sin parámetro y sin retorno"
   ]
  },
  {
   "cell_type": "code",
   "execution_count": null,
   "id": "bd1252eb",
   "metadata": {},
   "outputs": [],
   "source": [
    "# defino o creo la función\n",
    "def fbienvenida():\n",
    "    print(\"Hola Mundo!!!\")"
   ]
  },
  {
   "cell_type": "code",
   "execution_count": null,
   "id": "df552ad7",
   "metadata": {},
   "outputs": [],
   "source": [
    "fbienvenida()"
   ]
  },
  {
   "cell_type": "markdown",
   "id": "01bc3cae",
   "metadata": {},
   "source": [
    "#### Función con uno o más parámetros y sin retorno"
   ]
  },
  {
   "cell_type": "code",
   "execution_count": null,
   "id": "05e95a96",
   "metadata": {},
   "outputs": [],
   "source": [
    "def mi_funcion1(param1, param2):\n",
    "    \"\"\"\n",
    "    Esta función también imprime únicamente los valores de los parámetros\n",
    "    requiere de dos parámetros\n",
    "    \n",
    "    Inputs:\n",
    "        param1: ...\n",
    "        param2: ...\n",
    "    \n",
    "    Outputs:\n",
    "        imprime resultado por pantalla\n",
    "    \n",
    "    \"\"\"\n",
    "    print('{0} {1}'.format(param1,param2))"
   ]
  },
  {
   "cell_type": "code",
   "execution_count": null,
   "id": "813466a1",
   "metadata": {},
   "outputs": [],
   "source": [
    "mi_funcion1?"
   ]
  },
  {
   "cell_type": "code",
   "execution_count": null,
   "id": "3d175da2",
   "metadata": {},
   "outputs": [],
   "source": [
    "help(mi_funcion1)"
   ]
  },
  {
   "cell_type": "markdown",
   "id": "7a2150a5",
   "metadata": {},
   "source": [
    "Para llamar a la función (ejecutar su código) se escribiría:"
   ]
  },
  {
   "cell_type": "code",
   "execution_count": null,
   "id": "9ff7c55a",
   "metadata": {},
   "outputs": [],
   "source": [
    "nombre = input(\"Ingrese su nombre: \")\n",
    "edad = int(input(\"Ingrese su edad: \"))\n",
    "\n",
    "mi_funcion1(edad, nombre)"
   ]
  },
  {
   "cell_type": "markdown",
   "id": "7de46996",
   "metadata": {},
   "source": [
    "#### Retorno de valores"
   ]
  },
  {
   "cell_type": "markdown",
   "id": "6e88ec64",
   "metadata": {},
   "source": [
    "Una sentencia de retorno finaliza la ejecución de la función. Si la sentencia de retorno no es una expresión, o no se usa, se retornará el valor especial `None`."
   ]
  },
  {
   "cell_type": "code",
   "execution_count": null,
   "id": "4bd49152",
   "metadata": {},
   "outputs": [],
   "source": [
    "def devolver(x,y):\n",
    "    c = x + y\n",
    "    return c"
   ]
  },
  {
   "cell_type": "code",
   "execution_count": null,
   "id": "58c2fdec",
   "metadata": {},
   "outputs": [],
   "source": [
    "a = 3\n",
    "b = 4\n",
    "\n",
    "q = devolver(a,b)\n",
    "\n",
    "p = 2.5 + q\n",
    "print(p)"
   ]
  },
  {
   "cell_type": "markdown",
   "id": "2c3f0d45",
   "metadata": {},
   "source": [
    "otro ejemplo"
   ]
  },
  {
   "cell_type": "code",
   "execution_count": null,
   "id": "9acb5c59",
   "metadata": {},
   "outputs": [],
   "source": [
    "def tasaCambio():\n",
    "    p = float(input(\"ingrese el valor de la tasa de cambio al día de hoy: \"))\n",
    "    return p\n",
    "\n",
    "def dolorosos(t,q):\n",
    "    \"\"\" Devuelve un valor dado en pesos a dólares\"\"\"\n",
    "    return t / q\n",
    "\n",
    "divisa = tasaCambio()\n",
    "\n",
    "for valorpesos in [2260, 2580, 27300, 29869]:\n",
    "    print('{0} pesos son {1:.2f} dólares'.format(valorpesos,dolorosos(valorpesos, divisa)))"
   ]
  },
  {
   "cell_type": "markdown",
   "id": "31ba266e",
   "metadata": {},
   "source": [
    "#### Retorno de valores múltiples"
   ]
  },
  {
   "cell_type": "code",
   "execution_count": null,
   "id": "69f78394",
   "metadata": {},
   "outputs": [],
   "source": [
    "def fib_intervalo(x):\n",
    "    \"\"\" \n",
    "    Retorna los números de Fibonacci \n",
    "    mayor que x y menor que x\n",
    "    \n",
    "    Input:\n",
    "    \n",
    "    Output:\n",
    "        \n",
    "    \"\"\"\n",
    "    if x < 0:\n",
    "        return -1\n",
    "    (ant,post, lub) = (0,1,0)\n",
    "    while True:\n",
    "        if post < x:\n",
    "            lub = post \n",
    "            (ant,post) = (post,ant+post)\n",
    "        else:\n",
    "            return (ant, post)\n",
    "            \n",
    "while True:\n",
    "    x = int(input(\"Ingrese un número entero >0 (<0 para interrumpir): \"))\n",
    "\n",
    "    if x <= 0:\n",
    "        break #interrumpe el programa si x<0\n",
    "\n",
    "    lub, sup = fib_intervalo(x)\n",
    "    print(\"Mayor número de Fibonacci menor que x: \" + str(lub))\n",
    "    print(\"Menor número de Fibonacci mayor que x: \" + str(sup))"
   ]
  },
  {
   "cell_type": "markdown",
   "id": "1c6a5918",
   "metadata": {},
   "source": [
    "### Lambda functions"
   ]
  },
  {
   "cell_type": "markdown",
   "id": "eb45c539",
   "metadata": {},
   "source": [
    "#### ¿Qué son las Lambda Functions?"
   ]
  },
  {
   "cell_type": "markdown",
   "id": "6260e9a2",
   "metadata": {},
   "source": [
    "Las [Lambda functions](https://www.geeksforgeeks.org/python-lambda-anonymous-functions-filter-map-reduce/), también conocidas como funciones anónimas, son un concepto fundamental en Python y en la programación en general. Son funciones pequeñas y sin nombre que se pueden definir en una sola línea de código. Aunque su uso es poderoso y puede simplificar muchas tareas, es importante comprender cuándo se deben emplear y cuándo es mejor utilizar funciones normales. En esta guía, exploraremos qué son las Lambda functions, cuándo usarlas y cuándo no.\n",
    "\n",
    "Se define utilizando la palabra clave `lambda`, seguida de uno o más argumentos y una expresión. La sintaxis básica es la siguiente:\n",
    "\n",
    "```python\n",
    "lambda argumentos: expresion\n",
    "```\n",
    "\n",
    "Las características clave de las Lambda functions son:\n",
    "\n",
    "- ***Anonimato:*** No tienen un nombre definido como las funciones normales.\n",
    "\n",
    "- ***Sencillez:*** Suelen ser simples y se definen en una sola línea.\n",
    "\n",
    "- ***Expresión única:*** La expresión que define la función debe ser única y no puede contener múltiples declaraciones."
   ]
  },
  {
   "cell_type": "markdown",
   "id": "02fc6c3f",
   "metadata": {},
   "source": [
    "#### Cuándo Usar Lambda Functions"
   ]
  },
  {
   "cell_type": "markdown",
   "id": "c71edeeb",
   "metadata": {},
   "source": [
    "- ***Funciones Simples y Pequeñas:*** Las Lambda functions son ideales para situaciones en las que necesitas una función pequeña y simple para realizar una tarea específica. Algunos ejemplos incluyen:"
   ]
  },
  {
   "cell_type": "code",
   "execution_count": null,
   "id": "7ff26782",
   "metadata": {},
   "outputs": [],
   "source": [
    "# Ordenar una lista de números de forma descendente\n",
    "nums = [1, 4, 2, 7, 5]\n",
    "sorted_nums = sorted(nums, key=lambda x: -x)\n",
    "sorted_nums"
   ]
  },
  {
   "cell_type": "code",
   "execution_count": null,
   "id": "ca0803c2",
   "metadata": {},
   "outputs": [],
   "source": [
    "# Filtrar elementos pares de una lista\n",
    "numbers = [1, 2, 3, 4, 5, 6]\n",
    "even_numbers = list(filter(lambda x: x % 2 == 0, numbers))\n",
    "even_numbers"
   ]
  },
  {
   "cell_type": "markdown",
   "id": "333307df",
   "metadata": {},
   "source": [
    "- ***Funciones de Una Sola Vez:*** Si necesitas una función que solo se usará en un lugar específico de tu código y no tiene sentido darle un nombre, las Lambda functions son una excelente opción. Esto puede mejorar la legibilidad del código al mantenerlo conciso."
   ]
  },
  {
   "cell_type": "code",
   "execution_count": null,
   "id": "1b52d723",
   "metadata": {},
   "outputs": [],
   "source": [
    "people = [('Alice', 25), ('Bob', 30), ('Charlie', 22), ('David', 28)]\n",
    "\n",
    "# Ordenar la lista de personas por edad\n",
    "people.sort(key=lambda person: person[1])\n",
    "\n",
    "print(people)"
   ]
  },
  {
   "cell_type": "markdown",
   "id": "2f5280cd",
   "metadata": {},
   "source": [
    "- ***Como Argumento de Otras Funciones:*** Las Lambda functions son útiles cuando necesitas pasar una función como argumento a otras funciones, como `map()`, `filter()`, `sorted()`, entre otras."
   ]
  },
  {
   "cell_type": "code",
   "execution_count": null,
   "id": "60e87aba",
   "metadata": {},
   "outputs": [],
   "source": [
    "# Usar una lambda con map para calcular el cuadrado de cada número en una lista\n",
    "numbers = [1, 2, 3, 4]\n",
    "squared_numbers = list(map(lambda x: x**2, numbers))\n",
    "squared_numbers"
   ]
  },
  {
   "cell_type": "markdown",
   "id": "271c8f2f",
   "metadata": {},
   "source": [
    "#### Cuándo No Usar Lambda Functions"
   ]
  },
  {
   "cell_type": "markdown",
   "id": "fa82f6d0",
   "metadata": {},
   "source": [
    "- ***Funciones Complejas:*** Si la lógica de tu función es compleja y requiere múltiples declaraciones o un flujo de control complejo, es mejor utilizar una función normal con un nombre descriptivo. Esto mejora la legibilidad y la mantenibilidad del código.\n",
    "\n",
    "- ***Falta de Claridad:*** Cuando una Lambda function se vuelve demasiado complicada, puede ser difícil de entender, lo que dificulta el mantenimiento del código y la colaboración con otros programadores. En tales casos, es preferible utilizar una función normal con comentarios descriptivos."
   ]
  },
  {
   "cell_type": "markdown",
   "id": "84b2b756",
   "metadata": {},
   "source": [
    "### Módulos"
   ]
  },
  {
   "cell_type": "markdown",
   "id": "efe4b1ed",
   "metadata": {},
   "source": [
    "#### Personalizados"
   ]
  },
  {
   "cell_type": "markdown",
   "id": "4c61890e",
   "metadata": {},
   "source": [
    "La programación modular es una técnica de diseño de software para dividir su código en partes separadas. Estas piezas se denominan módulos.\n",
    "\n",
    "Si deseamos realizar operaciones más complejas en python, es necesario llamar al módulo correspondiente que ya contenga dicha funcionalidad. Por ejemplo, si deseamos extraer la raiz cuadrada de un número podemos hacer lo siguiente:"
   ]
  },
  {
   "cell_type": "code",
   "execution_count": null,
   "id": "628b8fc4",
   "metadata": {},
   "outputs": [],
   "source": [
    "raiz = (4)**(1/2)\n",
    "raiz"
   ]
  },
  {
   "cell_type": "markdown",
   "id": "afe13676",
   "metadata": {},
   "source": [
    "pero si ahora quisiéramos trabajar con funciones trigonométricas o estadísticas, más complejas, tendríamos qué programar cada una de ellas y guardarlas en algún lugar para despues ser llamadas a nuestro código. Esto se puede hacer de la siguiente manera:\n",
    "\n",
    "- creamos un archivo plano con extensión `.py` que contenga la o las funciones a ser incorporadas en nuestro código.\n",
    "- importar el módulo y/o las funciones a emplear en el código\n",
    "\n",
    "***obs:*** se debe indicar la ruta en donde se encuentra el módulo guardado. Es aconsejable que el archivo `.py` esté en la misma carpeta donde tenga el código fuente (esto para no complicarse mucho la existencia, por ahora.)"
   ]
  },
  {
   "cell_type": "markdown",
   "id": "6f997e78",
   "metadata": {},
   "source": [
    "#### Built - in"
   ]
  },
  {
   "cell_type": "markdown",
   "id": "e350f27a",
   "metadata": {},
   "source": [
    "Python dispone de una ámplia biblioteca (libraries) de módulos para una gran variedad de aplicaciones. Para el cálculo de funciones matemáticas sencillas, python dispone del módulo `math`. "
   ]
  },
  {
   "cell_type": "code",
   "execution_count": null,
   "id": "f177657b",
   "metadata": {},
   "outputs": [],
   "source": [
    "import math"
   ]
  },
  {
   "cell_type": "code",
   "execution_count": null,
   "id": "de845df7",
   "metadata": {},
   "outputs": [],
   "source": [
    "math."
   ]
  },
  {
   "cell_type": "code",
   "execution_count": null,
   "id": "5871aad0",
   "metadata": {},
   "outputs": [],
   "source": [
    "p = math.sqrt(4)\n",
    "p"
   ]
  },
  {
   "cell_type": "markdown",
   "id": "8de6d412",
   "metadata": {},
   "source": [
    "Podemos ver las funciones disponibles en los módulos escribiendo el nombre del módulo (o su alias) seguido del símbolo `.` (punto) y con la tecla tabulador se desplegará un menún contextual con todas las funciones:\n",
    "\n",
    "```python\n",
    "    modulo.\n",
    "```"
   ]
  },
  {
   "cell_type": "code",
   "execution_count": null,
   "id": "cc93e51f",
   "metadata": {},
   "outputs": [],
   "source": [
    "math."
   ]
  },
  {
   "cell_type": "markdown",
   "id": "600112ac",
   "metadata": {},
   "source": [
    "## Ecosistema Python"
   ]
  },
  {
   "cell_type": "markdown",
   "id": "f3826364",
   "metadata": {},
   "source": [
    "Python cuenta con una ámplia gama de bibliotecas para realizar trabajos específicos, que conforman lo que se denomina el Ecosistema Python. A seguir se comparten los enlaces a diferentes archivos en donde podrán encontrar una documentación más amplia:\n",
    "\n",
    "- [Numpy](./CrashCourse02_Numpy.ipynb)\n",
    "\n",
    "- [Matplotlib](./CrashCourse03_Matplotlib.ipynb)\n",
    "\n",
    "- [Pandas](./CrashCourse05_Pandas.ipynb)\n"
   ]
  }
 ],
 "metadata": {
  "kernelspec": {
   "display_name": "Python 3 (ipykernel)",
   "language": "python",
   "name": "python3"
  },
  "language_info": {
   "codemirror_mode": {
    "name": "ipython",
    "version": 3
   },
   "file_extension": ".py",
   "mimetype": "text/x-python",
   "name": "python",
   "nbconvert_exporter": "python",
   "pygments_lexer": "ipython3",
   "version": "3.11.3"
  },
  "toc": {
   "base_numbering": 1,
   "nav_menu": {},
   "number_sections": true,
   "sideBar": true,
   "skip_h1_title": true,
   "title_cell": "Tabla de Contenidos",
   "title_sidebar": "Contenidos",
   "toc_cell": false,
   "toc_position": {
    "height": "calc(100% - 180px)",
    "left": "10px",
    "top": "150px",
    "width": "199.7px"
   },
   "toc_section_display": true,
   "toc_window_display": false
  }
 },
 "nbformat": 4,
 "nbformat_minor": 5
}
