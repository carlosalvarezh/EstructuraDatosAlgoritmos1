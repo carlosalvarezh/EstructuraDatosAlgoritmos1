{
 "cells": [
  {
   "cell_type": "markdown",
   "metadata": {},
   "source": [
    "<h1 align=\"center\">Crash Course: Matplotlib</h1>\n",
    "<h1 align=\"center\">2024</h1>\n",
    "<h1 align=\"center\">MEDELLÍN - COLOMBIA </h1>"
   ]
  },
  {
   "cell_type": "markdown",
   "metadata": {},
   "source": [
    "*** \n",
    "|[![Outlook](https://img.shields.io/badge/Microsoft_Outlook-0078D4?style=plastic&logo=microsoft-outlook&logoColor=white)](mailto:calvar52@eafit.edu.co)||[![Open In Colab](https://colab.research.google.com/assets/colab-badge.svg)](https://colab.research.google.com/github/carlosalvarezh/EstructuraDatosAlgoritmos1/blob/main/CrashCoursePython/CrashCourse03_Matplotlib.ipynb)\n",
    "|-:|:-|--:|\n",
    "|[![LinkedIn](https://img.shields.io/badge/linkedin-%230077B5.svg?style=plastic&logo=linkedin&logoColor=white)](https://www.linkedin.com/in/carlosalvarez5/)|[![@alvarezhenao](https://img.shields.io/twitter/url/https/twitter.com/alvarezhenao.svg?style=social&label=Follow%20%40alvarezhenao)](https://twitter.com/alvarezhenao)|[![@carlosalvarezh](https://img.shields.io/badge/github-%23121011.svg?style=plastic&logo=github&logoColor=white)](https://github.com/carlosalvarezh)|\n",
    "\n",
    "<table>\n",
    " <tr align=left><td><img align=left src=\"https://github.com/carlosalvarezh/Curso_CEC_EAFIT/blob/main/images/CCLogoColorPop1.gif?raw=true\" width=\"25\">\n",
    " <td>Text provided under a Creative Commons Attribution license, CC-BY. All code is made available under the FSF-approved MIT license.(c) Carlos Alberto Alvarez Henao</td>\n",
    "</table>\n",
    "\n",
    "***"
   ]
  },
  {
   "cell_type": "markdown",
   "metadata": {},
   "source": [
    "## Matplotlib"
   ]
  },
  {
   "cell_type": "markdown",
   "metadata": {},
   "source": [
    "### Qué es matplotlib?"
   ]
  },
  {
   "cell_type": "markdown",
   "metadata": {},
   "source": [
    "[Matplotlib](https://matplotlib.org/) es una biblioteca completa para crear visualizaciones estáticas, animadas e interactivas en Python.\n",
    "\n",
    "- Estandar de facto de visualización en Python\n",
    "\n",
    "\n",
    "- Pretende ser similar a las funciones de visualización del Matlab\n"
   ]
  },
  {
   "cell_type": "markdown",
   "metadata": {},
   "source": [
    "### Instalación"
   ]
  },
  {
   "cell_type": "markdown",
   "metadata": {},
   "source": [
    "Primero hay qué instalar el paquete `matplotlib`. Hay principalmente dos vías:\n",
    "\n",
    "- [Anaconda](https://anaconda.org/conda-forge/matplotlib): Abriendo una ventana de comando (cmd) y colocando uno de los textos que aparecen en anaconda, como se muestra en la siguiente línea.\n",
    "\n",
    "`conda install -c conda-forge matplotlib`\n",
    "\n",
    "<p float=\"center\">\n",
    "  <img src=\"https://github.com/carlosalvarezh/Curso_CEC_EAFIT/blob/main/images/InstallMatplotlibAnaconda.PNG?raw=true\" width=\"500\" />\n",
    "</p>\n",
    "\n",
    "\n",
    "- [pip](https://matplotlib.org/stable/): en una celda dentro del notebook: solo debe ejecutarse una única vez y ya quedará instalado en su sistema"
   ]
  },
  {
   "cell_type": "code",
   "execution_count": null,
   "metadata": {},
   "outputs": [],
   "source": [
    "pip install matplotlib"
   ]
  },
  {
   "cell_type": "markdown",
   "metadata": {},
   "source": [
    "En Jupyter es recomendable activar la opción `inline` para viusalizar las gráficas en el notebook"
   ]
  },
  {
   "cell_type": "code",
   "execution_count": null,
   "metadata": {
    "scrolled": true
   },
   "outputs": [],
   "source": [
    "%matplotlib inline"
   ]
  },
  {
   "cell_type": "markdown",
   "metadata": {},
   "source": [
    "Luego, importamos los paquetes necesarios. Por lo general `numpy` y `matplotlib` van de la mano:"
   ]
  },
  {
   "cell_type": "code",
   "execution_count": null,
   "metadata": {},
   "outputs": [],
   "source": [
    "import numpy as np\n",
    "import matplotlib.pyplot as plt"
   ]
  },
  {
   "cell_type": "markdown",
   "metadata": {},
   "source": [
    "### Interfaz `pyplot`"
   ]
  },
  {
   "cell_type": "markdown",
   "metadata": {},
   "source": [
    "La interfaz [`pyplot`](https://matplotlib.org/stable/api/pyplot_summary.html#module-matplotlib.pyplot) proporciona una serie de funciones que operan sobre un estado global.\n",
    "\n",
    "\n",
    "- No especificamos sobre qué gráfica o ejes estamos actuando. \n",
    "\n",
    "\n",
    "- Es una forma rápida y cómoda de crear gráficas pero perdemos parte del control.\n",
    "\n",
    "\n",
    "- El paquete pyplot se suele importar bajo el alias `plt`, de modo que todas las funciones se acceden a través de `plt.<funcion()>`. \n",
    "\n",
    "\n",
    "- La función más básica es la función `plot`:"
   ]
  },
  {
   "cell_type": "markdown",
   "metadata": {},
   "source": [
    "### Gráfica simple"
   ]
  },
  {
   "cell_type": "markdown",
   "metadata": {},
   "source": [
    "Una gráfica simple empleando matplotlib"
   ]
  },
  {
   "cell_type": "code",
   "execution_count": null,
   "metadata": {},
   "outputs": [],
   "source": [
    "x = [0, 0.1, 0.2, 0.5]\n",
    "y = [1, -1, 0.5, 2]\n",
    "plt.plot(x, y)"
   ]
  },
  {
   "cell_type": "markdown",
   "metadata": {},
   "source": [
    "### Gráfica de una función matemática"
   ]
  },
  {
   "cell_type": "markdown",
   "metadata": {},
   "source": [
    "Inicialmente veamos cómo sería la graficación de dos funciones matemáticas en una misma figura:"
   ]
  },
  {
   "cell_type": "code",
   "execution_count": null,
   "metadata": {
    "scrolled": true
   },
   "outputs": [],
   "source": [
    "#Gráfica seno - Coseno\n",
    "\n",
    "# coding=utf-8\n",
    "\n",
    "# Carga los módulos necesarios\n",
    "import numpy as np\n",
    "import matplotlib.pyplot as plt\n",
    "\n",
    "# Crea el arreglo x de cero a cien con cien puntos\n",
    "x = np.linspace(0, 10,100)\n",
    "\n",
    "# Crea el arreglo y con la función indicada\n",
    "ys = np.sin(x)\n",
    "yc = np.cos(x)\n",
    "\n",
    "# Crea una figura\n",
    "plt.figure(figsize=(8, 4))\n",
    "\n",
    "# imprime las figuras en una misma gráfica\n",
    "plt.plot(x,ys,':r',x,yc,'--b')\n",
    "plt.grid(True)\n",
    "\n",
    "# Muestra en pantalla\n",
    "plt.show()\n"
   ]
  },
  {
   "cell_type": "markdown",
   "metadata": {},
   "source": [
    "Ahora empleamos los métodos `subplot` para graficar cada figura en una gráfica independiente"
   ]
  },
  {
   "cell_type": "code",
   "execution_count": null,
   "metadata": {},
   "outputs": [],
   "source": [
    "# Crea el arreglo x de cero a cien con cien puntos\n",
    "x = np.linspace(0, 10, 100)\n",
    "\n",
    "# Crea el arreglo y con la función indicada\n",
    "ys = np.sin(x)\n",
    "yc = np.cos(x)\n",
    "\n",
    "# Crea una figura\n",
    "fig = plt.figure(figsize=(8, 4))\n",
    "\n",
    "plt.title(\"Funciones seno y coseno\")\n",
    "# Presenta la función seno en una gráfica independiente\n",
    "ax1 = fig.add_subplot(2,1,1)\n",
    "plt.plot(x,ys,\"r\", label = \"sin(x)\")\n",
    "plt.legend()\n",
    "plt.grid(True)\n",
    "plt.xlabel(\"x\")\n",
    "plt.ylabel(\"sin(x)\")\n",
    "\n",
    "# Grafica de la función coseno\n",
    "ax2 = fig.add_subplot(2,1,2)\n",
    "plt.plot(x,yc,\"g\", label = \"cos(x)\")\n",
    "plt.legend()\n",
    "plt.grid(True)\n",
    "plt.xlabel(\"x\")\n",
    "plt.ylabel(\"cos(x)\")\n",
    "\n",
    "# Salva la figura en un archivo png\n",
    "fig.savefig('seno.png')"
   ]
  },
  {
   "cell_type": "markdown",
   "metadata": {},
   "source": [
    "La función `plot` recibe una sola lista (si queremos especificar los valores y) o dos listas (si especificamos $x$ e $y$). \n",
    "\n",
    "\n",
    "- Naturalmente si especificamos dos listas ambas tienen que tener la misma longitud.\n",
    "\n",
    "\n",
    "La tarea más habitual a la hora de trabajar con `matplotlib` es representar una función. \n",
    "\n",
    "\n",
    "- Lo que tendremos que hacer es definir un dominio y evaluarla en dicho dominio. Por ejemplo:\n",
    "\n",
    "\n",
    "$$f(x)=e^{-x^2}$$"
   ]
  },
  {
   "cell_type": "code",
   "execution_count": null,
   "metadata": {},
   "outputs": [],
   "source": [
    "def f(x):\n",
    "    return np.exp(-x ** 2)"
   ]
  },
  {
   "cell_type": "code",
   "execution_count": null,
   "metadata": {},
   "outputs": [],
   "source": [
    "plt.plot(x,f(x))"
   ]
  },
  {
   "cell_type": "markdown",
   "metadata": {},
   "source": [
    "Definimos el dominio con la función `np.linspace`, que crea un vector de puntos equiespaciados:"
   ]
  },
  {
   "cell_type": "code",
   "execution_count": null,
   "metadata": {},
   "outputs": [],
   "source": [
    "x = np.linspace(-1, 5, num=100)"
   ]
  },
  {
   "cell_type": "markdown",
   "metadata": {},
   "source": [
    "Y representamos la función:"
   ]
  },
  {
   "cell_type": "code",
   "execution_count": null,
   "metadata": {},
   "outputs": [],
   "source": [
    "plt.plot(x, f(x), label=\"Función f(x)\")\n",
    "plt.xlabel(\"Eje $x$\")\n",
    "plt.ylabel(\"$f(x)$\")\n",
    "plt.legend()\n",
    "plt.title(\"Función $f(x)=e^{-x^2}$\")"
   ]
  },
  {
   "cell_type": "markdown",
   "metadata": {},
   "source": [
    "### Personalización\n",
    "\n",
    "- La función `plot` acepta una serie de argumentos para personalizar el aspecto de la función. \n",
    "\n",
    "\n",
    "- Con una letra podemos especificar el color, y con un símbolo el tipo de línea."
   ]
  },
  {
   "cell_type": "code",
   "execution_count": null,
   "metadata": {},
   "outputs": [],
   "source": [
    "plt.plot(x, f(x), 'g-')\n",
    "plt.plot(x, 1 - f(x), 'b--')"
   ]
  },
  {
   "cell_type": "markdown",
   "metadata": {},
   "source": [
    "Esto en realidad son códigos abreviados, que se corresponden con argumentos de la función `plot`:"
   ]
  },
  {
   "cell_type": "code",
   "execution_count": null,
   "metadata": {},
   "outputs": [],
   "source": [
    "#colorcito = 'green'\n",
    "plt.plot(x, f(x), color='black', linestyle='', marker='o')\n",
    "plt.plot(x, 1 - f(x), c='g', ls='--')"
   ]
  },
  {
   "cell_type": "markdown",
   "metadata": {},
   "source": [
    "La lista de posibles argumentos y abreviaturas está disponible en la documentación de la función `plot` la podrás encontrar en este [enlace](http://matplotlib.org/api/pyplot_api.html#matplotlib.pyplot.plot)."
   ]
  },
  {
   "cell_type": "markdown",
   "metadata": {},
   "source": [
    "### Dispersión (scatter)"
   ]
  },
  {
   "cell_type": "markdown",
   "metadata": {},
   "source": [
    "La función `scatter` muestra una nube de puntos, con posibilidad de variar también el tamaño y el color."
   ]
  },
  {
   "cell_type": "code",
   "execution_count": null,
   "metadata": {},
   "outputs": [],
   "source": [
    "N = 100\n",
    "x = np.random.randn(N)\n",
    "y = np.random.randn(N)\n",
    "\n",
    "plt.scatter(x, y)"
   ]
  },
  {
   "cell_type": "markdown",
   "metadata": {},
   "source": [
    "Con `s` y `c` podemos modificar el tamaño y el color respectivamente. \n",
    "\n",
    "\n",
    "- Para el color, a cada valor numérico se le asigna un color a través de un mapa de colores; ese mapa se puede cambiar con el argumento `cmap`. Esa correspondencia se puede visualizar llamando a la función `colorbar`."
   ]
  },
  {
   "cell_type": "code",
   "execution_count": null,
   "metadata": {
    "scrolled": false
   },
   "outputs": [],
   "source": [
    "s = 50 + 50 * np.random.randn(N)\n",
    "c = np.random.randn(N)\n",
    "\n",
    "plt.scatter(x, y, s=s, c=c, cmap = 'rainbow')\n",
    "plt.colorbar()"
   ]
  },
  {
   "cell_type": "markdown",
   "metadata": {},
   "source": [
    "en la anterior gráfica:\n",
    "\n",
    "- `x` y `y`: Son las coordenadas en el eje `x` y el eje `y` de los puntos que se trazarán en el gráfico de dispersión. Debes asegurarte de haber definido previamente estas variables con los valores que deseas mostrar en el gráfico.\n",
    "\n",
    "- `s=s`: Aquí se especifica el tamaño de los puntos en función de los valores almacenados en la variable `s`. Los tamaños de los puntos variarán según los valores en `s`, creando así puntos de diferentes tamaños en el gráfico.\n",
    "\n",
    "- `c=c`: Define el color de los puntos en función de los valores almacenados en la variable `c`. Los colores variarán según los valores en `c`, lo que significa que cada punto tendrá un color diferente en el gráfico.\n",
    "\n",
    "- `cmap='rainbow'`: Este argumento especifica el mapa de colores (`colormap`) que se utilizará para asignar los colores a los puntos en función de los valores en `c`. En este caso, se usa el mapa de colores `rainbow`, que proporciona una gama de colores desde el rojo hasta el violeta. Se pueden usar otros tipos de `colormaps`"
   ]
  },
  {
   "cell_type": "code",
   "execution_count": null,
   "metadata": {},
   "outputs": [],
   "source": [
    "plt.scatter(x, y, s=s, c=c, cmap='Oranges')\n",
    "plt.colorbar()"
   ]
  },
  {
   "cell_type": "markdown",
   "metadata": {},
   "source": [
    "En [este enlace](https://matplotlib.org/stable/users/explain/colors/colormaps.html) podrá encontrar los diferentes mapas de colores que trae matplotlib."
   ]
  },
  {
   "cell_type": "markdown",
   "metadata": {},
   "source": [
    "### Histograma"
   ]
  },
  {
   "cell_type": "code",
   "execution_count": null,
   "metadata": {},
   "outputs": [],
   "source": [
    "import matplotlib.pyplot as plt\n",
    "import numpy as np\n",
    "\n",
    "plt.style.use('_mpl-gallery')\n",
    "\n",
    "# make data\n",
    "np.random.seed(1)\n",
    "x = 4 + np.random.normal(0, 1.5, 200)\n",
    "\n",
    "# plot:\n",
    "fig, ax = plt.subplots()\n",
    "\n",
    "ax.hist(x, bins=8, linewidth=0.5, edgecolor=\"white\")\n",
    "\n",
    "ax.set(xlim=(0, 8), xticks=np.arange(1, 8),\n",
    "       ylim=(0, 56), yticks=np.linspace(0, 56, 9))\n",
    "\n",
    "plt.show()"
   ]
  },
  {
   "cell_type": "markdown",
   "metadata": {},
   "source": [
    "### Boxplot"
   ]
  },
  {
   "cell_type": "code",
   "execution_count": null,
   "metadata": {},
   "outputs": [],
   "source": [
    "import matplotlib.pyplot as plt\n",
    "import numpy as np\n",
    "\n",
    "plt.style.use('_mpl-gallery')\n",
    "\n",
    "# make data:\n",
    "np.random.seed(10)\n",
    "D = np.random.normal((3, 5, 4), (1.25, 1.00, 1.25), (100, 3))\n",
    "\n",
    "box_color = 'dodgerblue'\n",
    "median_color = 'red'\n",
    "whisker_color = 'green'\n",
    "flier_color = 'purple'\n",
    "capprops_color = 'black'\n",
    "flier_color = 'purple'\n",
    "\n",
    "\n",
    "# plot\n",
    "fig, ax = plt.subplots()\n",
    "\n",
    "VP = ax.boxplot(D, positions=[2, 4, 6], widths=1.5, patch_artist=True,\n",
    "                showmeans=False, showfliers=False,\n",
    "                medianprops={\"color\": \"white\", \"linewidth\": 0.5},\n",
    "                boxprops={\"facecolor\": \"C0\", \"edgecolor\": \"white\",\n",
    "                          \"linewidth\": 0.5},\n",
    "                whiskerprops={\"color\": \"C0\", \"linewidth\": 1.5},\n",
    "                capprops={\"color\": \"C0\", \"linewidth\": 1.5})\n",
    "ax.set(xlim=(0, 8), xticks=np.arange(1, 8),\n",
    "       ylim=(0, 8), yticks=np.arange(1, 8))\n",
    "\n",
    "plt.show()"
   ]
  },
  {
   "cell_type": "markdown",
   "metadata": {},
   "source": [
    "### Error bar"
   ]
  },
  {
   "cell_type": "code",
   "execution_count": null,
   "metadata": {},
   "outputs": [],
   "source": [
    "import matplotlib.pyplot as plt\n",
    "import numpy as np\n",
    "\n",
    "plt.style.use('_mpl-gallery')\n",
    "\n",
    "# make data:\n",
    "np.random.seed(1)\n",
    "x = [2, 4, 6]\n",
    "y = [3.6, 5, 4.2]\n",
    "yerr = [0.9, 1.2, 0.5]\n",
    "\n",
    "# plot:\n",
    "fig, ax = plt.subplots()\n",
    "\n",
    "ax.errorbar(x, y, yerr, fmt='o', linewidth=2, capsize=6)\n",
    "\n",
    "ax.set(xlim=(0, 8), xticks=np.arange(1, 8),\n",
    "       ylim=(0, 8), yticks=np.arange(1, 8))\n",
    "\n",
    "plt.show()"
   ]
  },
  {
   "cell_type": "markdown",
   "metadata": {},
   "source": [
    "### Violin"
   ]
  },
  {
   "cell_type": "code",
   "execution_count": null,
   "metadata": {},
   "outputs": [],
   "source": [
    "import matplotlib.pyplot as plt\n",
    "import numpy as np\n",
    "\n",
    "plt.style.use('_mpl-gallery')\n",
    "\n",
    "# make data:\n",
    "np.random.seed(10)\n",
    "D = np.random.normal((3, 5, 4), (0.75, 1.00, 0.75), (200, 3))\n",
    "\n",
    "# plot:\n",
    "fig, ax = plt.subplots()\n",
    "\n",
    "vp = ax.violinplot(D, [2, 4, 6], widths=2,\n",
    "                   showmeans=False, showmedians=False, showextrema=False)\n",
    "# styling:\n",
    "for body in vp['bodies']:\n",
    "    body.set_alpha(0.9)\n",
    "ax.set(xlim=(0, 8), xticks=np.arange(1, 8),\n",
    "       ylim=(0, 8), yticks=np.arange(1, 8))\n",
    "\n",
    "plt.show()"
   ]
  },
  {
   "cell_type": "markdown",
   "metadata": {},
   "source": [
    "### pie"
   ]
  },
  {
   "cell_type": "code",
   "execution_count": null,
   "metadata": {},
   "outputs": [],
   "source": [
    "import matplotlib.pyplot as plt\n",
    "import numpy as np\n",
    "\n",
    "plt.style.use('_mpl-gallery-nogrid')\n",
    "\n",
    "\n",
    "# make data\n",
    "x = [1, 2, 3, 4]\n",
    "colors = plt.get_cmap('Blues')(np.linspace(0.2, 0.7, len(x)))\n",
    "\n",
    "# plot\n",
    "fig, ax = plt.subplots()\n",
    "ax.pie(x, colors=colors, radius=3, center=(4, 4),\n",
    "       wedgeprops={\"linewidth\": 1, \"edgecolor\": \"white\"}, frame=True)\n",
    "\n",
    "ax.set(xlim=(0, 8), xticks=np.arange(1, 8),\n",
    "       ylim=(0, 8), yticks=np.arange(1, 8))\n",
    "\n",
    "plt.show()"
   ]
  },
  {
   "cell_type": "markdown",
   "metadata": {},
   "source": [
    "## Seaborn"
   ]
  },
  {
   "cell_type": "markdown",
   "metadata": {},
   "source": [
    "[`Seaborn`](https://seaborn.pydata.org/) es una biblioteca de visualización de datos de `Python` basada en `matplotlib`. Proporciona una interfaz de alto nivel para dibujar gráficos estadísticos atractivos e informativos."
   ]
  },
  {
   "cell_type": "markdown",
   "metadata": {},
   "source": [
    "### Numerical Data Plotting"
   ]
  },
  {
   "cell_type": "markdown",
   "metadata": {},
   "source": [
    "Ejemplos tomados principalmente de [Seaborn Crash Course(A complete course on seaborn)](https://www.kaggle.com/code/mukeshchoudhary/seaborn-crash-course-a-complete-course-on-seaborn)"
   ]
  },
  {
   "cell_type": "code",
   "execution_count": null,
   "metadata": {},
   "outputs": [],
   "source": [
    "# importar bibliotecas\n",
    "import numpy as np\n",
    "import pandas as pd\n",
    "import seaborn as sns\n",
    "import matplotlib.pyplot as plt"
   ]
  },
  {
   "cell_type": "code",
   "execution_count": null,
   "metadata": {},
   "outputs": [],
   "source": [
    "# importar datos\n",
    "tip= sns.load_dataset('tips')\n",
    "tip.head()"
   ]
  },
  {
   "cell_type": "markdown",
   "metadata": {},
   "source": [
    "#### Scatter"
   ]
  },
  {
   "cell_type": "code",
   "execution_count": null,
   "metadata": {},
   "outputs": [],
   "source": [
    "sns.relplot(x= 'total_bill', y= 'tip', data= tip, color= 'b');"
   ]
  },
  {
   "cell_type": "markdown",
   "metadata": {},
   "source": [
    "Si bien los puntos se trazan en dos dimensiones, se puede agregar otra dimensión al gráfico coloreando los puntos según una tercera variable. En seaborn, esto se conoce como uso de una “semántica de tono” (hue semantic), porque el color del punto adquiere significado:"
   ]
  },
  {
   "cell_type": "code",
   "execution_count": null,
   "metadata": {},
   "outputs": [],
   "source": [
    "sns.relplot(x= 'total_bill', y= 'tip', data= tip, hue= 'smoker');"
   ]
  },
  {
   "cell_type": "markdown",
   "metadata": {},
   "source": [
    "Para resaltar la diferencia entre las clases y mejorar la accesibilidad, puede utilizar un estilo de marcador diferente para cada clase:"
   ]
  },
  {
   "cell_type": "code",
   "execution_count": null,
   "metadata": {},
   "outputs": [],
   "source": [
    "sns.relplot(x= 'total_bill', y= 'tip', data= tip, hue= 'smoker', style= 'smoker', palette='viridis');"
   ]
  },
  {
   "cell_type": "markdown",
   "metadata": {},
   "source": [
    "También es posible representar cuatro variables cambiando el tono y el estilo de cada punto de forma independiente."
   ]
  },
  {
   "cell_type": "code",
   "execution_count": null,
   "metadata": {},
   "outputs": [],
   "source": [
    "sns.relplot(x= 'total_bill', y= 'tip', data= tip, hue= 'smoker', style= 'time' );"
   ]
  },
  {
   "cell_type": "markdown",
   "metadata": {},
   "source": [
    "Si la semántica del tono es numérica (específicamente, si se puede convertir en flotante), el color predeterminado cambia a una paleta secuencial:"
   ]
  },
  {
   "cell_type": "code",
   "execution_count": null,
   "metadata": {},
   "outputs": [],
   "source": [
    "sns.relplot(x= 'total_bill', y= 'tip', hue= 'size', data= tip);"
   ]
  },
  {
   "cell_type": "markdown",
   "metadata": {},
   "source": [
    "El tercer tipo de variable semántica cambia el tamaño de cada punto:"
   ]
  },
  {
   "cell_type": "code",
   "execution_count": null,
   "metadata": {},
   "outputs": [],
   "source": [
    "sns.relplot(x= 'total_bill', y= 'tip', size= 'size', data= tip);"
   ]
  },
  {
   "cell_type": "markdown",
   "metadata": {},
   "source": [
    "El rango de tamaños se puede personalizar:"
   ]
  },
  {
   "cell_type": "code",
   "execution_count": null,
   "metadata": {},
   "outputs": [],
   "source": [
    "sns.relplot(x= 'total_bill', y= 'tip', size= 'size', sizes= (15,200), data= tip);"
   ]
  },
  {
   "cell_type": "markdown",
   "metadata": {},
   "source": [
    "### Gráficos de líneas"
   ]
  },
  {
   "cell_type": "markdown",
   "metadata": {},
   "source": [
    "Con algunos conjuntos de datos, es posible que desee comprender los cambios en una variable en función del tiempo, o una variable continua similar. En esta situación, una buena opción es dibujar un diagrama de linea. En seaborn, esto se puede lograr mediante la función `lineplot()`, ya sea directamente o con `relplot()` configurando `kind=\"line\"`:"
   ]
  },
  {
   "cell_type": "code",
   "execution_count": null,
   "metadata": {},
   "outputs": [],
   "source": [
    "df= pd.DataFrame(dict(time= np.arange(500), value= np.random.randn(500).cumsum()))\n",
    "df.head()"
   ]
  },
  {
   "cell_type": "code",
   "execution_count": null,
   "metadata": {},
   "outputs": [],
   "source": [
    "# con lineplot\n",
    "sns.lineplot( x= 'time', y= 'value', data= df);"
   ]
  },
  {
   "cell_type": "code",
   "execution_count": null,
   "metadata": {},
   "outputs": [],
   "source": [
    "# con relplot\n",
    "sns.relplot(x= 'time', y= 'value', kind= 'line', data= df);"
   ]
  },
  {
   "cell_type": "markdown",
   "metadata": {},
   "source": [
    "Debido a que `lineplot()` supone que la mayoría de las veces intenta dibujar $y$ como una función de $x$, el comportamiento predeterminado es ordenar los datos por los valores de $x$ antes de trazar. Sin embargo, esto se puede desactivar:"
   ]
  },
  {
   "cell_type": "code",
   "execution_count": null,
   "metadata": {},
   "outputs": [],
   "source": [
    "df1= pd.DataFrame(np.random.randn(500, 2).cumsum(axis= 0), columns= ['x', 'y'])\n",
    "sns.relplot(x= 'x', y= 'y', data= df1, sort= False, kind= 'line');"
   ]
  },
  {
   "cell_type": "code",
   "execution_count": null,
   "metadata": {},
   "outputs": [],
   "source": [
    "sns.lineplot(x= 'x', y= 'y', data= df1, sort= False);"
   ]
  },
  {
   "cell_type": "markdown",
   "metadata": {},
   "source": [
    "### Agregación y representación de la incertidumbre"
   ]
  },
  {
   "cell_type": "markdown",
   "metadata": {},
   "source": [
    "Los conjuntos de datos más complejos tendrán múltiples mediciones para el mismo valor de la variable $x$. El comportamiento predeterminado en `seaborn` es agregar las múltiples mediciones en cada valor de $x$ trazando la media y el intervalo de confianza del $95\\%$ alrededor de la media:"
   ]
  },
  {
   "cell_type": "code",
   "execution_count": null,
   "metadata": {},
   "outputs": [],
   "source": [
    "fmri= sns.load_dataset('fmri')\n",
    "fmri.head()"
   ]
  },
  {
   "cell_type": "code",
   "execution_count": null,
   "metadata": {},
   "outputs": [],
   "source": [
    "sns.relplot(x= 'timepoint', y= 'signal', kind= 'line', data= fmri, color= 'b');"
   ]
  },
  {
   "cell_type": "markdown",
   "metadata": {},
   "source": [
    "Los intervalos de confianza se calculan mediante [bootstrapping](https://en.wikipedia.org/wiki/Bootstrapping_(statistics)), lo que puede consumir mucho tiempo para conjuntos de datos más grandes. Por tanto, es posible desactivarlos:"
   ]
  },
  {
   "cell_type": "code",
   "execution_count": null,
   "metadata": {},
   "outputs": [],
   "source": [
    "sns.relplot(x= 'timepoint', y= 'signal', kind= 'line', data= fmri, errorbar= None, color= 'b');"
   ]
  },
  {
   "cell_type": "markdown",
   "metadata": {},
   "source": [
    "Otra buena opción, especialmente con datos más grandes, es representar la dispersión de la distribución en cada momento trazando la desviación estándar en lugar de un intervalo de confianza:"
   ]
  },
  {
   "cell_type": "code",
   "execution_count": null,
   "metadata": {},
   "outputs": [],
   "source": [
    "sns.relplot(x= 'timepoint', y= 'signal', kind= 'line', data= fmri, errorbar='sd', color= 'b');"
   ]
  },
  {
   "cell_type": "markdown",
   "metadata": {},
   "source": [
    "Para desactivar la agregación por completo, establezca el parámetro del estimador en `None`. Esto podría producir un efecto extraño cuando los datos tienen múltiples observaciones en cada punto."
   ]
  },
  {
   "cell_type": "code",
   "execution_count": null,
   "metadata": {},
   "outputs": [],
   "source": [
    "sns.relplot(x= 'timepoint', y= 'signal', data= fmri, kind= 'line', estimator= None);"
   ]
  },
  {
   "cell_type": "code",
   "execution_count": null,
   "metadata": {},
   "outputs": [],
   "source": []
  }
 ],
 "metadata": {
  "anaconda-cloud": {},
  "kernelspec": {
   "display_name": "Python 3 (ipykernel)",
   "language": "python",
   "name": "python3"
  },
  "language_info": {
   "codemirror_mode": {
    "name": "ipython",
    "version": 3
   },
   "file_extension": ".py",
   "mimetype": "text/x-python",
   "name": "python",
   "nbconvert_exporter": "python",
   "pygments_lexer": "ipython3",
   "version": "3.11.3"
  },
  "latex_envs": {
   "LaTeX_envs_menu_present": true,
   "autocomplete": true,
   "bibliofile": "biblio.bib",
   "cite_by": "apalike",
   "current_citInitial": 1,
   "eqLabelWithNumbers": true,
   "eqNumInitial": 1,
   "hotkeys": {
    "equation": "Ctrl-E",
    "itemize": "Ctrl-I"
   },
   "labels_anchors": false,
   "latex_user_defs": false,
   "report_style_numbering": true,
   "user_envs_cfg": true
  },
  "toc": {
   "base_numbering": 1,
   "nav_menu": {},
   "number_sections": true,
   "sideBar": true,
   "skip_h1_title": true,
   "title_cell": "Tabla de Contenidos",
   "title_sidebar": "Contenidos",
   "toc_cell": false,
   "toc_position": {
    "height": "calc(100% - 180px)",
    "left": "10px",
    "top": "150px",
    "width": "165px"
   },
   "toc_section_display": true,
   "toc_window_display": false
  }
 },
 "nbformat": 4,
 "nbformat_minor": 2
}
