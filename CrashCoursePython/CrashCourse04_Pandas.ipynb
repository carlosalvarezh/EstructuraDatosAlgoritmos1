{
 "cells": [
  {
   "cell_type": "markdown",
   "id": "8c9de999",
   "metadata": {},
   "source": [
    "<h1 align=\"center\">Crash Course: Pandas</h1>\n",
    "<h1 align=\"center\">2024</h1>\n",
    "<h1 align=\"center\">MEDELLÍN - COLOMBIA </h1>"
   ]
  },
  {
   "cell_type": "markdown",
   "id": "27b40523",
   "metadata": {},
   "source": [
    "*** \n",
    "|[![Outlook](https://img.shields.io/badge/Microsoft_Outlook-0078D4?style=plastic&logo=microsoft-outlook&logoColor=white)](mailto:calvar52@eafit.edu.co)||[![Open In Colab](https://colab.research.google.com/assets/colab-badge.svg)](https://colab.research.google.com/github/carlosalvarezh/EstructuraDatosAlgoritmos1/blob/main/CrashCoursePython/CrashCourse04_Pandas.ipynb)\n",
    "|-:|:-|--:|\n",
    "|[![LinkedIn](https://img.shields.io/badge/linkedin-%230077B5.svg?style=plastic&logo=linkedin&logoColor=white)](https://www.linkedin.com/in/carlosalvarez5/)|[![@alvarezhenao](https://img.shields.io/twitter/url/https/twitter.com/alvarezhenao.svg?style=social&label=Follow%20%40alvarezhenao)](https://twitter.com/alvarezhenao)|[![@carlosalvarezh](https://img.shields.io/badge/github-%23121011.svg?style=plastic&logo=github&logoColor=white)](https://github.com/carlosalvarezh)|\n",
    "\n",
    "<table>\n",
    " <tr align=left><td><img align=left src=\"https://github.com/carlosalvarezh/Curso_CEC_EAFIT/blob/main/images/CCLogoColorPop1.gif?raw=true\" width=\"25\">\n",
    " <td>Text provided under a Creative Commons Attribution license, CC-BY. All code is made available under the FSF-approved MIT license.(c) Carlos Alberto Alvarez Henao</td>\n",
    "</table>\n",
    "\n",
    "***"
   ]
  },
  {
   "cell_type": "markdown",
   "id": "45d01e81",
   "metadata": {},
   "source": [
    "# Introducción"
   ]
  },
  {
   "cell_type": "markdown",
   "id": "ab49dc93",
   "metadata": {},
   "source": [
    "En este *Crash Course de Pandas para Limpieza de Datos*, aprenderemos cómo llevar a cabo el proceso de limpieza de datos utilizando la biblioteca de `Python` llamada `Pandas`. Utilizaremos un conjunto de datos ficticio para ilustrar cada paso del proceso. Asegúrate de tener instaladas las bibliotecas `Pandas`, `NumPy` y `Matplotlib` antes de comenzar."
   ]
  },
  {
   "cell_type": "markdown",
   "id": "8221839e",
   "metadata": {},
   "source": [
    "# Importar las bibliotecas"
   ]
  },
  {
   "cell_type": "code",
   "execution_count": null,
   "id": "07641d1e",
   "metadata": {},
   "outputs": [],
   "source": [
    "import pandas as pd\n",
    "import numpy as np\n",
    "import matplotlib.pyplot as plt"
   ]
  },
  {
   "cell_type": "markdown",
   "id": "263922c7",
   "metadata": {},
   "source": [
    "# Cargar los datos"
   ]
  },
  {
   "cell_type": "code",
   "execution_count": null,
   "id": "ab3e6405",
   "metadata": {},
   "outputs": [],
   "source": [
    "# Cargar el dataset ficticio\n",
    "data = {\n",
    "    'id': [1, 2, 3, 4, 5, 6],\n",
    "    'nombre': ['Juan', 'María', 'Luis', 'Ana', 'Pedro','María'],\n",
    "    'apellido': ['Gomez', 'Perez', 'Botero', 'Zapata', 'Moreno','Henao'],\n",
    "    'edad': [25, 30, -5, 40, 22, 30],\n",
    "    'género': ['M', 'F', 'M', 'F', 'O', 'F'],\n",
    "    'Prueba01': [95, 89, 75, None, 60, 89],\n",
    "    'Prueba02': [80., 92, 89, 67, 90, 80],\n",
    "    'Prueba03': [75, 80, 90, 90, 80, 77]\n",
    "}"
   ]
  },
  {
   "cell_type": "code",
   "execution_count": null,
   "id": "85fd14f5",
   "metadata": {},
   "outputs": [],
   "source": [
    "df = pd.DataFrame(data)"
   ]
  },
  {
   "cell_type": "markdown",
   "id": "5c0f3a57",
   "metadata": {},
   "source": [
    "# Exploración inicial de los datos"
   ]
  },
  {
   "cell_type": "code",
   "execution_count": null,
   "id": "41f81251",
   "metadata": {},
   "outputs": [],
   "source": [
    "# Mostrar las primeras filas del DataFrame\n",
    "df.head(10)"
   ]
  },
  {
   "cell_type": "code",
   "execution_count": null,
   "id": "538b715a",
   "metadata": {
    "scrolled": true
   },
   "outputs": [],
   "source": [
    "# Mostrar las últimas filas del DataFrame\n",
    "df.tail()"
   ]
  },
  {
   "cell_type": "code",
   "execution_count": null,
   "id": "ee02bba7",
   "metadata": {},
   "outputs": [],
   "source": [
    "# Muestra la información general del DataFrame\n",
    "df.info()"
   ]
  },
  {
   "cell_type": "code",
   "execution_count": null,
   "id": "a4cf365a",
   "metadata": {},
   "outputs": [],
   "source": [
    "# Resumen estadístico de las columnas numéricas\n",
    "df.describe()"
   ]
  },
  {
   "cell_type": "code",
   "execution_count": null,
   "id": "0503d4c0",
   "metadata": {},
   "outputs": [],
   "source": [
    "# Conteo de valores en la columna 'género'\n",
    "df['género'].value_counts()"
   ]
  },
  {
   "cell_type": "code",
   "execution_count": null,
   "id": "593c99cb",
   "metadata": {},
   "outputs": [],
   "source": [
    "# Verificar si hay valores nulos en el DataFrame\n",
    "df.isnull().sum()"
   ]
  },
  {
   "cell_type": "markdown",
   "id": "225934a4",
   "metadata": {},
   "source": [
    "# Ordenación por columna"
   ]
  },
  {
   "cell_type": "code",
   "execution_count": null,
   "id": "20e8dcc1",
   "metadata": {
    "scrolled": true
   },
   "outputs": [],
   "source": [
    "# ordena por columna 'Prueba01' sin actualizar el df\n",
    "df.sort_values(['Prueba03'], ascending=False)"
   ]
  },
  {
   "cell_type": "code",
   "execution_count": null,
   "id": "671563de",
   "metadata": {},
   "outputs": [],
   "source": [
    "# verifica que el df no ha sido modificado\n",
    "df"
   ]
  },
  {
   "cell_type": "code",
   "execution_count": null,
   "id": "a24e74b0",
   "metadata": {},
   "outputs": [],
   "source": [
    "# ordena por columna 'nombre' y actualiza el df\n",
    "df = df.sort_values(['nombre'])"
   ]
  },
  {
   "cell_type": "code",
   "execution_count": null,
   "id": "cbf7acc1",
   "metadata": {
    "scrolled": true
   },
   "outputs": [],
   "source": [
    "# verifica que el df fue modificado\n",
    "df"
   ]
  },
  {
   "cell_type": "markdown",
   "id": "227bd641",
   "metadata": {},
   "source": [
    "# Adición de una columna"
   ]
  },
  {
   "cell_type": "code",
   "execution_count": null,
   "id": "4ed7520a",
   "metadata": {
    "scrolled": true
   },
   "outputs": [],
   "source": [
    "df['Profesion'] = ['Ingeniera', 'Ingeniero', 'Contador', 'Publicista', 'Publicista', 'Médico']\n",
    "df"
   ]
  },
  {
   "cell_type": "markdown",
   "id": "5e835b13",
   "metadata": {},
   "source": [
    "# Asignación mismo valor a toda una columna"
   ]
  },
  {
   "cell_type": "code",
   "execution_count": null,
   "id": "9ae8137a",
   "metadata": {
    "scrolled": true
   },
   "outputs": [],
   "source": [
    "df['deporte'] = 'Ninguno'\n",
    "df"
   ]
  },
  {
   "cell_type": "markdown",
   "id": "c308226c",
   "metadata": {},
   "source": [
    "# Eliminación de una columna"
   ]
  },
  {
   "cell_type": "code",
   "execution_count": null,
   "id": "3062a4b1",
   "metadata": {
    "scrolled": true
   },
   "outputs": [],
   "source": [
    "# axis = 1: Columna\n",
    "# axis = 0: fila\n",
    "df = df.drop(['deporte'], axis = 1)\n",
    "df"
   ]
  },
  {
   "cell_type": "markdown",
   "id": "89bcda6f",
   "metadata": {},
   "source": [
    "# Eliminación de múltiples columnas"
   ]
  },
  {
   "cell_type": "code",
   "execution_count": null,
   "id": "f7461f33",
   "metadata": {},
   "outputs": [],
   "source": [
    "# tener cuidado con este tipo de operaciones. \n",
    "# No se actualizará el df original para poderlo recuperar después\n",
    "df.drop(['nombre', 'Profesion'], axis = 1)"
   ]
  },
  {
   "cell_type": "code",
   "execution_count": null,
   "id": "9880ec92",
   "metadata": {},
   "outputs": [],
   "source": [
    "# el df original se preserva\n",
    "df"
   ]
  },
  {
   "cell_type": "markdown",
   "id": "ef2d8a13",
   "metadata": {},
   "source": [
    "# Adición de una fila nueva al final (fila)"
   ]
  },
  {
   "cell_type": "code",
   "execution_count": null,
   "id": "e6441c5c",
   "metadata": {},
   "outputs": [],
   "source": [
    "len_rows = len(df)\n",
    "len_rows"
   ]
  },
  {
   "cell_type": "code",
   "execution_count": null,
   "id": "7988bdd6",
   "metadata": {
    "scrolled": false
   },
   "outputs": [],
   "source": [
    "df.loc[len_rows] = [7, 'Elisa','Monsalve',38,'F',90.0, 89.0, 95,'Administradora']\n",
    "df"
   ]
  },
  {
   "cell_type": "markdown",
   "id": "9b5329e5",
   "metadata": {},
   "source": [
    "# Actualizar fila entera"
   ]
  },
  {
   "cell_type": "code",
   "execution_count": null,
   "id": "339e75ca",
   "metadata": {
    "scrolled": true
   },
   "outputs": [],
   "source": [
    "# se localiza por el índice de la fila\n",
    "df.loc[1] = [7, 'Elizabeth','Monsalve', 38, 'F', 90.0, 89.0, 95, 'Administradora']\n",
    "df"
   ]
  },
  {
   "cell_type": "code",
   "execution_count": null,
   "id": "4e3445e3",
   "metadata": {},
   "outputs": [],
   "source": [
    "df.loc[6]"
   ]
  },
  {
   "cell_type": "markdown",
   "id": "ac583d6c",
   "metadata": {},
   "source": [
    "# Actualizar una celda"
   ]
  },
  {
   "cell_type": "code",
   "execution_count": null,
   "id": "f9ba4372",
   "metadata": {
    "scrolled": true
   },
   "outputs": [],
   "source": [
    "df.at[5,'nombre'] = 'Mayra'\n",
    "df"
   ]
  },
  {
   "cell_type": "code",
   "execution_count": null,
   "id": "0563d0c1",
   "metadata": {},
   "outputs": [],
   "source": [
    "df.at[2,'edad'] = 5\n",
    "df['edad'] = pd.to_numeric(df['edad'])\n",
    "df"
   ]
  },
  {
   "cell_type": "code",
   "execution_count": null,
   "id": "e7d0eddc",
   "metadata": {},
   "outputs": [],
   "source": [
    "df.info()"
   ]
  },
  {
   "cell_type": "code",
   "execution_count": null,
   "id": "18a752b6",
   "metadata": {},
   "outputs": [],
   "source": [
    "df.describe()"
   ]
  },
  {
   "cell_type": "markdown",
   "id": "25bea335",
   "metadata": {},
   "source": [
    "# Eliminar una fila"
   ]
  },
  {
   "cell_type": "code",
   "execution_count": null,
   "id": "91b51d03",
   "metadata": {
    "scrolled": false
   },
   "outputs": [],
   "source": [
    "df.drop([5])"
   ]
  },
  {
   "cell_type": "code",
   "execution_count": null,
   "id": "dd371506",
   "metadata": {},
   "outputs": [],
   "source": [
    "df"
   ]
  },
  {
   "cell_type": "markdown",
   "id": "c107e884",
   "metadata": {},
   "source": [
    "# Eliminar múltiples filas"
   ]
  },
  {
   "cell_type": "code",
   "execution_count": null,
   "id": "43525c1c",
   "metadata": {},
   "outputs": [],
   "source": [
    "df_tmp = df.drop([2,4])\n",
    "df_tmp"
   ]
  },
  {
   "cell_type": "code",
   "execution_count": null,
   "id": "38c2a930",
   "metadata": {},
   "outputs": [],
   "source": [
    "df"
   ]
  },
  {
   "cell_type": "markdown",
   "id": "b3896e65",
   "metadata": {},
   "source": [
    "# Filtrar valores"
   ]
  },
  {
   "cell_type": "code",
   "execution_count": null,
   "id": "81af95d5",
   "metadata": {},
   "outputs": [],
   "source": [
    "df"
   ]
  },
  {
   "cell_type": "code",
   "execution_count": null,
   "id": "28d22900",
   "metadata": {
    "scrolled": true
   },
   "outputs": [],
   "source": [
    "# Puntaje mayor a 85\n",
    "mayor85 = df[df['Prueba01'] > 85]\n",
    "mayor85"
   ]
  },
  {
   "cell_type": "code",
   "execution_count": null,
   "id": "bbd4d019",
   "metadata": {},
   "outputs": [],
   "source": [
    "# puntaje mayor a 85 y sexo femenino\n",
    "doubleFilter = df[(df['Prueba02'] > 85) & (df['género'] == 'F')]\n",
    "doubleFilter"
   ]
  },
  {
   "cell_type": "markdown",
   "id": "f635759c",
   "metadata": {},
   "source": [
    "# Búsqueda por valor"
   ]
  },
  {
   "cell_type": "code",
   "execution_count": null,
   "id": "aa285c19",
   "metadata": {},
   "outputs": [],
   "source": [
    "# por un valor específico\n",
    "valor = df[df['nombre'] == 'Mayra']\n",
    "valor"
   ]
  },
  {
   "cell_type": "code",
   "execution_count": null,
   "id": "908212fc",
   "metadata": {},
   "outputs": [],
   "source": [
    "nameLong = df[df['nombre'].str.len() >= 5]\n",
    "nameLong"
   ]
  },
  {
   "cell_type": "markdown",
   "id": "cc4ac392",
   "metadata": {},
   "source": [
    "# Obtener el índice de una fila"
   ]
  },
  {
   "cell_type": "code",
   "execution_count": null,
   "id": "d47fb402",
   "metadata": {},
   "outputs": [],
   "source": [
    "df"
   ]
  },
  {
   "cell_type": "code",
   "execution_count": null,
   "id": "1de6ef0e",
   "metadata": {
    "scrolled": true
   },
   "outputs": [],
   "source": [
    "indexRow = df[df['nombre'] == 'Mayra']\n",
    "indexRow.index.tolist()[0]"
   ]
  },
  {
   "cell_type": "markdown",
   "id": "789be244",
   "metadata": {},
   "source": [
    "# Tratar con valores nulos"
   ]
  },
  {
   "cell_type": "code",
   "execution_count": null,
   "id": "597ca69a",
   "metadata": {},
   "outputs": [],
   "source": [
    "df"
   ]
  },
  {
   "cell_type": "code",
   "execution_count": null,
   "id": "dc0519f0",
   "metadata": {
    "scrolled": true
   },
   "outputs": [],
   "source": [
    "# Eliminar filas con valores nulos \n",
    "# (se guarda en un DF diferente para no perder información del DF original)\n",
    "df_cleaned = df.dropna()\n",
    "df_cleaned"
   ]
  },
  {
   "cell_type": "code",
   "execution_count": null,
   "id": "a8b45b56",
   "metadata": {},
   "outputs": [],
   "source": [
    "df"
   ]
  },
  {
   "cell_type": "code",
   "execution_count": null,
   "id": "eb3d6c4a",
   "metadata": {},
   "outputs": [],
   "source": [
    "# Rellenar valores nulos en la columna 'Prueba01' con el promedio\n",
    "mean_score = df['Prueba01'].mean()\n",
    "df['Prueba01'].fillna(mean_score, inplace=True)\n",
    "df"
   ]
  },
  {
   "cell_type": "markdown",
   "id": "db66cdca",
   "metadata": {},
   "source": [
    "# Tratar con valores incorrectos"
   ]
  },
  {
   "cell_type": "code",
   "execution_count": null,
   "id": "e7405b8c",
   "metadata": {},
   "outputs": [],
   "source": [
    "# Eliminar filas con edades negativas\n",
    "df_cleaned = df_cleaned[df_cleaned['edad'] >= 18]\n",
    "df_cleaned"
   ]
  },
  {
   "cell_type": "code",
   "execution_count": null,
   "id": "8bac60d9",
   "metadata": {},
   "outputs": [],
   "source": [
    "# Reemplazar géneros no válidos por 'Otro'\n",
    "df['género'] = df['género'].apply(lambda x: 'Otro' if x not in ['M', 'F'] else x)\n",
    "df"
   ]
  },
  {
   "cell_type": "markdown",
   "id": "84c7dcee",
   "metadata": {},
   "source": [
    "# Detección y manejo de duplicados"
   ]
  },
  {
   "cell_type": "code",
   "execution_count": null,
   "id": "c4c61c92",
   "metadata": {},
   "outputs": [],
   "source": [
    "# Verificar duplicados basados en todas las columnas\n",
    "duplicates = df.duplicated()\n",
    "duplicates"
   ]
  },
  {
   "cell_type": "code",
   "execution_count": null,
   "id": "69ecf4ef",
   "metadata": {},
   "outputs": [],
   "source": [
    "# Eliminar duplicados\n",
    "df_cleaned = df[~duplicates]\n",
    "df_cleaned"
   ]
  },
  {
   "cell_type": "markdown",
   "id": "f77bf4e2",
   "metadata": {},
   "source": [
    "# Corrección de tipos de datos"
   ]
  },
  {
   "cell_type": "code",
   "execution_count": null,
   "id": "c4e6aa34",
   "metadata": {},
   "outputs": [],
   "source": [
    "df_cleaned"
   ]
  },
  {
   "cell_type": "code",
   "execution_count": null,
   "id": "625aae04",
   "metadata": {},
   "outputs": [],
   "source": [
    "# Convertir la columna 'edad' a valores absolutos\n",
    "df_cleaned['edad'] = df_cleaned['edad'].apply(lambda x: abs(x))\n",
    "df_cleaned"
   ]
  },
  {
   "cell_type": "code",
   "execution_count": null,
   "id": "4d821e02",
   "metadata": {},
   "outputs": [],
   "source": [
    "df.info()"
   ]
  },
  {
   "cell_type": "code",
   "execution_count": null,
   "id": "2f67fe27",
   "metadata": {
    "scrolled": true
   },
   "outputs": [],
   "source": [
    "# Convertir la columna 'id' a tipo numérico\n",
    "df_cleaned['id'] = pd.to_numeric(df_cleaned['id'])\n",
    "df.info()"
   ]
  },
  {
   "cell_type": "markdown",
   "id": "7b0a4595",
   "metadata": {},
   "source": [
    "# Operaciones entre columnas"
   ]
  },
  {
   "cell_type": "code",
   "execution_count": null,
   "id": "0d8714f8",
   "metadata": {},
   "outputs": [],
   "source": [
    "df"
   ]
  },
  {
   "cell_type": "code",
   "execution_count": null,
   "id": "9c03bd50",
   "metadata": {},
   "outputs": [],
   "source": [
    "# adicionar nueva columna con el promedio de notas\n",
    "df['Promedio'] = (df['Prueba01'] + df['Prueba02'] + df['Prueba03']) / 3\n",
    "df.sort_values(['Promedio'])"
   ]
  },
  {
   "cell_type": "code",
   "execution_count": null,
   "id": "51a17e2d",
   "metadata": {
    "scrolled": true
   },
   "outputs": [],
   "source": [
    "# una forma más \"correcta\" de hacer la anterior operación sería:\n",
    "Pruebas = ['Prueba01', 'Prueba02', 'Prueba03']\n",
    "df['Promedio2'] = df[Pruebas].mean(axis=1) #axis = 1 --> columnas\n",
    "df"
   ]
  },
  {
   "cell_type": "markdown",
   "id": "715b483e",
   "metadata": {},
   "source": [
    "# Aplicación operación definida"
   ]
  },
  {
   "cell_type": "code",
   "execution_count": null,
   "id": "b9a6f080",
   "metadata": {},
   "outputs": [],
   "source": [
    "# función para seleccionar cierta cantidad de caracteres de un nombre para crear un código\n",
    "def crear_codigo(name):\n",
    "    name = name.upper() # paso a mayusculas\n",
    "    name = name[0:3]    # primeros 3 char\n",
    "    return name"
   ]
  },
  {
   "cell_type": "code",
   "execution_count": null,
   "id": "5a4fedcb",
   "metadata": {
    "scrolled": true
   },
   "outputs": [],
   "source": [
    "df['Codigo'] = df['Profesion'].apply(crear_codigo)\n",
    "df"
   ]
  },
  {
   "cell_type": "code",
   "execution_count": null,
   "id": "eb6f7ebf",
   "metadata": {
    "scrolled": true
   },
   "outputs": [],
   "source": [
    "# generación automática de usuarios de correos electrónicos\n",
    "# se le asigna un consecutivo según el índice que ocupe\n",
    "df['Correo'] = df['nombre'].str[:3].str.lower() + df['apellido'].str[:3].str.lower() + df.index.astype(str) + '@guachafasoft.com.co'\n",
    "df"
   ]
  },
  {
   "cell_type": "code",
   "execution_count": null,
   "id": "33b6096d",
   "metadata": {
    "scrolled": true
   },
   "outputs": [],
   "source": [
    "#un código más complejo, cuando hay usuarios repetidos:\n",
    "\n",
    "from unidecode import unidecode  # Importa la función unidecode\n",
    "\n",
    "# Función para quitar caracteres especiales y acentos\n",
    "def remove_special_characters(text):\n",
    "    return unidecode(text)\n",
    "\n",
    "# Función para generar correos electrónicos únicos\n",
    "def generate_unique_email(row):\n",
    "    username = row['Correo2']\n",
    "    if username in username_counts:\n",
    "        if username not in username_number:\n",
    "            username_number[username] = 1\n",
    "        else:\n",
    "            username_number[username] += 1\n",
    "        return username + str(username_number[username]) + '@guachafasoft.com.co'\n",
    "    else:\n",
    "        return username + '1@guachafasoft.com.co'\n",
    "\n",
    "# Aplicar la función para eliminar caracteres especiales a las columnas 'Nombre' y 'Apellido'\n",
    "df['nombre'] = df['nombre'].apply(remove_special_characters)\n",
    "df['apellido'] = df['apellido'].apply(remove_special_characters)\n",
    "\n",
    "# Crear una nueva columna 'Correo' con las direcciones de correo electrónico\n",
    "df['Correo2'] = df['nombre'].str[:3].str.lower() + df['apellido'].str[:3].str.lower()\n",
    "\n",
    "# Contar la frecuencia de cada nombre de usuario\n",
    "username_counts = df['Correo2'].value_counts().to_dict()\n",
    "username_number = {}\n",
    "\n",
    "df['Correo2'] = df.apply(generate_unique_email, axis=1)\n",
    "\n",
    "# Mostrar el DataFrame resultante\n",
    "df\n"
   ]
  },
  {
   "cell_type": "markdown",
   "id": "aec2e805",
   "metadata": {},
   "source": [
    "# Aplicar una función a cada fila"
   ]
  },
  {
   "cell_type": "code",
   "execution_count": null,
   "id": "5973b651",
   "metadata": {
    "scrolled": true
   },
   "outputs": [],
   "source": [
    "def categoria(fila):\n",
    "    promedio = fila['Promedio']\n",
    "    if promedio >= 90.0:\n",
    "        return 'Alto'\n",
    "    elif (promedio >= 80.0) & (promedio < 90.0):\n",
    "        return 'Medio'\n",
    "    else:\n",
    "        return 'Bajo'\n",
    "\n",
    "df['Categoria'] = df.apply(categoria, axis=1)\n",
    "df"
   ]
  },
  {
   "cell_type": "markdown",
   "id": "8350384f",
   "metadata": {},
   "source": [
    "# Aplicación columnas con parámetros"
   ]
  },
  {
   "cell_type": "code",
   "execution_count": null,
   "id": "a605e5fd",
   "metadata": {},
   "outputs": [],
   "source": [
    "def asigna_color(Categoria):\n",
    "    if Categoria == 'Alto':\n",
    "        return 'verde'\n",
    "    elif Categoria == 'Medio':\n",
    "        return 'amarillo'\n",
    "    else:\n",
    "        return 'rojo'   \n",
    "\n",
    "df['color'] = df.apply(lambda x: asigna_color(x['Categoria']), axis=1);\n",
    "df"
   ]
  },
  {
   "cell_type": "markdown",
   "id": "9de1fed6",
   "metadata": {},
   "source": [
    "# Mapeo"
   ]
  },
  {
   "cell_type": "code",
   "execution_count": null,
   "id": "6a5f341c",
   "metadata": {
    "scrolled": true
   },
   "outputs": [],
   "source": [
    "df['mapeo_color'] = df['color'].map( {'verde': 2, 'amarillo': 1, 'rojo': 0} ).astype(int)\n",
    "df"
   ]
  },
  {
   "cell_type": "markdown",
   "id": "875c1b08",
   "metadata": {},
   "source": [
    "# Join entre tablas"
   ]
  },
  {
   "cell_type": "code",
   "execution_count": null,
   "id": "d851bf1d",
   "metadata": {
    "scrolled": true
   },
   "outputs": [],
   "source": [
    "# se crea otro df con el 'id' como identificador común entre ambos\n",
    "df_hobbies = pd.DataFrame(data={\"pasatiempo\":['Leer', 'Música', 'Futbol', 'Música','Música', 'Leer', 'Fútbol']},\n",
    "                         index = [1,2,3,4,5,6,7])\n",
    "df_hobbies"
   ]
  },
  {
   "cell_type": "code",
   "execution_count": null,
   "id": "9f1f29de",
   "metadata": {},
   "outputs": [],
   "source": [
    "df"
   ]
  },
  {
   "cell_type": "code",
   "execution_count": null,
   "id": "64196190",
   "metadata": {},
   "outputs": [],
   "source": [
    "# se asigna la columna 'id' del df original como índice\n",
    "df_index = df.set_index('id')\n",
    "df_index"
   ]
  },
  {
   "cell_type": "code",
   "execution_count": null,
   "id": "abc04e65",
   "metadata": {},
   "outputs": [],
   "source": [
    "# se hace el join entre los dos DF mediante el índice 'id'\n",
    "df_join = pd.concat([df_index, df_hobbies], axis = 1, sort = True)"
   ]
  },
  {
   "cell_type": "code",
   "execution_count": null,
   "id": "cfbe387f",
   "metadata": {},
   "outputs": [],
   "source": [
    "df_join"
   ]
  },
  {
   "cell_type": "markdown",
   "id": "29b7dc9b",
   "metadata": {},
   "source": [
    "# Agrupación"
   ]
  },
  {
   "cell_type": "code",
   "execution_count": null,
   "id": "46ac3f7f",
   "metadata": {},
   "outputs": [],
   "source": [
    "# agrupar por 'categoría' y sacar cantidades de cada elemento dentro de ella\n",
    "agrupar = df_join.groupby(['pasatiempo']).size()\n",
    "agrupar"
   ]
  },
  {
   "cell_type": "code",
   "execution_count": null,
   "id": "b8dffee2",
   "metadata": {},
   "outputs": [],
   "source": [
    "# agrupar por 'categoría' y sumar\n",
    "agruparSuma = df.groupby(['Categoria']).sum()\n",
    "agruparSuma"
   ]
  },
  {
   "cell_type": "markdown",
   "id": "993962e5",
   "metadata": {},
   "source": [
    "# Cálculo de estadísticos"
   ]
  },
  {
   "cell_type": "code",
   "execution_count": null,
   "id": "d26137cb",
   "metadata": {},
   "outputs": [],
   "source": [
    "datos = np.random.randn(5,4) # datos normalmente distribuidos\n",
    "datos"
   ]
  },
  {
   "cell_type": "code",
   "execution_count": null,
   "id": "bb3b8bf5",
   "metadata": {
    "scrolled": true
   },
   "outputs": [],
   "source": [
    "df = pd.DataFrame(datos, index=['Almacén1', 'Almacén2', 'Almacén3', 'Almacén4', 'Almacén5'], \n",
    "                        columns=['Prod1', 'Prod2', 'Prod3', 'Prod4'])\n",
    "df"
   ]
  },
  {
   "cell_type": "code",
   "execution_count": null,
   "id": "419d8798",
   "metadata": {},
   "outputs": [],
   "source": [
    "df.describe() # resumen estadistadistico con pandas"
   ]
  },
  {
   "cell_type": "code",
   "execution_count": null,
   "id": "392e59f6",
   "metadata": {
    "scrolled": true
   },
   "outputs": [],
   "source": [
    "df.count()"
   ]
  },
  {
   "cell_type": "code",
   "execution_count": null,
   "id": "04d39a0b",
   "metadata": {},
   "outputs": [],
   "source": [
    "df.sum() # sumando las columnas"
   ]
  },
  {
   "cell_type": "code",
   "execution_count": null,
   "id": "de5152d0",
   "metadata": {},
   "outputs": [],
   "source": [
    "df.sum(axis=1) # sumando filas"
   ]
  },
  {
   "cell_type": "code",
   "execution_count": null,
   "id": "0ee07e94",
   "metadata": {},
   "outputs": [],
   "source": [
    "df['Prod1'].sum() #suma de una columna en particula"
   ]
  },
  {
   "cell_type": "code",
   "execution_count": null,
   "id": "09541265",
   "metadata": {},
   "outputs": [],
   "source": [
    "df.cumsum() # acumulados"
   ]
  },
  {
   "cell_type": "code",
   "execution_count": null,
   "id": "33bfeaad",
   "metadata": {},
   "outputs": [],
   "source": [
    "df.mean() # media aritmetica de cada columna "
   ]
  },
  {
   "cell_type": "code",
   "execution_count": null,
   "id": "33e3327c",
   "metadata": {},
   "outputs": [],
   "source": [
    "df.mean(axis=1) # media aritmetica de cada fila "
   ]
  },
  {
   "cell_type": "code",
   "execution_count": null,
   "id": "53a4205d",
   "metadata": {},
   "outputs": [],
   "source": [
    "df['Prod1'].mean() # media aritmetica de una columna en particular"
   ]
  },
  {
   "cell_type": "code",
   "execution_count": null,
   "id": "97221ad5",
   "metadata": {
    "scrolled": true
   },
   "outputs": [],
   "source": [
    "df.std() # Desviación Estándar de cada columna del dataframe"
   ]
  },
  {
   "cell_type": "code",
   "execution_count": null,
   "id": "90a416d6",
   "metadata": {},
   "outputs": [],
   "source": [
    "df['Prod1'].std() # Desviación estándar de una columna en particular"
   ]
  },
  {
   "cell_type": "code",
   "execution_count": null,
   "id": "985ba579",
   "metadata": {},
   "outputs": [],
   "source": [
    "df.min()"
   ]
  },
  {
   "cell_type": "code",
   "execution_count": null,
   "id": "ebeb3392",
   "metadata": {},
   "outputs": [],
   "source": [
    "df.quantile(q=0.25)"
   ]
  },
  {
   "cell_type": "code",
   "execution_count": null,
   "id": "f5b8bfab",
   "metadata": {},
   "outputs": [],
   "source": [
    "df.quantile(q=0.50) #cuantil 50 = mediana"
   ]
  },
  {
   "cell_type": "code",
   "execution_count": null,
   "id": "4200591f",
   "metadata": {},
   "outputs": [],
   "source": [
    "df.quantile(q=0.75)"
   ]
  },
  {
   "cell_type": "code",
   "execution_count": null,
   "id": "9df0ad80",
   "metadata": {},
   "outputs": [],
   "source": [
    "df.max()"
   ]
  },
  {
   "cell_type": "markdown",
   "id": "a11f48e6",
   "metadata": {},
   "source": [
    "# Análisis exploratorio"
   ]
  },
  {
   "cell_type": "code",
   "execution_count": null,
   "id": "0f7a0529",
   "metadata": {},
   "outputs": [],
   "source": [
    "# Histograma de edades\n",
    "plt.hist(df_join['edad'], bins=10, edgecolor='black')\n",
    "plt.xlabel('Edad')\n",
    "plt.ylabel('Frecuencia')\n",
    "plt.title('Distribución de Edades')\n",
    "plt.show()"
   ]
  },
  {
   "cell_type": "code",
   "execution_count": null,
   "id": "f72b8edc",
   "metadata": {},
   "outputs": [],
   "source": [
    "# Diagrama de dispersión entre edades y promedio\n",
    "plt.scatter(df_join['edad'], df_join['Promedio2'])\n",
    "plt.xlabel('Edad')\n",
    "plt.ylabel('Promedio')\n",
    "plt.title('Relación entre Edad y Promedio')\n",
    "plt.show()"
   ]
  },
  {
   "cell_type": "markdown",
   "id": "b514f15f",
   "metadata": {},
   "source": [
    "# Guardar los datos limpios"
   ]
  },
  {
   "cell_type": "code",
   "execution_count": null,
   "id": "13235aeb",
   "metadata": {},
   "outputs": [],
   "source": [
    "df_cleaned.to_csv('Data/datos_limpios100.csv', index=True)"
   ]
  },
  {
   "cell_type": "markdown",
   "id": "ff1de570",
   "metadata": {},
   "source": [
    "# Resumen de paquetes Pandas"
   ]
  },
  {
   "cell_type": "markdown",
   "id": "345322f2",
   "metadata": {},
   "source": [
    "***Importación de datos***"
   ]
  },
  {
   "cell_type": "code",
   "execution_count": null,
   "id": "fc39d1db",
   "metadata": {},
   "outputs": [],
   "source": [
    "pd.read.csv()"
   ]
  },
  {
   "cell_type": "code",
   "execution_count": null,
   "id": "217fc52e",
   "metadata": {},
   "outputs": [],
   "source": [
    "pd.read_table()"
   ]
  },
  {
   "cell_type": "code",
   "execution_count": null,
   "id": "295b7a1a",
   "metadata": {},
   "outputs": [],
   "source": [
    "pd.read_excel()"
   ]
  },
  {
   "cell_type": "code",
   "execution_count": null,
   "id": "956661b2",
   "metadata": {},
   "outputs": [],
   "source": [
    "pd.read_sql()"
   ]
  },
  {
   "cell_type": "code",
   "execution_count": null,
   "id": "f1a643a0",
   "metadata": {},
   "outputs": [],
   "source": [
    "pd.read_json()"
   ]
  },
  {
   "cell_type": "code",
   "execution_count": null,
   "id": "1e7a5de9",
   "metadata": {},
   "outputs": [],
   "source": [
    "pd.read_html()"
   ]
  },
  {
   "cell_type": "code",
   "execution_count": null,
   "id": "24fd5c6a",
   "metadata": {},
   "outputs": [],
   "source": [
    "pd.DataFrame()"
   ]
  },
  {
   "cell_type": "code",
   "execution_count": null,
   "id": "d1e570c4",
   "metadata": {},
   "outputs": [],
   "source": [
    "pd.concat()"
   ]
  },
  {
   "cell_type": "code",
   "execution_count": null,
   "id": "1076b9e5",
   "metadata": {},
   "outputs": [],
   "source": [
    "pd.Series()"
   ]
  },
  {
   "cell_type": "code",
   "execution_count": null,
   "id": "1319f362",
   "metadata": {},
   "outputs": [],
   "source": [
    "pd.date_range()"
   ]
  },
  {
   "cell_type": "markdown",
   "id": "2178f570",
   "metadata": {},
   "source": [
    "***Limpieza de datos***"
   ]
  },
  {
   "cell_type": "code",
   "execution_count": null,
   "id": "9f3a292e",
   "metadata": {},
   "outputs": [],
   "source": [
    "pd.fillna()"
   ]
  },
  {
   "cell_type": "code",
   "execution_count": null,
   "id": "b92d0a35",
   "metadata": {},
   "outputs": [],
   "source": [
    "pd.dropna()"
   ]
  },
  {
   "cell_type": "code",
   "execution_count": null,
   "id": "be151a29",
   "metadata": {},
   "outputs": [],
   "source": [
    "pd.sort_values()"
   ]
  },
  {
   "cell_type": "code",
   "execution_count": null,
   "id": "fa7282b4",
   "metadata": {},
   "outputs": [],
   "source": [
    "pd.apply()"
   ]
  },
  {
   "cell_type": "code",
   "execution_count": null,
   "id": "1fe1f15f",
   "metadata": {},
   "outputs": [],
   "source": [
    "pd.groupby()"
   ]
  },
  {
   "cell_type": "code",
   "execution_count": null,
   "id": "53168ecd",
   "metadata": {},
   "outputs": [],
   "source": [
    "pd.append()"
   ]
  },
  {
   "cell_type": "code",
   "execution_count": null,
   "id": "9f2d09f7",
   "metadata": {},
   "outputs": [],
   "source": [
    "pd.join()"
   ]
  },
  {
   "cell_type": "code",
   "execution_count": null,
   "id": "21ffa0dd",
   "metadata": {},
   "outputs": [],
   "source": [
    "pd.rename()"
   ]
  },
  {
   "cell_type": "code",
   "execution_count": null,
   "id": "fa0902b8",
   "metadata": {},
   "outputs": [],
   "source": [
    "pd.to_csv()"
   ]
  },
  {
   "cell_type": "code",
   "execution_count": null,
   "id": "7f65759f",
   "metadata": {},
   "outputs": [],
   "source": [
    "pd.set_index()"
   ]
  },
  {
   "cell_type": "markdown",
   "id": "77ee4bd5",
   "metadata": {},
   "source": [
    "***Estadística***"
   ]
  },
  {
   "cell_type": "code",
   "execution_count": null,
   "id": "a26f931e",
   "metadata": {},
   "outputs": [],
   "source": [
    "pd.head()"
   ]
  },
  {
   "cell_type": "code",
   "execution_count": null,
   "id": "153458f9",
   "metadata": {},
   "outputs": [],
   "source": [
    "pd.tail()"
   ]
  },
  {
   "cell_type": "code",
   "execution_count": null,
   "id": "b1534d0e",
   "metadata": {},
   "outputs": [],
   "source": [
    "pd.describe()"
   ]
  },
  {
   "cell_type": "code",
   "execution_count": null,
   "id": "8ff54439",
   "metadata": {},
   "outputs": [],
   "source": [
    "pd.info()"
   ]
  },
  {
   "cell_type": "code",
   "execution_count": null,
   "id": "6a8aee9a",
   "metadata": {},
   "outputs": [],
   "source": [
    "pd.mean()"
   ]
  },
  {
   "cell_type": "code",
   "execution_count": null,
   "id": "59b16b84",
   "metadata": {},
   "outputs": [],
   "source": [
    "pd.median()"
   ]
  },
  {
   "cell_type": "code",
   "execution_count": null,
   "id": "3bccb33b",
   "metadata": {},
   "outputs": [],
   "source": [
    "pd.count()"
   ]
  },
  {
   "cell_type": "code",
   "execution_count": null,
   "id": "54d29f6d",
   "metadata": {},
   "outputs": [],
   "source": [
    "pd.std()"
   ]
  },
  {
   "cell_type": "code",
   "execution_count": null,
   "id": "8f861699",
   "metadata": {},
   "outputs": [],
   "source": [
    "pd.max()"
   ]
  },
  {
   "cell_type": "code",
   "execution_count": null,
   "id": "0507dcce",
   "metadata": {},
   "outputs": [],
   "source": []
  }
 ],
 "metadata": {
  "kernelspec": {
   "display_name": "Python 3 (ipykernel)",
   "language": "python",
   "name": "python3"
  },
  "language_info": {
   "codemirror_mode": {
    "name": "ipython",
    "version": 3
   },
   "file_extension": ".py",
   "mimetype": "text/x-python",
   "name": "python",
   "nbconvert_exporter": "python",
   "pygments_lexer": "ipython3",
   "version": "3.11.3"
  },
  "toc": {
   "base_numbering": 1,
   "nav_menu": {},
   "number_sections": true,
   "sideBar": true,
   "skip_h1_title": true,
   "title_cell": "Table of Contents",
   "title_sidebar": "Contents",
   "toc_cell": false,
   "toc_position": {
    "height": "calc(100% - 180px)",
    "left": "10px",
    "top": "150px",
    "width": "165px"
   },
   "toc_section_display": true,
   "toc_window_display": false
  }
 },
 "nbformat": 4,
 "nbformat_minor": 5
}
