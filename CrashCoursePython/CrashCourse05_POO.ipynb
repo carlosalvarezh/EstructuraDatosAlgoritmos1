{
 "cells": [
  {
   "cell_type": "markdown",
   "id": "f10642b4",
   "metadata": {},
   "source": [
    "<h1 align=\"center\">Crash Course: POO Python</h1>\n",
    "<h1 align=\"center\">2024</h1>\n",
    "<h1 align=\"center\">MEDELLÍN - COLOMBIA </h1>"
   ]
  },
  {
   "cell_type": "markdown",
   "id": "81047c92",
   "metadata": {},
   "source": [
    "*** \n",
    "|[![Outlook](https://img.shields.io/badge/Microsoft_Outlook-0078D4?style=plastic&logo=microsoft-outlook&logoColor=white)](mailto:calvar52@eafit.edu.co)||[![Open In Colab](https://colab.research.google.com/assets/colab-badge.svg)](https://colab.research.google.com/github/carlosalvarezh/EstructuraDatosAlgoritmos1/blob/main/CrashCoursePython/CrashCourse05_POO.ipynb)\n",
    "|-:|:-|--:|\n",
    "|[![LinkedIn](https://img.shields.io/badge/linkedin-%230077B5.svg?style=plastic&logo=linkedin&logoColor=white)](https://www.linkedin.com/in/carlosalvarez5/)|[![@alvarezhenao](https://img.shields.io/twitter/url/https/twitter.com/alvarezhenao.svg?style=social&label=Follow%20%40alvarezhenao)](https://twitter.com/alvarezhenao)|[![@carlosalvarezh](https://img.shields.io/badge/github-%23121011.svg?style=plastic&logo=github&logoColor=white)](https://github.com/carlosalvarezh)|\n",
    "\n",
    "<table>\n",
    " <tr align=left><td><img align=left src=\"https://github.com/carlosalvarezh/Curso_CEC_EAFIT/blob/main/images/CCLogoColorPop1.gif?raw=true\" width=\"25\">\n",
    " <td>Text provided under a Creative Commons Attribution license, CC-BY. All code is made available under the FSF-approved MIT license.(c) Carlos Alberto Alvarez Henao</td>\n",
    "</table>\n",
    "\n",
    "***"
   ]
  },
  {
   "cell_type": "markdown",
   "id": "b8f23e6a",
   "metadata": {},
   "source": [
    "# Conceptos Básicos de Programación Orientada a Objetos (POO)"
   ]
  },
  {
   "cell_type": "markdown",
   "id": "d1f04b01",
   "metadata": {},
   "source": [
    "El paradigma de la Programación Orientada a Objetos (POO) es una piedra angular en el mundo de la programación moderna, y Python proporciona una manera muy intuitiva y flexible de implementar este paradigma. A lo largo de este CrashCourse (curso rápido), exploraremos los conceptos clave de la POO, como clases, objetos, atributos, métodos, herencia y encapsulamiento, todo dentro del contexto del lenguaje Python.\n",
    "\n",
    "El siguiente documento pretende mostrar a los interesados en cómo abordar el desarrollo de un código en python empleando el paradigma POO sin plantear una inmersión profunda en todos los aspectos de la POO. "
   ]
  },
  {
   "cell_type": "markdown",
   "id": "4d7f64ff",
   "metadata": {},
   "source": [
    "## Definición de POO y sus ventajas"
   ]
  },
  {
   "cell_type": "markdown",
   "id": "700457e5",
   "metadata": {},
   "source": [
    "La [Programación Orientada a Objetos (POO)](https://en.wikipedia.org/wiki/Object-oriented_programming) es un paradigma de programación que utiliza \"objetos\" para diseñar aplicaciones y programas informáticos. Se basa en varios conceptos clave, incluidos los objetos, las clases, la herencia, el polimorfismo, la abstracción y el encapsulamiento.\n",
    "\n",
    "En la POO, los programas se ven como una colección de objetos que interactúan entre sí. Cada objeto es capaz de recibir mensajes, procesar datos y enviar mensajes a otros objetos. Cada uno de estos objetos puede ser visto como una pequeña \"máquina\" independiente con un rol o responsabilidad específica.\n",
    "\n",
    "Ventajas de la POO\n",
    "\n",
    "- ***Mejora la Modularidad:*** Cada objeto es una entidad independiente con responsabilidades específicas. Esto promueve un diseño de software más modular y un enfoque de \"divide y vencerás\".\n",
    "<p>&nbsp;</p>\n",
    "\n",
    "- ***Facilita el Mantenimiento y la Escalabilidad:*** Al tener un código bien estructurado y encapsulado, es más fácil de mantener y actualizar.\n",
    "<p>&nbsp;</p>\n",
    "\n",
    "- ***Reutilización de Código:*** A través de la herencia, se pueden crear nuevas clases basadas en clases existentes, reutilizando y extendiendo su comportamiento.\n",
    "<p>&nbsp;</p>\n",
    "\n",
    "- ***Flexibilidad a través del Polimorfismo:*** Los objetos de diferentes clases pueden ser tratados como objetos de una misma clase, lo que simplifica la programación y mejora la flexibilidad.\n",
    "<p>&nbsp;</p>\n",
    "\n",
    "- ***Abstracción:*** Permite enfocarse en lo que hace un objeto y no en cómo lo hace, escondiendo los detalles de implementación."
   ]
  },
  {
   "cell_type": "markdown",
   "id": "49925125",
   "metadata": {},
   "source": [
    "## Clases y Objetos: Conceptos y Diferencias"
   ]
  },
  {
   "cell_type": "markdown",
   "id": "4d4abb0a",
   "metadata": {},
   "source": [
    "### Clase"
   ]
  },
  {
   "cell_type": "markdown",
   "id": "c453289d",
   "metadata": {},
   "source": [
    "Una *clase* en *POO* es un modelo o plantilla que define las propiedades y comportamientos comunes de un conjunto de objetos. Es como un plano que especifica qué *atributos* (características) y *métodos* (acciones) tendrán los objetos creados a partir de esta *clase*."
   ]
  },
  {
   "cell_type": "markdown",
   "id": "105baefb",
   "metadata": {},
   "source": [
    "#### Características de una Clase"
   ]
  },
  {
   "cell_type": "markdown",
   "id": "4926bc19",
   "metadata": {},
   "source": [
    "- ***Atributos:*** Son las variables definidas dentro de una clase. Representan las propiedades o características que los objetos de la clase tendrán. *Ej.* En una clase 'Automovil', atributos comunes podrían incluir 'marca', 'modelo', y 'año'.\n",
    "<p>&nbsp;</p>\n",
    "\n",
    "- ***Métodos:*** Son funciones asociadas a una clase. Definen el comportamiento o las acciones que los objetos de la clase pueden realizar. *Ej.* En la clase 'Automovil', un método podría ser `arrancar()`, que cambia el estado del automóvil a \"en marcha\".\n",
    "<p>&nbsp;</p>\n",
    "\n",
    "- ***Constructor:*** Es un método especial dentro de una clase que se llama cuando se crea un nuevo objeto de esa clase. Sirve para inicializar los atributos del objeto. En *Python*, el constructor se define como `__init__(self)`.\n",
    "<p>&nbsp;</p>\n",
    "\n",
    "- ***Encapsulamiento:*** Las clases pueden ocultar datos internos y proteger el estado de los objetos, permitiendo el acceso a ellos solo a través de métodos definidos (principio de encapsulamiento).\n",
    "\n",
    "A continuación se presenta un breve ejemplo de cómo crear una clase en *Python*:"
   ]
  },
  {
   "cell_type": "code",
   "execution_count": null,
   "id": "7129c96b",
   "metadata": {},
   "outputs": [],
   "source": [
    "class Automovil:\n",
    "    def __init__(self, marca, modelo, año):\n",
    "        self.marca = marca\n",
    "        self.modelo = modelo\n",
    "        self.año = año\n",
    "\n",
    "    def arrancar(self):\n",
    "        print(f\"El {self.modelo} está arrancando.\")\n",
    "\n",
    "    def informacion(self):\n",
    "        return f\"Automóvil {self.marca} {self.modelo}, Año: {self.año}\""
   ]
  },
  {
   "cell_type": "markdown",
   "id": "f92be03d",
   "metadata": {},
   "source": [
    "#### Estructura Básica de una Clase en Python"
   ]
  },
  {
   "cell_type": "markdown",
   "id": "8af0e20c",
   "metadata": {},
   "source": [
    "Para definir o construir una clase en Python, se deben considerar varios elementos esenciales. A continuación, se describirá el proceso y los componentes clave:\n",
    "\n",
    "- ***Nombre de la Clase:*** Se utiliza la palabra clave class seguida del nombre de la clase. Por convención, los nombres de las clases en Python comienzan con una letra mayúscula (CamelCase). \n",
    "<p>&nbsp;</p>\n",
    "\n",
    "- ***Constructor (`__init__`):*** Es un método especial que se llama automáticamente cuando se crea un nuevo objeto de la clase. Se utiliza para inicializar los atributos del objeto. El primer parámetro de este método es siempre `self`, que es una referencia al objeto que se está creando.\n",
    "<p>&nbsp;</p>\n",
    "\n",
    "- ***Atributos:*** Representan las propiedades o características del objeto. Son variables asociadas a la clase. Se definen dentro del constructor usando `self.atributo`.\n",
    "<p>&nbsp;</p>\n",
    "\n",
    "- ***Métodos:*** Son funciones definidas dentro de una clase que describen los comportamientos del objeto. El primer parámetro de un método es siempre `self`, que representa la instancia de la clase.\n",
    "<p>&nbsp;</p>\n",
    "\n",
    "- ***Métodos Especiales:*** Además del constructor `__init__`, hay otros métodos especiales (a veces llamados \"métodos mágicos\") como `__str__`, `__repr__`, etc.\n",
    "\n",
    "Estos métodos proporcionan funcionalidades especiales o alteran comportamientos predeterminados.\n",
    "\n",
    "En el ejemplo presentado, los elementos de la clase son:\n",
    "\n",
    "- ***Nombre de la Clase:*** `Automovil`\n",
    "- ***Constructor:*** `__init__(self, marca, modelo, año)`\n",
    "- ***Atributos:*** marca, modelo, año\n",
    "- ***Métodos:*** `arrancar(self)` e `informacion(self)`"
   ]
  },
  {
   "cell_type": "markdown",
   "id": "b7f0c3ff",
   "metadata": {},
   "source": [
    "#### Consideraciones Adicionales"
   ]
  },
  {
   "cell_type": "markdown",
   "id": "3885fa25",
   "metadata": {},
   "source": [
    "- ***Encapsulamiento:*** *Python* no tiene modificadores de acceso (como private, public en otros lenguajes), pero se pueden usar convenciones, como un guion bajo (`_`) al principio del nombre para indicar que un atributo o método es privado.\n",
    "<p>&nbsp;</p>\n",
    "\n",
    "- ***Herencia:*** Se pueden definir clases que heredan de otras clases, lo que permite reutilizar código.\n",
    "<p>&nbsp;</p>\n",
    "\n",
    "- ***Polimorfismo:*** *Python* permite que los métodos se comporten de manera diferente en diferentes clases, lo que es útil para el polimorfismo.\n",
    "<p>&nbsp;</p>\n",
    "\n",
    "- ***Abstracción:*** Aunque *Python* no tiene soporte para clases abstractas de forma nativa, el módulo [`abc`](https://docs.python.org/3/library/abc.html) permite definirlas.\n",
    "\n",
    "Definir clases en Python es un proceso directo, pero requiere una comprensión clara de cómo los atributos y métodos trabajan juntos para dar vida a los objetos."
   ]
  },
  {
   "cell_type": "markdown",
   "id": "a0a6d3c0",
   "metadata": {},
   "source": [
    "### Objeto"
   ]
  },
  {
   "cell_type": "markdown",
   "id": "b4b2cdb1",
   "metadata": {},
   "source": [
    "Un objeto es una instancia de una clase. Cuando se crea un objeto, se está creando una entidad concreta basada en el modelo definido por la clase. El objeto contiene estados reales (valores de atributos) y comportamientos (métodos) definidos en su clase."
   ]
  },
  {
   "cell_type": "markdown",
   "id": "0b2587b0",
   "metadata": {},
   "source": [
    "#### Características de un Objeto"
   ]
  },
  {
   "cell_type": "markdown",
   "id": "89d3cc73",
   "metadata": {},
   "source": [
    "- ***Instancia de una Clase:*** Un objeto es una realización específica de una clase. Cada objeto tiene su propio conjunto de atributos y métodos definidos en la clase.\n",
    "<p>&nbsp;</p>\n",
    "\n",
    "- ***Estado:*** El estado de un objeto está definido por los valores de sus atributos en un momento dado.\n",
    "<p>&nbsp;</p>\n",
    "\n",
    "- ***Comportamiento:*** El comportamiento de un objeto está determinado por los métodos que puede ejecutar, los cuales están definidos en su clase.\n",
    "\n",
    "Ejemplo de Objeto en Python"
   ]
  },
  {
   "cell_type": "code",
   "execution_count": null,
   "id": "1567579d",
   "metadata": {},
   "outputs": [],
   "source": [
    "# Creación de un objeto de la clase Automovil\n",
    "mi_auto = Automovil(\"Toyota\", \"Corolla\", 2020)\n",
    "mi_auto.arrancar()"
   ]
  },
  {
   "cell_type": "markdown",
   "id": "edc251d2",
   "metadata": {},
   "source": [
    "### Relación entre Clase y Objeto"
   ]
  },
  {
   "cell_type": "markdown",
   "id": "ecf360c5",
   "metadata": {},
   "source": [
    "La relación entre clase y objeto es fundamental en *POO*. La *clase* proporciona la estructura y la definición, mientras que el *objeto* es la manifestación de esa definición. Las *clases* pueden verse como planos, y los *objetos* como las casas construidas a partir de esos planos. Cada *objeto* es independiente, con su propio estado, pero todos comparten las características y comportamientos definidos por su *clase*.\n",
    "\n",
    "Entender esta distinción es crucial para la programación orientada a objetos, ya que permite a los desarrolladores organizar y estructurar su código de manera eficiente, reutilizar código y crear sistemas más escalables y mantenibles."
   ]
  },
  {
   "cell_type": "markdown",
   "id": "96b93ec8",
   "metadata": {},
   "source": [
    "##  Primeros Pasos en Python con POO"
   ]
  },
  {
   "cell_type": "markdown",
   "id": "17f14a45",
   "metadata": {},
   "source": [
    "Para desarrollar el tema de *Python con POO*, enfocado en el curso Estructura de Datos y Algoritmos, se planteará un ejemplo sencillo pero ampliable que puede usarse como base para temas más avanzados en el curso. Se creará una clase para representar una estructura de datos básica, como una lista enlazada, y luego se mostrará cómo se instancia y se utilizan sus atributos y métodos."
   ]
  },
  {
   "cell_type": "markdown",
   "id": "2b399d70",
   "metadata": {},
   "source": [
    "### Creación de una Clase Simple en Python"
   ]
  },
  {
   "cell_type": "markdown",
   "id": "3bdde9bd",
   "metadata": {},
   "source": [
    "La creación de una *clase* en *Python* implica definir una estructura que puede contener tanto datos (en forma de atributos) como funciones (en forma de métodos). Vamos a desglosar la creación de la clase `Nodo` y `ListaEnlazada` para entender mejor este proceso."
   ]
  },
  {
   "cell_type": "markdown",
   "id": "14370887",
   "metadata": {},
   "source": [
    "#### Clase `Nodo`"
   ]
  },
  {
   "cell_type": "code",
   "execution_count": null,
   "id": "14ecf056",
   "metadata": {},
   "outputs": [],
   "source": [
    "class Nodo:\n",
    "    def __init__(self, valor):\n",
    "        self.valor = valor\n",
    "        self.siguiente = None"
   ]
  },
  {
   "cell_type": "markdown",
   "id": "7481add2",
   "metadata": {},
   "source": [
    "- ***Definición de la Clase:*** La palabra clave `class` seguida del nombre de la clase (`Nodo`) indica la creación de una nueva clase.\n",
    "<p>&nbsp;</p>\n",
    "\n",
    "- ***Constructor `__init__`:*** Este es un método especial que se llama cuando se crea una nueva instancia de la clase. En `Nodo`, el constructor toma 'valor' como parámetro y lo asigna al atributo 'valor' del objeto. Además, inicializa otro atributo siguiente con `None`, que se utilizará para enlazar este nodo con el siguiente nodo en la lista.\n",
    "<p>&nbsp;</p>\n",
    "\n",
    "- ***Atributos:***\n",
    "    - ***valor:*** Almacena el dato que se guarda en el nodo.\n",
    "    - ***siguiente:*** Sirve para referenciar al siguiente nodo en la lista."
   ]
  },
  {
   "cell_type": "markdown",
   "id": "123cefea",
   "metadata": {},
   "source": [
    "#### Clase `ListaEnlazada`"
   ]
  },
  {
   "cell_type": "code",
   "execution_count": null,
   "id": "58216977",
   "metadata": {},
   "outputs": [],
   "source": [
    "class ListaEnlazada:\n",
    "    def __init__(self):\n",
    "        self.cabeza = None\n",
    "\n",
    "    def agregar(self, valor):\n",
    "        nuevo_nodo = Nodo(valor)\n",
    "        nuevo_nodo.siguiente = self.cabeza\n",
    "        self.cabeza = nuevo_nodo\n",
    "\n",
    "    def mostrar(self):\n",
    "        actual = self.cabeza\n",
    "        while actual:\n",
    "            print(actual.valor)\n",
    "            actual = actual.siguiente"
   ]
  },
  {
   "cell_type": "markdown",
   "id": "1296fb78",
   "metadata": {},
   "source": [
    "- ***Constructor `__init__`:*** En `ListaEnlazada`, el constructor inicializa el atributo cabeza con `None`, indicando que la lista está inicialmente vacía.\n",
    "<p>&nbsp;</p>\n",
    "\n",
    "- ***Métodos:***\n",
    "    - ***agregar:*** Crea un nuevo Nodo y lo añade al principio de la lista.\n",
    "    - ***mostrar:*** Recorre los nodos de la lista desde la cabeza, imprimiendo los valores almacenados."
   ]
  },
  {
   "cell_type": "markdown",
   "id": "6dc0f582",
   "metadata": {},
   "source": [
    "### Instanciación de Objetos y Uso de Atributos y Métodos"
   ]
  },
  {
   "cell_type": "markdown",
   "id": "e0996d2b",
   "metadata": {},
   "source": [
    "Una vez que las clases están definidas, el siguiente paso es crear instancias de estas clases (objetos) y utilizar sus atributos y métodos."
   ]
  },
  {
   "cell_type": "markdown",
   "id": "2ebec2e5",
   "metadata": {},
   "source": [
    "#### Creando Instancias de `ListaEnlazada`"
   ]
  },
  {
   "cell_type": "code",
   "execution_count": null,
   "id": "8c325e86",
   "metadata": {},
   "outputs": [],
   "source": [
    "mi_lista = ListaEnlazada()"
   ]
  },
  {
   "cell_type": "markdown",
   "id": "bb46e59d",
   "metadata": {},
   "source": [
    "- Al ejecutar `ListaEnlazada()`, se llama al constructor `__init__`, creando una nueva instancia de la lista enlazada.\n",
    "<p>&nbsp;</p>\n",
    "\n",
    "- `mi_lista` es ahora un objeto de la clase `ListaEnlazada`, con su propia cabeza apuntando a `None`."
   ]
  },
  {
   "cell_type": "markdown",
   "id": "5cc1c681",
   "metadata": {},
   "source": [
    "#### Usando Métodos de ListaEnlazada"
   ]
  },
  {
   "cell_type": "code",
   "execution_count": null,
   "id": "4e0f1f07",
   "metadata": {},
   "outputs": [],
   "source": [
    "mi_lista.agregar(10)\n",
    "mi_lista.agregar(20)\n",
    "mi_lista.agregar(30)"
   ]
  },
  {
   "cell_type": "markdown",
   "id": "10bab5ae",
   "metadata": {},
   "source": [
    "Cada llamada al método `agregar` crea un nuevo nodo con el valor dado (por ejemplo, 10) y lo coloca al principio de la lista."
   ]
  },
  {
   "cell_type": "code",
   "execution_count": null,
   "id": "586a6ce9",
   "metadata": {},
   "outputs": [],
   "source": [
    "mi_lista.mostrar()"
   ]
  },
  {
   "cell_type": "markdown",
   "id": "0efd3ae8",
   "metadata": {},
   "source": [
    "El método `mostrar` recorre la lista desde la cabeza e imprime los valores de cada nodo. En este caso, mostrará 30, 20 y 10, en ese orden."
   ]
  },
  {
   "cell_type": "markdown",
   "id": "1c5abb71",
   "metadata": {},
   "source": [
    "En este breve contenido del crash course de POO con Python, la creación de las clases `Nodo` y `ListaEnlazada` demuestra cómo se pueden definir estructuras de datos personalizadas en Python. La instanciación de `ListaEnlazada` y el uso de sus métodos `agregar` y `mostrar` ilustran cómo interactuamos con objetos y utilizamos sus capacidades para manipular datos. Este enfoque es fundamental en POO y es especialmente poderoso para estructurar programas complejos de manera lógica y eficiente."
   ]
  },
  {
   "cell_type": "markdown",
   "id": "71b9ce54",
   "metadata": {},
   "source": [
    "### Encapsulamiento, Herencia y Polimorfismo"
   ]
  },
  {
   "cell_type": "markdown",
   "id": "1bc4568c",
   "metadata": {},
   "source": [
    "El paradigma de la Programación Orientada a Objetos (POO) se centra en tres principios fundamentales: *Encapsulamiento*, *Herencia* y *Polimorfismo*. Estos conceptos son esenciales para crear software que sea modular, reutilizable y fácil de mantener. **Encapsulamiento** se refiere a la práctica de ocultar los detalles internos de una clase y exponer solo lo que es necesario para el resto del programa, lo que mejora la seguridad y la integridad de los datos. **Herencia** permite a las clases derivar propiedades y comportamientos de otras clases, promoviendo la reutilización de código y la creación de jerarquías de clase claras. **Polimorfismo** brinda la flexibilidad para invocar métodos en diferentes objetos de maneras que produzcan comportamientos específicos para cada objeto, aumentando la generalidad y la escalabilidad del código. Juntos, estos principios forman el núcleo de la POO, permitiendo a los desarrolladores abordar problemas complejos de programación de manera eficiente y estructurada."
   ]
  },
  {
   "cell_type": "markdown",
   "id": "70b35dbb",
   "metadata": {},
   "source": [
    "#### Encapsulamiento"
   ]
  },
  {
   "cell_type": "markdown",
   "id": "eeeac322",
   "metadata": {},
   "source": [
    "El encapsulamiento se refiere a la restricción del acceso directo a algunos componentes de un objeto y la contención de sus detalles de implementación. Este concepto es crucial por varias razones:\n",
    "\n",
    "- ***Seguridad de Datos:*** Al ocultar los detalles internos de una clase, se previene que el estado del objeto sea modificado de manera inapropiada o inesperada, asegurando la integridad de los datos.\n",
    "<p>&nbsp;</p>\n",
    "\n",
    "- ***Simplificación de la Interfaz:*** El encapsulamiento facilita la interacción con el objeto, ya que el usuario no necesita comprender los detalles internos para usarlo.\n",
    "<p>&nbsp;</p>\n",
    "\n",
    "- ***Flexibilidad y Mantenibilidad:*** Permite cambiar la implementación interna sin afectar a aquellos que usan la clase, facilitando las actualizaciones y el mantenimiento del código."
   ]
  },
  {
   "cell_type": "markdown",
   "id": "c84d7770",
   "metadata": {},
   "source": [
    "#### Uso de Getters y Setters en Python"
   ]
  },
  {
   "cell_type": "markdown",
   "id": "5ecd638f",
   "metadata": {},
   "source": [
    "En Python, los [`getters` y `setters`](https://docs.python.org/3/c-api/structures.html?highlight=getters#defining-getters-and-setters) se utilizan para obtener y establecer el valor de atributos privados. Aunque Python no tiene modificadores de acceso como `private` o `protected` como otros lenguajes, se pueden crear propiedades para controlar el acceso a los atributos.\n",
    "\n",
    "- ***Getters en Python***\n",
    "\n",
    "Un *\"getter\"* es un método que permite leer el valor de un atributo privado o protegido de un objeto. Su propósito es proporcionar un acceso controlado al valor de un atributo, lo que puede ser útil si necesitamos procesar o validar el dato antes de devolverlo.\n",
    "\n",
    "En Python, los getters se implementan a menudo usando el decorador `@property`, que convierte un método en una propiedad \"solo lectura\". Esto permite acceder al valor de un atributo como si fuera un atributo público, pero con la lógica adicional definida en el método."
   ]
  },
  {
   "cell_type": "code",
   "execution_count": null,
   "id": "d8fcee3e",
   "metadata": {},
   "outputs": [],
   "source": [
    "class Ejemplo:\n",
    "    def __init__(self, valor):\n",
    "        self._valor = valor\n",
    "\n",
    "    @property\n",
    "    def valor(self):\n",
    "        return self._valor"
   ]
  },
  {
   "cell_type": "markdown",
   "id": "7eec94c0",
   "metadata": {},
   "source": [
    "En este ejemplo, valor actúa como un getter para el atributo privado `_valor`.\n",
    "\n",
    "- ***Setters en Python***\n",
    "\n",
    "Un *\"setter\"* es un método que permite modificar el valor de un atributo privado o protegido. Este método es útil para controlar cómo se modifica un atributo, permitiendo por ejemplo, realizar validaciones o procesamientos antes de asignar el nuevo valor.\n",
    "\n",
    "Para crear un setter en Python, se utiliza el mismo nombre del método que el getter y se añade el decorador `@nombre_propiedad.setter`."
   ]
  },
  {
   "cell_type": "code",
   "execution_count": null,
   "id": "49bd0153",
   "metadata": {},
   "outputs": [],
   "source": [
    "class Ejemplo:\n",
    "    def __init__(self, valor):\n",
    "        self._valor = valor\n",
    "\n",
    "    @property\n",
    "    def valor(self):\n",
    "        return self._valor\n",
    "\n",
    "    @valor.setter\n",
    "    def valor(self, nuevo_valor):\n",
    "        # Aquí se puede agregar validación o procesamiento\n",
    "        self._valor = nuevo_valor"
   ]
  },
  {
   "cell_type": "markdown",
   "id": "ad861124",
   "metadata": {},
   "source": [
    "En este caso, el método `valor` permite establecer un nuevo valor para `_valor`, con la posibilidad de incluir lógica adicional como validaciones.\n",
    "\n",
    "La utilización de `getters` y `setters` proporciona un control detallado sobre cómo se accede y modifica el estado interno de un objeto. Esto es crucial para mantener la integridad de los datos y para implementar lógica adicional alrededor del acceso y la modificación de atributos. Además, contribuyen al principio de encapsulamiento en POO, permitiendo una interfaz pública clara y bien definida para las clases."
   ]
  },
  {
   "cell_type": "markdown",
   "id": "a5c27e75",
   "metadata": {},
   "source": [
    "#### Herencia"
   ]
  },
  {
   "cell_type": "markdown",
   "id": "622c982e",
   "metadata": {},
   "source": [
    "La herencia es un mecanismo que permite a una clase adquirir propiedades (atributos y métodos) de otra clase. En POO, esto se utiliza para expresar una relación \"es un tipo de\" entre clases, lo que facilita la reutilización de código y la creación de abstracciones más ricas.\n",
    "\n",
    "Algunas de las características Principales de la Herencia son:\n",
    "\n",
    "\n",
    "- ***Clase Base (Padre):*** La clase de la cual se heredan propiedades. También conocida como clase superior, clase padre o superclase.\n",
    "<p>&nbsp;</p>\n",
    "\n",
    "- ***Clase Derivada (Hija):*** La clase que hereda propiedades de otra clase. También se conoce como clase inferior, clase hija o subclase.\n",
    "<p>&nbsp;</p>\n",
    "\n",
    "- ***Reutilización de Código:*** Las clases derivadas pueden reutilizar código de sus clases base, lo que reduce la redundancia y mejora la mantenibilidad.\n",
    "<p>&nbsp;</p>\n",
    "\n",
    "- ***Extensibilidad:*** La herencia permite extender las funcionalidades de clases base en clases derivadas, adaptándolas o ampliando su comportamiento.\n",
    "<p>&nbsp;</p>\n",
    "\n",
    "- ***Sobrescritura de Métodos:*** Las clases derivadas pueden sobrescribir métodos de la clase base para proporcionar una implementación específica.\n",
    "<p>&nbsp;</p>\n",
    "\n",
    "- ***Relaciones Jerárquicas:*** La herencia puede crear una jerarquía de clases, facilitando la organización y estructuración del software.\n",
    "\n",
    "A continuación se presenta un ejemplo de Herencia en Python:"
   ]
  },
  {
   "cell_type": "code",
   "execution_count": null,
   "id": "faa913de",
   "metadata": {},
   "outputs": [],
   "source": [
    "class Vehiculo:\n",
    "    def __init__(self, marca, modelo):\n",
    "        self.marca = marca\n",
    "        self.modelo = modelo\n",
    "\n",
    "    def mostrar_info(self):\n",
    "        return f\"Vehículo: {self.marca} {self.modelo}\"\n",
    "\n",
    "class Automovil(Vehiculo):  # Herencia de Vehiculo\n",
    "    def __init__(self, marca, modelo, tipo):\n",
    "        super().__init__(marca, modelo)  # Llamada al constructor de Vehiculo\n",
    "        self.tipo = tipo\n",
    "\n",
    "    def mostrar_info(self):\n",
    "        return f\"Automóvil: {self.marca} {self.modelo}, Tipo: {self.tipo}\"\n"
   ]
  },
  {
   "cell_type": "markdown",
   "id": "30b70b95",
   "metadata": {},
   "source": [
    "En este ejemplo, `Automovil` es una clase derivada de `Vehiculo` y hereda sus atributos y métodos. Además, extiende la funcionalidad al agregar un nuevo atributo (`tipo`) y sobrescribe el método `mostrar_info`."
   ]
  },
  {
   "cell_type": "markdown",
   "id": "a71ee5d1",
   "metadata": {},
   "source": [
    "#### Jerarquía de Clases"
   ]
  },
  {
   "cell_type": "markdown",
   "id": "49ffe605",
   "metadata": {},
   "source": [
    "La jerarquía de clases es la estructura que se forma a través de la relación de herencia entre clases. Esta jerarquía es importante por varias razones:\n",
    "\n",
    "- ***Organización Clara:*** La jerarquía de clases ayuda a organizar y categorizar clases según su funcionalidad y relación.\n",
    "<p>&nbsp;</p>\n",
    "\n",
    "- ***Relaciones de Especialización:*** Permite la creación de clases más específicas a partir de clases generales, siguiendo el principio de especialización.\n",
    "<p>&nbsp;</p>\n",
    "\n",
    "- ***Polimorfismo:*** En la jerarquía de clases, los objetos de las clases derivadas pueden tratarse como objetos de la clase base, lo que permite el polimorfismo.\n",
    "<p>&nbsp;</p>\n",
    "\n",
    "- ***Abstracción y Simplificación:*** La jerarquía de clases ayuda a abstraer y simplificar complejidades, facilitando el entendimiento y el diseño del software.\n",
    "\n",
    "En resumen, la herencia y la jerarquía de clases en POO son fundamentales para la reutilización de código, la organización del software, y la creación de sistemas flexibles y escalables. Permiten a los desarrolladores construir sobre lo que ya existe, extendiendo y adaptando funcionalidades según sea necesario."
   ]
  },
  {
   "cell_type": "markdown",
   "id": "3c56f7c9",
   "metadata": {},
   "source": [
    "## Ejemplo POO"
   ]
  },
  {
   "cell_type": "markdown",
   "id": "66302de0",
   "metadata": {},
   "source": [
    "### Introducción"
   ]
  },
  {
   "cell_type": "markdown",
   "id": "44e50f34",
   "metadata": {},
   "source": [
    "Para integrar los conceptos de Programación Orientada a Objetos (POO) en Python que hemos visto hasta ahora —encapsulamiento, herencia y polimorfismo— aplicados a Estructuras de Datos y Algoritmos, diseñaremos un breve ejemplo que incluya una estructura de datos básica y su extensión. En este caso, construiremos una clase base para una estructura de datos tipo \"Lista\" y luego la extendemos para crear una \"Lista Ordenada\"."
   ]
  },
  {
   "cell_type": "markdown",
   "id": "0a84d91b",
   "metadata": {},
   "source": [
    "### Definición de la Clase Base Lista"
   ]
  },
  {
   "cell_type": "markdown",
   "id": "456bcea6",
   "metadata": {},
   "source": [
    "Primero, definiremos una clase base simple para una lista, utilizando el concepto de nodos."
   ]
  },
  {
   "cell_type": "code",
   "execution_count": null,
   "id": "33eed4b0",
   "metadata": {},
   "outputs": [],
   "source": [
    "class Nodo:\n",
    "    def __init__(self, valor):\n",
    "        self._valor = valor\n",
    "        self._siguiente = None\n",
    "\n",
    "    @property\n",
    "    def valor(self):\n",
    "        return self._valor\n",
    "\n",
    "    @valor.setter\n",
    "    def valor(self, nuevo_valor):\n",
    "        self._valor = nuevo_valor\n",
    "\n",
    "    @property\n",
    "    def siguiente(self):\n",
    "        return self._siguiente\n",
    "\n",
    "    @siguiente.setter\n",
    "    def siguiente(self, nuevo_siguiente):\n",
    "        self._siguiente = nuevo_siguiente\n",
    "\n",
    "class Lista:\n",
    "    def __init__(self):\n",
    "        self._cabeza = None\n",
    "\n",
    "    def agregar(self, valor):\n",
    "        nuevo_nodo = Nodo(valor)\n",
    "        nuevo_nodo.siguiente = self._cabeza\n",
    "        self._cabeza = nuevo_nodo\n",
    "\n",
    "    def mostrar(self):\n",
    "        actual = self._cabeza\n",
    "        while actual:\n",
    "            print(actual.valor, end=' ')\n",
    "            actual = actual.siguiente\n",
    "        print()\n"
   ]
  },
  {
   "cell_type": "markdown",
   "id": "1cf93882",
   "metadata": {},
   "source": [
    "En esta clase base, `Nodo` es un componente interno que representa cada elemento en la lista. La clase `Lista` proporciona métodos básicos como agregar y mostrar."
   ]
  },
  {
   "cell_type": "markdown",
   "id": "a4ee8e4d",
   "metadata": {},
   "source": [
    "### Herencia y Creación de una Clase Derivada ListaOrdenada"
   ]
  },
  {
   "cell_type": "markdown",
   "id": "0cc2a1e6",
   "metadata": {},
   "source": [
    "Ahora, extendemos la clase `Lista` para crear una `ListaOrdenada`, que mantiene sus elementos en orden."
   ]
  },
  {
   "cell_type": "code",
   "execution_count": null,
   "id": "5868d3b4",
   "metadata": {},
   "outputs": [],
   "source": [
    "class ListaOrdenada(Lista):\n",
    "    def agregar(self, valor):\n",
    "        nuevo_nodo = Nodo(valor)\n",
    "        actual = self._cabeza\n",
    "        previo = None\n",
    "\n",
    "        while actual and actual.valor < valor:\n",
    "            previo = actual\n",
    "            actual = actual.siguiente\n",
    "\n",
    "        if previo is None:\n",
    "            nuevo_nodo.siguiente = self._cabeza\n",
    "            self._cabeza = nuevo_nodo\n",
    "        else:\n",
    "            nuevo_nodo.siguiente = actual\n",
    "            previo.siguiente = nuevo_nodo"
   ]
  },
  {
   "cell_type": "markdown",
   "id": "82a19ffb",
   "metadata": {},
   "source": [
    "En `ListaOrdenada`, sobrescribimos el método `agregar` para asegurarnos de que los elementos se inserten en el orden correcto."
   ]
  },
  {
   "cell_type": "markdown",
   "id": "7faeb231",
   "metadata": {},
   "source": [
    "### Demostración y Polimorfismo"
   ]
  },
  {
   "cell_type": "markdown",
   "id": "80fcd843",
   "metadata": {},
   "source": [
    "Finalmente, demostramos cómo se pueden usar estas clases y cómo el polimorfismo permite tratar instancias de `ListaOrdenada` como `Lista`."
   ]
  },
  {
   "cell_type": "code",
   "execution_count": null,
   "id": "f9a59a4f",
   "metadata": {},
   "outputs": [],
   "source": [
    "# Creando y utilizando la Lista\n",
    "lista = Lista()\n",
    "lista.agregar(3)\n",
    "lista.agregar(1)\n",
    "lista.agregar(2)\n",
    "print(\"Lista normal:\")\n",
    "lista.mostrar()\n",
    "\n",
    "# Creando y utilizando la Lista Ordenada\n",
    "lista_ordenada = ListaOrdenada()\n",
    "lista_ordenada.agregar(3)\n",
    "lista_ordenada.agregar(1)\n",
    "lista_ordenada.agregar(2)\n",
    "print(\"Lista ordenada:\")\n",
    "lista_ordenada.mostrar()\n"
   ]
  },
  {
   "cell_type": "markdown",
   "id": "e7cdd525",
   "metadata": {},
   "source": [
    "En este ejemplo, la `Lista` agrega elementos al principio, mientras que la `ListaOrdenada` los inserta en orden. Esto ilustra no solo la herencia y el encapsulamiento, sino también el polimorfismo: a pesar de que `lista_ordenada` es una instancia de `ListaOrdenada`, se comporta como una `Lista` pero con un comportamiento de agregación modificado."
   ]
  }
 ],
 "metadata": {
  "kernelspec": {
   "display_name": "Python 3 (ipykernel)",
   "language": "python",
   "name": "python3"
  },
  "language_info": {
   "codemirror_mode": {
    "name": "ipython",
    "version": 3
   },
   "file_extension": ".py",
   "mimetype": "text/x-python",
   "name": "python",
   "nbconvert_exporter": "python",
   "pygments_lexer": "ipython3",
   "version": "3.11.3"
  },
  "toc": {
   "base_numbering": 1,
   "nav_menu": {},
   "number_sections": true,
   "sideBar": false,
   "skip_h1_title": true,
   "title_cell": "Table of Contents",
   "title_sidebar": "Contents",
   "toc_cell": false,
   "toc_position": {
    "height": "calc(100% - 180px)",
    "left": "10px",
    "top": "150px",
    "width": "165px"
   },
   "toc_section_display": true,
   "toc_window_display": false
  }
 },
 "nbformat": 4,
 "nbformat_minor": 5
}
