{
 "cells": [
  {
   "cell_type": "markdown",
   "id": "339d7266",
   "metadata": {},
   "source": [
    "<h1 align=\"center\">Estructura de Datos y Algoritmos I</h1>\n",
    "<h1 align=\"center\">Presentación del curso</h1>\n",
    "<h1 align=\"center\">2024</h1>\n",
    "<h1 align=\"center\">MEDELLÍN - COLOMBIA </h1>"
   ]
  },
  {
   "cell_type": "markdown",
   "id": "663ca753",
   "metadata": {},
   "source": [
    "*** \n",
    "|[![Outlook](https://img.shields.io/badge/Microsoft_Outlook-0078D4?style=plastic&logo=microsoft-outlook&logoColor=white)](mailto:calvar52@eafit.edu.co)||[![Open In Colab](https://colab.research.google.com/assets/colab-badge.svg)](https://colab.research.google.com/github/carlosalvarezh/Curso_CEC_EAFIT/blob/main/C00_Presentacion.ipynb)\n",
    "|-:|:-|--:|\n",
    "|[![LinkedIn](https://img.shields.io/badge/linkedin-%230077B5.svg?style=plastic&logo=linkedin&logoColor=white)](https://www.linkedin.com/in/carlosalvarez5/)|[![@alvarezhenao](https://img.shields.io/twitter/url/https/twitter.com/alvarezhenao.svg?style=social&label=Follow%20%40alvarezhenao)](https://twitter.com/alvarezhenao)|[![@carlosalvarezh](https://img.shields.io/badge/github-%23121011.svg?style=plastic&logo=github&logoColor=white)](https://github.com/carlosalvarezh)|\n",
    "\n",
    "<table>\n",
    " <tr align=left><td><img align=left src=\"https://github.com/carlosalvarezh/Curso_CEC_EAFIT/blob/main/images/CCLogoColorPop1.gif?raw=true\" width=\"25\">\n",
    " <td>Text provided under a Creative Commons Attribution license, CC-BY. All code is made available under the FSF-approved MIT license.(c) Carlos Alberto Alvarez Henao</td>\n",
    "</table>\n",
    "\n",
    "***"
   ]
  },
  {
   "cell_type": "markdown",
   "id": "8a857dff",
   "metadata": {},
   "source": [
    "## Identificación"
   ]
  },
  {
   "cell_type": "markdown",
   "id": "ad39d6df",
   "metadata": {},
   "source": [
    "- ***NOMBRE ESCUELA:*** Escuela de Ciencias Aplicadas e Ingeniería  \n",
    "- ***NOMBRE DEPARTAMENTO:*** Departamento de Informática y Sistemas  \n",
    "- ***NOMBRE DEL PROGRAMA:*** Ingeniería de sistemas  \n",
    "- ***NOMBRE ASIGNATURA EN ESPAÑOL:*** Estructuras de Datos y Algoritmos 1  \n",
    "- ***NOMBRE ASIGNATURA EN INGLÉS:*** Introduction to Algorithms and Data Structures  \n",
    "- ***MATERIA PREREQUISITO:*** Fundamentos de Programación  \n",
    "- ***CÓDIGO:*** ST0245  \n",
    "- ***SEMESTRE DE UBICACIÓN:*** II  \n",
    "- ***INTENSIDAD HORARIA SEMANAL:*** 3 horas  \n",
    "- ***INTENSIDAD HORARIA SEMESTRAL:*** 48 horas"
   ]
  },
  {
   "cell_type": "markdown",
   "id": "3aed95b3",
   "metadata": {},
   "source": [
    "## Justificación del curso"
   ]
  },
  {
   "cell_type": "markdown",
   "id": "234d810e",
   "metadata": {},
   "source": [
    "El [Ingeniero de Sistemas](https://www.eafit.edu.co/programas-academicos/pregrados/ingenieria-sistemas/Paginas/inicio.aspx) egresado de la [Universidad EAFIT](https://www.eafit.edu.co/) debe estar en capacidad de hacer el análisis, diseño e implementación de sistemas intensivos en Software, y, por esa razón, es imperativo que sea capaz de diseñar un algoritmo para resolver eficientemente un problema y hacer su implementación."
   ]
  },
  {
   "cell_type": "markdown",
   "id": "01d3d14f",
   "metadata": {},
   "source": [
    "## Propósito u Objetivo general del programa académico"
   ]
  },
  {
   "cell_type": "markdown",
   "id": "d405157b",
   "metadata": {},
   "source": [
    "Resolver un problema con un algoritmo que utiliza estructuras de datos fundamentales (grafos, listas, pilas, colas, y árboles), calcular la complejidad del algoritmo, y argumentar sus criterios de selección de algoritmo y estructura de datos."
   ]
  },
  {
   "cell_type": "markdown",
   "id": "4f4cd205",
   "metadata": {},
   "source": [
    "### Competencias genéricas"
   ]
  },
  {
   "cell_type": "markdown",
   "id": "c1df7aa4",
   "metadata": {},
   "source": [
    "1. Realizar búsqueda de literatura impresa y electrónica (CDIO 2.2.2 )\n",
    "2. Capacidad de trabajar en distintos tipos de equipos (CDIO 3.1.5 )\n",
    "3. Capacidad de comunicación escrita efectiva ( CDIO 3.2.3)\n",
    "4. Capacidad de comunicación por medios Multimedia (CDIO 3.2.4)\n",
    "5. Capacidad de comunicación por presentaciones orales (CDIO 3.2.6 )"
   ]
  },
  {
   "cell_type": "markdown",
   "id": "85ed873b",
   "metadata": {},
   "source": [
    "### Competencias específicas"
   ]
  },
  {
   "cell_type": "markdown",
   "id": "a5d73066",
   "metadata": {},
   "source": [
    "Resolver un problema con un algoritmo que utiliza estructuras de datos fundamentales (grafos, listas, pilas, colas, y árboles), calcular la complejidad del algoritmo, y argumentar sus criterios de selección de algoritmo y estructura de datos."
   ]
  },
  {
   "cell_type": "markdown",
   "id": "a3c51189",
   "metadata": {},
   "source": [
    "### Resultados de aprendizaje"
   ]
  },
  {
   "cell_type": "markdown",
   "id": "f39e2a48",
   "metadata": {},
   "source": [
    "***Competencia específica:*** Resolver un problema con un algoritmo que utiliza estructuras de datos fundamentales (grafos, listas, pilas, colas, y árboles), calcular la complejidad del algoritmo, y argumentar sus criterios de selección de algoritmo y estructura de datos.\n",
    "\n",
    "***Resultados de aprendizaje de la competencia:***\n",
    "\n",
    "1. Calcula la complejidad de un algoritmo (el comportamiento asintótico)\n",
    "2. Conoce las notaciones Big O, o, Omega, Theta\n",
    "3. Asocia el cálculo de complejidad de un algoritmo con la disponibilidad de recursos, la dimensión del problema y la naturaleza de los datos (por ejemplo, si están ordenados)\n",
    "4. Conoce las estructuras de datos fundamentales: grafos, listas, pilas, colas, y árboles\n",
    "5. Justifica el uso de una estructura de datos para resolver un problema utilizando criterios técnicos\n",
    "6. Identifica el caso base y la relación de recurrencia para resolver un problema recursivamente\n",
    "7. Diferencia una estructura de datos conceptual y sus implementaciones\n",
    "8. Aplica los conceptos de referencias, encapsulamiento, iteradores y tipos de datos paramétricos en la implementación de estructuras de datos"
   ]
  },
  {
   "cell_type": "markdown",
   "id": "c68c5aab",
   "metadata": {},
   "source": [
    "## Descripción de los contenidos temas y subtemas"
   ]
  },
  {
   "cell_type": "markdown",
   "id": "6df1ca36",
   "metadata": {},
   "source": [
    "1. Cálculo de complejidad  \n",
    "  1.1 Preliminares matemáticos (sumatorias y relaciones de recurencia)  \n",
    "  1.2 Definición y notaciones (omega, O, theta)  \n",
    "2. Estructuras de datos fundamentales  \n",
    "  2.1 Grafos  \n",
    "  2.2 Listas, pilas, colas  \n",
    "  2.3 Árboles"
   ]
  },
  {
   "cell_type": "markdown",
   "id": "6c5e6af2",
   "metadata": {},
   "source": [
    "## Clase a clase"
   ]
  },
  {
   "cell_type": "markdown",
   "id": "e8f57a8f",
   "metadata": {},
   "source": [
    "|**Semana** | **Fecha**         |**Contenido** |**Observación**|\n",
    "|:-----:|:-------------:|:-----------|----------------------|\n",
    "|01|24-26/01|Descripción del curso. Nivelación en Python y su ecosistema| |\n",
    "|02|31/01-02/02|Introducción a las estructuras de datos: Conceptos básicos, Clasificación, Terminología||\n",
    "|03|07-09/02|Estructuras de datos Lineales: Array||\n",
    "|04|14-16/02|Estructuras de datos Lineales: Listas enlazadas||\n",
    "|05|21-23/02|Estructuras de datos Lineales: Listas enlazadas.||\n",
    "|06|28/02-01/03|Estructuras de datos lineales: Pilas y Colas|Evaluación 1 (25%)|\n",
    "|07|06-08/03|Estructuras de datos no lineales: Arboles.|Asamblea 06/03|\n",
    "|08|13-15/03|Estructuras de datos no lineales: Grafos. Matriz de adyacencias||\n",
    "|09|20-22/03|Estructuras de datos no líneales: Grafos por lísta de adyacencia||\n",
    "|  |25-29/03||Semana Santa|\n",
    "|10|03-05/04|Estructuras de datos no líneales: Grafos por lísta de adyacencia||\n",
    "|11|10-12/04|Estructuras de datos no líneales: Conjuntos disjuntos|Evaluación 2 (25%)|\n",
    "|12|17-19/04|Algoritmos de busqueda: líneal, binaria, secuencial||\n",
    "|13|24-26/04|Algoritmos de busqueda: líneal, binaria, secuencial||\n",
    "|14|01-03/05|Algoritmos de ordenación: Selección, Inserción, Intercambio, Mezcla||\n",
    "|15|08-10/05|Algoritmos de ordenación: Selección, Inserción, Intercambio, Mezcla|Evaluación 3 (25%) y Reporte 70%|\n",
    "|16|15-17/05|Algoritmos de ordenación: Selección, Inserción, Intercambio, Mezcla||\n",
    "|-||Semana de Receso académico para preparación de finales||\n",
    "|-||Semana de finales|Evaluación final (25%)|\n",
    "|-||Cierre académico|Reporte del 100%|"
   ]
  },
  {
   "cell_type": "code",
   "execution_count": null,
   "id": "b40883b4",
   "metadata": {},
   "outputs": [],
   "source": []
  },
  {
   "cell_type": "code",
   "execution_count": null,
   "id": "09697fcf",
   "metadata": {},
   "outputs": [],
   "source": []
  },
  {
   "cell_type": "code",
   "execution_count": null,
   "id": "cd897c8e",
   "metadata": {},
   "outputs": [],
   "source": []
  },
  {
   "cell_type": "code",
   "execution_count": null,
   "id": "025d4e05",
   "metadata": {},
   "outputs": [],
   "source": []
  }
 ],
 "metadata": {
  "kernelspec": {
   "display_name": "Python 3 (ipykernel)",
   "language": "python",
   "name": "python3"
  },
  "language_info": {
   "codemirror_mode": {
    "name": "ipython",
    "version": 3
   },
   "file_extension": ".py",
   "mimetype": "text/x-python",
   "name": "python",
   "nbconvert_exporter": "python",
   "pygments_lexer": "ipython3",
   "version": "3.11.3"
  },
  "toc": {
   "base_numbering": 1,
   "nav_menu": {},
   "number_sections": true,
   "sideBar": true,
   "skip_h1_title": true,
   "title_cell": "Table of Contents",
   "title_sidebar": "Contents",
   "toc_cell": false,
   "toc_position": {
    "height": "calc(100% - 180px)",
    "left": "10px",
    "top": "150px",
    "width": "165px"
   },
   "toc_section_display": true,
   "toc_window_display": false
  }
 },
 "nbformat": 4,
 "nbformat_minor": 5
}
