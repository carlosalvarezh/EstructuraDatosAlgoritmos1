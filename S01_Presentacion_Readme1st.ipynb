{
 "cells": [
  {
   "cell_type": "markdown",
   "id": "339d7266",
   "metadata": {},
   "source": [
    "<h1 align=\"center\">Estructura de Datos y Algoritmos I</h1>\n",
    "<h1 align=\"center\">Presentación del curso</h1>\n",
    "<h1 align=\"center\">2024</h1>\n",
    "<h1 align=\"center\">MEDELLÍN - COLOMBIA </h1>"
   ]
  },
  {
   "cell_type": "markdown",
   "id": "663ca753",
   "metadata": {},
   "source": [
    "*** \n",
    "|[![Outlook](https://img.shields.io/badge/Microsoft_Outlook-0078D4?style=plastic&logo=microsoft-outlook&logoColor=white)](mailto:calvar52@eafit.edu.co)||[![Open In Colab](https://colab.research.google.com/assets/colab-badge.svg)](https://colab.research.google.com/github/carlosalvarezh/EstructuraDatosAlgoritmos1/blob/main/S01_Presentacion_Readme1st.ipynb)\n",
    "|-:|:-|--:|\n",
    "|[![LinkedIn](https://img.shields.io/badge/linkedin-%230077B5.svg?style=plastic&logo=linkedin&logoColor=white)](https://www.linkedin.com/in/carlosalvarez5/)|[![@alvarezhenao](https://img.shields.io/twitter/url/https/twitter.com/alvarezhenao.svg?style=social&label=Follow%20%40alvarezhenao)](https://twitter.com/alvarezhenao)|[![@carlosalvarezh](https://img.shields.io/badge/github-%23121011.svg?style=plastic&logo=github&logoColor=white)](https://github.com/carlosalvarezh)|\n",
    "\n",
    "<table>\n",
    " <tr align=left><td><img align=left src=\"https://github.com/carlosalvarezh/Curso_CEC_EAFIT/blob/main/images/CCLogoColorPop1.gif?raw=true\" width=\"25\">\n",
    " <td>Text provided under a Creative Commons Attribution license, CC-BY. All code is made available under the FSF-approved MIT license.(c) Carlos Alberto Alvarez Henao</td>\n",
    "</table>\n",
    "\n",
    "***"
   ]
  },
  {
   "cell_type": "markdown",
   "id": "7dd19e90",
   "metadata": {},
   "source": [
    "# Introducción más que necesaria"
   ]
  },
  {
   "cell_type": "markdown",
   "id": "8c8e82ee",
   "metadata": {},
   "source": [
    "Este material que les presento es el fruto de un extenso recorrido por diversos documentos que he explorado y estudiado a lo largo de mi carrera profesional. Ahora, transformados en contenidos desde mi perspectiva como docente, estos apuntes representan más que simples lecciones: son una entidad viva y en constante evolución. Al igual que el conocimiento mismo, este material está sujeto a cambios y mejoras continuas a lo largo del curso. No es perfecto y puede contener errores, pero aquí es donde entra en juego su papel crucial. Los invito a ser co-creadores activos de este proceso de aprendizaje. Sus comentarios, observaciones y aportes son esenciales para enriquecer y perfeccionar estos contenidos. Juntos, podemos ajustar, modificar y mejorar tanto el contenido como el estilo de este material, asegurando que sea lo más preciso, relevante y útil posible para todos. Su participación no solo enriquecerá estos recursos, sino que también potenciará su propio proceso de aprendizaje, permitiéndoles involucrarse de manera más profunda y significativa en el tema del curso: *Estructuras de Datos y Algoritmos I*.\n",
    "\n",
    "En la elaboración de estas notas de clase, se ha incluido material proveniente de diversos autores. Siempre he procurado ser meticuloso y respetar los derechos de autor, citando las fuentes bibliográficas correspondientes. No obstante, reconozco que pueden existir omisiones involuntarias en este aspecto. Por ello, ofrezco mis disculpas anticipadas a los autores originales por cualquier referencia que haya podido pasar inadvertida. Agradezco de antemano a quienes, al identificar alguna fuente primaria no citada, me informen al respecto. De esta manera, podré realizar las correcciones necesarias para asegurar el reconocimiento adecuado y mantener la integridad académica de este material.\n",
    "\n",
    "<p style=\"text-align:right;\">Carlos Alberto Alvarez Henao, Docente</p>"
   ]
  },
  {
   "cell_type": "markdown",
   "id": "8a857dff",
   "metadata": {},
   "source": [
    "## Identificación"
   ]
  },
  {
   "cell_type": "markdown",
   "id": "ad39d6df",
   "metadata": {},
   "source": [
    "- ***NOMBRE ESCUELA:*** Escuela de Ciencias Aplicadas e Ingeniería  \n",
    "- ***NOMBRE DEPARTAMENTO:*** Departamento de Informática y Sistemas  \n",
    "- ***NOMBRE DEL PROGRAMA:*** Ingeniería de sistemas  \n",
    "- ***NOMBRE ASIGNATURA EN ESPAÑOL:*** Estructuras de Datos y Algoritmos 1  \n",
    "- ***NOMBRE ASIGNATURA EN INGLÉS:*** Introduction to Algorithms and Data Structures  \n",
    "- ***MATERIA PREREQUISITO:*** Fundamentos de Programación  \n",
    "- ***CÓDIGO:*** ST0245  \n",
    "- ***SEMESTRE DE UBICACIÓN:*** II  \n",
    "- ***INTENSIDAD HORARIA SEMANAL:*** 3 horas  \n",
    "- ***INTENSIDAD HORARIA SEMESTRAL:*** 48 horas"
   ]
  },
  {
   "cell_type": "markdown",
   "id": "038dd153",
   "metadata": {},
   "source": [
    "## Justificación del curso"
   ]
  },
  {
   "cell_type": "markdown",
   "id": "2e17b55b",
   "metadata": {},
   "source": [
    "El [Ingeniero de Sistemas](https://www.eafit.edu.co/programas-academicos/pregrados/ingenieria-sistemas/Paginas/inicio.aspx) egresado de la [Universidad EAFIT](https://www.eafit.edu.co/) debe estar en capacidad de hacer el análisis, diseño e implementación de sistemas intensivos en Software, y, por esa razón, es imperativo que sea capaz de diseñar un algoritmo para resolver eficientemente un problema y hacer su implementación."
   ]
  },
  {
   "cell_type": "markdown",
   "id": "4d7cf4f6",
   "metadata": {},
   "source": [
    "## Propósito u Objetivo general del programa académico"
   ]
  },
  {
   "cell_type": "markdown",
   "id": "aba1aedb",
   "metadata": {},
   "source": [
    "Resolver un problema con un algoritmo que utiliza estructuras de datos fundamentales (grafos, listas, pilas, colas, y árboles), calcular la complejidad del algoritmo, y argumentar sus criterios de selección de algoritmo y estructura de datos."
   ]
  },
  {
   "cell_type": "markdown",
   "id": "cc897649",
   "metadata": {},
   "source": [
    "### Competencias genéricas"
   ]
  },
  {
   "cell_type": "markdown",
   "id": "72de4bd7",
   "metadata": {},
   "source": [
    "1. Realizar búsqueda de literatura impresa y electrónica (CDIO 2.2.2 )\n",
    "2. Capacidad de trabajar en distintos tipos de equipos (CDIO 3.1.5 )\n",
    "3. Capacidad de comunicación escrita efectiva ( CDIO 3.2.3)\n",
    "4. Capacidad de comunicación por medios Multimedia (CDIO 3.2.4)\n",
    "5. Capacidad de comunicación por presentaciones orales (CDIO 3.2.6 )"
   ]
  },
  {
   "cell_type": "markdown",
   "id": "6c94cb6d",
   "metadata": {},
   "source": [
    "### Competencias específicas"
   ]
  },
  {
   "cell_type": "markdown",
   "id": "5d0439c4",
   "metadata": {},
   "source": [
    "Resolver un problema con un algoritmo que utiliza estructuras de datos fundamentales (grafos, listas, pilas, colas, y árboles), calcular la complejidad del algoritmo, y argumentar sus criterios de selección de algoritmo y estructura de datos."
   ]
  },
  {
   "cell_type": "markdown",
   "id": "b7f491a8",
   "metadata": {},
   "source": [
    "### Resultados de aprendizaje"
   ]
  },
  {
   "cell_type": "markdown",
   "id": "008a404d",
   "metadata": {},
   "source": [
    "***Competencia específica:*** Resolver un problema con un algoritmo que utiliza estructuras de datos fundamentales (grafos, listas, pilas, colas, y árboles), calcular la complejidad del algoritmo, y argumentar sus criterios de selección de algoritmo y estructura de datos.\n",
    "\n",
    "***Resultados de aprendizaje de la competencia:***\n",
    "\n",
    "1. Calcula la complejidad de un algoritmo (el comportamiento asintótico)\n",
    "2. Conoce las notaciones Big O, o, Omega, Theta\n",
    "3. Asocia el cálculo de complejidad de un algoritmo con la disponibilidad de recursos, la dimensión del problema y la naturaleza de los datos (por ejemplo, si están ordenados)\n",
    "4. Conoce las estructuras de datos fundamentales: grafos, listas, pilas, colas, y árboles\n",
    "5. Justifica el uso de una estructura de datos para resolver un problema utilizando criterios técnicos\n",
    "6. Identifica el caso base y la relación de recurrencia para resolver un problema recursivamente\n",
    "7. Diferencia una estructura de datos conceptual y sus implementaciones\n",
    "8. Aplica los conceptos de referencias, encapsulamiento, iteradores y tipos de datos paramétricos en la implementación de estructuras de datos"
   ]
  },
  {
   "cell_type": "markdown",
   "id": "e593306b",
   "metadata": {},
   "source": [
    "## Descripción de los contenidos temas y subtemas"
   ]
  },
  {
   "cell_type": "markdown",
   "id": "8a389c07",
   "metadata": {},
   "source": [
    "1. Cálculo de complejidad  \n",
    "  1.1 Preliminares matemáticos (sumatorias y relaciones de recurencia)  \n",
    "  1.2 Definición y notaciones (omega, O, theta)  \n",
    "2. Estructuras de datos fundamentales  \n",
    "  2.1 Grafos  \n",
    "  2.2 Listas, pilas, colas  \n",
    "  2.3 Árboles"
   ]
  },
  {
   "cell_type": "markdown",
   "id": "c70bb369",
   "metadata": {},
   "source": [
    "## Clase a clase"
   ]
  },
  {
   "cell_type": "markdown",
   "id": "f9c0371c",
   "metadata": {},
   "source": [
    "|**Semana** | **Fecha**         |**Contenido** |**Observación**|\n",
    "|:-----:|:-------------:|:-----------|----------------------|\n",
    "|01|17-19/07|Descripción del curso. Nivelación en Python y su ecosistema| |\n",
    "|02|24-26/07|Introducción a las estructuras de datos: Conceptos básicos, Clasificación, Terminología||\n",
    "|03|31/08-02/08|Estructuras de datos Lineales: Array||\n",
    "|04|09/08|Estructuras de datos Lineales: Listas enlazadas|miércoles 07/08 es festivo|\n",
    "|05|14-16/08|Estructuras de datos Lineales: Listas enlazadas.|Evaluación 1 (25%)|\n",
    "|06|21-23/08|Estructuras de datos lineales: Pilas y Colas||\n",
    "|07|28-30/08|Estructuras de datos no lineales: Arboles.|Asamblea 06/03|\n",
    "|08|04-06/09|Estructuras de datos no lineales: Grafos. Matriz de adyacencias||\n",
    "|09|11-13/09|Estructuras de datos no líneales: Grafos por lísta de adyacencia||\n",
    "|10|18-20/09|Estructuras de datos no líneales: Grafos por lísta de adyacencia|Evaluación 2 (25%)|\n",
    "|11|25-27/09|Estructuras de datos no líneales: Conjuntos disjuntos||\n",
    "|12|02-04/10|Algoritmos de busqueda: líneal, binaria, secuencial||\n",
    "|  |09-11/10||Semana Receso|\n",
    "|13|16-18/10|Algoritmos de busqueda: líneal, binaria, secuencial||\n",
    "|14|23-25/10|Algoritmos de ordenación: Selección, Inserción, Intercambio, Mezcla||\n",
    "|15|30/10-01/11|Algoritmos de ordenación: Selección, Inserción, Intercambio, Mezcla|Evaluación 3 (25%) y Reporte 70%|\n",
    "|16|06-08/11|Algoritmos de ordenación: Selección, Inserción, Intercambio, Mezcla||\n",
    "|-||Semana de Receso académico para preparación de finales||\n",
    "|-||Semana de finales|Evaluación final (25%)|\n",
    "|-||Cierre académico|Reporte del 100%|"
   ]
  },
  {
   "cell_type": "markdown",
   "id": "d7f99f0b",
   "metadata": {},
   "source": [
    "## Bibliografía sugerida"
   ]
  },
  {
   "cell_type": "markdown",
   "id": "0a4c44b6",
   "metadata": {},
   "source": [
    "- Brassard, G., y Bratley, P. Fundamentos de Algoritmia, Prentice Hall, 1998.\n",
    "\n",
    "- Cormen, T., Algorithms Unloked, The MIT Press, 2013.\n",
    "\n",
    "- Cormen, T., Leiserson, Ch., Rivest, R. and Stein C.: Introduction to Algorithms, 3rd. Ed. The MIT Press, 2009.\n",
    "\n",
    "- Martin, R., Clean Code: A handbook of agile software craftsmanship, Prentice Hall, 2009.\n",
    "\n",
    "- Skiena, S., The Algorithm Design Manual, 2nd. Ed., Springer, 1997.  \n",
    "  - Online Book (EAFIT library): https://link-springer-com.ezproxy.eafit.edu.co/book/10.1007/978-1-84800-070-4  \n",
    "  - Personal page: https://www3.cs.stonybrook.edu/~skiena/373/videos/"
   ]
  }
 ],
 "metadata": {
  "kernelspec": {
   "display_name": "Python 3 (ipykernel)",
   "language": "python",
   "name": "python3"
  },
  "language_info": {
   "codemirror_mode": {
    "name": "ipython",
    "version": 3
   },
   "file_extension": ".py",
   "mimetype": "text/x-python",
   "name": "python",
   "nbconvert_exporter": "python",
   "pygments_lexer": "ipython3",
   "version": "3.11.7"
  },
  "toc": {
   "base_numbering": 1,
   "nav_menu": {},
   "number_sections": true,
   "sideBar": true,
   "skip_h1_title": true,
   "title_cell": "Table of Contents",
   "title_sidebar": "Contents",
   "toc_cell": false,
   "toc_position": {
    "height": "calc(100% - 180px)",
    "left": "10px",
    "top": "150px",
    "width": "165px"
   },
   "toc_section_display": true,
   "toc_window_display": false
  }
 },
 "nbformat": 4,
 "nbformat_minor": 5
}
