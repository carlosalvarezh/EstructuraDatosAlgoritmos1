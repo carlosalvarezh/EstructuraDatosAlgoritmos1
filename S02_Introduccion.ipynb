{
 "cells": [
  {
   "cell_type": "markdown",
   "id": "6ac1ffa5",
   "metadata": {},
   "source": [
    "<h1 align=\"center\">Estructura de Datos y Algoritmos I</h1>\n",
    "<h1 align=\"center\">Introducción a las Estructuras de Datos y Algoritmos</h1>\n",
    "<h1 align=\"center\">2024</h1>\n",
    "<h1 align=\"center\">MEDELLÍN - COLOMBIA </h1>"
   ]
  },
  {
   "cell_type": "markdown",
   "id": "404825ab",
   "metadata": {},
   "source": [
    "*** \n",
    "|[![Outlook](https://img.shields.io/badge/Microsoft_Outlook-0078D4?style=plastic&logo=microsoft-outlook&logoColor=white)](mailto:calvar52@eafit.edu.co)||[![Open In Colab](https://colab.research.google.com/assets/colab-badge.svg)](https://colab.research.google.com/github/carlosalvarezh/EstructuraDatosAlgoritmos1/blob/main/S02_Introduccion.ipynb)\n",
    "|-:|:-|--:|\n",
    "|[![LinkedIn](https://img.shields.io/badge/linkedin-%230077B5.svg?style=plastic&logo=linkedin&logoColor=white)](https://www.linkedin.com/in/carlosalvarez5/)|[![@alvarezhenao](https://img.shields.io/twitter/url/https/twitter.com/alvarezhenao.svg?style=social&label=Follow%20%40alvarezhenao)](https://twitter.com/alvarezhenao)|[![@carlosalvarezh](https://img.shields.io/badge/github-%23121011.svg?style=plastic&logo=github&logoColor=white)](https://github.com/carlosalvarezh)|\n",
    "\n",
    "<table>\n",
    " <tr align=left><td><img align=left src=\"https://github.com/carlosalvarezh/Curso_CEC_EAFIT/blob/main/images/CCLogoColorPop1.gif?raw=true\" width=\"25\">\n",
    " <td>Text provided under a Creative Commons Attribution license, CC-BY. All code is made available under the FSF-approved MIT license.(c) Carlos Alberto Alvarez Henao</td>\n",
    "</table>\n",
    "\n",
    "***"
   ]
  },
  {
   "cell_type": "markdown",
   "id": "c4e7366c",
   "metadata": {},
   "source": [
    "## Estructuras de Datos"
   ]
  },
  {
   "cell_type": "markdown",
   "id": "301543a5",
   "metadata": {},
   "source": [
    "<p float=\"center\">\n",
    "  <img src=\"https://github.com/carlosalvarezh/EstructuraDatosAlgoritmos1/blob/main/Images/EstructurasDatos.webp?raw=true\" width=\"500\" />\n",
    "</p>\n",
    "\n",
    "<p style=\"text-align: center;\">\n",
    "    <strong>Tomado de:</strong> <a href=\"https://www.stcatherines.net.au/wp-content/uploads/2017/03/algorithm.png\">https://www.stcatherines.net.au/wp-content/uploads/2017/03/algorithm.png</a>\n",
    "</p>\n"
   ]
  },
  {
   "cell_type": "markdown",
   "id": "0d466371",
   "metadata": {},
   "source": [
    "### Conceptos Básicos de las Estructuras de Datos"
   ]
  },
  {
   "cell_type": "markdown",
   "id": "a3538081",
   "metadata": {},
   "source": [
    "Las [estructuras de datos](https://en.wikipedia.org/wiki/Data_structure) son fundamentales en ciencias de la computación para organizar y almacenar [datos](https://en.wikipedia.org/wiki/Data) de manera que puedan ser accesados y modificados eficientemente. Los datos pueden ser valores elementales o colecciones de valores, como el nombre y ID de un estudiante. Los elementos de datos pueden agruparse (por ejemplo, el nombre completo de un estudiante) y formar registros (como los detalles de un estudiante). Estos registros pueden almacenarse en archivos, cada uno representando una entidad con sus atributos y campos.\n",
    "\n",
    "El estudio de las estructuras de datos ayuda a entender cómo se organizan los datos y cómo se gestiona el flujo de datos para aumentar la eficiencia de cualquier proceso o programa. La estructura de datos es la representación estructural de la relación lógica entre los elementos de datos. Esto significa que una estructura de datos organiza los ítems de datos basándose en la relación entre los elementos de datos.\n",
    "\n",
    "Antes de seguir avanzando, vamos a plantear una breve discusión acerca de los que son los datos, qué es información y cómo se llega al concepto de Estructura de Datos."
   ]
  },
  {
   "cell_type": "markdown",
   "id": "e061e3dc",
   "metadata": {},
   "source": [
    "### Datos, Información y Estructuras de Datos"
   ]
  },
  {
   "cell_type": "markdown",
   "id": "c5b7be8a",
   "metadata": {},
   "source": [
    "#### ¿Qué son los Datos?"
   ]
  },
  {
   "cell_type": "markdown",
   "id": "2f5f9afd",
   "metadata": {},
   "source": [
    "Los datos son hechos en bruto, no procesados, que representan valores de cualidades o cantidades. Pueden existir en cualquier forma, ya sea digital o analógica. Los datos en sí mismos pueden no llevar un significado evidente. Por ejemplo, el número '*42*', el nombre '*Juan*', o una fecha '*12/12/2024*' son datos."
   ]
  },
  {
   "cell_type": "markdown",
   "id": "120b71f6",
   "metadata": {},
   "source": [
    "#### Diferencia entre Datos e Información"
   ]
  },
  {
   "cell_type": "markdown",
   "id": "14642d3d",
   "metadata": {},
   "source": [
    "La información es lo que obtenemos cuando los datos se procesan, interpretan, organizan o se les da contexto. Esto los hace útiles y significativos. La información responde a preguntas como quién, qué, cuándo, dónde y cómo. Por ejemplo, si sabemos que '42' es la cantidad de estudiantes en una clase, se convierte en información.\n",
    "\n",
    "La transformación de datos en información implica añadir significado:\n",
    "\n",
    "- ***Contextualización:*** Entender en qué situación se generaron los datos.\n",
    "<p>&nbsp;</p>\n",
    "\n",
    "- ***Categorización:*** Saber qué partes de los datos son relevantes y en qué categoría encajan.\n",
    "<p>&nbsp;</p>\n",
    "\n",
    "- ***Cálculo:*** Realizar operaciones matemáticas o lógicas con los datos.\n",
    "<p>&nbsp;</p>\n",
    "\n",
    "- ***Corrección:*** Asegurarse de que los datos sean precisos.\n",
    "<p>&nbsp;</p>\n",
    "\n",
    "- ***Condensación:*** Resumir o aglutinar datos más amplios en formatos más digeribles."
   ]
  },
  {
   "cell_type": "markdown",
   "id": "2c177f2f",
   "metadata": {},
   "source": [
    "#### Relación entre Datos, Información y Estructuras de Datos"
   ]
  },
  {
   "cell_type": "markdown",
   "id": "dd80435d",
   "metadata": {},
   "source": [
    "Las estructuras de datos son sistemas organizados para almacenar y manejar datos. Son esenciales para convertir datos en información útil. Sin estructuras de datos adecuadas, sería casi imposible realizar operaciones eficientes y significativas con los datos. Por ejemplo, una base de datos estructurada permite a las organizaciones extraer información vital a partir de un vasto mar de datos."
   ]
  },
  {
   "cell_type": "markdown",
   "id": "82770099",
   "metadata": {},
   "source": [
    "#### ¿Cómo Encajan en el Concepto de Estructura de Datos?"
   ]
  },
  {
   "cell_type": "markdown",
   "id": "c1dd4f6f",
   "metadata": {},
   "source": [
    "- ***Almacenamiento:*** Las estructuras de datos proporcionan un medio para almacenar datos de manera eficiente.\n",
    "<p>&nbsp;</p>\n",
    "\n",
    "- ***Acceso:*** Facilitan el acceso rápido y eficiente a los datos.\n",
    "<p>&nbsp;</p>\n",
    "\n",
    "- ***Procesamiento:*** Permiten el procesamiento de datos para convertirlos en información mediante algoritmos.\n",
    "<p>&nbsp;</p>\n",
    "\n",
    "- ***Organización:*** La forma en que los datos se organizan en una estructura de datos puede afectar significativamente cómo se interpreta esa información.\n",
    "<p>&nbsp;</p>\n",
    "\n",
    "- ***Relación:*** Ayudan a establecer y entender las relaciones entre los datos, lo que es crucial para generar información.\n",
    "\n",
    "Por ejemplo, una lista enlazada en programación almacena datos de manera secuencial, facilitando el seguimiento de una secuencia de elementos. Un árbol binario, por otro lado, puede representar relaciones jerárquicas, lo que es crucial para tareas como la representación de estructuras de decisión."
   ]
  },
  {
   "cell_type": "markdown",
   "id": "5a1844ee",
   "metadata": {},
   "source": [
    "### Terminología Básica"
   ]
  },
  {
   "cell_type": "markdown",
   "id": "4595e9c2",
   "metadata": {},
   "source": [
    "Las estructuras de datos son los bloques de construcción de cualquier programa o software. Elegir la estructura de datos adecuada para un programa es la tarea más difícil para un programador. Se utiliza la siguiente terminología en lo que respecta a las estructuras de datos:\n",
    "\n",
    "- ***Datos:*** Los datos pueden definirse como un valor elemental o la colección de valores, por ejemplo, el nombre de un estudiante y su identificación son los datos sobre el estudiante.\n",
    "<p>&nbsp;</p>\n",
    "\n",
    "- ***Ítems de Grupo:*** Los ítems de datos que tienen subordinados otros ítems de datos se llaman ítem de grupo, por ejemplo, el nombre de un estudiante puede tener nombre y apellido.\n",
    "<p>&nbsp;</p>\n",
    "\n",
    "- ***Registro:*** El registro puede definirse como la colección de varios ítems de datos, por ejemplo, si hablamos de la entidad estudiante, entonces su nombre, dirección, curso y calificaciones pueden agruparse para formar el registro del estudiante.\n",
    "<p>&nbsp;</p>\n",
    "\n",
    "- ***Archivo:*** Un archivo es una colección de varios registros de un tipo de entidad, por ejemplo, si hay 60 empleados en la clase, entonces habrá 20 registros en el archivo relacionado donde cada registro contiene los datos sobre cada empleado.\n",
    "<p>&nbsp;</p>\n",
    "\n",
    "- ***Atributo y Entidad:*** Una entidad representa la clase de ciertos objetos. Contiene varios atributos. Cada atributo representa la propiedad particular de esa entidad.\n",
    "<p>&nbsp;</p>\n",
    "\n",
    "- ***Campo:*** Campo es una unidad elemental única de información que representa el atributo de una entidad."
   ]
  },
  {
   "cell_type": "markdown",
   "id": "e948ce12",
   "metadata": {},
   "source": [
    "### Necesidad y Objetivos de las Estructuras de Datos"
   ]
  },
  {
   "cell_type": "markdown",
   "id": "6a9d5b73",
   "metadata": {},
   "source": [
    "Las estructuras de datos proporcionan varios niveles de organización para los datos, permitiendo operaciones eficientes como la adición de elementos, la búsqueda del ítem de mayor prioridad y la gestión eficiente de grandes cantidades de datos. Los objetivos principales incluyen la corrección, asegurando que la estructura funcione correctamente para todos los tipos de entrada, y la eficiencia, procesando datos rápidamente sin consumir demasiados recursos computacionales.\n",
    "\n",
    "A modo de resumen:\n",
    "\n",
    "- Proporciona diferentes niveles de organización de datos.\n",
    "<p>&nbsp;</p>\n",
    "\n",
    "- Explica cómo se pueden almacenar y acceder a los datos en su nivel elemental.\n",
    "<p>&nbsp;</p>\n",
    "\n",
    "- Provee operaciones en grupos de datos, tales como agregar un ítem, buscar el ítem de mayor prioridad.\n",
    "<p>&nbsp;</p>\n",
    "\n",
    "- Ofrece un medio para gestionar eficientemente grandes cantidades de datos.\n",
    "<p>&nbsp;</p>\n",
    "\n",
    "- Facilita una búsqueda y ordenación rápidas de los datos."
   ]
  },
  {
   "cell_type": "markdown",
   "id": "c48b481f",
   "metadata": {},
   "source": [
    "### ¿Cuándo debería utilizar estructuras de datos?"
   ]
  },
  {
   "cell_type": "markdown",
   "id": "1dd367d2",
   "metadata": {},
   "source": [
    "Se deben utilizar las estructuras de datos siempre que se necesite organizar y manipular conjuntos de datos de manera eficiente y efectiva en el programa.\n",
    "\n",
    "Algunas situaciones comunes en las que es recomendable utilizar estructuras de datos:\n",
    "\n",
    "- ***Organización de datos:*** Cuando tengas que almacenar y gestionar conjuntos de datos más allá de simples variables individuales, como listas de elementos, registros de información, relaciones entre datos, etc.\n",
    "<p>&nbsp;</p>\n",
    "\n",
    "- ***Acceso eficiente:*** Si necesitas acceder, buscar, insertar o eliminar elementos de manera eficiente. Las estructuras de datos adecuadas pueden reducir el tiempo de ejecución y mejorar el rendimiento de tu programa.\n",
    "<p>&nbsp;</p>\n",
    "\n",
    "- ***Complejidad de algoritmos:*** Cuando estás desarrollando algoritmos y operaciones que requieren una estructura específica para lograr una complejidad óptima. Por ejemplo, una búsqueda en una tabla hash puede ser mucho más rápida que una búsqueda lineal en una lista no ordenada.\n",
    "<p>&nbsp;</p>\n",
    "- ***Mantenimiento del código:*** Si deseas escribir un código más organizado y mantenible. Utilizar las estructuras de datos adecuadas puede hacer que tu código sea más claro y fácil de entender para otros desarrolladores.\n",
    "<p>&nbsp;</p>\n",
    "\n",
    "- ***Requisitos del problema:*** Cuando el problema que estás resolviendo se adapta naturalmente a una estructura de datos específica. Por ejemplo, si estás implementando un sistema de navegación, los grafos podrían ser una elección lógica para representar las rutas.\n",
    "<p>&nbsp;</p>\n",
    "\n",
    "- ***Optimización de recursos:*** Si necesitas administrar de manera eficiente los recursos de memoria y tiempo en tu programa. Al elegir la estructura de datos correcta, puedes minimizar el uso de recursos y lograr un mejor rendimiento.\n",
    "<p>&nbsp;</p>\n",
    "\n",
    "- ***Escalabilidad:*** Cuando estás desarrollando aplicaciones que deben manejar grandes cantidades de datos. Las estructuras de datos eficientes pueden marcar la diferencia en la capacidad de tu programa para escalar correctamente.\n",
    "\n"
   ]
  },
  {
   "cell_type": "markdown",
   "id": "a0876538",
   "metadata": {},
   "source": [
    "### Objetivos de la Estructura de Datos"
   ]
  },
  {
   "cell_type": "markdown",
   "id": "92d39d71",
   "metadata": {},
   "source": [
    "La estructura de datos implementa básicamente dos objetivos complementarios.\n",
    "\n",
    "- ***Corrección:*** La estructura de datos está diseñada de tal manera que funcione correctamente para todo tipo de entradas, basándose en el dominio de interés. En otras palabras, la corrección constituye el objetivo principal de la estructura de datos, que siempre depende de los problemas específicos que la estructura de datos pretende resolver.\n",
    "<p>&nbsp;</p>\n",
    "\n",
    "- ***Eficiencia:*** La estructura de datos también necesita ser eficiente. Debería procesar los datos a alta velocidad sin utilizar muchos de los recursos informáticos, como el espacio de memoria. En un estado de tiempo real, la eficiencia de una estructura de datos es un factor importante que determina el éxito o fracaso del proceso."
   ]
  },
  {
   "cell_type": "markdown",
   "id": "b515968a",
   "metadata": {},
   "source": [
    "### Características de la Estructura de Datos"
   ]
  },
  {
   "cell_type": "markdown",
   "id": "d89fc1ac",
   "metadata": {},
   "source": [
    "Algunas de las características importantes de las estructuras de datos son:\n",
    "\n",
    "- ***Robustez:*** Generalmente, todos los programadores de computadoras desean producir software que genere una salida correcta para cada posible entrada proporcionada, así como ejecutarse eficientemente en todas las plataformas de hardware. Este tipo de software robusto debe ser capaz de manejar tanto entradas válidas como inválidas.\n",
    "<p>&nbsp;</p>\n",
    "\n",
    "- ***Adaptabilidad:*** Desarrollar proyectos de software como procesadores de texto, navegadores web y motores de búsqueda en Internet implica grandes sistemas de software que trabajan o se ejecutan correctamente y de manera eficiente durante muchos años. Además, el software evoluciona debido a las cambiantes condiciones del mercado o a las tecnologías emergentes.\n",
    "<p>&nbsp;</p>\n",
    "\n",
    "- ***Reutilización:*** La reutilización y la adaptabilidad van de la mano.\n",
    "\n",
    "Es un hecho conocido que el programador requiere de muchos recursos para desarrollar cualquier software, lo que lo convierte en una empresa costosa. Sin embargo, si el software se desarrolla de una manera reutilizable y adaptable, entonces puede implementarse en la mayoría de las aplicaciones futuras. Por lo tanto, al implementar estructuras de datos de calidad, es posible desarrollar software reutilizable, lo que tiende a ser rentable y ahorra tiempo."
   ]
  },
  {
   "cell_type": "markdown",
   "id": "c037077e",
   "metadata": {},
   "source": [
    "### Ejemplo de una estructura de datos simple"
   ]
  },
  {
   "cell_type": "markdown",
   "id": "b516523d",
   "metadata": {},
   "source": [
    "***Tomado de:*** Marcela Sena, Estructuras de Datos. Primera parte — Arrays, Linked lists, Stacks, Queues.  \n",
    "[![Medium](https://img.shields.io/badge/Medium-12100E?style=plastic&logo=medium&logoColor=white)](https://marcestarlet.medium.com/)\n"
   ]
  },
  {
   "cell_type": "markdown",
   "id": "77d8f621",
   "metadata": {},
   "source": [
    "¿De qué forma puedo saber si una palabra tiene exactamente las mismas letras que otra palabra? O dicho de otra forma, ¿cómo saber si una palabra es una permutación de otra palabra?.\n",
    "\n",
    "Si queremos resolver este problema con papel y lápiz, basta con escribir las palabras y visualmente identificar si ambas palabras tienen las mismas letras, una forma rápida es contar mentalmente el número de cada tipo de letra en ambas palabras y si tienen el mismo número entonces si es una permutación.\n",
    "\n",
    "<p float=\"center\">\n",
    "  <img src=\"https://github.com/carlosalvarezh/EstructuraDatosAlgoritmos1/blob/main/Images/ProblemaLapiz01.webp?raw=true\" width=\"350\" />\n",
    "</p>\n",
    "\n",
    "Pero si quisiéramos resolverlo mediante programación tenemos que decirle a la computadora como saber que es una palabra y decirle cómo debe comparar las palabras de la misma forma en que lo resolvimos en papel y lápiz, ¿Se te ocurre alguna forma?.\n",
    "\n",
    "Qué tal si pensamos en las palabras como una estructura de casillas de letras secuenciales (array ó arreglo) donde cada letra representa una casilla en esta estructura. A cada casilla le damos un índice con el cual podemos acceder a ella para saber qué letra tiene contenida, esto le indicará a la computadora cómo reconocer una palabra.\n",
    "\n",
    "<p float=\"center\">\n",
    "  <img src=\"https://github.com/carlosalvarezh/EstructuraDatosAlgoritmos1/blob/main/Images/ProblemaLapiz02.webp?raw=true\" width=\"350\" />\n",
    "</p>\n",
    "\n",
    "Ahora, para resolver el problema debemos saber cómo comparar las palabras y sus letras, lo primero que podemos evaluar es el length ó longitud de la palabra, o sea, cuántos caracteres tiene; si las palabras tienen diferente número de caracteres entonces no tiene sentido comparar más, ya sabemos que NO tendrán exactamente las mismas letras. Lo siguiente será contar las letras por tipo de letra. En el ejemplo anterior de las palabras “casa” y “saca” contamos las letras mentalmente, pero las escribimos en el papel con una estructura muy específica, cada letra que encontramos se asocia al número que contamos; entonces, ¿habrá alguna estructura de datos que me ayude a asociar las letras con el número que contamos?, la respuesta es sí. Podemos pensar en esta asociación como una estructura de tipo key-value (llave-valor) llamada dictionary ó diccionario, donde la letra es la llave y su valor asociado es el número contado; además, en esta estructura no debemos repetir la llave porque de lo contrario tendremos letras repetidas y no podremos contar, es por eso que la estructura dictionary es distinta al array, ya que en el array si podemos repetir letras, pero en esta otra estructura no deberíamos permitirlo ya que eso sería lo que nos permita resolver el problema de contar.\n",
    "\n",
    "<p float=\"center\">\n",
    "  <img src=\"https://github.com/carlosalvarezh/EstructuraDatosAlgoritmos1/blob/main/Images/ProblemaLapiz03.webp?raw=true\" width=\"350\" />\n",
    "</p>\n",
    "\n",
    "De modo que para operar la estructura array tenemos que hacerlo recorriendo una a una todas las casillas para obtener las letras mediante su índice; la casilla 0 contiene a la letra “c”, la casilla 1 contiene la letra “a” y así sucesivamente. Para el caso de la estructura dictionary podemos decir que vamos a operar en ella a través de su key (llave); la llave “c” tiene asociado el valor 1, la llave “a” tiene asociado el valor 2, y así sucesivamente. Cada vez que encontremos una letra la pondremos en la estructura dictionary, si no existe se agrega y se asocia con el valor 1, sí ya existe entonces “contamos” y a su valor le sumamos +1.\n",
    "\n",
    "Hasta este punto las estructuras de datos nos han ayudado a resolver este problema con el simple hecho de tener nuestros valores organizados y definiendo la forma en la que podemos operar sobre ellos; aún quedan varios pasos más para resolver el problema por completo pero eso pasa a ser objeto de otro tema en programación que son los algoritmos. Por ahora nos basta con identificar las estructuras de datos."
   ]
  },
  {
   "cell_type": "markdown",
   "id": "127bf56c",
   "metadata": {},
   "source": [
    "### Clasificación de las estructuras de datos"
   ]
  },
  {
   "cell_type": "markdown",
   "id": "e0ea859c",
   "metadata": {},
   "source": [
    "#### Introducción"
   ]
  },
  {
   "cell_type": "markdown",
   "id": "0861ee5a",
   "metadata": {},
   "source": [
    "Una estructura de datos proporciona un conjunto estructurado de variables que están asociadas entre sí de diferentes maneras. Forma la base de una herramienta de programación que representa la relación entre los elementos de datos y ayuda a los programadores a procesar los datos fácilmente.\n",
    "\n",
    "La estructura de datos se puede clasificar en dos categorías:\n",
    "\n",
    "- Estructura de datos primitiva\n",
    "<p>&nbsp;</p>\n",
    "\n",
    "- Estructura de datos no primitiva\n",
    "\n",
    "En el siguiente diagrama se observa dicha clasificación:\n",
    "\n",
    "<p float=\"center\">\n",
    "  <img src=\"https://github.com/carlosalvarezh/EstructuraDatosAlgoritmos1/blob/main/Images/DataStuctureClassification1.PNG?raw=true\" width=\"350\" />\n",
    "</p>\n",
    "<p style=\"text-align: center;\">\n",
    "    <strong>Fuente:</strong> Elaboración propia.\n",
    "</p>"
   ]
  },
  {
   "cell_type": "markdown",
   "id": "f9944a2b",
   "metadata": {},
   "source": [
    "#### Estructura de Datos Primitiva"
   ]
  },
  {
   "cell_type": "markdown",
   "id": "5d0227d7",
   "metadata": {},
   "source": [
    "Las estructuras de datos primitivas consisten en números y caracteres que están integrados en los programas. Estos pueden ser manipulados u operados directamente por instrucciones a nivel de máquina. Tipos de datos básicos como *entero*, *real*, *carácter* y *booleano* entran en la categoría de estructuras de datos primitivas. Estos tipos de datos también son conocidos como tipos de datos simples porque consisten en caracteres que no se pueden dividir.\n",
    "\n",
    "A menera de ejemplo, en python dichas estructuras primitivas son:"
   ]
  },
  {
   "cell_type": "code",
   "execution_count": null,
   "id": "90ed0250",
   "metadata": {},
   "outputs": [],
   "source": [
    "# int (entero) números sin decimales\n",
    "entero = 5\n",
    "type(entero)"
   ]
  },
  {
   "cell_type": "code",
   "execution_count": null,
   "id": "c4f64daf",
   "metadata": {},
   "outputs": [],
   "source": [
    "#float (punto flotante) - números con decimales\n",
    "flotante = 3.1416\n",
    "type(flotante)"
   ]
  },
  {
   "cell_type": "code",
   "execution_count": null,
   "id": "153b7d80",
   "metadata": {},
   "outputs": [],
   "source": [
    "#bool (booleano) - True/False\n",
    "booleano = entero == flotante \n",
    "print(booleano)\n",
    "type(booleano)"
   ]
  },
  {
   "cell_type": "code",
   "execution_count": null,
   "id": "c86c883f",
   "metadata": {},
   "outputs": [],
   "source": [
    "#str (cadena caracteres) -  Representa texto\n",
    "texto = \"Hola Mundo!\"\n",
    "type(texto)"
   ]
  },
  {
   "cell_type": "markdown",
   "id": "64484572",
   "metadata": {},
   "source": [
    "#### Estructura de Datos No Primitiva"
   ]
  },
  {
   "cell_type": "markdown",
   "id": "5cf04522",
   "metadata": {},
   "source": [
    "Las estructuras de datos no primitivas son aquellas que se derivan de las estructuras de datos primitivas. Estas estructuras de datos no pueden ser operadas o manipuladas directamente por instrucciones a nivel de máquina. Se centran en la formación de un conjunto de elementos de datos que es homogéneo (mismo tipo de datos) o heterogéneo (diferentes tipos de datos).\n",
    "\n",
    "Estas se dividen aún más en estructuras de datos lineales y no lineales basadas en la estructura y disposición de los datos.\n",
    "\n",
    "- ***Estructura de Datos Lineal:*** Una estructura de datos que mantiene una relación lineal entre sus elementos se llama estructura de datos lineal. Aquí, los datos se organizan de manera lineal. Sin embargo, en la memoria, la disposición puede no ser secuencial. *Ej.* Arreglos, listas enlazadas, pilas, colas.\n",
    "<p>&nbsp;</p>\n",
    "\n",
    "- ***Estructura de Datos No Lineal:*** Una estructura de datos no lineal es un tipo de estructura de datos en la cual los elementos de datos no están dispuestos en un orden secuencial. Existe una relación jerárquica entre los elementos de datos individuales. Aquí, la inserción y eliminación de datos no es posible de una manera lineal. Los árboles y los grafos son ejemplos de estructuras de datos no lineales.\n",
    "\n",
    "En [internet](https://en.wikipedia.org/wiki/List_of_data_structures) se pueden consultar una gran variedad de tipos de estructuras de datos. En los siguientes capítulos veremos las que son más usadas para la solución de la mayoría de problemas prácticos y que son de interés para este curso, pero no son las únicas."
   ]
  },
  {
   "cell_type": "markdown",
   "id": "40917b31",
   "metadata": {},
   "source": [
    "## Hablemos un poco de complejidad"
   ]
  },
  {
   "cell_type": "markdown",
   "id": "2a2e3581",
   "metadata": {},
   "source": [
    "### Concepto de Complejidad en Estructuras de Datos y Algoritmos"
   ]
  },
  {
   "cell_type": "markdown",
   "id": "dfef2071",
   "metadata": {},
   "source": [
    "La \"complejidad\" en programación se refiere a la evaluación cuantitativa del rendimiento de un algoritmo. Este rendimiento se mide principalmente en dos dimensiones: el tiempo que toma ejecutar el algoritmo (complejidad temporal) y la cantidad de memoria que el algoritmo utiliza (complejidad espacial). Comprender la complejidad es crucial para el diseño eficiente de algoritmos y la selección de estructuras de datos apropiadas."
   ]
  },
  {
   "cell_type": "markdown",
   "id": "8aaa84c0",
   "metadata": {},
   "source": [
    "### Complejidad Temporal"
   ]
  },
  {
   "cell_type": "markdown",
   "id": "43e6e2d8",
   "metadata": {},
   "source": [
    "La complejidad temporal analiza el tiempo de ejecución de un algoritmo en función del tamaño del conjunto de datos de entrada. No se mide en unidades de tiempo estándar, sino en términos del número de operaciones fundamentales (como comparaciones, asignaciones, etc.) que se realizan. Su objetivo es proporcionar una estimación de cómo aumenta el tiempo de ejecución a medida que crece el tamaño de los datos."
   ]
  },
  {
   "cell_type": "markdown",
   "id": "561a042b",
   "metadata": {},
   "source": [
    "###  Complejidad Espacial"
   ]
  },
  {
   "cell_type": "markdown",
   "id": "6af436c4",
   "metadata": {},
   "source": [
    "La complejidad espacial se centra en la cantidad de memoria que se necesita para ejecutar un algoritmo. Al igual que la complejidad temporal, se mide en términos relativos a la cantidad de datos de entrada. Un algoritmo que necesita almacenar una cantidad de datos proporcional al tamaño de los datos de entrada tiene una mayor complejidad espacial que uno que utiliza una cantidad fija de memoria, independientemente del tamaño de los datos de entrada."
   ]
  },
  {
   "cell_type": "markdown",
   "id": "3e57d75d",
   "metadata": {},
   "source": [
    "### Notación Asintótica"
   ]
  },
  {
   "cell_type": "markdown",
   "id": "b7cad1d3",
   "metadata": {},
   "source": [
    "La notación asintótica es una herramienta matemática utilizada para describir la complejidad de un algoritmo de manera simplificada. Las más comunes son:\n",
    "\n",
    "- ***Notación $\\mathcal{O}$ Grande (Big $\\mathcal{O}$):*** Utilizada para describir el límite superior de la complejidad de un algoritmo. Indica el peor escenario posible en términos de tiempo o espacio.\n",
    "<p>&nbsp;</p>\n",
    "\n",
    "- ***Notación $\\Omega$ (Omega):*** Representa el límite inferior, mostrando el mejor caso.\n",
    "<p>&nbsp;</p>\n",
    "\n",
    "- ***Notación $\\Theta$ (Theta):*** Combina ambos, $\\mathcal{O}$ y $\\Omega$, proporcionando una medida precisa para el caso promedio."
   ]
  },
  {
   "cell_type": "markdown",
   "id": "364d0a86",
   "metadata": {},
   "source": [
    "### Ejemplo: Cálculo de Complejidad Algoritmo de Búsqueda Lineal"
   ]
  },
  {
   "cell_type": "markdown",
   "id": "34a25171",
   "metadata": {},
   "source": [
    "Consideremos un algoritmo simple: la búsqueda lineal en un arreglo. Este algoritmo revisa cada elemento del arreglo secuencialmente hasta encontrar el elemento deseado o hasta que se revisen todos los elementos.\n",
    "\n",
    "***Pseudo Código de Búsqueda Lineal:***\n",
    "```\n",
    "función búsquedaLineal(arreglo, elementoABuscar)\n",
    "    para cada índice en arreglo\n",
    "        si arreglo[índice] es igual a elementoABuscar\n",
    "            retornar índice\n",
    "    retornar -1\n",
    "```\n",
    "\n",
    "***Análisis de Complejidad Temporal:***\n",
    "\n",
    "- En el mejor caso (el elemento se encuentra en la primera posición), la complejidad es $\\mathcal{O}(1)$ – tiempo constante.\n",
    "<p>&nbsp;</p>\n",
    "\n",
    "- En el peor caso (el elemento no está o está en la última posición), la complejidad es $\\mathcal{O}(n)$, donde $n$ es el número de elementos en el arreglo – tiempo lineal.\n",
    "<p>&nbsp;</p>\n",
    "\n",
    "- Por lo tanto, decimos que la complejidad temporal de la búsqueda lineal es $\\mathcal{O}(n)$.\n",
    "\n",
    "***Análisis de Complejidad Espacial:***\n",
    "\n",
    "- La búsqueda lineal utiliza una cantidad constante de memoria adicional, por lo que su complejidad espacial es $\\mathcal{O}(1)$ – espacio constante."
   ]
  },
  {
   "cell_type": "code",
   "execution_count": null,
   "id": "91df890c",
   "metadata": {},
   "outputs": [],
   "source": []
  }
 ],
 "metadata": {
  "kernelspec": {
   "display_name": "Python 3 (ipykernel)",
   "language": "python",
   "name": "python3"
  },
  "language_info": {
   "codemirror_mode": {
    "name": "ipython",
    "version": 3
   },
   "file_extension": ".py",
   "mimetype": "text/x-python",
   "name": "python",
   "nbconvert_exporter": "python",
   "pygments_lexer": "ipython3",
   "version": "3.11.3"
  },
  "toc": {
   "base_numbering": 1,
   "nav_menu": {},
   "number_sections": true,
   "sideBar": true,
   "skip_h1_title": true,
   "title_cell": "Table of Contents",
   "title_sidebar": "Contents",
   "toc_cell": false,
   "toc_position": {
    "height": "calc(100% - 180px)",
    "left": "10px",
    "top": "150px",
    "width": "256px"
   },
   "toc_section_display": true,
   "toc_window_display": false
  }
 },
 "nbformat": 4,
 "nbformat_minor": 5
}
