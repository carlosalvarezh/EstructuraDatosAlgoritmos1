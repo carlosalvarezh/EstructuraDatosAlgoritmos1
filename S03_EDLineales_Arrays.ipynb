{
 "cells": [
  {
   "cell_type": "markdown",
   "id": "40e82729",
   "metadata": {},
   "source": [
    "<h1 align=\"center\">Estructura de Datos y Algoritmos I</h1>\n",
    "<h1 align=\"center\">Estructuras de Datos Lineales - Arrays</h1>\n",
    "<h1 align=\"center\">2024</h1>\n",
    "<h1 align=\"center\">MEDELLÍN - COLOMBIA </h1>"
   ]
  },
  {
   "cell_type": "markdown",
   "id": "dc077936",
   "metadata": {},
   "source": [
    "*** \n",
    "|[![Outlook](https://img.shields.io/badge/Microsoft_Outlook-0078D4?style=plastic&logo=microsoft-outlook&logoColor=white)](mailto:calvar52@eafit.edu.co)||[![Open In Colab](https://colab.research.google.com/assets/colab-badge.svg)](https://colab.research.google.com/github/carlosalvarezh/EstructuraDatosAlgoritmos1/blob/main/S03_EDLineales_Arrays.ipynb)\n",
    "|-:|:-|--:|\n",
    "|[![LinkedIn](https://img.shields.io/badge/linkedin-%230077B5.svg?style=plastic&logo=linkedin&logoColor=white)](https://www.linkedin.com/in/carlosalvarez5/)|[![@alvarezhenao](https://img.shields.io/twitter/url/https/twitter.com/alvarezhenao.svg?style=social&label=Follow%20%40alvarezhenao)](https://twitter.com/alvarezhenao)|[![@carlosalvarezh](https://img.shields.io/badge/github-%23121011.svg?style=plastic&logo=github&logoColor=white)](https://github.com/carlosalvarezh)|\n",
    "\n",
    "<table>\n",
    " <tr align=left><td><img align=left src=\"https://github.com/carlosalvarezh/Curso_CEC_EAFIT/blob/main/images/CCLogoColorPop1.gif?raw=true\" width=\"25\">\n",
    " <td>Text provided under a Creative Commons Attribution license, CC-BY. All code is made available under the FSF-approved MIT license.(c) Carlos Alberto Alvarez Henao</td>\n",
    "</table>\n",
    "\n",
    "***"
   ]
  },
  {
   "cell_type": "markdown",
   "id": "09869a41",
   "metadata": {},
   "source": [
    "<p float=\"center\">\n",
    "  <img src=\"https://github.com/carlosalvarezh/EstructuraDatosAlgoritmos1/blob/main/Images/Arrays.PNG?raw=true\" width=\"1000\" />\n",
    "</p>\n",
    "\n",
    "<p style=\"text-align: center;\">\n",
    "    <strong>Tomado de:</strong> Fuentes varias de internet. Todas las imagenes tienen libre reproducción.\n",
    "</p>"
   ]
  },
  {
   "cell_type": "markdown",
   "id": "4609875c",
   "metadata": {},
   "source": [
    "## Introducción"
   ]
  },
  {
   "cell_type": "markdown",
   "id": "eb24b163",
   "metadata": {},
   "source": [
    "En el campo de la ciencia de la computación, cuando se trata de almacenar una colección de elementos de manera ordenada, la opción más común es utilizar un arreglo (conocido como Array en inglés). Es importante destacar que el término *\"ordenado\"* en este contexto se refiere a la organización estructurada, homogénea y lineal de los elementos en el arreglo (denominado *ordered* en inglés). Esto no implica que los elementos estén necesariamente dispuestos en un orden específico, como podría ser ascendente o descendente (lo que se conoce como *sort*).\n",
    "\n",
    "Entrando en materia, los [Arreglos (Arrays)](https://en.wikipedia.org/wiki/Array_(data_structure)) son colecciones ordenadas de elementos del mismo tipo (*Enteros, Flotante, Caracter, etc.*). Estos elementos se almacenan en ubicaciones contiguas de memoria y se accede a ellos mediante índices. Los arreglos son comúnmente usados para acceder rápidamente a elementos a través de índices, especialmente cuando el tamaño se conoce de antemano. Su principal ventaja radica en el acceso directo a elementos y su uso eficiente de memoria. Sin embargo, tienen la limitación de un tamaño fijo, lo que hace costosas las operaciones de inserción o eliminación.\n",
    "\n",
    "Como se indicó, son estructuras de datos de tamaño fijo de modo que cada elemento puede ser eficientemente ubicado por su índice (*index*) ó dirección. Exactamente como lo vimos en el ejemplo anterior un array tiene una tamaño fijo y una dirección (*index*) con la cual podemos localizar de forma rápida un elemento en el arreglo, de modo que podemos apuntar a un elemento en el array de la siguiente forma: `array[index]`, donde `array` es el nombre de nuestra estructura, seguida de dos “corchetes” que abren y cierran, donde especificamos el `index` que deseamos apuntar.\n",
    "\n",
    "<p float=\"center\">\n",
    "  <img src=\"https://github.com/carlosalvarezh/EstructuraDatosAlgoritmos1/blob/main/Images/Arrays1.PNG?raw=true\" width=\"750\" />\n",
    "</p>\n",
    "<p style=\"text-align: center;\">\n",
    "    <strong>Fuente:</strong> Elaboración propia.\n",
    "</p>\n",
    "\n",
    "<div class=\"alert alert-info\" role=\"alert\">\n",
    "  <strong>Nota:</strong> Dependiendo del lenguaje utilizado, el índice del arreglo comenzará en cero (0) o en (1). Se discutirá más adelante.\n",
    "</div>"
   ]
  },
  {
   "cell_type": "markdown",
   "id": "15e6d8d9",
   "metadata": {},
   "source": [
    "## Ventajas de la estructura `array`"
   ]
  },
  {
   "cell_type": "markdown",
   "id": "7d716eef",
   "metadata": {},
   "source": [
    "Los arrays muestran algunas ventajas con respecto a otras estructuras, como por ejemplo:\n",
    "\n",
    "- Al tener un espacio contiguo en memoria cada index de cada elemento del array apunta directamente a una dirección de memoria, de esta forma podemos acceder arbitrariamente a los datos de forma instantánea puesto que sabemos la dirección de memoria exacta. Esto deriva en un ***acceso de tiempo constante*** dado por los index.\n",
    "<p>&nbsp;</p>\n",
    "\n",
    "- Los arrays son puramente datos lo que significa que no es necesario desperdiciar espacio en memoria almacenando información extra que ayude a la localización de sus elementos como es el caso de las estructuras enlazadas, los arrays tienen ***eficiencia de espacio***.\n",
    "<p>&nbsp;</p>\n",
    "\n",
    "- ***Localidad de memoria***, es común que en la programación los datos de una estructura sean iterados (o recorridos) y los arrays son buenos para esto ya que exhiben excelente localización de memoria, permitiéndonos aprovechar la alta velocidad de la caché en computadoras modernas."
   ]
  },
  {
   "cell_type": "markdown",
   "id": "bc27ebb4",
   "metadata": {},
   "source": [
    "## Creación de un `array`"
   ]
  },
  {
   "cell_type": "markdown",
   "id": "b91d6541",
   "metadata": {},
   "source": [
    "Dependiendo del lenguaje de programación empleado, la indexación puede empezar en cero ($0$) o en ($1$). Básicamente, lenguajes como el $\\texttt{C}$ y sus \"derivados\" ($\\texttt{C++}$, $\\text{Java}$, $\\text{Python}$, etc.), inicializan en cero ($0$). Otros lenguajes como el $\\text{Fortran}$ o $\\text{Matlab}$, más enfocados a aplicaciones científicas, inicializan en uno ($1$).\n",
    "\n",
    "A continuación veamos algunos ejemplos de cómo se crean arrays empleando diferentes lenguajes de programación. Por configuración inicial de la plataforma, con el uso de $\\text{Jupyter Notbook}$ solo se puede ejecutar el correspondiente al lenguaje $\\text{Python}$, ya que es el único kernel activado. Para poder ejecutar los otros códigos, es necesario configurar otros kernel o emplear un IDE de su preferencia."
   ]
  },
  {
   "cell_type": "markdown",
   "id": "a1a84436",
   "metadata": {},
   "source": [
    "- ***C/C++***\n",
    "```C\n",
    "#include <stdio.h>\n",
    "int main() {\n",
    "    char arr[] = {'a', 'b', 'c', 'd', 'e'};\n",
    "    return 0;\n",
    "}\n",
    "```"
   ]
  },
  {
   "cell_type": "markdown",
   "id": "b6d6a85b",
   "metadata": {},
   "source": [
    "- ***java***\n",
    "\n",
    "```java\n",
    "public class Main {\n",
    "    public static void main(String[] args) {\n",
    "        char[] arr = {'a', 'b', 'c', 'd', 'e'};\n",
    "    }\n",
    "}\n",
    "```"
   ]
  },
  {
   "cell_type": "markdown",
   "id": "074a23b7",
   "metadata": {},
   "source": [
    "- ***Fortran***\n",
    "\n",
    "```fortran\n",
    "PROGRAM main\n",
    "    CHARACTER(len=1), DIMENSION(5) :: arr = (/ 'a', 'b', 'c', 'd', 'e' /)\n",
    "END PROGRAM main\n",
    "```"
   ]
  },
  {
   "cell_type": "markdown",
   "id": "4d6d5b6a",
   "metadata": {},
   "source": [
    "- ***Matlab***\n",
    "\n",
    "```matlab\n",
    "arr = ['a', 'b', 'c', 'd', 'e'];\n",
    "```"
   ]
  },
  {
   "cell_type": "code",
   "execution_count": null,
   "id": "787e8b0d",
   "metadata": {},
   "outputs": [],
   "source": [
    "# python (ejecutarlo)\n",
    "arr = ['a', 'b', 'c', 'd', 'e']\n",
    "print(arr)"
   ]
  },
  {
   "cell_type": "code",
   "execution_count": null,
   "id": "b14f5a23",
   "metadata": {},
   "outputs": [],
   "source": [
    "arr[1] #se accede al elemento deseado mediante el índice"
   ]
  },
  {
   "cell_type": "markdown",
   "id": "b4fd71b0",
   "metadata": {},
   "source": [
    "<div class=\"alert alert-info\" role=\"alert\">\n",
    "  <strong>Nota:</strong> Dependiendo del lenguaje utilizado para codificar la estructura de datos, la cantidad de elementos que contiene un arreglo no coincidirá necesariamente con el valor del último índice. Por ejemplo, en Python, un arreglo que contiene (len) 5 elementos ['a', 'b', 'c', 'd', 'e'], el índice de su último elemento ('e') será 4.\n",
    "</div>"
   ]
  },
  {
   "cell_type": "markdown",
   "id": "e0403435",
   "metadata": {},
   "source": [
    "## Consideraciones Adicionales al Trabajar con `array`"
   ]
  },
  {
   "cell_type": "markdown",
   "id": "5f2e5192",
   "metadata": {},
   "source": [
    "- ***Rendimiento:*** El acceso a los elementos de un array es muy rápido, pero operaciones como insertar o eliminar elementos pueden ser lentas, especialmente en arrays grandes, ya que pueden requerir desplazar muchos elementos.\n",
    "<p>&nbsp;</p>\n",
    "\n",
    "- ***Memoria:*** Aunque los arrays pueden ser eficientes en el uso del espacio, el tamaño fijo puede llevar tanto a la fragmentación de la memoria como al desperdicio de espacio si el array no se llena completamente.\n",
    "<p>&nbsp;</p>\n",
    "\n",
    "- ***Arrays Dinámicos:*** En lenguajes como $Java$ y $Python$, las estructuras como `ArrayList` o `list` respectivamente, manejan automáticamente el redimensionamiento, proporcionando la flexibilidad de un array que puede crecer o encogerse según sea necesario."
   ]
  },
  {
   "cell_type": "markdown",
   "id": "e39b3299",
   "metadata": {},
   "source": [
    "## Estructuras tipo `list` vs `array`"
   ]
  },
  {
   "cell_type": "markdown",
   "id": "0f9074ee",
   "metadata": {},
   "source": [
    "En el campo de la programación, el estudio de las estructuras de datos es fundamental para entender cómo se organizan y gestionan los datos. Entre estas estructuras, los arreglos (o *arrays*) se destacan como un componente esencial, definidos como colecciones secuenciales de elementos almacenados de manera contigua en memoria. A partir de esta base estructurada que ofrecen los arreglos, emerge una variante más dinámica y adaptable: la estructura conocida como \"*lista*\". A menudo vista como una entidad distinta, las listas pueden interpretarse como una adaptación o una subestructura de los arreglos, proporcionando una flexibilidad y una capacidad de adaptación que supera la rigidez inherente a los arreglos.\n",
    "\n",
    "Al profundizar en la relación entre arreglos y listas, se observa una transición de una organización de datos rígida y predefinida a una más fluida y adaptable. Por ejemplo, en lenguajes como $\\text{Python}$, las listas amplían el concepto de arreglos al permitir modificar el tamaño y el tipo de elementos que pueden contener. En contraste, lenguajes como $\\texttt{C}$ y $\\text{Fortran}$ utilizan arreglos como bloques de construcción básicos, mientras implementan estructuras equivalentes a listas a través de enlaces o punteros, demostrando así diferentes enfoques en la gestión de datos.\n",
    "\n",
    "La diversidad en el tratamiento de arreglos y listas en distintos lenguajes de programación, desde $\\text{Fortran}$ y $\\text{Matlab}$ con un enfoque en cálculos científicos hasta $\\text{java}$ y $\\text{.NET}$ con sus `ArrayLists` y `Lists`, revela no solo las peculiaridades de cada estructura sino también la riqueza y diversidad del desarrollo de software. Esta comprensión nos permite no solo apreciar las listas como una evolución de los arreglos, sino también entender cómo cada lenguaje se adapta a requisitos específicos, equilibrando eficiencia, control y flexibilidad.\n",
    "\n",
    "Comprender las listas y los arreglos no como entidades completamente independientes sino como puntos en un espectro de estructuras de datos que varían en términos de rigidez y flexibilidad es clave para tomar decisiones informadas en programación. Esta perspectiva integral juega un papel crucial en la selección de la herramienta adecuada para cada tarea específica, reflejando la adaptabilidad y la diversidad inherentes a la programación y cómo estructuras aparentemente simples pueden ofrecer una variedad de matices y versatilidad en su aplicación práctica.\n"
   ]
  },
  {
   "cell_type": "markdown",
   "id": "ebc4aa9a",
   "metadata": {},
   "source": [
    "## Diferencia entre `list`, `array` y `np.array` (Python)"
   ]
  },
  {
   "cell_type": "markdown",
   "id": "fbd730da",
   "metadata": {},
   "source": [
    "En Python, la estructura de datos conocida como \"`array`\", proporcionada por el módulo `array`, no es exactamente una entidad matemática en el sentido más estricto, como lo serían las matrices en matemáticas o las estructuras proporcionadas por bibliotecas como `NumPy`. Sin embargo, hay algunos matices importantes que considerar:"
   ]
  },
  {
   "cell_type": "markdown",
   "id": "f0720160",
   "metadata": {},
   "source": [
    "### Listas en Python"
   ]
  },
  {
   "cell_type": "markdown",
   "id": "774839b5",
   "metadata": {},
   "source": [
    "Las [listas](https://docs.python.org/3/reference/datamodel.html#index-25) en Python son estructuras de datos generales que pueden contener elementos de diferentes tipos y no están diseñadas específicamente para cálculos matemáticos.\n",
    "Para realizar operaciones matemáticas como la suma elemento por elemento en listas, necesitarías iterar a través de los elementos de las listas, generalmente usando bucles o comprensiones de listas."
   ]
  },
  {
   "cell_type": "code",
   "execution_count": null,
   "id": "be995890",
   "metadata": {},
   "outputs": [],
   "source": [
    "lista1 = [1,2,3]\n",
    "lista2 = [4,5,6]\n",
    "suma_lista = lista1 + lista2\n",
    "print(suma_lista)"
   ]
  },
  {
   "cell_type": "markdown",
   "id": "2b390723",
   "metadata": {},
   "source": [
    "Obsérvese que el resultado es la concatenación de ambas listas. Para poder realizar el procedimiento matemático de sumar dos listas, debemos hacerlos componente a componente mediante ciclo..."
   ]
  },
  {
   "cell_type": "code",
   "execution_count": null,
   "id": "43ae977e",
   "metadata": {},
   "outputs": [],
   "source": [
    "lista = []\n",
    "for i in range(len(lista1)):\n",
    "    lista.append(lista1[i] + lista2[i])\n",
    "print(lista)"
   ]
  },
  {
   "cell_type": "markdown",
   "id": "81250b8b",
   "metadata": {},
   "source": [
    "o empleando la estructura [`list comprehension`](https://docs.python.org/3/tutorial/datastructures.html#list-comprehensions) de Python:"
   ]
  },
  {
   "cell_type": "code",
   "execution_count": null,
   "id": "bded4c85",
   "metadata": {},
   "outputs": [],
   "source": [
    "lista = [a + b for a, b in zip(lista1, lista2)]\n",
    "print(lista)"
   ]
  },
  {
   "cell_type": "markdown",
   "id": "f7fe59f8",
   "metadata": {},
   "source": [
    "### Módulo `array` en Python"
   ]
  },
  {
   "cell_type": "markdown",
   "id": "1e98e910",
   "metadata": {},
   "source": [
    "- El módulo [`array`](https://docs.python.org/3/library/array.html) en $\\text{Python}$ proporciona una estructura de datos que es más eficiente que las listas para ciertos tipos de operaciones numéricas, pero no está diseñada principalmente para cálculos matemáticos.\n",
    "<p>&nbsp;</p>\n",
    "\n",
    "- No se pueden realizar operaciones matemáticas directamente sobre arrays del módulo `array`. Por ejemplo, no se pueden sumar dos arrays con un simple `+`, como se haría con matrices."
   ]
  },
  {
   "cell_type": "code",
   "execution_count": null,
   "id": "41607a29",
   "metadata": {},
   "outputs": [],
   "source": [
    "from array import array\n",
    "arr1 = array('i', [1, 2, 3])\n",
    "arr2 = array('i', [4, 5, 6])\n",
    "suma = arr1 + arr2\n",
    "print(suma)"
   ]
  },
  {
   "cell_type": "markdown",
   "id": "eb16f9b9",
   "metadata": {},
   "source": [
    "### Módulo numpy.array"
   ]
  },
  {
   "cell_type": "markdown",
   "id": "1956eaf2",
   "metadata": {},
   "source": [
    "Para operaciones matemáticas más complejas, se utiliza la biblioteca [`NumPy`](https://numpy.org/) en Python, que ofrece una estructura de datos tipo array (numpy.array) diseñada específicamente para la manipulación numérica y matemática.\n",
    "Con los arrays de NumPy, puedes realizar operaciones matemáticas elemento por elemento directamente, como la suma de dos arrays."
   ]
  },
  {
   "cell_type": "code",
   "execution_count": null,
   "id": "1a04ddb8",
   "metadata": {},
   "outputs": [],
   "source": [
    "import numpy as np\n",
    "arr1 = np.array([1, 2, 3])\n",
    "arr2 = np.array([4, 5, 6])\n",
    "suma_arr = arr1 + arr2\n",
    "print(suma)"
   ]
  },
  {
   "cell_type": "markdown",
   "id": "37029da1",
   "metadata": {},
   "source": [
    "## Arreglos dinámicos"
   ]
  },
  {
   "cell_type": "markdown",
   "id": "2abef5fd",
   "metadata": {},
   "source": [
    "<p float=\"center\">\n",
    "  <img src=\"https://github.com/carlosalvarezh/EstructuraDatosAlgoritmos1/blob/main/Images/DynamicArrays.PNG?raw=true\" width=\"500\" />\n",
    "</p>\n",
    "\n",
    "<p style=\"text-align: center;\">\n",
    "    <strong>Fuente:</strong> Elaboración propia.\n",
    "</p>\n"
   ]
  },
  {
   "cell_type": "markdown",
   "id": "3a5372ef",
   "metadata": {},
   "source": [
    "### Introducción"
   ]
  },
  {
   "cell_type": "markdown",
   "id": "1f302862",
   "metadata": {},
   "source": [
    "Mientras que un arreglo estándar, como los vistos hasta ahora, requiere que el tamaño se especifique en el momento de su creación y no puede cambiar, un arreglo dinámico permite modificar su tamaño durante la ejecución del programa. Los arreglos dinámicos son una evolución de los arreglos tradicionales (\"estáticos\"), diseñados para superar una de sus principales limitaciones: el tamaño fijo. Esta flexibilidad los hace particularmente útiles en situaciones donde el número de elementos a almacenar no se conoce de antemano o puede cambiar con el tiempo.\n",
    "\n",
    "En lenguajes como $\\text{Python}$ o $\\text{JavaScript}$, arreglos o listas son inerentemente dinámicos. Esto significa que se puede crear una lista vacía y dinámicamente adicionar elementos sin tener qué preocuparnos por su tamaño."
   ]
  },
  {
   "cell_type": "markdown",
   "id": "28a8ac38",
   "metadata": {},
   "source": [
    "### Características de los Arreglos Dinámicos"
   ]
  },
  {
   "cell_type": "markdown",
   "id": "13477f53",
   "metadata": {},
   "source": [
    "- ***Redimensionamiento Automático:*** Pueden expandirse o contraerse automáticamente según sea necesario.\n",
    "<p>&nbsp;</p>\n",
    "\n",
    "- ***Eficiencia de Almacenamiento:*** Aunque generalmente más eficientes que las listas enlazadas en términos de acceso a los datos, pueden consumir más memoria para permitir el redimensionamiento.\n",
    "<p>&nbsp;</p>\n",
    "\n",
    "- ***Operaciones:*** Permiten operaciones comunes de arreglos, como acceso, inserción y eliminación de elementos, aunque las operaciones de inserción y eliminación pueden ser menos eficientes que en una lista enlazada."
   ]
  },
  {
   "cell_type": "code",
   "execution_count": null,
   "id": "525ecb72",
   "metadata": {},
   "outputs": [],
   "source": [
    "# creación de un arreglo (lista) dinámico en python\n",
    "# adición de elementos a la lista vacía\n",
    "\n",
    "lista = []\n",
    "for i in range(5):\n",
    "    lista.append(i)\n",
    "    print(lista)"
   ]
  },
  {
   "cell_type": "code",
   "execution_count": null,
   "id": "f755d3b7",
   "metadata": {},
   "outputs": [],
   "source": [
    "# eliminación de elementos de la lista\n",
    "for i in range(3):\n",
    "    lista.remove(i)\n",
    "    print(lista)"
   ]
  },
  {
   "cell_type": "markdown",
   "id": "e1981ae7",
   "metadata": {},
   "source": [
    "<div class=\"alert alert-success\" role=\"alert\">\n",
    "  <strong>Actividad para el estudiante:</strong> ¿Qué otros métodos, o funciones, se tiene en python para adicionar o quitar elementos en una lista?.\n",
    "</div>"
   ]
  },
  {
   "cell_type": "code",
   "execution_count": null,
   "id": "064d86a1",
   "metadata": {},
   "outputs": [],
   "source": [
    "# Desarrolle aquí la actividad"
   ]
  },
  {
   "cell_type": "markdown",
   "id": "5a64bd58",
   "metadata": {},
   "source": [
    "### Detrás de Escena de los Arreglos Dinámicos en la RAM"
   ]
  },
  {
   "cell_type": "markdown",
   "id": "19620e16",
   "metadata": {},
   "source": [
    "Entonces, ¿cómo se expanden y contraen los arreglos dinámicos en la memoria? Aquí está el truco."
   ]
  },
  {
   "cell_type": "markdown",
   "id": "c68b1aee",
   "metadata": {},
   "source": [
    "<p float=\"center\">\n",
    "  <img src=\"https://github.com/carlosalvarezh/EstructuraDatosAlgoritmos1/blob/main/Images/DynamicArrayRAM1.PNG?raw=true\" width=\"500\" />\n",
    "</p>\n",
    "\n",
    "<p style=\"text-align: center;\">\n",
    "    <strong>Fuente:</strong> Elaboración propia.\n",
    "</p>\n"
   ]
  },
  {
   "cell_type": "markdown",
   "id": "9f787c3b",
   "metadata": {},
   "source": [
    "#### Asignación Inicial de Memoria"
   ]
  },
  {
   "cell_type": "markdown",
   "id": "a736fc72",
   "metadata": {},
   "source": [
    "- Al igual que los arreglos estáticos, los arreglos dinámicos reciben un bloque de memoria cuando se crean. La diferencia clave es que este bloque inicial para un arreglo dinámico incluye espacio adicional, no solo para los elementos actuales sino también para permitir el crecimiento futuro."
   ]
  },
  {
   "cell_type": "markdown",
   "id": "da0ef762",
   "metadata": {},
   "source": [
    "#### Expansión de Memoria"
   ]
  },
  {
   "cell_type": "markdown",
   "id": "3075ba2a",
   "metadata": {},
   "source": [
    "- Si el número de elementos en el arreglo dinámico excede el espacio disponible en el bloque de memoria actual (incluyendo el espacio extra inicial), se necesita más espacio. \n",
    "<p>&nbsp;</p>\n",
    "\n",
    "- Para acomodar más elementos, el arreglo dinámico se \"traslada\" a un nuevo bloque de memoria, generalmente más grande."
   ]
  },
  {
   "cell_type": "markdown",
   "id": "2572db84",
   "metadata": {},
   "source": [
    "#### Copia de Elementos y Liberación de Memoria"
   ]
  },
  {
   "cell_type": "markdown",
   "id": "ef25b058",
   "metadata": {},
   "source": [
    "- Los elementos del bloque de memoria original se copian al nuevo bloque más grande. \n",
    "<p>&nbsp;</p>\n",
    "\n",
    "- Después de la copia, el bloque de memoria original se libera o se devuelve al sistema. \n",
    "<p>&nbsp;</p>\n",
    "\n",
    "- Aunque esta operación de copiar elementos y reasignar memoria puede ser costosa en términos de tiempo de ejecución, no ocurre a menudo."
   ]
  },
  {
   "cell_type": "markdown",
   "id": "4f2a5dc9",
   "metadata": {},
   "source": [
    "#### Eficiencia en Tiempo"
   ]
  },
  {
   "cell_type": "markdown",
   "id": "b9520c37",
   "metadata": {},
   "source": [
    "- A pesar de que la operación de expansión de memoria puede llevar tiempo, generalmente ocurre con poca frecuencia.\n",
    "<p>&nbsp;</p>\n",
    "\n",
    "- Debido a esta infrecuencia, en promedio, se considera que añadir un elemento a un arreglo dinámico es una operación de \"tiempo constante\". Esto significa que, en términos de complejidad temporal promedio, el tiempo para añadir un elemento no varía significativamente a medida que el arreglo crece."
   ]
  },
  {
   "cell_type": "markdown",
   "id": "199e8da4",
   "metadata": {},
   "source": [
    "Lo anterior resalta una característica importante de los arreglos dinámicos: su capacidad para equilibrar entre la flexibilidad de tamaño y la eficiencia de rendimiento, lo que los hace adecuados para muchas aplicaciones donde el número de elementos puede variar."
   ]
  },
  {
   "cell_type": "code",
   "execution_count": null,
   "id": "dfc6efb1",
   "metadata": {},
   "outputs": [],
   "source": []
  },
  {
   "cell_type": "code",
   "execution_count": null,
   "id": "7b1ad951",
   "metadata": {},
   "outputs": [],
   "source": []
  }
 ],
 "metadata": {
  "kernelspec": {
   "display_name": "Python 3 (ipykernel)",
   "language": "python",
   "name": "python3"
  },
  "language_info": {
   "codemirror_mode": {
    "name": "ipython",
    "version": 3
   },
   "file_extension": ".py",
   "mimetype": "text/x-python",
   "name": "python",
   "nbconvert_exporter": "python",
   "pygments_lexer": "ipython3",
   "version": "3.11.3"
  },
  "toc": {
   "base_numbering": 1,
   "nav_menu": {},
   "number_sections": true,
   "sideBar": true,
   "skip_h1_title": true,
   "title_cell": "Table of Contents",
   "title_sidebar": "Contents",
   "toc_cell": false,
   "toc_position": {
    "height": "calc(100% - 180px)",
    "left": "10px",
    "top": "150px",
    "width": "256px"
   },
   "toc_section_display": true,
   "toc_window_display": false
  }
 },
 "nbformat": 4,
 "nbformat_minor": 5
}
