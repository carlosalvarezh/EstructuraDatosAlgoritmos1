{
 "cells": [
  {
   "cell_type": "markdown",
   "id": "d2c8d495",
   "metadata": {},
   "source": [
    "<h1 align=\"center\">Estructura de Datos y Algoritmos I</h1>\n",
    "<h1 align=\"center\">Estructuras de datos lineales: Listas enlazadas</h1>\n",
    "<h1 align=\"center\">2024</h1>\n",
    "<h1 align=\"center\">MEDELLÍN - COLOMBIA </h1>"
   ]
  },
  {
   "cell_type": "markdown",
   "id": "949e14ff",
   "metadata": {},
   "source": [
    "*** \n",
    "|[![Outlook](https://img.shields.io/badge/Microsoft_Outlook-0078D4?style=plastic&logo=microsoft-outlook&logoColor=white)](mailto:calvar52@eafit.edu.co)||[![Open In Colab](https://colab.research.google.com/assets/colab-badge.svg)](https://colab.research.google.com/github/carlosalvarezh/EstructuraDatosAlgoritmos1/blob/main/S04S05_EDLineales_ListasEnlazadas.ipynb)\n",
    "|-:|:-|--:|\n",
    "|[![LinkedIn](https://img.shields.io/badge/linkedin-%230077B5.svg?style=plastic&logo=linkedin&logoColor=white)](https://www.linkedin.com/in/carlosalvarez5/)|[![@alvarezhenao](https://img.shields.io/twitter/url/https/twitter.com/alvarezhenao.svg?style=social&label=Follow%20%40alvarezhenao)](https://twitter.com/alvarezhenao)|[![@carlosalvarezh](https://img.shields.io/badge/github-%23121011.svg?style=plastic&logo=github&logoColor=white)](https://github.com/carlosalvarezh)|\n",
    "\n",
    "<table>\n",
    " <tr align=left><td><img align=left src=\"https://github.com/carlosalvarezh/Curso_CEC_EAFIT/blob/main/images/CCLogoColorPop1.gif?raw=true\" width=\"25\">\n",
    " <td>Text provided under a Creative Commons Attribution license, CC-BY. All code is made available under the FSF-approved MIT license.(c) Carlos Alberto Alvarez Henao</td>\n",
    "</table>\n",
    "\n",
    "***"
   ]
  },
  {
   "cell_type": "markdown",
   "id": "648a8f78",
   "metadata": {},
   "source": [
    "<p float=\"center\">\n",
    "  <img src=\"https://github.com/carlosalvarezh/EstructuraDatosAlgoritmos1/blob/main/Images/LinkedLists.webp?raw=true\" width=\"500\" />\n",
    "</p>\n",
    "\n",
    "<p style=\"text-align: center;\">\n",
    "    <strong>Tomado de:</strong> internet. Todas las imagenes tienen libre reproducción.\n",
    "</p>"
   ]
  },
  {
   "cell_type": "markdown",
   "id": "61fb9951",
   "metadata": {},
   "source": [
    "## Introducción: Superando las Limitaciones de los Arreglos"
   ]
  },
  {
   "cell_type": "markdown",
   "id": "20918e65",
   "metadata": {},
   "source": [
    "En el ámbito de la programación y el análisis de datos, hemos explorado cómo los arreglos ofrecen una forma estructurada y eficiente para almacenar y acceder a las colecciones de elementos. Sin embargo, aunque los arreglos son herramientas poderosas, presentan ciertas limitaciones, especialmente en términos de flexibilidad y eficiencia de gestión de memoria. Aquí es donde otro tipo de estructuras, como las listas enlazadas, entran en juego, proporcionando soluciones a algunas de estas restricciones inherentes a los arreglos.\n",
    "\n",
    "Imaginemos una situación cotidiana, como organizar una serie de libros en una estantería. Un arreglo sería como una estantería con un número fijo de espacios, donde agregar o quitar un libro requiere reorganizar toda la colección. En cambio, una lista enlazada es como una cadena de libros, donde cada libro está conectado al siguiente, permitiendo agregar o quitar libros fácilmente sin perturbar el resto.\n",
    "\n",
    "En una lista enlazada, cada elemento de datos, o nodo, contiene un enlace al siguiente elemento en la lista, permitiendo inserciones y eliminaciones flexibles en cualquier punto. A diferencia de los arreglos, no necesitan almacenar elementos en ubicaciones de memoria consecutivas. Cada nodo tiene dos componentes: un campo de información que almacena los datos y un campo de puntero que señala al siguiente nodo en la lista. Este diseño permite que las listas enlazadas almacenen datos de manera más dinámica y eficiente, especialmente en aplicaciones donde el tamaño del conjunto de datos puede cambiar con el tiempo.\n",
    "\n",
    "Las listas enlazadas pueden ser simples, dobles o circulares, cada una con sus propias características y aplicaciones. La elección entre una lista enlazada y un arreglo, o incluso entre diferentes tipos de listas enlazadas, dependerá de los requisitos específicos del problema que se está abordando. Por lo tanto, entender las listas enlazadas no solo amplía nuestras herramientas de programación, sino que también nos proporciona una mayor flexibilidad y eficiencia en el manejo de estructuras de datos."
   ]
  },
  {
   "cell_type": "markdown",
   "id": "f186585d",
   "metadata": {},
   "source": [
    "## Representación gráfica"
   ]
  },
  {
   "cell_type": "markdown",
   "id": "210bc729",
   "metadata": {},
   "source": [
    "<p float=\"center\">\n",
    "  <img src=\"https://github.com/carlosalvarezh/EstructuraDatosAlgoritmos1/blob/main/Images/LinkedLists.PNG?raw=true\" width=\"750\" />\n",
    "</p>\n",
    "\n",
    "<p style=\"text-align: center;\">\n",
    "    <strong>Fuente:</strong> Elaboración propia.\n",
    "</p>\n",
    "\n",
    "En la imagen se muestra una representación gráfica de una estructura de datos de lista enlazada simple. A continuación se presenta una descripción detallada de sus componentes:\n",
    "\n",
    "- ***Nodos:*** Cada rectángulo dividido en dos secciones representa un nodo, que es la unidad fundamental de una lista enlazada. Cada nodo consta de dos partes:\n",
    "<p>&nbsp;</p>\n",
    "\n",
    "  - **Campo de Datos (dato):** La sección izquierda del rectángulo, etiquetada como \"dato\", almacena la información o el valor del nodo. Este puede ser un número, un carácter, o incluso una estructura más compleja, dependiendo de la implementación.\n",
    "  <p>&nbsp;</p>\n",
    "\n",
    "  - **Campo de Enlace o Puntero (Sig.):** La sección derecha, etiquetada como \"Sig.\" (next), contiene la dirección de memoria del siguiente nodo en la lista. Este campo es lo que \"enlaza\" cada nodo al siguiente, creando la secuencia de la lista.\n",
    "<p>&nbsp;</p>\n",
    "\n",
    "- ***Cabeza (Inicio):*** El término \"Inicio\" (HEAD) indica el inicio de la lista enlazada. Es un puntero que apunta al primer nodo de la lista, permitiendo que el programa acceda a la secuencia de nodos.\n",
    "<p>&nbsp;</p>\n",
    "\n",
    "- ***Fin de la Lista (Fin):*** El último nodo de la lista enlazada apunta a \"Fin\" (NULL), lo que indica que no hay más nodos después de este y marca el final de la lista.\n",
    "\n",
    "La lista enlazada representada es una secuencia de nodos enlazados donde cada uno conoce la ubicación del siguiente. Esto permite recorrer la lista partiendo de \"HEAD\" y siguiendo los enlaces \"next\" hasta llegar al final de la lista, denotado por un puntero NULL.\n",
    "\n",
    "Este tipo de estructura es útil para operaciones dinámicas como inserciones y eliminaciones, ya que permite ajustar fácilmente los enlaces entre nodos sin la necesidad de reubicar otros elementos, como se requeriría en un arreglo estático."
   ]
  },
  {
   "cell_type": "markdown",
   "id": "331728af",
   "metadata": {},
   "source": [
    "## Tipos de Listas Enlazadas"
   ]
  },
  {
   "cell_type": "markdown",
   "id": "c5bcad02",
   "metadata": {},
   "source": [
    "### Lista Enlazada Simple (Singly Linked List)"
   ]
  },
  {
   "cell_type": "markdown",
   "id": "2e8f040f",
   "metadata": {},
   "source": [
    "<p float=\"center\">\n",
    "  <img src=\"https://github.com/carlosalvarezh/EstructuraDatosAlgoritmos1/blob/main/Images/LinkedLists.PNG?raw=true\" width=\"750\" />\n",
    "</p>\n",
    "\n",
    "<p style=\"text-align: center;\">\n",
    "    <strong>Fuente:</strong> Elaboración propia.\n",
    "</p>\n",
    "\n",
    "- Cada nodo tiene dos componentes: el dato y un puntero al siguiente nodo. \n",
    "<p>&nbsp;</p>\n",
    "\n",
    "- El último nodo apunta a un valor nulo, indicando el final de la lista."
   ]
  },
  {
   "cell_type": "markdown",
   "id": "80a83439",
   "metadata": {},
   "source": [
    "### Lista Doblemente Enlazada (Doubly Linked List)"
   ]
  },
  {
   "cell_type": "markdown",
   "id": "b70aabc6",
   "metadata": {},
   "source": [
    "<p float=\"center\">\n",
    "  <img src=\"https://github.com/carlosalvarezh/EstructuraDatosAlgoritmos1/blob/main/Images/DoublyLinkedList.PNG?raw=true\" width=\"750\" />\n",
    "</p>\n",
    "\n",
    "<p style=\"text-align: center;\">\n",
    "    <strong>Fuente:</strong> Elaboración propia.\n",
    "</p>\n",
    "\n",
    "- Cada nodo contiene tres componentes: un dato, un puntero al siguiente nodo y un puntero al nodo anterior.\n",
    "<p>&nbsp;</p>\n",
    "\n",
    "- Facilita el recorrido bidireccional a través de la lista."
   ]
  },
  {
   "cell_type": "markdown",
   "id": "8d09e6ff",
   "metadata": {},
   "source": [
    "### Lista Circular Enlazada"
   ]
  },
  {
   "cell_type": "markdown",
   "id": "be1c2986",
   "metadata": {},
   "source": [
    "<p float=\"center\">\n",
    "  <img src=\"https://github.com/carlosalvarezh/EstructuraDatosAlgoritmos1/blob/main/Images/CircularLinkedList.PNG?raw=true\" width=\"750\" />\n",
    "</p>\n",
    "\n",
    "<p style=\"text-align: center;\">\n",
    "    <strong>Fuente:</strong> Elaboración propia.\n",
    "</p>\n",
    "\n",
    "\n",
    "Similar a la lista enlazada simple, pero el último nodo apunta de nuevo al primer nodo, formando un círculo."
   ]
  },
  {
   "cell_type": "markdown",
   "id": "9dac2989",
   "metadata": {},
   "source": [
    "## Ejemplos ilustrativos"
   ]
  },
  {
   "cell_type": "markdown",
   "id": "b05df578",
   "metadata": {},
   "source": [
    "### Enunciado del problema"
   ]
  },
  {
   "cell_type": "markdown",
   "id": "79dcada7",
   "metadata": {},
   "source": [
    "Implementar una función que permita insertar un nuevo elemento al inicio de una lista enlazada. Este ejemplo básico ilustrará cómo se puede añadir un nodo a:\n",
    "\n",
    "- Una lista enlazada simple.\n",
    "- Una lista doblemente enlazada.\n",
    "- Una lista circular enlazada.\n",
    "\n",
    "El nuevo elemento a insertar será el número 1."
   ]
  },
  {
   "cell_type": "markdown",
   "id": "d6aafbf8",
   "metadata": {},
   "source": [
    "### Lista enlazada simple"
   ]
  },
  {
   "cell_type": "markdown",
   "id": "61f13776",
   "metadata": {},
   "source": [
    "#### C/C++"
   ]
  },
  {
   "cell_type": "markdown",
   "id": "de8d8f34",
   "metadata": {},
   "source": [
    "```C\n",
    "#include <stdio.h>\n",
    "#include <stdlib.h>\n",
    "\n",
    "struct Node {\n",
    "    int data;\n",
    "    struct Node* next;\n",
    "};\n",
    "\n",
    "void insertAtHead(struct Node** head_ref, int new_data) {\n",
    "    struct Node* new_node = (struct Node*) malloc(sizeof(struct Node));\n",
    "    new_node->data = new_data;\n",
    "    new_node->next = (*head_ref);\n",
    "    (*head_ref) = new_node;\n",
    "}\n",
    "\n",
    "int main() {\n",
    "    struct Node* head = NULL;\n",
    "    insertAtHead(&head, 1);\n",
    "    printf(\"Data in head node is %d\\n\", head->data);\n",
    "    return 0;\n",
    "}\n",
    "\n",
    "```\n",
    "\n",
    "***Explicación:***\n",
    "\n",
    "- Definimos una estructura `Node` que representa un nodo en la lista enlazada.\n",
    "- La función `insertAtHead` crea un nuevo nodo y lo inserta al principio de la lista.\n",
    "- En `main`, inicializamos la lista como vacía (`head = NULL`) y usamos `insertAtHead` para añadir un nodo con `data = 1`.\n",
    "- Finalmente, imprimimos el valor del nuevo nodo cabeza para verificar."
   ]
  },
  {
   "cell_type": "markdown",
   "id": "bfa75211",
   "metadata": {},
   "source": [
    "#### Java"
   ]
  },
  {
   "cell_type": "markdown",
   "id": "ee07ec21",
   "metadata": {},
   "source": [
    "```Java\n",
    "public class Main {\n",
    "    static class Node {\n",
    "        int data;\n",
    "        Node next;\n",
    "        Node(int d) { data = d; next = null; }\n",
    "    }\n",
    "\n",
    "    static class LinkedList {\n",
    "        Node head;\n",
    "        public void push(int new_data) {\n",
    "            Node new_node = new Node(new_data);\n",
    "            new_node.next = head;\n",
    "            head = new_node;\n",
    "        }\n",
    "    }\n",
    "\n",
    "    public static void main(String[] args) {\n",
    "        LinkedList list = new LinkedList();\n",
    "        list.push(1);\n",
    "        System.out.println(\"Data in head node is \" + list.head.data);\n",
    "    }\n",
    "}\n",
    "```\n",
    "\n",
    "***Explicación:***\n",
    "\n",
    "- La clase `Node` representa un nodo y la clase `LinkedList` gestiona la lista enlazada.\n",
    "- El método `push` añade un nuevo nodo al principio de la lista.\n",
    "- En `main`, creamos una instancia de `LinkedList`, añadimos un nodo y mostramos su valor."
   ]
  },
  {
   "cell_type": "markdown",
   "id": "52671e29",
   "metadata": {},
   "source": [
    "#### Python"
   ]
  },
  {
   "cell_type": "code",
   "execution_count": 1,
   "id": "7432c55c",
   "metadata": {},
   "outputs": [
    {
     "name": "stdout",
     "output_type": "stream",
     "text": [
      "Data in head node is 1\n"
     ]
    }
   ],
   "source": [
    "class Node:\n",
    "    def __init__(self, data):\n",
    "        self.data = data\n",
    "        self.next = None\n",
    "\n",
    "class LinkedList:\n",
    "    def __init__(self):\n",
    "        self.head = None\n",
    "\n",
    "    def push(self, new_data):\n",
    "        new_node = Node(new_data)\n",
    "        new_node.next = self.head\n",
    "        self.head = new_node\n",
    "\n",
    "llist = LinkedList()\n",
    "llist.push(1)\n",
    "print(\"Data in head node is\", llist.head.data)\n"
   ]
  },
  {
   "cell_type": "markdown",
   "id": "a5595680",
   "metadata": {},
   "source": [
    "***Explicación:***\n",
    "\n",
    "- La clase `Node` define un nodo y la clase `LinkedList` maneja las operaciones de la lista.\n",
    "- `push` inserta un nuevo nodo al inicio de la lista.\n",
    "- Creamos una instancia de `LinkedList`, añadimos un nodo con el valor `1` y mostramos el valor del nodo cabeza.\n"
   ]
  },
  {
   "cell_type": "markdown",
   "id": "bfedfb6c",
   "metadata": {},
   "source": [
    "### Listas doblemente enlazadas"
   ]
  },
  {
   "cell_type": "markdown",
   "id": "fa78b122",
   "metadata": {},
   "source": [
    "Insertar un nuevo nodo con el valor 1 al principio de una lista doblemente enlazada."
   ]
  },
  {
   "cell_type": "markdown",
   "id": "018f5c46",
   "metadata": {},
   "source": [
    "#### C/C++"
   ]
  },
  {
   "cell_type": "markdown",
   "id": "8cedc508",
   "metadata": {},
   "source": [
    "```C\n",
    "#include <stdio.h>\n",
    "#include <stdlib.h>\n",
    "\n",
    "struct Node {\n",
    "    int data;\n",
    "    struct Node* next;\n",
    "    struct Node* prev;\n",
    "};\n",
    "\n",
    "void insertAtHead(struct Node** head_ref, int new_data) {\n",
    "    struct Node* new_node = (struct Node*) malloc(sizeof(struct Node));\n",
    "    new_node->data = new_data;\n",
    "    new_node->prev = NULL;\n",
    "    new_node->next = (*head_ref);\n",
    "    if ((*head_ref) != NULL) {\n",
    "        (*head_ref)->prev = new_node;\n",
    "    }\n",
    "    (*head_ref) = new_node;\n",
    "}\n",
    "\n",
    "int main() {\n",
    "    struct Node* head = NULL;\n",
    "    insertAtHead(&head, 1);\n",
    "    printf(\"Data in head node is %d\\n\", head->data);\n",
    "    return 0;\n",
    "}\n",
    "```\n",
    "\n",
    "***Explicación:***\n",
    "\n",
    "- Similar a la lista enlazada simple, pero cada nodo tiene un puntero adicional prev que apunta al nodo anterior.\n",
    "- La función `insertAtHead` asegura que el nuevo nodo se convierta en la nueva cabeza de la lista y actualiza los punteros `next` y `prev` adecuadamente."
   ]
  },
  {
   "cell_type": "markdown",
   "id": "b0abd6b1",
   "metadata": {},
   "source": [
    "#### Java"
   ]
  },
  {
   "cell_type": "markdown",
   "id": "2172b1c1",
   "metadata": {},
   "source": [
    "```java\n",
    "public class Main {\n",
    "    static class Node {\n",
    "        int data;\n",
    "        Node next;\n",
    "        Node prev;\n",
    "        Node(int d) { data = d; }\n",
    "    }\n",
    "\n",
    "    static class DoublyLinkedList {\n",
    "        Node head;\n",
    "        public void insertAtHead(int new_data) {\n",
    "            Node new_node = new Node(new_data);\n",
    "            new_node.next = head;\n",
    "            new_node.prev = null;\n",
    "            if (head != null) {\n",
    "                head.prev = new_node;\n",
    "            }\n",
    "            head = new_node;\n",
    "        }\n",
    "    }\n",
    "\n",
    "    public static void main(String[] args) {\n",
    "        DoublyLinkedList dll = new DoublyLinkedList();\n",
    "        dll.insertAtHead(1);\n",
    "        System.out.println(\"Data in head node is \" + dll.head.data);\n",
    "    }\n",
    "}\n",
    "```\n",
    "\n",
    "***Explicación:***\n",
    "\n",
    "- La clase `Node` ahora incluye un puntero `prev`.\n",
    "- `insertAtHead` maneja la inserción de un nuevo nodo en la cabeza de la lista, asegurando que los punteros `prev` de la nueva cabeza y el antiguo nodo cabeza (si existe) estén correctamente establecidos."
   ]
  },
  {
   "cell_type": "markdown",
   "id": "75cae213",
   "metadata": {},
   "source": [
    "#### Python"
   ]
  },
  {
   "cell_type": "code",
   "execution_count": 2,
   "id": "cb8cb953",
   "metadata": {},
   "outputs": [
    {
     "name": "stdout",
     "output_type": "stream",
     "text": [
      "Data in head node is 1\n"
     ]
    }
   ],
   "source": [
    "class Node:\n",
    "    def __init__(self, data):\n",
    "        self.data = data\n",
    "        self.next = None\n",
    "        self.prev = None\n",
    "\n",
    "class DoublyLinkedList:\n",
    "    def __init__(self):\n",
    "        self.head = None\n",
    "\n",
    "    def insertAtHead(self, new_data):\n",
    "        new_node = Node(new_data)\n",
    "        new_node.next = self.head\n",
    "        if self.head is not None:\n",
    "            self.head.prev = new_node\n",
    "        self.head = new_node\n",
    "\n",
    "dll = DoublyLinkedList()\n",
    "dll.insertAtHead(1)\n",
    "print(\"Data in head node is\", dll.head.data)\n"
   ]
  },
  {
   "cell_type": "markdown",
   "id": "30161d73",
   "metadata": {},
   "source": [
    "***Explicación:***\n",
    "\n",
    "- La clase `Node` en Python también se ha ampliado para incluir un puntero `prev`.\n",
    "- `insertAtHead` en la clase `DoublyLinkedList` inserta un nuevo nodo al principio, similar al proceso en $\\text{Java}$."
   ]
  },
  {
   "cell_type": "markdown",
   "id": "fe10910a",
   "metadata": {},
   "source": [
    "### Lista circular enlazada"
   ]
  },
  {
   "cell_type": "markdown",
   "id": "25d48593",
   "metadata": {},
   "source": [
    "Insertar un nuevo nodo con el valor 1 en una lista circular enlazada."
   ]
  },
  {
   "cell_type": "markdown",
   "id": "377dc54c",
   "metadata": {},
   "source": [
    "#### C/C++"
   ]
  },
  {
   "cell_type": "markdown",
   "id": "55a0333a",
   "metadata": {},
   "source": [
    "```C\n",
    "#include <stdio.h>\n",
    "#include <stdlib.h>\n",
    "\n",
    "struct Node {\n",
    "    int data;\n",
    "    struct Node* next;\n",
    "};\n",
    "\n",
    "void insertAtHead(struct Node** head_ref, int new_data) {\n",
    "    struct Node* new_node = (struct Node*)malloc(sizeof(struct Node));\n",
    "    struct Node* current = *head_ref;\n",
    "    new_node->data = new_data;\n",
    "    new_node->next = *head_ref;\n",
    "\n",
    "    if (*head_ref != NULL) {\n",
    "        while (current->next != *head_ref) {\n",
    "            current = current->next;\n",
    "        }\n",
    "        current->next = new_node;\n",
    "    } else {\n",
    "        new_node->next = new_node;\n",
    "    }\n",
    "\n",
    "    *head_ref = new_node;\n",
    "}\n",
    "\n",
    "int main() {\n",
    "    struct Node* head = NULL;\n",
    "    insertAtHead(&head, 1);\n",
    "    printf(\"Data in head node is %d\\n\", head->data);\n",
    "    return 0;\n",
    "}\n",
    "```\n",
    "\n",
    "***Explicación:***\n",
    "\n",
    "- En una lista circular, cuando insertamos un nuevo nodo al principio, necesitamos actualizar el último nodo de la lista para que apunte al nuevo nodo.\n",
    "- La función `insertAtHead` maneja este proceso, asegurándose de que si la lista no estaba vacía, recorra la lista para encontrar el último nodo y actualice su puntero `next`."
   ]
  },
  {
   "cell_type": "markdown",
   "id": "f31579c0",
   "metadata": {},
   "source": [
    "#### Java"
   ]
  },
  {
   "cell_type": "markdown",
   "id": "e0afc275",
   "metadata": {},
   "source": [
    "```java\n",
    "public class Main {\n",
    "    static class Node {\n",
    "        int data;\n",
    "        Node next;\n",
    "        Node(int d) { data = d; }\n",
    "    }\n",
    "\n",
    "    static class CircularLinkedList {\n",
    "        Node head;\n",
    "        public void insertAtHead(int new_data) {\n",
    "            Node new_node = new Node(new_data);\n",
    "            Node current = head;\n",
    "\n",
    "            new_node.next = head;\n",
    "            if (head != null) {\n",
    "                while (current.next != head) {\n",
    "                    current = current.next;\n",
    "                }\n",
    "                current.next = new_node;\n",
    "            } else {\n",
    "                new_node.next = new_node;\n",
    "            }\n",
    "            head = new_node;\n",
    "        }\n",
    "    }\n",
    "\n",
    "    public static void main(String[] args) {\n",
    "        CircularLinkedList cll = new CircularLinkedList();\n",
    "        cll.insertAtHead(1);\n",
    "        System.out.println(\"Data in head node is \" + cll.head.data);\n",
    "    }\n",
    "}\n",
    "```\n",
    "***Explicación:***\n",
    "\n",
    "- El proceso es similar al de C/C++. La clase `CircularLinkedList` se encarga de actualizar los enlaces para mantener la naturaleza circular de la lista.\n"
   ]
  },
  {
   "cell_type": "markdown",
   "id": "38e0ffff",
   "metadata": {},
   "source": [
    "#### Python"
   ]
  },
  {
   "cell_type": "code",
   "execution_count": 3,
   "id": "5770770a",
   "metadata": {},
   "outputs": [
    {
     "name": "stdout",
     "output_type": "stream",
     "text": [
      "Data in head node is 1\n"
     ]
    }
   ],
   "source": [
    "class Node:\n",
    "    def __init__(self, data):\n",
    "        self.data = data\n",
    "        self.next = None\n",
    "\n",
    "class CircularLinkedList:\n",
    "    def __init__(self):\n",
    "        self.head = None\n",
    "\n",
    "    def insertAtHead(self, new_data):\n",
    "        new_node = Node(new_data)\n",
    "        current = self.head\n",
    "\n",
    "        new_node.next = self.head\n",
    "        if self.head is not None:\n",
    "            while current.next != self.head:\n",
    "                current = current.next\n",
    "            current.next = new_node\n",
    "        else:\n",
    "            new_node.next = new_node\n",
    "        self.head = new_node\n",
    "\n",
    "cll = CircularLinkedList()\n",
    "cll.insertAtHead(1)\n",
    "print(\"Data in head node is\", cll.head.data)\n"
   ]
  },
  {
   "cell_type": "markdown",
   "id": "20fc0533",
   "metadata": {},
   "source": [
    "***Explicación:***\n",
    "\n",
    "- En Python, la lógica de la inserción es la misma que en Java. Nos aseguramos de que si la lista no está vacía, establecemos el puntero `next` del último nodo para que apunte al nuevo nodo cabeza."
   ]
  },
  {
   "cell_type": "code",
   "execution_count": null,
   "id": "8254c2f4",
   "metadata": {},
   "outputs": [],
   "source": []
  }
 ],
 "metadata": {
  "kernelspec": {
   "display_name": "Python 3 (ipykernel)",
   "language": "python",
   "name": "python3"
  },
  "language_info": {
   "codemirror_mode": {
    "name": "ipython",
    "version": 3
   },
   "file_extension": ".py",
   "mimetype": "text/x-python",
   "name": "python",
   "nbconvert_exporter": "python",
   "pygments_lexer": "ipython3",
   "version": "3.11.3"
  },
  "toc": {
   "base_numbering": 1,
   "nav_menu": {},
   "number_sections": true,
   "sideBar": true,
   "skip_h1_title": true,
   "title_cell": "Table of Contents",
   "title_sidebar": "Contents",
   "toc_cell": false,
   "toc_position": {
    "height": "calc(100% - 180px)",
    "left": "10px",
    "top": "150px",
    "width": "256px"
   },
   "toc_section_display": true,
   "toc_window_display": false
  }
 },
 "nbformat": 4,
 "nbformat_minor": 5
}
