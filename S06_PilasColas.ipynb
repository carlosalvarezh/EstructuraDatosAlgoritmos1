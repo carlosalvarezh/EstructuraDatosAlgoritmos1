{
 "cells": [
  {
   "cell_type": "markdown",
   "id": "40cbeefd",
   "metadata": {},
   "source": [
    "<h1 align=\"center\">Estructura de Datos y Algoritmos I</h1>\n",
    "<h1 align=\"center\">Estructuras de datos lineales: Pilas y Colas</h1>\n",
    "<h1 align=\"center\">2024</h1>\n",
    "<h1 align=\"center\">MEDELLÍN - COLOMBIA </h1>"
   ]
  },
  {
   "cell_type": "markdown",
   "id": "eb63aefd",
   "metadata": {},
   "source": [
    "*** \n",
    "|[![Outlook](https://img.shields.io/badge/Microsoft_Outlook-0078D4?style=plastic&logo=microsoft-outlook&logoColor=white)](mailto:calvar52@eafit.edu.co)||[![Open In Colab](https://colab.research.google.com/assets/colab-badge.svg)](https://colab.research.google.com/github/carlosalvarezh/EstructuraDatosAlgoritmos1/blob/main/S06_PilasColas.ipynb)\n",
    "|-:|:-|--:|\n",
    "|[![LinkedIn](https://img.shields.io/badge/linkedin-%230077B5.svg?style=plastic&logo=linkedin&logoColor=white)](https://www.linkedin.com/in/carlosalvarez5/)|[![@alvarezhenao](https://img.shields.io/twitter/url/https/twitter.com/alvarezhenao.svg?style=social&label=Follow%20%40alvarezhenao)](https://twitter.com/alvarezhenao)|[![@carlosalvarezh](https://img.shields.io/badge/github-%23121011.svg?style=plastic&logo=github&logoColor=white)](https://github.com/carlosalvarezh)|\n",
    "\n",
    "<table>\n",
    " <tr align=left><td><img align=left src=\"https://github.com/carlosalvarezh/Curso_CEC_EAFIT/blob/main/images/CCLogoColorPop1.gif?raw=true\" width=\"25\">\n",
    " <td>Text provided under a Creative Commons Attribution license, CC-BY. All code is made available under the FSF-approved MIT license.(c) Carlos Alberto Alvarez Henao</td>\n",
    "</table>\n",
    "\n",
    "***"
   ]
  },
  {
   "cell_type": "markdown",
   "id": "3fd72aad",
   "metadata": {},
   "source": [
    "<p float=\"center\">\n",
    "  <img src=\"https://github.com/carlosalvarezh/EstructuraDatosAlgoritmos1/blob/main/Images/Stacks.webp?raw=true\" width=\"200\" />\n",
    "</p>\n",
    "\n",
    "<p style=\"text-align: center;\">\n",
    "    <strong>Tomado de:</strong> <a href=\"https://unsplash.com/@nate_dumlao?utm_content=creditCopyText&utm_medium=referral&utm_source=unsplash\">Nathan Dumlao</a> en <a href=\"https://unsplash.com/\">Unsplash</a>.\n",
    "</p>"
   ]
  },
  {
   "cell_type": "markdown",
   "id": "2a1b0cbb",
   "metadata": {},
   "source": [
    "## Pilas y Colas"
   ]
  },
  {
   "cell_type": "markdown",
   "id": "dc958ce6",
   "metadata": {},
   "source": [
    "### Introducción"
   ]
  },
  {
   "cell_type": "markdown",
   "id": "0402f45c",
   "metadata": {},
   "source": [
    "En el dinámico mundo de la informática, las estructuras de datos representan los cimientos sobre los cuales se construyen todas las operaciones y procesos computacionales. Desde los inicios de la computación, la necesidad de organizar, almacenar y acceder a la información de manera eficiente ha sido un desafío constante. La evolución de las estructuras de datos es una respuesta directa a este reto, reflejando la búsqueda continua de métodos más eficaces para gestionar datos en el cambiante panorama tecnológico.\n",
    "\n",
    "Dentro de esta evolución, emergen dos estructuras de datos que son fundamentales tanto por su simplicidad como por su versatilidad: las *[Pilas](https://en.wikipedia.org/wiki/Stack_(abstract_data_type))* y las *[Colas](https://en.wikipedia.org/wiki/Queue_(abstract_data_type))*. Su estudio no es solo una cuestión de aprender dos nuevas estructuras, sino de entender cómo representan respuestas distintas y complementarias a problemas comunes en el manejo de datos."
   ]
  },
  {
   "cell_type": "markdown",
   "id": "0218a7e2",
   "metadata": {},
   "source": [
    "### Importancia y Aplicaciones de Pilas y Colas"
   ]
  },
  {
   "cell_type": "markdown",
   "id": "549813e7",
   "metadata": {},
   "source": [
    "- ***En Algoritmos y Estructuras de Datos:*** Son la base para entender estructuras más avanzadas como árboles y grafos. Su simplicidad las convierte en un excelente punto de partida para comprender conceptos fundamentales de la informática.\n",
    "<p>&nbsp;</p>\n",
    "  \n",
    "- ***En Aplicaciones Prácticas:*** Desde el desarrollo de software, la administración de sistemas hasta en la inteligencia artificial, las pilas y las colas se utilizan para gestionar datos y procesos de manera eficiente.\n",
    "<p>&nbsp;</p>\n",
    "\n",
    "- ***En Resolución de Problemas:*** Permiten abordar problemas desde una perspectiva estructurada, facilitando la implementación de soluciones claras y eficientes.\n"
   ]
  },
  {
   "cell_type": "markdown",
   "id": "8aa602c6",
   "metadata": {},
   "source": [
    "## Pilas (Stacks)"
   ]
  },
  {
   "cell_type": "markdown",
   "id": "5323a482",
   "metadata": {},
   "source": [
    "<p float=\"center\">\n",
    "  <img src=\"https://github.com/carlosalvarezh/EstructuraDatosAlgoritmos1/blob/main/Images/Stacks01.jpg?raw=true\" width=\"500\" />\n",
    "</p>\n",
    "\n",
    "<p style=\"text-align: center;\">\n",
    "    <strong>Tomado de:</strong> <a href=\"https://unsplash.com/photos/black-stacking-stones-on-gray-surface-ObpCE_X3j6U?utm_content=creditShareLink&utm_medium=referral&utm_source=unsplash\">Nathan Dumlao</a> en <a href=\"https://unsplash.com/\">Unsplash</a>.\n",
    "</p>"
   ]
  },
  {
   "cell_type": "markdown",
   "id": "cd2ec803",
   "metadata": {},
   "source": [
    "### Definición"
   ]
  },
  {
   "cell_type": "markdown",
   "id": "3d358286",
   "metadata": {},
   "source": [
    "Su origen se puede rastrear hasta los principios de la informática moderna, donde la necesidad de manejar eficientemente la memoria en los procesos de cálculo llevó a la creación de estructuras que permitieran almacenar y recuperar datos de manera ordenada. \n",
    "\n",
    "Una pila es una estructura de datos lineal y abstracta que se utiliza ampliamente en la programación y la informática. Se puede comparar con una pila real de objetos físicos; por ejemplo, una pila de platos en una mesa. En una pila de datos, los elementos se añaden (*apilan*) y se eliminan (*desapilan*) siguiendo una política específica, conocida como *[LIFO](https://es.wikipedia.org/wiki/Last_in,_first_out)* (*Last In, First Out*), que se traduce como \"*el último en entrar, es el primero en salir*\"."
   ]
  },
  {
   "cell_type": "markdown",
   "id": "e68588e1",
   "metadata": {},
   "source": [
    "### Funcionamiento de una Pila"
   ]
  },
  {
   "cell_type": "markdown",
   "id": "89b36713",
   "metadata": {},
   "source": [
    "<p float=\"center\">\n",
    "  <img src=\"https://github.com/carlosalvarezh/EstructuraDatosAlgoritmos1/blob/main/Images/Stacks03.PNG?raw=true\" width=\"500\" />\n",
    "</p>\n",
    "\n",
    "<p style=\"text-align: center;\">\n",
    "    <strong>Fuente:</strong> Elaboración propia.\n",
    "</p>\n",
    "\n",
    "\n",
    "- ***Push (Apilar):*** Esta operación añade un elemento a la parte superior de la pila. Si pensamos en una pila de platos, es como poner un plato más en la cima de la pila (último elemento de la pila).\n",
    "<p>&nbsp;</p>\n",
    "\n",
    "- ***Pop (Desapilar):*** Elimina y retorna el elemento superior de la pila. Siguiendo con el ejemplo de los platos, es como tomar y quitar el plato que está en la cima de la pila.\n",
    "<p>&nbsp;</p>\n",
    "\n",
    "- ***Peek (Mirar):*** Esta operación permite observar el elemento que se encuentra en la cima de la pila sin eliminarlo. Es como mirar cuál es el plato de arriba, pero sin quitarlo de la pila.\n",
    "<p>&nbsp;</p>\n",
    "\n",
    "- ***isEmpty (Está vacía):*** Verifica si la pila está vacía. En términos prácticos, sería como verificar si no hay más platos en la pila.\n",
    "<p>&nbsp;</p>\n",
    "\n",
    "- ***Size (Tamaño):*** Devuelve el número de elementos en la pila."
   ]
  },
  {
   "cell_type": "markdown",
   "id": "31734e76",
   "metadata": {},
   "source": [
    "### Características de la Pila"
   ]
  },
  {
   "cell_type": "markdown",
   "id": "105eba3c",
   "metadata": {},
   "source": [
    "- ***Orden de Acceso:*** Debido a su naturaleza LIFO, el último elemento añadido es siempre el primero en ser accesible para eliminarse o revisarse.\n",
    "<p>&nbsp;</p>\n",
    "\n",
    "- ***Eficiencia:*** Las operaciones de push y pop son generalmente eficientes, ya que no requieren desplazar otros elementos.\n",
    "<p>&nbsp;</p>\n",
    "\n",
    "- ***Uso de Memoria:*** La implementación de una pila puede ser estática (con un tamaño fijo) o dinámica (expandiéndose según sea necesario)."
   ]
  },
  {
   "cell_type": "markdown",
   "id": "4026c7b3",
   "metadata": {},
   "source": [
    "### Aplicaciones de las Pilas"
   ]
  },
  {
   "cell_type": "markdown",
   "id": "6f32d531",
   "metadata": {},
   "source": [
    "Las pilas son utilizadas en una variedad de aplicaciones como:\n",
    "\n",
    "- ***Navegación (Historial):*** En navegadores web para manejar el historial de páginas visitadas.\n",
    "<p>&nbsp;</p>\n",
    "\n",
    "- ***Gestión de Llamadas a Funciones:*** En la mayoría de los lenguajes de programación para manejar llamadas a funciones, especialmente en situaciones de recursividad.\n",
    "<p>&nbsp;</p>\n",
    "\n",
    "- ***Evaluación y Conversión de Expresiones:*** Por ejemplo, en la conversión de expresiones infijas a postfijas o prefijas, y en la evaluación de expresiones postfijas."
   ]
  },
  {
   "cell_type": "markdown",
   "id": "f4d43f6f",
   "metadata": {},
   "source": [
    "### Ejemplo aplicado con Python"
   ]
  },
  {
   "cell_type": "markdown",
   "id": "4c961878",
   "metadata": {},
   "source": [
    "En el siguiente ejemplo se presenta una explicación detallada del proceso de aplicación de una estructura tipo pila empleando python. El ejemplo es tomado de *[Stacks and Queues in Python](https://levelup.gitconnected.com/stacks-and-queues-in-python-b2e8b4dbd876)*"
   ]
  },
  {
   "cell_type": "markdown",
   "id": "f41e9529",
   "metadata": {},
   "source": [
    "1. ***Creación de la Pila:*** Se crea una pila llamada pancakeStack como una lista vacía en Python.\n",
    "\n",
    "<p float=\"center\">\n",
    "  <img src=\"https://github.com/carlosalvarezh/EstructuraDatosAlgoritmos1/blob/main/Images/PancakeStack01.webp?raw=true\" width=\"500\" />\n",
    "</p>"
   ]
  },
  {
   "cell_type": "code",
   "execution_count": null,
   "id": "dc403d58",
   "metadata": {},
   "outputs": [],
   "source": [
    "# emplenado una lista vacía\n",
    "pancakes = []\n",
    "print(pancakes)\n",
    "print(len(pancakes))"
   ]
  },
  {
   "cell_type": "markdown",
   "id": "717a1df2",
   "metadata": {},
   "source": [
    "2. ***Operación Push (Apilar):*** Se utilizan múltiples operaciones append para agregar elementos (pancakes) a la pila. Cada append añade un elemento en la cima de la pila."
   ]
  },
  {
   "cell_type": "code",
   "execution_count": null,
   "id": "4839f77f",
   "metadata": {
    "scrolled": true
   },
   "outputs": [],
   "source": [
    "# se adiciona un elemento a la lista (pila)\n",
    "pancakes.append('Pancake #1') \n",
    "print(pancakes)\n",
    "print(len(pancakes))"
   ]
  },
  {
   "cell_type": "markdown",
   "id": "475a58a4",
   "metadata": {},
   "source": [
    "<p float=\"center\">\n",
    "  <img src=\"https://github.com/carlosalvarezh/EstructuraDatosAlgoritmos1/blob/main/Images/PancakeStack02.webp?raw=true\" width=\"500\" />\n",
    "</p>\n",
    "\n",
    "Se emplea el método [`append`](https://realpython.com/python-append/) para adicionar un elemento a la lista **al final**."
   ]
  },
  {
   "cell_type": "markdown",
   "id": "9a6e2b79",
   "metadata": {},
   "source": [
    "Se sigue empleando el método `append` cada vez que se requiera de adicionar un nuevo elemento a la lista. Recuerde que este nuevo elemento siempre se adicionará al final."
   ]
  },
  {
   "cell_type": "code",
   "execution_count": null,
   "id": "84d75600",
   "metadata": {},
   "outputs": [],
   "source": [
    "# se adiciona otro elemento a la lista (pila)\n",
    "pancakes.append('Pancake #2') \n",
    "print(pancakes)\n",
    "print(len(pancakes))"
   ]
  },
  {
   "cell_type": "markdown",
   "id": "8927ddb7",
   "metadata": {},
   "source": [
    "<p float=\"center\">\n",
    "  <img src=\"https://github.com/carlosalvarezh/EstructuraDatosAlgoritmos1/blob/main/Images/PancakeStack03.webp?raw=true\" width=\"500\" />\n",
    "</p>"
   ]
  },
  {
   "cell_type": "code",
   "execution_count": null,
   "id": "7caf3a79",
   "metadata": {},
   "outputs": [],
   "source": [
    "# se adiciona otro elemento a la lista (pila) \n",
    "pancakes.append('Pancake #3') \n",
    "print(pancakes)\n",
    "print(len(pancakes))"
   ]
  },
  {
   "cell_type": "markdown",
   "id": "c71b7b4f",
   "metadata": {},
   "source": [
    "<p float=\"center\">\n",
    "  <img src=\"https://github.com/carlosalvarezh/EstructuraDatosAlgoritmos1/blob/main/Images/PancakeStack04.webp?raw=true\" width=\"500\" />\n",
    "</p>"
   ]
  },
  {
   "cell_type": "markdown",
   "id": "6346173a",
   "metadata": {},
   "source": [
    "Podemos seguir adicionando elementos cada que sea necesario"
   ]
  },
  {
   "cell_type": "code",
   "execution_count": null,
   "id": "206b84ac",
   "metadata": {},
   "outputs": [],
   "source": [
    "pancakes.append('Pancake #4') \n",
    "pancakes.append('Pancake #5') \n",
    "print(pancakes)\n",
    "print(len(pancakes))"
   ]
  },
  {
   "cell_type": "markdown",
   "id": "0f4faf29",
   "metadata": {},
   "source": [
    "No pierda de vista que cada vez que se emplea el método `append` se adiciona un nuevo elemento a la lista al final.\n",
    "\n",
    "Ahora vamos a retirar elementos de la lista (pila). Para ello, se emplea el método [`pop`](https://www.freecodecamp.org/news/python-pop-how-to-pop-from-a-list-or-an-array-in-python/)"
   ]
  },
  {
   "cell_type": "code",
   "execution_count": null,
   "id": "5ca179ff",
   "metadata": {},
   "outputs": [],
   "source": [
    "# se retira un elemento de la lista (pila) \n",
    "pancakes.pop() \n",
    "print(pancakes)\n",
    "print(len(pancakes))"
   ]
  },
  {
   "cell_type": "markdown",
   "id": "fcad05f0",
   "metadata": {},
   "source": [
    "<p float=\"center\">\n",
    "  <img src=\"https://github.com/carlosalvarezh/EstructuraDatosAlgoritmos1/blob/main/Images/PancakeStack05.webp?raw=true\" width=\"500\" />\n",
    "</p>"
   ]
  },
  {
   "cell_type": "code",
   "execution_count": null,
   "id": "2fc19296",
   "metadata": {},
   "outputs": [],
   "source": [
    "# se retira otro elemento de la lista (pila) \n",
    "pancakes.pop() \n",
    "print(pancakes)\n",
    "print(len(pancakes))"
   ]
  },
  {
   "cell_type": "markdown",
   "id": "08e684f7",
   "metadata": {},
   "source": [
    "<p float=\"center\">\n",
    "  <img src=\"https://github.com/carlosalvarezh/EstructuraDatosAlgoritmos1/blob/main/Images/PancakeStack06.webp?raw=true\" width=\"500\" />\n",
    "</p>"
   ]
  },
  {
   "cell_type": "markdown",
   "id": "7f6d45fe",
   "metadata": {},
   "source": [
    "Se puede seguir este procedimiento hasta quitar todos los elementos de la lista (pila)"
   ]
  },
  {
   "cell_type": "code",
   "execution_count": null,
   "id": "e0860723",
   "metadata": {},
   "outputs": [],
   "source": [
    "pancakes.pop() \n",
    "pancakes.pop() \n",
    "pancakes.pop() \n",
    "print(pancakes)\n",
    "print(len(pancakes))"
   ]
  },
  {
   "cell_type": "markdown",
   "id": "57b0919f",
   "metadata": {},
   "source": [
    "### Gestión de Pilas en diversos lenguajes de programación"
   ]
  },
  {
   "cell_type": "markdown",
   "id": "d4848d3c",
   "metadata": {},
   "source": [
    "#### Python"
   ]
  },
  {
   "cell_type": "markdown",
   "id": "13152450",
   "metadata": {},
   "source": [
    "En Python, las pilas se pueden implementar fácilmente utilizando [listas](https://docs.python.org/3/tutorial/datastructures.html). Las listas en Python son dinámicas y permiten agregar o eliminar elementos, lo que las hace ideales para simular una pila. Las operaciones principales son `append()` para `push` y `pop()` para `pop`. Python no proporciona una biblioteca específica para pilas, ya que sus listas nativas ofrecen toda la funcionalidad necesaria con eficiencia."
   ]
  },
  {
   "cell_type": "code",
   "execution_count": null,
   "id": "f5a35115",
   "metadata": {},
   "outputs": [],
   "source": [
    "class Stack:\n",
    "    def __init__(self):\n",
    "        self.items = []\n",
    "\n",
    "    def push(self, item):\n",
    "        self.items.append(item)\n",
    "\n",
    "    def pop(self):\n",
    "        return self.items.pop()\n",
    "\n",
    "    def peek(self):\n",
    "        return self.items[-1] if self.items else None\n",
    "\n",
    "    def is_empty(self):\n",
    "        return len(self.items) == 0\n",
    "\n",
    "# Uso\n",
    "stack = Stack()\n",
    "stack.push(1)\n",
    "stack.push(2)\n",
    "print(stack.pop())  # Salida: 2"
   ]
  },
  {
   "cell_type": "markdown",
   "id": "1fd8daff",
   "metadata": {},
   "source": [
    "#### C/C++"
   ]
  },
  {
   "cell_type": "markdown",
   "id": "2e28d510",
   "metadata": {},
   "source": [
    "En `C/C++`, las pilas se pueden implementar de dos maneras: utilizando arreglos o utilizando estructuras de datos enlazadas. La implementación con arreglos es más sencilla pero menos flexible, ya que el tamaño de la pila debe definirse de antemano. La implementación con listas enlazadas, aunque más compleja, permite una pila dinámica donde el tamaño puede cambiar durante la ejecución del programa. En `C++`, también se puede utilizar la biblioteca estándar `STL` (stack), que proporciona una implementación de pila lista para usar.\n",
    "\n",
    "```C\n",
    "#include <iostream>\n",
    "#include <stack>\n",
    "\n",
    "int main() {\n",
    "    std::stack<int> stack;\n",
    "    stack.push(1);\n",
    "    stack.push(2);\n",
    "    std::cout << stack.top();  // Salida: 2\n",
    "    stack.pop();\n",
    "}\n",
    "```"
   ]
  },
  {
   "cell_type": "markdown",
   "id": "268fe40f",
   "metadata": {},
   "source": [
    "#### Java"
   ]
  },
  {
   "cell_type": "markdown",
   "id": "9fb8354b",
   "metadata": {},
   "source": [
    "`Java` ofrece una clase [`Stack`](https://docs.oracle.com/javase/8/docs/api/java/util/Stack.html) en su biblioteca de colecciones, que extiende la clase [`Vector`](https://docs.oracle.com/javase/8/docs/api/java/util/Vector.html). Esta implementación es sincronizada y, por lo tanto, segura en contextos de múltiples hilos, pero puede ser más lenta que otras alternativas no sincronizadas. También es común utilizar [`LinkedList`](https://docs.oracle.com/javase/8/docs/api/java/util/LinkedList.html) o [`ArrayList`](https://docs.oracle.com/javase/8/docs/api/java/util/ArrayList.html) para implementar una pila, utilizando sus métodos para agregar y eliminar elementos.\n",
    "\n",
    "```java\n",
    "import java.util.Stack;\n",
    "\n",
    "public class Main {\n",
    "    public static void main(String[] args) {\n",
    "        Stack<Integer> stack = new Stack<>();\n",
    "        stack.push(1);\n",
    "        stack.push(2);\n",
    "        System.out.println(stack.pop());  // Salida: 2\n",
    "    }\n",
    "}\n",
    "```"
   ]
  },
  {
   "cell_type": "markdown",
   "id": "68235a69",
   "metadata": {},
   "source": [
    "#### JavaScript"
   ]
  },
  {
   "cell_type": "markdown",
   "id": "1d2dfca7",
   "metadata": {},
   "source": [
    "En `JavaScript`, las pilas se pueden implementar usando arrays. Los arrays en JavaScript son dinámicos y permiten emular una pila con facilidad. Se utilizan los métodos `push` para agregar elementos a la pila y `pop` para eliminar el último elemento. JavaScript, al ser un lenguaje de alto nivel y dinámico, ofrece una gestión de memoria flexible que facilita la implementación de pilas.\n",
    "\n",
    "```JavaScript\n",
    "let stack = [];\n",
    "stack.push(1);\n",
    "stack.push(2);\n",
    "console.log(stack.pop());  // Salida: 2\n",
    "```"
   ]
  },
  {
   "cell_type": "markdown",
   "id": "041f75ed",
   "metadata": {},
   "source": [
    "### Resumen"
   ]
  },
  {
   "cell_type": "markdown",
   "id": "c8550c99",
   "metadata": {},
   "source": [
    "Cada lenguaje de programación tiene su propia manera de implementar una pila, influenciado por sus paradigmas y capacidades. Python y JavaScript ofrecen un enfoque más directo y flexible, utilizando estructuras de datos dinámicas. Por otro lado, C++ y Java proporcionan implementaciones más estructuradas y orientadas a objetos, con clases específicas y métodos para la gestión de pilas. La elección del lenguaje y la implementación dependerá de las necesidades específicas del proyecto y las preferencias del programador."
   ]
  },
  {
   "cell_type": "markdown",
   "id": "bb722012",
   "metadata": {},
   "source": [
    "## Colas (Queues)"
   ]
  },
  {
   "cell_type": "markdown",
   "id": "0263ba3a",
   "metadata": {},
   "source": [
    "### Introducción"
   ]
  },
  {
   "cell_type": "markdown",
   "id": "be43f297",
   "metadata": {},
   "source": [
    "<p float=\"center\">\n",
    "  <img src=\"https://github.com/carlosalvarezh/EstructuraDatosAlgoritmos1/blob/main/Images/Queue.webp?raw=true\" width=\"500\" />\n",
    "</p>\n",
    "\n",
    "<p style=\"text-align: center;\">\n",
    "    <strong>Tomado de:</strong> <a href=\"http://www.communityvoiceks.com/news/wichita_news/sedgwick-county-treasurer-launches-new-virtual-waiting-line-process/article_e1fce0c2-f05f-11e5-979b-93e21092f3d5.html\">The Voice</a>.\n",
    "</p>\n",
    "\n",
    "\n",
    "Las [*colas*](https://en.wikipedia.org/wiki/Queue_(abstract_data_type)) (queues, pronunciado *'kiu'*) surgieron como una manera de gestionar datos en secuencias temporales, como en la planificación de procesos en sistemas operativos, el manejo de tareas en sistemas de tiempo real y en la implementación de buffers para la transmisión de datos. Su enfoque *[FIFO](https://en.wikipedia.org/wiki/FIFO_(computing_and_electronics))* (First In, First Out) las hace ideales para situaciones donde los datos deben ser procesados en el mismo orden en que fueron recibidos. La analogía más común es la fila en una taquilla de cine o en un banco, donde el primer cliente en llegar es el primero en ser atendido."
   ]
  },
  {
   "cell_type": "markdown",
   "id": "289d35db",
   "metadata": {},
   "source": [
    "### Funcionamiento de una Cola"
   ]
  },
  {
   "cell_type": "markdown",
   "id": "8af0d2d4",
   "metadata": {},
   "source": [
    "Algunas operaciones clave en las colas son:\n",
    "\n",
    "- ***Enqueue (Encolar):*** Esta operación agrega un nuevo elemento al final de la cola. Es como cuando una nueva persona se une a la fila en la taquilla.\n",
    "<p>&nbsp;</p>\n",
    "\n",
    "- ***Dequeue (Desencolar):*** Elimina y retorna el elemento del frente de la cola. Esto se asemeja a atender al cliente que está al frente de la fila y permitirle dejar la fila.\n",
    "<p>&nbsp;</p>\n",
    "\n",
    "- ***Peek (Mirar):*** Permite ver el elemento en el frente de la cola sin eliminarlo. Es como verificar quién es el próximo cliente en ser atendido sin moverlo de su posición.\n",
    "<p>&nbsp;</p>\n",
    "\n",
    "- ***isEmpty (Está Vacía):*** Verifica si la cola está vacía, es decir, si no hay elementos en la fila.\n",
    "Size (Tamaño): Devuelve el número de elementos presentes en la cola.\n",
    "<p>&nbsp;</p>\n",
    "\n",
    "- ***Size (Tamaño):*** Devuelve el número de elementos presentes en la cola."
   ]
  },
  {
   "cell_type": "markdown",
   "id": "3865aae5",
   "metadata": {},
   "source": [
    "### Características de la Cola"
   ]
  },
  {
   "cell_type": "markdown",
   "id": "1be903db",
   "metadata": {},
   "source": [
    "- ***Orden de Acceso:*** Las colas operan bajo el principio de FIFO (First In, First Out), lo que significa que el primer elemento en entrar será el primero en salir.\n",
    "<p>&nbsp;</p>\n",
    "\n",
    "- ***Eficiencia:*** Las operaciones de enqueue y dequeue son generalmente eficientes, particularmente en implementaciones que evitan desplazar todos los elementos.\n",
    "<p>&nbsp;</p>\n",
    "\n",
    "- ***Uso de Memoria:*** La implementación de una cola puede ser dinámica, expandiéndose y contrayéndose según sea necesario."
   ]
  },
  {
   "cell_type": "markdown",
   "id": "200d6dc4",
   "metadata": {},
   "source": [
    "### Aplicaciones"
   ]
  },
  {
   "cell_type": "markdown",
   "id": "b6e55a43",
   "metadata": {},
   "source": [
    "Las colas son utilizadas en una variedad de aplicaciones, incluyendo:\n",
    "\n",
    "- ***Planificación de Tareas:*** En sistemas operativos para gestionar procesos y tareas en espera.\n",
    "<p>&nbsp;</p>\n",
    "\n",
    "- ***Gestión de Recursos:*** En la programación de recursos compartidos como impresoras o servidores.\n",
    "<p>&nbsp;</p>\n",
    "\n",
    "- ***Simulaciones:*** En modelado y simulaciones para representar procesos o sistemas de cola en la vida real."
   ]
  },
  {
   "cell_type": "markdown",
   "id": "95f89959",
   "metadata": {},
   "source": [
    "### Ejemplo aplicado en Python"
   ]
  },
  {
   "cell_type": "markdown",
   "id": "8f365c63",
   "metadata": {},
   "source": [
    "En el siguiente ejemplo se presenta una explicación detallada del proceso de aplicación de una estructura tipo cola empleando python. El ejemplo es tomado de *[Stacks and Queues in Python](https://levelup.gitconnected.com/stacks-and-queues-in-python-b2e8b4dbd876)*"
   ]
  },
  {
   "cell_type": "code",
   "execution_count": 1,
   "id": "e40ea246",
   "metadata": {},
   "outputs": [
    {
     "name": "stdout",
     "output_type": "stream",
     "text": [
      "[]\n"
     ]
    }
   ],
   "source": [
    "# empecemos con una lista vacía\n",
    "ticket_queue = []\n",
    "print(ticket_queue)"
   ]
  },
  {
   "cell_type": "markdown",
   "id": "6e1a5271",
   "metadata": {},
   "source": [
    "<p float=\"center\">\n",
    "  <img src=\"https://github.com/carlosalvarezh/EstructuraDatosAlgoritmos1/blob/main/Images/Cola00.webp?raw=true\" width=\"500\" />\n",
    "</p>"
   ]
  },
  {
   "cell_type": "markdown",
   "id": "fe2a4244",
   "metadata": {},
   "source": [
    "Para adicionar elementos es lo mismo que en las pilas, solo que ahora lo llamamos `enqueue` o `enqueuing`, pero es el mismo método `append` de las listas.\n",
    "\n",
    "<p float=\"center\">\n",
    "  <img src=\"https://github.com/carlosalvarezh/EstructuraDatosAlgoritmos1/blob/main/Images/Cola01.webp?raw=true\" width=\"500\" />\n",
    "</p>"
   ]
  },
  {
   "cell_type": "code",
   "execution_count": 2,
   "id": "6e8215a5",
   "metadata": {},
   "outputs": [
    {
     "name": "stdout",
     "output_type": "stream",
     "text": [
      "['Customer # 1']\n"
     ]
    }
   ],
   "source": [
    "ticket_queue.append('Customer # 1')\n",
    "print(ticket_queue)"
   ]
  },
  {
   "cell_type": "markdown",
   "id": "55833338",
   "metadata": {},
   "source": [
    "Ahora llegan otros dos clientes...\n",
    "\n",
    "<p float=\"center\">\n",
    "  <img src=\"https://github.com/carlosalvarezh/EstructuraDatosAlgoritmos1/blob/main/Images/Cola02.webp?raw=true\" width=\"500\" />\n",
    "</p>"
   ]
  },
  {
   "cell_type": "code",
   "execution_count": 3,
   "id": "141b0635",
   "metadata": {},
   "outputs": [
    {
     "name": "stdout",
     "output_type": "stream",
     "text": [
      "['Customer # 1', 'Customer # 2', 'Customer # 3']\n"
     ]
    }
   ],
   "source": [
    "ticket_queue.append('Customer # 2')\n",
    "ticket_queue.append('Customer # 3')\n",
    "print(ticket_queue)"
   ]
  },
  {
   "cell_type": "markdown",
   "id": "080f061f",
   "metadata": {},
   "source": [
    "A diferencia de una pila, cuando se eliminan elementos, una cola los elimina desde el principio en forma *FIFO* (primero en entrar, primero en salir) esto también se denomina *quitar de la cola* (*dequeue*) o *quitar la cola* (*dequeuing*). La única diferencia aquí es el índice dado a `pop()`, que se refiere al primer elemento de la lista:"
   ]
  },
  {
   "cell_type": "code",
   "execution_count": 4,
   "id": "9dfa5a94",
   "metadata": {},
   "outputs": [
    {
     "name": "stdout",
     "output_type": "stream",
     "text": [
      "Served:Customer # 1\n",
      "['Customer # 2', 'Customer # 3']\n"
     ]
    }
   ],
   "source": [
    "print(\"Served:\" + ticket_queue.pop(0))\n",
    "print(ticket_queue)"
   ]
  },
  {
   "cell_type": "markdown",
   "id": "ed806890",
   "metadata": {},
   "source": [
    "Podemos continuar eliminando o quitando elementos de la cola de la misma manera:\n",
    "\n",
    "<p float=\"center\">\n",
    "  <img src=\"https://github.com/carlosalvarezh/EstructuraDatosAlgoritmos1/blob/main/Images/Cola03.webp?raw=true\" width=\"500\" />\n",
    "</p>"
   ]
  },
  {
   "cell_type": "code",
   "execution_count": 5,
   "id": "25b5de37",
   "metadata": {},
   "outputs": [
    {
     "name": "stdout",
     "output_type": "stream",
     "text": [
      "Served: Customer # 2\n"
     ]
    }
   ],
   "source": [
    "print(\"Served: \" + ticket_queue.pop(0))"
   ]
  },
  {
   "cell_type": "code",
   "execution_count": 6,
   "id": "a9ab23fa",
   "metadata": {},
   "outputs": [
    {
     "name": "stdout",
     "output_type": "stream",
     "text": [
      "Served: Customer # 3\n"
     ]
    }
   ],
   "source": [
    "print(\"Served: \" + ticket_queue.pop(0))"
   ]
  },
  {
   "cell_type": "code",
   "execution_count": 7,
   "id": "fdc08bd3",
   "metadata": {},
   "outputs": [
    {
     "name": "stdout",
     "output_type": "stream",
     "text": [
      "[]\n"
     ]
    }
   ],
   "source": [
    "print(ticket_queue)"
   ]
  },
  {
   "cell_type": "markdown",
   "id": "87ec1ae9",
   "metadata": {},
   "source": [
    "### Implementación de Colas (Queues) en Diversos Lenguajes de Programación"
   ]
  },
  {
   "cell_type": "markdown",
   "id": "80e016e0",
   "metadata": {},
   "source": [
    "#### Python"
   ]
  },
  {
   "cell_type": "markdown",
   "id": "57659a68",
   "metadata": {},
   "source": [
    "Python maneja las colas principalmente a través de su biblioteca [`collections`](https://docs.python.org/3/library/collections.html), utilizando la clase [`deque`](https://docs.python.org/3/library/collections.html#collections.deque) que es una abreviatura de \"*double-ended queue*\". Esta clase permite agregar y eliminar elementos tanto del frente como del final de la cola, lo que la hace muy flexible."
   ]
  },
  {
   "cell_type": "code",
   "execution_count": null,
   "id": "bbcfad84",
   "metadata": {},
   "outputs": [],
   "source": [
    "from collections import deque\n",
    "\n",
    "queue = deque()\n",
    "queue.append('a')  # Enqueue\n",
    "queue.append('b')\n",
    "print(queue.popleft())  # Dequeue, salida: 'a'\n"
   ]
  },
  {
   "cell_type": "markdown",
   "id": "2c00f12f",
   "metadata": {},
   "source": [
    "#### C++"
   ]
  },
  {
   "cell_type": "markdown",
   "id": "498fedc9",
   "metadata": {},
   "source": [
    "En $\\texttt{C++}$, se puede implementar una cola utilizando la biblioteca estándar [`queue`](https://cplusplus.com/reference/queue/queue/). Esta implementación proporciona operaciones básicas de cola como [`push`](https://cplusplus.com/reference/queue/queue/push/) (para encolar) y [`pop`](https://cplusplus.com/reference/queue/queue/pop/) (para desencolar).\n",
    "\n",
    "```C++\n",
    "#include <iostream>\n",
    "#include <queue>\n",
    "\n",
    "int main() {\n",
    "    std::queue<int> queue;\n",
    "    queue.push(1);  // Enqueue\n",
    "    queue.push(2);\n",
    "    std::cout << queue.front();  // Salida: 1\n",
    "    queue.pop();  // Dequeue\n",
    "}\n",
    "```"
   ]
  },
  {
   "cell_type": "markdown",
   "id": "92016eb1",
   "metadata": {},
   "source": [
    "#### Java"
   ]
  },
  {
   "cell_type": "markdown",
   "id": "28a28679",
   "metadata": {},
   "source": [
    "$\\text{Java}$ ofrece una interfaz [`Queue`](https://docs.oracle.com/javase/8/docs/api/java/util/Queue.html) dentro de su marco de colecciones, que se puede implementar usando varias clases como [`LinkedList`](https://docs.oracle.com/javase/8/docs/api/java/util/LinkedList.html) o [`PriorityQueue`](https://docs.oracle.com/javase/8/docs/api/java/util/PriorityQueue.html). La clase [`LinkedList`](https://docs.oracle.com/javase/8/docs/api/java/util/LinkedList.html) se utiliza comúnmente para implementar colas.\n",
    "\n",
    "```java\n",
    "import java.util.LinkedList;\n",
    "import java.util.Queue;\n",
    "\n",
    "public class Main {\n",
    "    public static void main(String[] args) {\n",
    "        Queue<Integer> queue = new LinkedList<>();\n",
    "        queue.add(1);  // Enqueue\n",
    "        queue.add(2);\n",
    "        System.out.println(queue.remove());  // Dequeue, salida: 1\n",
    "    }\n",
    "}\n",
    "```"
   ]
  },
  {
   "cell_type": "markdown",
   "id": "7599156e",
   "metadata": {},
   "source": [
    "#### JavaScript"
   ]
  },
  {
   "cell_type": "markdown",
   "id": "80f62812",
   "metadata": {},
   "source": [
    "En $\\text{JavaScript}$, las colas pueden implementarse usando [`arrays`](https://developer.mozilla.org/en-US/docs/Web/JavaScript/Reference/Global_Objects/Array), aunque no es la opción más eficiente para operaciones de gran tamaño. Los métodos [`push`](https://developer.mozilla.org/en-US/docs/Web/JavaScript/Reference/Global_Objects/Array/push) y [`shift`](https://developer.mozilla.org/en-US/docs/Web/JavaScript/Reference/Global_Objects/Array/shift) se utilizan para encolar y desencolar, respectivamente.\n",
    "\n",
    "```JavaScript\n",
    "let queue = [];\n",
    "queue.push(1);  // Enqueue\n",
    "queue.push(2);\n",
    "console.log(queue.shift());  // Dequeue, salida: 1\n",
    "```"
   ]
  },
  {
   "cell_type": "markdown",
   "id": "dff1f267",
   "metadata": {},
   "source": [
    "## Ejercicios"
   ]
  },
  {
   "cell_type": "markdown",
   "id": "90eda80b",
   "metadata": {},
   "source": [
    "### Pilas"
   ]
  },
  {
   "cell_type": "markdown",
   "id": "e533391e",
   "metadata": {},
   "source": [
    "<div class=\"alert alert-danger\" role=\"danger\">\n",
    "    <strong>- Ejercicio 1: Inversión de Palabras:</strong>\n",
    "    <ul>\n",
    "        <li><strong>Enunciado:</strong> Escribe un programa que utilice una pila para invertir una palabra dada por el usuario.</li>\n",
    "        <li><strong>Pista:</strong> Utiliza la operación `push` para agregar cada carácter de la palabra a la pila y luego utiliza `pop` para reconstruir la palabra en orden inverso.</li>\n",
    "    </ul>\n",
    "</div>"
   ]
  },
  {
   "cell_type": "markdown",
   "id": "0b417467",
   "metadata": {},
   "source": [
    "<div class=\"alert alert-danger\" role=\"danger\">\n",
    "    <strong>- Ejercicio 2: Validación de Paréntesis:</strong>\n",
    "    <ul>\n",
    "        <li><strong>Enunciado:</strong> Implementa una función que determine si en una expresión matemática los paréntesis están correctamente balanceados.</li>\n",
    "        <li><strong>Pista:</strong> Utiliza una pila para almacenar los paréntesis abiertos y haz `pop` cada vez que encuentres un paréntesis cerrado. Si la pila está vacía al final, los paréntesis están balanceados.</li>\n",
    "    </ul>\n",
    "</div>"
   ]
  },
  {
   "cell_type": "markdown",
   "id": "bb10de60",
   "metadata": {},
   "source": [
    "<div class=\"alert alert-danger\" role=\"danger\">\n",
    "    <strong>- Ejercicio 3: Operaciones Postfijo:</strong>\n",
    "    <ul>\n",
    "        <li><strong>Enunciado:</strong> Desarrolla un programa que evalúe una expresión en notación postfija (operando operando operador).</li>\n",
    "        <li><strong>Pista:</strong> Utiliza una pila para almacenar los operandos. Cuando encuentres un operador, haz `pop` a los dos últimos elementos, aplica la operación y `push` el resultado a la pila.</li>\n",
    "    </ul>\n",
    "</div>"
   ]
  },
  {
   "cell_type": "markdown",
   "id": "2ea64a37",
   "metadata": {},
   "source": [
    "<div class=\"alert alert-danger\" role=\"danger\">\n",
    "    <strong>- Ejercicio 4: Historial de Navegación:</strong>\n",
    "    <ul>\n",
    "        <li><strong>Enunciado:</strong> Simula el historial de navegación de un navegador utilizando una pila.</li>\n",
    "        <li><strong>Pista:</strong> Implementa una pila para almacenar URLs visitadas. Cada vez que el usuario \"regresa\", haz `pop` a la URL actual.</li>\n",
    "    </ul>\n",
    "</div>"
   ]
  },
  {
   "cell_type": "markdown",
   "id": "a2aac476",
   "metadata": {},
   "source": [
    "<div class=\"alert alert-danger\" role=\"danger\">\n",
    "    <strong>- Ejercicio 5: Recursión Implícita:</strong>\n",
    "    <ul>\n",
    "        <li><strong>Enunciado:</strong> Implementa una función recursiva, como el cálculo de factorial, utilizando una pila en lugar de la recursión.</li>\n",
    "        <li><strong>Pista:</strong> Usa una pila para simular las llamadas a la función, almacenando el estado actual de cada llamada hasta que se resuelva el caso base.</li>\n",
    "    </ul>\n",
    "</div>"
   ]
  },
  {
   "cell_type": "markdown",
   "id": "5e489243",
   "metadata": {},
   "source": [
    "### Colas"
   ]
  },
  {
   "cell_type": "markdown",
   "id": "1e9b5901",
   "metadata": {},
   "source": [
    "<div class=\"alert alert-danger\" role=\"danger\">\n",
    "    <strong>- Ejercicio 1: Gestión de Impresoras:</strong>\n",
    "    <ul>\n",
    "        <li><strong>Enunciado:</strong> Escribe un programa que simule una cola de trabajos de impresión. Cada trabajo debe tener un tiempo estimado y el programa debe procesarlos en orden.</li>\n",
    "        <li><strong>Pista:</strong> Implementa una cola para los trabajos de impresión. Encola nuevos trabajos y desencola cuando un trabajo se completa.</li>\n",
    "    </ul>\n",
    "</div>"
   ]
  },
  {
   "cell_type": "markdown",
   "id": "bbbeba57",
   "metadata": {},
   "source": [
    "<div class=\"alert alert-danger\" role=\"danger\">\n",
    "    <strong>- Ejercicio 2: Atención al Cliente:</strong>\n",
    "    <ul>\n",
    "        <li><strong>Enunciado:</strong> Simula un sistema de atención al cliente donde los clientes son atendidos en el orden en que llegan.</li>\n",
    "        <li><strong>Pista:</strong> Usa una cola para manejar los clientes. Encola nuevos clientes y desencola para atender al siguiente cliente.</li>\n",
    "    </ul>\n",
    "</div>"
   ]
  },
  {
   "cell_type": "markdown",
   "id": "aab4bd32",
   "metadata": {},
   "source": [
    "<div class=\"alert alert-danger\" role=\"danger\">\n",
    "    <strong>- Ejercicio 3: Ejecución de Procesos:</strong>\n",
    "    <ul>\n",
    "        <li><strong>Enunciado:</strong> Implementa un programa que simule la ejecución de procesos en un sistema operativo utilizando una cola.</li>\n",
    "        <li><strong>Pista:</strong> Crea una cola para los procesos. Encola nuevos procesos y desencola cuando un proceso se ha ejecutado.</li>\n",
    "    </ul>\n",
    "</div>"
   ]
  },
  {
   "cell_type": "markdown",
   "id": "a6fcd0b3",
   "metadata": {},
   "source": [
    "<div class=\"alert alert-danger\" role=\"danger\">\n",
    "    <strong>- Ejercicio 4: Reproductor de Música:</strong>\n",
    "    <ul>\n",
    "        <li><strong>Enunciado:</strong> Desarrolla un reproductor de música simple donde las canciones se añaden a una cola y se reproducen en orden.</li>\n",
    "        <li><strong>Pista:</strong> Utiliza una cola para manejar las canciones. Encola nuevas canciones y desencola para reproducir la siguiente canción.</li>\n",
    "    </ul>\n",
    "</div>"
   ]
  },
  {
   "cell_type": "markdown",
   "id": "08b7d51a",
   "metadata": {},
   "source": [
    "<div class=\"alert alert-danger\" role=\"danger\">\n",
    "    <strong>- Ejercicio 5: Simulación de Cola del Supermercado:</strong>\n",
    "    <ul>\n",
    "        <li><strong>Enunciado:</strong> Escribe un programa que simule la cola de una caja en un supermercado.</li>\n",
    "        <li><strong>Pista:</strong> Implementa una cola para los clientes en la caja. Encola nuevos clientes y desencola cuando un cliente ha pagado y deja la caja.</li>\n",
    "    </ul>\n",
    "</div>"
   ]
  }
 ],
 "metadata": {
  "kernelspec": {
   "display_name": "Python 3 (ipykernel)",
   "language": "python",
   "name": "python3"
  },
  "language_info": {
   "codemirror_mode": {
    "name": "ipython",
    "version": 3
   },
   "file_extension": ".py",
   "mimetype": "text/x-python",
   "name": "python",
   "nbconvert_exporter": "python",
   "pygments_lexer": "ipython3",
   "version": "3.11.3"
  },
  "toc": {
   "base_numbering": 1,
   "nav_menu": {},
   "number_sections": true,
   "sideBar": true,
   "skip_h1_title": true,
   "title_cell": "Table of Contents",
   "title_sidebar": "Contents",
   "toc_cell": false,
   "toc_position": {
    "height": "calc(100% - 180px)",
    "left": "10px",
    "top": "150px",
    "width": "256px"
   },
   "toc_section_display": true,
   "toc_window_display": false
  }
 },
 "nbformat": 4,
 "nbformat_minor": 5
}
