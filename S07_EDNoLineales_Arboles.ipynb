{
 "cells": [
  {
   "cell_type": "markdown",
   "id": "e92dd6d9",
   "metadata": {},
   "source": [
    "<h1 align=\"center\">Estructura de Datos y Algoritmos I</h1>\n",
    "<h1 align=\"center\">Estructuras de Datos No Lineales - Árboles</h1>\n",
    "<h1 align=\"center\">2024</h1>\n",
    "<h1 align=\"center\">MEDELLÍN - COLOMBIA </h1>"
   ]
  },
  {
   "cell_type": "markdown",
   "id": "9c3b997f",
   "metadata": {},
   "source": [
    "*** \n",
    "|[![Outlook](https://img.shields.io/badge/Microsoft_Outlook-0078D4?style=plastic&logo=microsoft-outlook&logoColor=white)](mailto:calvar52@eafit.edu.co)||[![Open In Colab](https://colab.research.google.com/assets/colab-badge.svg)](https://colab.research.google.com/github/carlosalvarezh/EstructuraDatosAlgoritmos1/blob/main/S07_EDA_NoLineales_Arboles.ipynb)\n",
    "|-:|:-|--:|\n",
    "|[![LinkedIn](https://img.shields.io/badge/linkedin-%230077B5.svg?style=plastic&logo=linkedin&logoColor=white)](https://www.linkedin.com/in/carlosalvarez5/)|[![@alvarezhenao](https://img.shields.io/twitter/url/https/twitter.com/alvarezhenao.svg?style=social&label=Follow%20%40alvarezhenao)](https://twitter.com/alvarezhenao)|[![@carlosalvarezh](https://img.shields.io/badge/github-%23121011.svg?style=plastic&logo=github&logoColor=white)](https://github.com/carlosalvarezh)|\n",
    "\n",
    "<table>\n",
    " <tr align=left><td><img align=left src=\"https://github.com/carlosalvarezh/Curso_CEC_EAFIT/blob/main/images/CCLogoColorPop1.gif?raw=true\" width=\"25\">\n",
    " <td>Text provided under a Creative Commons Attribution license, CC-BY. All code is made available under the FSF-approved MIT license.(c) Carlos Alberto Alvarez Henao</td>\n",
    "</table>\n",
    "\n",
    "***"
   ]
  },
  {
   "cell_type": "markdown",
   "id": "40c5d52d",
   "metadata": {},
   "source": [
    "## Estructuras de Datos No Lineales"
   ]
  },
  {
   "cell_type": "markdown",
   "id": "b1e9908f",
   "metadata": {},
   "source": [
    "<p float=\"center\">\n",
    "  <img src=\"https://github.com/carlosalvarezh/EstructuraDatosAlgoritmos1/blob/main/Images/DataStuctureClassification1.PNG?raw=true\" width=\"350\" />\n",
    "</p>\n",
    "<p style=\"text-align: center;\">\n",
    "    <strong>Fuente:</strong> Elaboración propia.\n",
    "</p>"
   ]
  },
  {
   "cell_type": "markdown",
   "id": "16f21660",
   "metadata": {},
   "source": [
    "### Introducción a las Estructuras de Datos No Lineales"
   ]
  },
  {
   "cell_type": "markdown",
   "id": "fd536bc9",
   "metadata": {},
   "source": [
    "Las estructuras de datos son fundamentales en el mundo de la programación y la informática. Son el medio por el cual organizamos y almacenamos datos para su manipulación eficiente. Mientras que las estructuras de datos lineales como arreglos, pilas y colas tienen una organización secuencial, las estructuras de datos no lineales se caracterizan por una organización jerárquica o de red, lo que permite relaciones más complejas entre los datos."
   ]
  },
  {
   "cell_type": "markdown",
   "id": "57a5ac52",
   "metadata": {},
   "source": [
    "### Características Clave"
   ]
  },
  {
   "cell_type": "markdown",
   "id": "9f15fbc2",
   "metadata": {},
   "source": [
    "#### Relaciones Jerárquicas"
   ]
  },
  {
   "cell_type": "markdown",
   "id": "791bf97d",
   "metadata": {},
   "source": [
    "A diferencia de las lineales, las estructuras no lineales pueden representar relaciones de [uno a muchos](https://en.wikipedia.org/wiki/One-to-many_(data_model)) y de [muchos a muchos](https://en.wikipedia.org/wiki/Many-to-many_(data_model)).\n",
    "\n",
    "Las relaciones de uno a muchos y de muchos a muchos son conceptos fundamentales en la modelación de datos, particularmente en el diseño de bases de datos y la estructuración de estructuras de datos no lineales. Estas relaciones describen cómo se pueden asociar entidades o elementos entre sí."
   ]
  },
  {
   "cell_type": "markdown",
   "id": "87c1f092",
   "metadata": {},
   "source": [
    "#### Uno a muchos"
   ]
  },
  {
   "cell_type": "markdown",
   "id": "daa17078",
   "metadata": {},
   "source": [
    "<p float=\"center\">\n",
    "  <img src=\"https://github.com/carlosalvarezh/EstructuraDatosAlgoritmos1/blob/main/Images/One2Many.PNG?raw=true\" width=\"350\" />\n",
    "</p>\n",
    "<p style=\"text-align: center;\">\n",
    "    <strong>Fuente:</strong> Elaboración propia.\n",
    "</p>\n",
    "\n",
    "En una relación de uno a muchos, un elemento de un conjunto ($A$) puede estar relacionado con múltiples elementos de otro conjunto ($B$), pero cada elemento de $B$ solo está asociado con un único elemento de $A$.\n",
    "\n",
    "**Ejemplo:**\n",
    "\n",
    "- En una base de datos de una escuela, un profesor (*conjunto A*) puede enseñar a varios estudiantes (*conjunto B*). Aquí, un profesor se relaciona con muchos estudiantes, pero cada estudiante tiene un solo profesor principal.\n"
   ]
  },
  {
   "cell_type": "markdown",
   "id": "c913e35f",
   "metadata": {},
   "source": [
    "#### muchos a muchos"
   ]
  },
  {
   "cell_type": "markdown",
   "id": "428ac4d0",
   "metadata": {},
   "source": [
    "<p float=\"center\">\n",
    "  <img src=\"https://github.com/carlosalvarezh/EstructuraDatosAlgoritmos1/blob/main/Images/Many2Many.PNG?raw=true\" width=\"350\" />\n",
    "</p>\n",
    "<p style=\"text-align: center;\">\n",
    "    <strong>Fuente:</strong> Elaboración propia.\n",
    "</p>\n",
    "\n",
    "En una relación de muchos a muchos, múltiples elementos de un conjunto ($A$) pueden estar relacionados con múltiples elementos de otro conjunto ($B$).\n",
    "\n",
    "***Ejemplo:***\n",
    "\n",
    "Continuando con el anterior ejemplo, muchos estudiantes pueden tomar muchos cursos, no necesariamente todos los mismos."
   ]
  },
  {
   "cell_type": "markdown",
   "id": "72271aae",
   "metadata": {},
   "source": [
    "#### Importancia en Estructuras de Datos y Bases de Datos"
   ]
  },
  {
   "cell_type": "markdown",
   "id": "3ddcecf1",
   "metadata": {},
   "source": [
    "En las estructuras de datos no lineales, estas relaciones son importantes para definir cómo se conectan los datos. Por ejemplo, en un árbol (una estructura de datos no lineal), un nodo padre puede tener varios nodos hijos (relación de uno a muchos).\n",
    "\n",
    "En las bases de datos relacionales, estas relaciones son cruciales para el diseño de esquemas eficientes y normalizados. Las relaciones de uno a muchos a menudo se implementan mediante claves foráneas, mientras que las relaciones de muchos a muchos generalmente requieren una tabla de unión o tabla intermedia para gestionar las asociaciones entre las entidades."
   ]
  },
  {
   "cell_type": "markdown",
   "id": "dfcda8a9",
   "metadata": {},
   "source": [
    "#### Otras características clave"
   ]
  },
  {
   "cell_type": "markdown",
   "id": "816e74b6",
   "metadata": {},
   "source": [
    "- **Eficiencia en Operaciones Complejas:** Son ideales para operaciones como búsqueda, inserción y eliminación en conjuntos de datos grandes y complejos.\n",
    "<p>&nbsp;</p>\n",
    "\n",
    "- **Representación de Datos Complejos:** Capaces de modelar estructuras de datos más cercanas a situaciones del mundo real, como redes sociales, sistemas de organización geográfica, y más."
   ]
  },
  {
   "cell_type": "markdown",
   "id": "213b5eef",
   "metadata": {},
   "source": [
    "### Tipos de Estructuras de Datos No Lineales"
   ]
  },
  {
   "cell_type": "markdown",
   "id": "7f2a38c2",
   "metadata": {},
   "source": [
    "#### Árboles"
   ]
  },
  {
   "cell_type": "markdown",
   "id": "2b8e1f90",
   "metadata": {},
   "source": [
    "- **Definición:** Un conjunto de nodos conectados de manera jerárquica.\n",
    "<p>&nbsp;</p>\n",
    "\n",
    "- **Usos Comunes:** Organización de datos jerárquicos, como sistemas de archivos, procesamiento de lenguajes naturales, y árboles de decisión en aprendizaje automático.\n"
   ]
  },
  {
   "cell_type": "markdown",
   "id": "81986e7c",
   "metadata": {},
   "source": [
    "#### Grafos"
   ]
  },
  {
   "cell_type": "markdown",
   "id": "74f98269",
   "metadata": {},
   "source": [
    "- **Definición:** Conjunto de nodos conectados por aristas sin una jerarquía estricta.\n",
    "<p>&nbsp;</p>\n",
    "\n",
    "- **Usos Comunes:** Redes sociales, sistemas de mapas y navegación, y análisis de redes."
   ]
  },
  {
   "cell_type": "markdown",
   "id": "66f6e1b1",
   "metadata": {},
   "source": [
    "#### Tablas Hash"
   ]
  },
  {
   "cell_type": "markdown",
   "id": "d12ddeda",
   "metadata": {},
   "source": [
    "- **Definición:** Estructura de datos que asocia claves con valores, utilizando una función hash para calcular el índice donde se almacenará un elemento.\n",
    "<p>&nbsp;</p>\n",
    "\n",
    "- **Usos Comunes:** Búsqueda rápida de datos, implementación de bases de datos, y cachés."
   ]
  },
  {
   "cell_type": "markdown",
   "id": "eaa5eb4d",
   "metadata": {},
   "source": [
    "#### Heaps"
   ]
  },
  {
   "cell_type": "markdown",
   "id": "e18ab82e",
   "metadata": {},
   "source": [
    "- **Definición:** Árbol basado en una estructura de datos donde se mantiene un orden específico en los nodos.\n",
    "<p>&nbsp;</p>\n",
    "\n",
    "- **Usos Comunes:** Implementación de colas de prioridad, algoritmos de ordenamiento y sistemas de gestión de memoria."
   ]
  },
  {
   "cell_type": "markdown",
   "id": "9ed881b8",
   "metadata": {},
   "source": [
    "### Ventajas y Desventajas"
   ]
  },
  {
   "cell_type": "markdown",
   "id": "50e017a6",
   "metadata": {},
   "source": [
    "***Ventajas***\n",
    "\n",
    "1. **Eficiencia:** Permiten operaciones más eficientes en términos de tiempo y espacio, especialmente para grandes volúmenes de datos.\n",
    "<p>&nbsp;</p>\n",
    "\n",
    "2. **Flexibilidad:** Pueden adaptarse mejor a necesidades específicas de almacenamiento y búsqueda de datos.\n",
    "\n",
    "***Desventajas***\n",
    "\n",
    "1. **Complejidad:** Son más complejas en su implementación y comprensión.\n",
    "<p>&nbsp;</p>\n",
    "\n",
    "2. **Costo de Mantenimiento:** Mantener la estructura, especialmente en estructuras balanceadas como árboles AVL, puede ser costoso en términos de recursos.\n"
   ]
  },
  {
   "cell_type": "markdown",
   "id": "bf11a344",
   "metadata": {},
   "source": [
    "## Árboles (trees)"
   ]
  },
  {
   "cell_type": "markdown",
   "id": "d776c61b",
   "metadata": {},
   "source": [
    "### Aspectos Generales de Árboles"
   ]
  },
  {
   "cell_type": "markdown",
   "id": "3629af1d",
   "metadata": {},
   "source": [
    "<p float=\"center\">\n",
    "  <img src=\"https://github.com/carlosalvarezh/EstructuraDatosAlgoritmos1/blob/main/Images/Tree00%20-%20copia.png?raw=true\" width=\"500\" />\n",
    "</p>\n",
    "\n",
    "<p float=\"center\">\n",
    "  <img src=\"https://github.com/carlosalvarezh/EstructuraDatosAlgoritmos1/blob/main/Images/Tree00.webp?raw=true\" width=\"500\" />\n",
    "</p>\n",
    "\n",
    "Ahora, centrémonos en los árboles, una de las estructuras de datos no lineales más fundamentales y versátiles. Los árboles son estructuras jerárquicas que constan de nodos conectados. Cada árbol tiene un nodo raíz, y cada nodo en el árbol puede tener cero o más nodos hijos. Los árboles son especialmente útiles en aplicaciones que requieren una representación jerárquica y eficiente de los datos. \n",
    "\n",
    "En las siguientes secciones, exploraremos en detalle los tipos de árboles, sus aplicaciones, operaciones básicas y ejemplos prácticos en diferentes lenguajes de programación."
   ]
  },
  {
   "cell_type": "markdown",
   "id": "1377a8b7",
   "metadata": {},
   "source": [
    "#### Introducción"
   ]
  },
  {
   "cell_type": "markdown",
   "id": "d448cdc3",
   "metadata": {},
   "source": [
    "La estructura de datos de árboles es una estructura jerárquica utilizada para representar y organizar datos de manera que sea fácil de navegar y buscar. Consiste en una colección de nodos conectados por aristas, estableciendo una relación jerárquica entre ellos.\n",
    "\n",
    "El nodo más alto del árbol se denomina raíz, y los nodos situados debajo de este son conocidos como nodos hijos. Cada nodo puede tener múltiples nodos hijos, y estos a su vez pueden tener sus propios nodos hijos, formando una estructura recursiva.\n",
    "\n",
    "Esta estructura de datos es un método especializado para organizar y almacenar datos en el ordenador de manera que se puedan utilizar de forma más efectiva. Se compone de un nodo central, nodos estructurales y subnodos, que están conectados mediante aristas. También se puede decir que la estructura de datos de árboles tiene raíces, ramas y hojas interconectadas entre sí.\n",
    "\n",
    "Los datos de un árbol no se almacenan de forma secuencial, es decir, no se almacenan linealmente. En cambio, están organizados en múltiples niveles o podemos decir que es una estructura jerárquica. Por este motivo, se considera que el árbol es una estructura de datos no lineal."
   ]
  },
  {
   "cell_type": "markdown",
   "id": "cd50828e",
   "metadata": {},
   "source": [
    "#### Terminología básica"
   ]
  },
  {
   "cell_type": "markdown",
   "id": "159090e4",
   "metadata": {},
   "source": [
    "<p float=\"center\">\n",
    "  <img src=\"https://github.com/carlosalvarezh/EstructuraDatosAlgoritmos1/blob/main/Images/Treedatastructure.png?raw=true\" width=\"750\" />\n",
    "</p>\n",
    "\n",
    "<p style=\"text-align: center;\">\n",
    "    <strong>Tomado de:</strong> <a href=\"https://www.geeksforgeeks.org/\">geeksforgeeks.org</a>.\n",
    "</p>\n",
    "\n",
    "- ***Nodo raíz (Root Node):*** el nodo superior de un árbol o el nodo que no tiene ningún nodo principal se denomina nodo raíz. `{A}` es el nodo raíz del árbol. Un árbol no vacío debe contener exactamente un nodo raíz y exactamente una ruta desde la raíz a todos los demás nodos del árbol.\n",
    "<p>&nbsp;</p>\n",
    "\n",
    "- ***Arista (Edge):*** conexión entre dos nodos. Definen la estructura del árbol determinando la relación *padre-hijo*.\n",
    "<p>&nbsp;</p>\n",
    "\n",
    "- ***Clave (key):*** valor único que identifica a cada nodo dentro del árbol.\n",
    "<p>&nbsp;</p>\n",
    "\n",
    "- ***Nodo padre (Parent Node):*** el nodo que es predecesor de un nodo se denomina nodo principal de ese nodo. `{B}` es el nodo padre de `{D, E}`.  \n",
    "<p>&nbsp;</p>\n",
    "\n",
    "- ***Nodo hijo (Child Node):*** el nodo que es el sucesor inmediato de un nodo se denomina nodo hijo de ese nodo. Ejemplos: `{D, E}` son los nodos secundarios de `{B}`.  \n",
    "<p>&nbsp;</p>\n",
    "\n",
    "- ***Nodo hoja o nodo externo (Leaf Node or External Node):*** los nodos que no tienen nodos secundarios se denominan nodos hoja. `{K, L, M, N, O, P, G}` son los nodos de hoja del árbol.\n",
    "<p>&nbsp;</p>\n",
    "\n",
    "- ***Ancestro de un nodo (Ancestor of a Node):*** cualquier nodo predecesor en la ruta de la raíz a ese nodo se denomina Ancestro de ese nodo. `{A,B}` son los nodos ancestros del nodo `{E}`.\n",
    "<p>&nbsp;</p>\n",
    "\n",
    "- ***Descendiente (Descendant):*** cualquier nodo sucesor en la ruta desde el nodo hoja hasta ese nodo. `{E,I}` son los descendientes del nodo `{B}`.\n",
    "<p>&nbsp;</p>\n",
    "\n",
    "- ***Hermano (Sibling):*** Los hijos del mismo nodo padre se denominan hermanos. {D,E} se llaman hermanos.\n",
    "<p>&nbsp;</p>\n",
    "\n",
    "- ***Nivel de un nodo (Level of a node):*** el recuento de aristas en la ruta desde el nodo raíz hasta ese nodo. El nodo raíz tiene el nivel `0`.\n",
    "<p>&nbsp;</p>\n",
    "\n",
    "- ***Nodo interno (Internal node):*** un nodo con al menos un hijo se denomina nodo interno.\n",
    "<p>&nbsp;</p>\n",
    "\n",
    "- ***Vecino de un nodo (Neighbour of a Node):*** los nodos padre o hijo de ese nodo se denominan vecinos de ese nodo.\n",
    "<p>&nbsp;</p>\n",
    "\n",
    "- ***Subárbol (Subtree):*** cualquier nodo del árbol junto con su descendiente."
   ]
  },
  {
   "cell_type": "markdown",
   "id": "70123012",
   "metadata": {},
   "source": [
    "#### Propiedades de la estructura de datos del árbol"
   ]
  },
  {
   "cell_type": "markdown",
   "id": "ae4d8117",
   "metadata": {},
   "source": [
    "- ***Número de aristas:*** Una arista se puede definir como la conexión entre dos nodos. Si un árbol tiene `N` nodos, entonces tendrá `(N-1)` aristas. Sólo hay un camino desde cada nodo a cualquier otro nodo del árbol.\n",
    "<p>&nbsp;</p>\n",
    "\n",
    "- ***Profundidad de un nodo:*** La profundidad de un nodo se define como la longitud del camino desde la raíz hasta ese nodo. Cada borde agrega `1` unidad de longitud al camino. Por lo tanto, también se puede definir como el número de aristas en el camino desde la raíz del árbol hasta el nodo.\n",
    "<p>&nbsp;</p>\n",
    "\n",
    "- ***Altura de un nodo:*** la altura de un nodo se puede definir como la longitud del camino más largo desde el nodo hasta un nodo hoja del árbol.\n",
    "<p>&nbsp;</p>\n",
    "\n",
    "- ***Altura del árbol:*** La altura de un árbol es la longitud del camino más largo desde la raíz del árbol hasta un nodo de hoja del árbol.\n",
    "<p>&nbsp;</p>\n",
    "\n",
    "- ***Grado de un nodo:*** el recuento total de subárboles adjuntos a ese nodo se denomina grado del nodo. El grado de un nodo hoja debe ser `0`. El grado de un árbol es el grado máximo de un nodo entre todos los nodos del árbol."
   ]
  },
  {
   "cell_type": "markdown",
   "id": "86695325",
   "metadata": {},
   "source": [
    "#### ¿Por qué necesitamos una estructura de datos de árbol?"
   ]
  },
  {
   "cell_type": "markdown",
   "id": "0794e86f",
   "metadata": {},
   "source": [
    "Una razón para utilizar árboles podría ser porque desea almacenar información que forma naturalmente una jerarquía. Por ejemplo, el sistema de archivos en una computadora: \n",
    "\n",
    "\n",
    "<p float=\"center\">\n",
    "  <img src=\"https://github.com/carlosalvarezh/EstructuraDatosAlgoritmos1/blob/main/Images/filesystem.png?raw=true\" width=\"250\" />\n",
    "</p>\n",
    "\n",
    "<p style=\"text-align: center;\">\n",
    "    <strong>Tomado de:</strong> <a href=\"https://www.geeksforgeeks.org/\">geeksforgeeks.org</a>.\n",
    "</p>\n",
    "\n",
    "- Los árboles (con cierto orden, por ejemplo, Binary Search Tree - BST) proporcionan acceso/búsqueda moderados (más rápido que la lista vinculada y más lento que las matrices). \n",
    "<p>&nbsp;</p>\n",
    "\n",
    "- Los árboles proporcionan una inserción/eliminación moderada (más rápida que las matrices y más lenta que las listas enlazadas desordenadas). \n",
    "<p>&nbsp;</p>\n",
    "\n",
    "- Al igual que las listas vinculadas y a diferencia de las matrices, los árboles no tienen un límite superior en la cantidad de nodos, ya que los nodos están vinculados mediante punteros."
   ]
  },
  {
   "cell_type": "markdown",
   "id": "2b77995f",
   "metadata": {},
   "source": [
    "#### Tipos de estructuras de datos de árbol"
   ]
  },
  {
   "cell_type": "markdown",
   "id": "40c030a1",
   "metadata": {},
   "source": [
    "<p float=\"center\">\n",
    "  <img src=\"https://github.com/carlosalvarezh/EstructuraDatosAlgoritmos1/blob/main/Images/TreedatastructureTypes.png?raw=true\" width=\"750\" />\n",
    "</p>\n",
    "\n",
    "<p style=\"text-align: center;\">\n",
    "    <strong>Tomado de:</strong> <a href=\"https://www.geeksforgeeks.org/\">geeksforgeeks.org</a>.\n",
    "</p>\n",
    "\n",
    "- ***Árbol binario:*** en un [árbol binario](https://en.wikipedia.org/wiki/Binary_tree), cada nodo puede tener un máximo de dos hijos vinculados a él. Algunos tipos comunes de árboles binarios incluyen árboles binarios completos, árboles binarios equilibrados y árboles binarios degenerados o patológicos.\n",
    "<p>&nbsp;</p>\n",
    "\n",
    "- ***Árbol ternario:*** un [árbol ternario](https://en.wikipedia.org/wiki/Ternary_tree) es una estructura de datos de árbol en la que cada nodo tiene como máximo tres nodos secundarios, generalmente distinguidos como *\"izquierdo\"*, *\"medio\"* y *\"derecho\"*.\n",
    "<p>&nbsp;</p>\n",
    "\n",
    "- ***Árbol N-ario o árbol genérico:*** los árboles genéricos son una colección de nodos donde cada nodo es una estructura de datos que consta de registros y una lista de referencias a sus hijos (no se permiten referencias duplicadas). A diferencia de la lista vinculada, cada nodo almacena la dirección de varios nodos.\n"
   ]
  },
  {
   "cell_type": "markdown",
   "id": "34a7a3a4",
   "metadata": {},
   "source": [
    "#### Operaciones básicas de la estructura de datos de árbol"
   ]
  },
  {
   "cell_type": "markdown",
   "id": "d0f204a3",
   "metadata": {},
   "source": [
    "- ***Crear:*** crea un árbol en la estructura de datos.\n",
    "<p>&nbsp;</p>\n",
    "\n",
    "- ***Insertar:*** inserta datos en un árbol.\n",
    "<p>&nbsp;</p>\n",
    "\n",
    "- ***Buscar:*** busca datos específicos en un árbol para comprobar si están presentes o no.\n",
    "<p>&nbsp;</p>\n",
    "\n",
    "- ***El recorrido:***\n",
    "   - ***Recorrido de pedido anticipado:*** realice el recorrido de un árbol en modo de pedido anticipado en la estructura de datos.\n",
    "   - ***Recorrido en orden:*** realice el recorrido de un árbol en orden.\n",
    "   - ***Recorrido posterior al pedido:*** realice el desplazamiento de un árbol en forma posterior al pedido."
   ]
  },
  {
   "cell_type": "markdown",
   "id": "441ecf90",
   "metadata": {},
   "source": [
    "#### Aplicación de la estructura de datos de árbol"
   ]
  },
  {
   "cell_type": "markdown",
   "id": "3c908157",
   "metadata": {},
   "source": [
    "- ***Sistema de archivos:***  Esto permite una navegación y organización eficiente de los archivos.\n",
    "<p>&nbsp;</p>\n",
    "\n",
    "- ***Compresión de datos:*** la [codificación Huffman](https://en.wikipedia.org/wiki/Huffman_coding) es una técnica popular para la compresión de datos que implica la construcción de un árbol binario donde las hojas representan caracteres y su frecuencia de aparición. El árbol resultante se utiliza para codificar los datos de una manera que minimice la cantidad de almacenamiento requerido.\n",
    "<p>&nbsp;</p>\n",
    "\n",
    "- ***Diseño del compilador:*** en el diseño del compilador, se utiliza un árbol de sintaxis para representar la estructura de un programa. \n",
    "<p>&nbsp;</p>\n",
    "\n",
    "- ***Indexación de bases de datos:*** los árboles binarios y otras estructuras de árbol se utilizan en la indexación de bases de datos para buscar y recuperar datos de manera eficiente. "
   ]
  },
  {
   "cell_type": "markdown",
   "id": "4bdb5a36",
   "metadata": {},
   "source": [
    "#### Ventajas y desventajas"
   ]
  },
  {
   "cell_type": "markdown",
   "id": "484e60cc",
   "metadata": {},
   "source": [
    "***Ventajas***\n",
    "- Oferta de árbol Búsqueda eficiente Dependiendo del tipo de árbol, con tiempos de búsqueda promedio de O(log n) para árboles balanceados como AVL. \n",
    "<p>&nbsp;</p>\n",
    "\n",
    "- Los árboles proporcionan una representación jerárquica de los datos, lo que facilita la organización y navegación de grandes cantidades de información.\n",
    "<p>&nbsp;</p>\n",
    "\n",
    "- La naturaleza recursiva de los árboles los hace fáciles de recorrer y manipular mediante algoritmos recursivos.\n",
    "Para obtener más información sobre las ventajas de la estructura de datos en árbol, consulte este artículo .\n",
    "\n",
    "***Desventajas***\n",
    "- Árboles desequilibrados, lo que significa que la altura del árbol está sesgada hacia un lado, lo que puede provocar tiempos de búsqueda ineficientes.\n",
    "<p>&nbsp;</p>\n",
    "\n",
    "- Los árboles exigen más espacio de memoria que otras estructuras de datos como matrices y listas enlazadas, especialmente si el árbol es muy grande.\n",
    "<p>&nbsp;</p>\n",
    "\n",
    "- La implementación y manipulación de árboles puede ser compleja y requerir una buena comprensión de los algoritmos."
   ]
  },
  {
   "cell_type": "markdown",
   "id": "05df7e11",
   "metadata": {},
   "source": [
    "### Árboles binarios"
   ]
  },
  {
   "cell_type": "markdown",
   "id": "cefe604b",
   "metadata": {},
   "source": [
    "Una estructura de datos de árbol binario es una estructura de datos jerárquica en la que cada nodo tiene como máximo dos hijos, denominados *hijo izquierdo* e *hijo derecho*. Los árboles binarios tienen muchas aplicaciones en informática, incluido el almacenamiento y recuperación de datos, la evaluación de expresiones, el enrutamiento de redes y la inteligencia artificial de juegos. También se pueden utilizar para implementar varios algoritmos, como algoritmos de búsqueda, clasificación y gráficos."
   ]
  },
  {
   "cell_type": "markdown",
   "id": "4737d15e",
   "metadata": {},
   "source": [
    "#### Representación de un árbol binario"
   ]
  },
  {
   "cell_type": "markdown",
   "id": "2f6b1fde",
   "metadata": {},
   "source": [
    "Cada nodo del árbol contiene lo siguiente:\n",
    "\n",
    "<p float=\"center\">\n",
    "  <img src=\"https://github.com/carlosalvarezh/EstructuraDatosAlgoritmos1/blob/main/Images/TreeBinary.png?raw=true\" width=\"250\" />\n",
    "</p>\n",
    "\n",
    "<p style=\"text-align: center;\">\n",
    "    <strong>Tomado de:</strong> <a href=\"https://www.geeksforgeeks.org/\">geeksforgeeks.org</a>.\n",
    "</p>\n",
    "\n",
    "\n",
    "- ***Datos:*** el valor indicado en cada nodo (círculo).\n",
    "- ***Puntero al hijo izquierdo:*** arista que une el nodo `1` con el nodo `2`.\n",
    "- ***Puntero al hijo derecho:*** arista que une el nodo `1` con el nodo `3`.\n",
    "\n",
    "Cada nodo en el árbol, excepto las hojas (nodos `4`, `5`, `6` y `7`), tiene dos líneas que salen de él, correspondiendo a los punteros al hijo izquierdo y derecho. Las hojas no tienen líneas salientes porque no tienen hijos."
   ]
  },
  {
   "cell_type": "markdown",
   "id": "61842a67",
   "metadata": {},
   "source": [
    "#### Representación de un nodo en un árbol binario en diferentes lenguajes"
   ]
  },
  {
   "cell_type": "markdown",
   "id": "36c3d806",
   "metadata": {},
   "source": [
    "- **C**\n",
    "\n",
    "```C\n",
    "// Structure of each node of the tree\n",
    "struct node {\n",
    "\tint data;\n",
    "\tstruct node* left;\n",
    "\tstruct node* right;\n",
    "};\n",
    "```"
   ]
  },
  {
   "cell_type": "markdown",
   "id": "0ce51fa1",
   "metadata": {},
   "source": [
    "- **C++:** Se presentan dos opciones\n",
    "\n",
    "```C++\n",
    "// Method 1: Using \"struct\"\n",
    "struct node {\n",
    "\tint data;\n",
    "\tstruct node* left;\n",
    "\tstruct node* right;\n",
    "};\n",
    "\n",
    "// Method 2: Using \"class\"\n",
    "class Node {\n",
    "public:\n",
    "\tint data;\n",
    "\tNode* left;\n",
    "\tNode* right;\n",
    "};\n",
    "```"
   ]
  },
  {
   "cell_type": "markdown",
   "id": "cbd82a29",
   "metadata": {},
   "source": [
    "- ***Java***\n",
    "\n",
    "```java\n",
    "// Class containing left and right child of current node and key value\n",
    "class Node {\n",
    "\tint key;\n",
    "\tNode left, right;\n",
    "\n",
    "\tpublic Node(int item)\n",
    "\t{\n",
    "\t\tkey = item;\n",
    "\t\tleft = right = null;\n",
    "\t}\n",
    "}\n",
    "```"
   ]
  },
  {
   "cell_type": "markdown",
   "id": "185457d3",
   "metadata": {},
   "source": [
    "- ***C#***\n",
    "\n",
    "```C#\n",
    "// Class containing left and right child of current node and key value\n",
    "class Node {\n",
    "\tint key;\n",
    "\tNode left, right;\n",
    "\n",
    "\tpublic Node(int item)\n",
    "\t{\n",
    "\t\tkey = item;\n",
    "\t\tleft = right = null;\n",
    "\t}\n",
    "}\n",
    "```"
   ]
  },
  {
   "cell_type": "markdown",
   "id": "29bdb066",
   "metadata": {},
   "source": [
    "- ***JavaScript***\n",
    "\n",
    "```JavaScript\n",
    "/* Class containing left and right child of current node and key value*/\n",
    "\n",
    "class Node\n",
    "{\n",
    "\tconstructor(item)\n",
    "\t{\n",
    "\t\tthis.key = item;\n",
    "\t\tthis.left = this.right = null;\n",
    "\t}\n",
    "}\n",
    "```"
   ]
  },
  {
   "cell_type": "markdown",
   "id": "83d2f729",
   "metadata": {},
   "source": [
    "- ***Python***\n",
    "\n",
    "```python\n",
    "# A Python class that represents an individual node in a Binary Tree\n",
    "class Node:\n",
    "\tdef __init__(self, key):\n",
    "\t\tself.left = None\n",
    "\t\tself.right = None\n",
    "\t\tself.val = key\n",
    "```"
   ]
  },
  {
   "cell_type": "markdown",
   "id": "6ae04479",
   "metadata": {},
   "source": [
    "#### Operaciones básicas en árbol binario"
   ]
  },
  {
   "cell_type": "markdown",
   "id": "f81d3b1d",
   "metadata": {},
   "source": [
    "- ***Insertar un elemento***.\n",
    "<p>&nbsp;</p>\n",
    "\n",
    "- ***Eliminar (removing) un elemento:*** Se refiere a la operación de quitar un elemento del árbol, sin que esto implique necesariamente una acción sobre la memoria.\n",
    "<p>&nbsp;</p>\n",
    "\n",
    "- ***Buscar un elemento.***\n",
    "<p>&nbsp;</p>\n",
    "\n",
    "- ***Borrar (Deletion) de un elemento:*** Se quita el elemento del árbol, y además, se libera el recurso de memoria que ocupaba. \n",
    "<p>&nbsp;</p>\n",
    "\n",
    "- ***Recorrer un elemento.*** Hay cuatro (principalmente tres) tipos de recorridos en un árbol binario que se analizarán más adelante.\n",
    "\n",
    "Algunas operaciones auxiliares que se pueden realizar en un árbol binario podrían ser:\n",
    "- Encontrar la altura del árbol.\n",
    "- Encuentra el nivel del árbol.\n",
    "- Encontrar el tamaño de todo el árbol."
   ]
  },
  {
   "cell_type": "markdown",
   "id": "9adfa6d4",
   "metadata": {},
   "source": [
    "#### Aplicaciones del árbol binario"
   ]
  },
  {
   "cell_type": "markdown",
   "id": "16c7c9d1",
   "metadata": {},
   "source": [
    "- En los compiladores se utilizan árboles de expresión, que es una aplicación de árboles binarios.\n",
    "- Los árboles de [codificación Huffman](https://en.wikipedia.org/wiki/Huffman_coding) se utilizan en algoritmos de compresión de datos.\n",
    "- [Priority Queue](https://en.wikipedia.org/wiki/Priority_queue) es otra aplicación de árbol binario que se utiliza para buscar máxima o mínima en complejidad de tiempo $O (1)$.\n",
    "- Representar datos jerárquicos.\n",
    "- Se utiliza en software de edición como Microsoft Excel y hojas de cálculo.\n",
    "- Útil para indexar segmentado en la base de datos y útil para almacenar caché en el sistema.\n",
    "- Los árboles de sintaxis se utilizan para los compiladores de programación más famosos, como [GCC](https://en.wikipedia.org/wiki/GNU_Compiler_Collection) y [AOCL](https://en.wikipedia.org/wiki/AMD_Core_Math_Library), para realizar operaciones aritméticas.\n",
    "- Se utiliza para encontrar elementos en menos tiempo ([árbol de búsqueda binaria](https://en.wikipedia.org/wiki/Binary_search_tree))\n",
    "- Se utiliza para permitir la asignación rápida de memoria en las computadoras. \n",
    "- Se utiliza para realizar operaciones de codificación y decodificación.\n",
    "- Los árboles binarios se pueden utilizar para organizar y recuperar información de grandes conjuntos de datos, como los árboles de índice invertido y kd.\n",
    "- Los árboles binarios se pueden utilizar para representar el proceso de toma de decisiones de personajes controlados por computadora en juegos, como en los árboles de decisión.\n",
    "- Los árboles binarios se pueden utilizar para implementar algoritmos de búsqueda, como los árboles de búsqueda binaria que se pueden utilizar para encontrar rápidamente un elemento en una lista ordenada.\n",
    "- Los árboles binarios se pueden utilizar para implementar algoritmos de clasificación, como en la clasificación de montón, que utiliza un montón binario para ordenar elementos de manera eficiente."
   ]
  },
  {
   "cell_type": "markdown",
   "id": "01cef84f",
   "metadata": {},
   "source": [
    "### Recorridos en árboles (y grafos... next chapter)"
   ]
  },
  {
   "cell_type": "markdown",
   "id": "774c90c7",
   "metadata": {},
   "source": [
    "Dado que los árboles son un tipo de grafo, el recorrido de árbol o la búsqueda de árbol es un tipo de recorrido de grafo. Sin embargo, atravesar un árbol es un poco diferente del proceso más amplio de atravesar un grafo.\n",
    "\n",
    "Atravesar un árbol generalmente se conoce como verificar (visitar) o actualizar cada nodo del árbol exactamente una vez, sin repetir ningún nodo. Debido a que todos los nodos están conectados a través de bordes (enlaces), siempre comenzamos desde el nodo raíz (*root*). Es decir, no podemos acceder aleatoriamente a un nodo de un árbol. Hay tres formas que utilizamos para atravesar un árbol:"
   ]
  },
  {
   "cell_type": "markdown",
   "id": "5dcd0142",
   "metadata": {},
   "source": [
    "#### Pre-order Traversal (Root-Left-Right)"
   ]
  },
  {
   "cell_type": "markdown",
   "id": "91f53d3d",
   "metadata": {},
   "source": [
    "Visite el nodo actual (raíz) antes de visitar cualquier nodo dentro de los subárboles izquierdo o derecho. Aquí, el recorrido es *raíz – hijo izquierdo – hijo derecho*. Significa que primero se atraviesa el nodo raíz, luego su hijo izquierdo y finalmente el hijo derecho.\n",
    "<p>&nbsp;</p>\n",
    "\n",
    "<p float=\"center\">\n",
    "  <img src=\"https://github.com/carlosalvarezh/EstructuraDatosAlgoritmos1/blob/main/Images/Tree_PreorderTraversal.webp?raw=true\" width=\"350\" />\n",
    "</p>\n",
    "\n",
    "```pseudocode\n",
    "- Inicia en el raíz 4(RT)\n",
    "- Se mueve hacia el subárbol a la izquierda y comienza de nuevo desde su raíz 2(RT), luego nodo 1(L) y después nodo 3(R)\n",
    "- Va al subárbol a la derecha, comenzando desde su raíz 5(RT), nodo Null(L) y nodo 6(R). \n",
    "- El recorrido en el sentido preorden es: 4 --> 2 --> 1 --> 3 --> 5 --> 6.\n",
    "```\n",
    "\n",
    "***Nota:*** `Null` significa que no hay elemento, pero no es necesario insertarlo, se puede omitir, pero ha sido agregado para indicar que no hay ningún valor en el lado izquierdo del subárbol derecho.\n"
   ]
  },
  {
   "cell_type": "markdown",
   "id": "ba7e0dcb",
   "metadata": {},
   "source": [
    "#### In-order Traversal (Left-Root-Right)"
   ]
  },
  {
   "cell_type": "markdown",
   "id": "69408d94",
   "metadata": {},
   "source": [
    "Visita el nodo actual después de visitar todos los nodos dentro del subárbol izquierdo pero antes de visitar cualquier nodo dentro del subárbol derecho. Aquí, el recorrido es *hijo izquierdo – raíz – hijo derecho*. Significa que primero se atraviesa el hijo izquierdo, luego su nodo raíz y finalmente el hijo derecho.\n",
    "<p>&nbsp;</p>\n",
    "\n",
    "<p float=\"center\">\n",
    "  <img src=\"https://github.com/carlosalvarezh/EstructuraDatosAlgoritmos1/blob/main/Images/Tree_InOrderTraversal.webp?raw=true\" width=\"350\" />\n",
    "</p>\n",
    "\n",
    "```pseudocode\n",
    "- Comenzando desde el subárbol izquierdo desde la raíz, 1(L), 2(Rt),3(R)\n",
    "- Luego vaya a la raíz 4(RT).\n",
    "- Finalmente, subárbol derecho Null(L), 5(RT),6(R). \n",
    "- Después de recorrer todos los elementos del árbol obtenemos el recorrido en orden como: 1 --> 2 --> 3 --> 4 --> 5 --> 6\n",
    "```\n",
    "\n",
    "***Nota:*** `Null` significa que no hay nada en el lado izquierdo del subárbol derecho."
   ]
  },
  {
   "cell_type": "markdown",
   "id": "3bf213df",
   "metadata": {},
   "source": [
    "#### Post-order Traversal (Left-Right-Root)"
   ]
  },
  {
   "cell_type": "markdown",
   "id": "bca88d49",
   "metadata": {},
   "source": [
    "Visita el nodo raíz después de visitar todos los nodos de los subárboles izquierdo y derecho.  Aquí, el recorrido es *hijo izquierdo – hijo derecho – raíz*. Significa que el hijo izquierdo ha sido atravesado primero, luego el hijo derecho y finalmente su nodo raíz.\n",
    "\n",
    "<p float=\"center\">\n",
    "  <img src=\"https://github.com/carlosalvarezh/EstructuraDatosAlgoritmos1/blob/main/Images/Tree_PosorderTraversal.webp?raw=true\" width=\"350\" />\n",
    "</p>\n",
    "\n",
    "```pseudocode\n",
    "- Comenzando desde el subárbol izquierdo, recorra todos los nodos (L, R, RT), 1(L), 3(R), 2(RT)\n",
    "- Mover al subárbol derecho Null(L), 6(R), 5(RT)\n",
    "- Finalmente el nodo raíz 4(RT)\n",
    "- Después de recorrer todos los elementos del árbol, obtenemos el recorrido posterior al orden como: 1 --> 3 --> 2 --> 6 --> 5 --> 4\n",
    "```\n",
    "\n",
    "\n",
    "***Ejemplo:***\n",
    "\n",
    "<p float=\"center\">\n",
    "  <img src=\"https://github.com/carlosalvarezh/EstructuraDatosAlgoritmos1/blob/main/Images/Treelevel.png?raw=true\" width=\"350\" />\n",
    "</p>\n",
    "\n",
    "<p style=\"text-align: center;\">\n",
    "    <strong>Tomado de:</strong> <a href=\"https://upload.wikimedia.org/wikipedia/commons/1/1f/Depth-first-tree.svg\">wikimedia.org</a>.\n",
    "</p>\n",
    "\n",
    "- Pre-order Traversal: 1-2-4-5-3-6-7\n",
    "- In-order Traversal: 4-2-5-1-6-3-7\n",
    "- Post-order Traversal: 4-5-2-6-7-3-1\n",
    "- Level-order Traversal: 1-2-3-4-5-6-7"
   ]
  },
  {
   "cell_type": "markdown",
   "id": "af42e98e",
   "metadata": {},
   "source": [
    "#### Algoritmos de Búsqueda en Árboles"
   ]
  },
  {
   "cell_type": "markdown",
   "id": "1c3449c1",
   "metadata": {},
   "source": [
    "El orden del nodo en el que visitamos es fundamental. En función del recorrido de orden, clasificamos los diferentes algoritmos de recorrido. Hay dos técnicas principales en las que podemos apoyarnos para atravesar y visitar cada nodo del árbol solo una vez: podemos ampliarlo o profundizarlo.\n",
    "\n",
    "Los términos más comunes para describir estas dos opciones son búsqueda primero en amplitud y búsqueda primero en profundidad, y probablemente sean exactamente lo que esperaríamos que fueran.\n",
    "\n",
    "Los algoritmos de búsqueda en un árbol/grafo se pueden clasificar en términos generales en dos categorías:\n",
    "\n",
    "<p float=\"center\">\n",
    "  <img src=\"https://github.com/carlosalvarezh/EstructuraDatosAlgoritmos1/blob/main/Images/DFS_BFS.gif?raw=true\" width=\"500\" />\n",
    "</p>\n",
    "\n",
    "- *Algoritmos de búsqueda en profundidad*, [Depth-first Search (DFS)](https://en.wikipedia.org/wiki/Depth-first_search)\n",
    "<p>&nbsp;</p>\n",
    "\n",
    "- *Algoritmos de búsqueda en amplitud*, [Breadth-first Search (BFS)](https://en.wikipedia.org/wiki/Breadth-first_search)"
   ]
  },
  {
   "cell_type": "markdown",
   "id": "4d1f5f92",
   "metadata": {},
   "source": [
    "#### Búsqueda en Profundidad (DFS)"
   ]
  },
  {
   "cell_type": "markdown",
   "id": "f6c70b3a",
   "metadata": {},
   "source": [
    "##### Introducción"
   ]
  },
  {
   "cell_type": "markdown",
   "id": "79e9a237",
   "metadata": {},
   "source": [
    "<p float=\"center\">\n",
    "  <img src=\"https://github.com/carlosalvarezh/EstructuraDatosAlgoritmos1/blob/main/Images/DFS.gif?raw=true\" width=\"250\" />\n",
    "</p>\n",
    "\n",
    "\n",
    "El algoritmo de Búsqueda en Profundidad, [Depth-first Search (DFS)](https://en.wikipedia.org/wiki/Depth-first_search), es un algoritmo de recorrido o búsqueda que se utiliza para explorar todos los nodos de un árbol o grafo de manera exhaustiva. La estrategia fundamental del *DFS* es ir tan profundo como sea posible en cada rama antes de retroceder. Esto significa que el algoritmo comienza en la raíz (o cualquier nodo arbitrario) y explora tanto como sea posible a lo largo de cada rama antes de retroceder.\n",
    "\n",
    "<p float=\"center\">\n",
    "  <img src=\"https://github.com/carlosalvarezh/EstructuraDatosAlgoritmos1/blob/main/Images/Depth-first-tree.svg?raw=true\" width=\"350\" />\n",
    "</p>\n",
    "\n",
    "<p style=\"text-align: center;\">\n",
    "    <strong>Tomado de:</strong> <a href=\"https://upload.wikimedia.org/wikipedia/commons/1/1f/Depth-first-tree.svg\">wikimedia.org</a>.\n",
    "</p>\n",
    "\n",
    "Aquí está un esquema general del algoritmo *DFS* aplicado a árboles o grafos:\n",
    "\n",
    "```pseudocode\n",
    "  1. Comenzar en la Raíz: El algoritmo comienza en el nodo raíz del árbol (o cualquier nodo designado en un grafo).\n",
    "\n",
    "  2. Visitar Nodo: Marca el nodo actual como visitado.\n",
    "  \n",
    "  3. Recursión a los Hijos: Para cada hijo o vecino no visitado del nodo actual, llama recursivamente al algoritmo *DFS* para ese hijo.\n",
    "  \n",
    "  4. Búsqueda Profunda: Continúa esta búsqueda hasta que se llegue a un nodo sin hijos no visitados o a un nodo hoja.\n",
    "  \n",
    "  5. Retroceso: Si se alcanza un nodo sin hijos no visitados, el algoritmo retrocede y repite el proceso con el siguiente nodo no visitado, siguiendo la última rama no explorada completamente.\n",
    "  \n",
    "  6. Finalizar: El algoritmo termina cuando todos los nodos accesibles desde la raíz han sido visitados.\n",
    "```\n",
    "\n",
    "La búsqueda en profundidad es particularmente útil para situaciones que requieren visitar todos los nodos, como encontrar componentes conectados, topología de ordenamiento de un grafo, o como preprocesamiento para algoritmos que funcionan en grafos.\n",
    "\n",
    "En *DFS*, tenemos que atravesar una rama completa del árbol y atravesar los nodos adyacentes. Entonces, para seguir el nodo actual, se requiere un enfoque *LIFO* *último en entrar, primero en salir*, que puede ser implementado por la *pila* (stack); una vez que alcanza la profundidad de un nodo, todos los nodos saldrán de la *pila*. A continuación, busca nodos adyacentes que aún no han sido visitados.\n",
    "\n",
    "<p float=\"center\">\n",
    "  <img src=\"https://github.com/carlosalvarezh/EstructuraDatosAlgoritmos1/blob/main/Images/DFS01.webp?raw=true\" width=\"500\" />\n",
    "</p>\n",
    "\n",
    "<p style=\"text-align: center;\">\n",
    "    <strong>Tomado de:</strong> <a href=\"https://medium.com/nothingaholic/depth-first-search-vs-breadth-first-search-in-python-81521caa8f44\">medium.com</a>.\n",
    "</p>\n",
    "\n",
    "\n",
    "Si se implementara con la *cola* (*queue*), que es el enfoque *FIFO* (*primero en entrar, primero en salir*), no podríamos alcanzar la profundidad antes de que quitaría de la *cola* el nodo actual."
   ]
  },
  {
   "cell_type": "markdown",
   "id": "8f6df7a6",
   "metadata": {},
   "source": [
    "##### Ejemplo recorrido de búsqueda DFS"
   ]
  },
  {
   "cell_type": "markdown",
   "id": "b2dce848",
   "metadata": {},
   "source": [
    "Veamo el siguiente ejemplo dado por el árbol de la figura:\n",
    "\n",
    "Analicemos esos pasos. Primero inicializamos la pila y la matriz visitada.\n",
    "\n",
    "Usamos aquí un árbol binario simple para ilustrar esa idea. Comenzando desde el nodo de origen `A`, seguimos moviéndonos hacia los nodos adyacentes `A`, `B` y `D`, donde alcanzamos el nivel más lejano. Luego retrocedemos al nodo `B` anterior y seleccionamos un nodo adyacente. Una vez más, sondeamos hasta el nivel más lejano donde llegamos al nodo `E` deseado.\n",
    "\n",
    "<p float=\"center\">\n",
    "  <img src=\"https://github.com/carlosalvarezh/EstructuraDatosAlgoritmos1/blob/main/Images/DFS02.webp?raw=true\" width=\"500\" />\n",
    "</p>\n",
    "\n",
    "<p style=\"text-align: center;\">\n",
    "    <strong>Tomado de:</strong> <a href=\"https://medium.com/nothingaholic/depth-first-search-vs-breadth-first-search-in-python-81521caa8f44\">medium.com</a>.\n",
    "</p>\n",
    "\n",
    "`push` al nodo `A` (nodo raíz) a la pila\n",
    "\n",
    "<p float=\"center\">\n",
    "  <img src=\"https://github.com/carlosalvarezh/EstructuraDatosAlgoritmos1/blob/main/Images/DFS03.webp?raw=true\" width=\"500\" />\n",
    "</p>\n",
    "\n",
    "Marcamos el nodo `A` como visitado y exploramos cualquier nodo adyacente no visitado de `A`. Tenemos dos nodos y podemos elegir cualquiera de ellos. Para este ejemplo, tomaremos el nodo en orden alfabético.\n",
    "\n",
    "<p float=\"center\">\n",
    "  <img src=\"https://github.com/carlosalvarezh/EstructuraDatosAlgoritmos1/blob/main/Images/DFS04.webp?raw=true\" width=\"500\" />\n",
    "</p>\n",
    "\n",
    "Marcamos `B` como visitado y exploramos cualquier nodo adyacente no visitado de `B`. Tanto `D` como `E` son adyacentes a `B`, los empujamos a la pila.\n",
    "\n",
    "<p float=\"center\">\n",
    "  <img src=\"https://github.com/carlosalvarezh/EstructuraDatosAlgoritmos1/blob/main/Images/DFS05.webp?raw=true\" width=\"500\" />\n",
    "</p>\n",
    "\n",
    "Visitamos `D` y lo marcamos como visitado. Aquí `D` no tiene ningún nodo adyacente no visitado. Por lo tanto, ningún nodo se inserta en la pila.\n",
    "\n",
    "<p float=\"center\">\n",
    "  <img src=\"https://github.com/carlosalvarezh/EstructuraDatosAlgoritmos1/blob/main/Images/DFS06.webp?raw=true\" width=\"500\" />\n",
    "</p>\n",
    "\n",
    "<p float=\"center\">\n",
    "  <img src=\"https://github.com/carlosalvarezh/EstructuraDatosAlgoritmos1/blob/main/Images/DFS07.webp?raw=true\" width=\"500\" />\n",
    "</p>\n",
    "\n",
    "Verificamos la parte superior de la pila para regresar al nodo anterior - `E` y verificamos si tiene nodos no visitados.\n",
    "\n",
    "<p float=\"center\">\n",
    "  <img src=\"https://github.com/carlosalvarezh/EstructuraDatosAlgoritmos1/blob/main/Images/DFS08.webp?raw=true\" width=\"500\" />\n",
    "</p>\n",
    "\n",
    "Como `E` no tiene ningún nodo adyacente no visitado, seguimos abriendo la pila hasta que encontramos un nodo con un nodo adyacente no visitado. En este caso, no hay ninguno y seguimos apareciendo hasta que la pila esté vacía.\n",
    "\n",
    "<p float=\"center\">\n",
    "  <img src=\"https://github.com/carlosalvarezh/EstructuraDatosAlgoritmos1/blob/main/Images/DFS09.webp?raw=true\" width=\"500\" />\n",
    "</p>"
   ]
  },
  {
   "cell_type": "markdown",
   "id": "be9e8cd9",
   "metadata": {},
   "source": [
    "##### Ventajas y Desventajas de DFS"
   ]
  },
  {
   "cell_type": "markdown",
   "id": "101aaa30",
   "metadata": {},
   "source": [
    "***Ventajas:***\n",
    "\n",
    "- *DFS* en un árbol binario generalmente requiere menos memoria que el primero en amplitud.\n",
    "- *DFS* se puede implementar fácilmente con recursividad.\n",
    "\n",
    "***Desventajas:***\n",
    "\n",
    "- *DFS* no necesariamente encuentra la ruta más corta a un nodo, mientras que *BFS* sí lo hace."
   ]
  },
  {
   "cell_type": "markdown",
   "id": "bbd4fee2",
   "metadata": {},
   "source": [
    "##### algoritmo DFS (python)"
   ]
  },
  {
   "cell_type": "markdown",
   "id": "7c5c596c",
   "metadata": {},
   "source": [
    "Representando el árbol en código usando una lista de adyacencia a través de diccionarios en Python. Cada vértice tiene almacenada una lista de sus nodos adyacentes.\n",
    "\n",
    "```python\n",
    "gráfico = { \n",
    "    'A' : ['B','C'], \n",
    "    'B' : ['D', 'E'], \n",
    "    'C' : [], \n",
    "    'D' : [], \n",
    "    'E' : [ ] \n",
    "}\n",
    "```\n",
    "A continuación, configuramos `visited = set()` el seguimiento de los nodos visitados.\n",
    "\n",
    "Dada la lista de adyacencia y un nodo inicial `A`, podemos encontrar todos los nodos en el árbol usando la siguiente función recursiva de búsqueda en profundidad en Python.\n",
    "\n",
    "```pseudocode\n",
    "1. Verificamos si el nodo actual no está visitado; en caso afirmativo, se agrega al conjunto visitado.\n",
    "2. Para cada vecino del nodo actual, dfsse vuelve a invocar la función.\n",
    "3. El caso base se invoca cuando se visitan todos los nodos. Luego la función regresa.\n",
    "```\n",
    "\n",
    "```pseudocode\n",
    "def dfs(visited, graph, node):\n",
    "    if node not in visited:\n",
    "        print (node)\n",
    "        visited.add(node)\n",
    "        for neighbor in graph[node]:\n",
    "            dfs(visited, graph, neighbor)\n",
    "```"
   ]
  },
  {
   "cell_type": "markdown",
   "id": "a0104dfc",
   "metadata": {},
   "source": [
    "#### Búsqueda en Amplitud"
   ]
  },
  {
   "cell_type": "markdown",
   "id": "40e80b4f",
   "metadata": {},
   "source": [
    "##### Introducción"
   ]
  },
  {
   "cell_type": "markdown",
   "id": "5377ac4e",
   "metadata": {},
   "source": [
    "<p float=\"center\">\n",
    "  <img src=\"https://github.com/carlosalvarezh/EstructuraDatosAlgoritmos1/blob/main/Images/BFS.gif?raw=true\" width=\"500\" />\n",
    "</p>\n",
    "\n",
    "\n",
    "El algoritmo de búsqueda en amplitud,[Breadth-first Search (BFS)](https://en.wikipedia.org/wiki/Breadth-first_search), es un algoritmo de recorrido que comienza en la raíz de un árbol (o cualquier nodo seleccionado de un grafo) y explora todos los nodos vecinos a la misma profundidad antes de moverse a los niveles de nodos más profundos. Es decir, recorre el árbol nivel por nivel.\n",
    "\n",
    "En *BFS*, buscamos en todos los nodos del árbol lanzando una red amplia, es decir, primero atravesamos un nivel completo de nodos secundarios, antes de pasar a atravesar los nodos nietos. Y atravesamos un nivel completo de nodos nietos antes de pasar a través de nodos bisnietos.\n",
    "\n",
    "*BFS* explora primero los nodos más cercanos y luego se aleja de la fuente. Dado esto, queremos utilizar una estructura de datos que, al consultarla, nos proporcione el elemento más antiguo, según el orden en que fueron insertados. Una *cola* (*queue*) es lo que necesitamos en este caso, ya que es *primero en entrar, primero en salir* (*FIFO*).\n",
    "\n",
    "<p float=\"center\">\n",
    "  <img src=\"https://github.com/carlosalvarezh/EstructuraDatosAlgoritmos1/blob/main/Images/BFS01.webp?raw=true\" width=\"500\" />\n",
    "</p>\n",
    "\n",
    "El proceso general del *BFS* es el siguiente:\n",
    "```pseudocode\n",
    "  1. Inicio: El algoritmo comienza en el nodo raíz.\n",
    "\n",
    "  2. Cola: Utiliza una cola para mantener un registro de los nodos que se deben visitar. Inicialmente, este contiene solo el nodo raíz.\n",
    "\n",
    "  3. Exploración de Nodos: Mientras la cola no esté vacía, el nodo se desencola y se procesa. Si el nodo no ha sido visitado, se marca como tal.\n",
    "\n",
    "  4. Encolar Hijos: Todos los hijos directos del nodo actual que no han sido visitados se encolan.\n",
    "\n",
    "  5. Iteración: El proceso se repite para cada nodo que se desencola, visitando todos los hijos de cada nodo antes de pasar al siguiente nivel.\n",
    "\n",
    "  6. Compleción: Este proceso continúa hasta que la cola esté vacía, lo que indica que se ha visitado todos los nodos accesibles desde el nodo raíz.\n",
    "```\n",
    "*BFS* es particularmente útil para encontrar el camino más corto en grafos no ponderados, para serializar un árbol en un nivel por nivel, y para situaciones donde se necesita procesar nodos en un orden que refleje su proximidad a la raíz en la jerarquía del árbol.\n",
    "\n"
   ]
  },
  {
   "cell_type": "markdown",
   "id": "d3891529",
   "metadata": {},
   "source": [
    "##### Ejemplo recorrido de búsqueda BFS"
   ]
  },
  {
   "cell_type": "markdown",
   "id": "a9b9ae7c",
   "metadata": {},
   "source": [
    "Veamos si las colas pueden ayudarnos con nuestra implementación de BFS. Aquí utilizamos un árbol binario simple para ilustrar cómo funciona el algoritmo. Comenzando desde el nodo de origen `A`, seguimos explorando las ramas de forma ordenada, es decir, de `A` a `B` y a `C`, donde se completa el nivel. Luego pasamos al siguiente nivel y exploramos `D` y `E`.\n",
    "\n",
    "Primero inicializamos la cola y una matriz visitada.\n",
    "\n",
    "<p float=\"center\">\n",
    "  <img src=\"https://github.com/carlosalvarezh/EstructuraDatosAlgoritmos1/blob/main/Images/BFS02.webp?raw=true\" width=\"500\" />\n",
    "</p>\n",
    "\n",
    "Comenzamos visitando `A` (nodo raíz).\n",
    "\n",
    "<p float=\"center\">\n",
    "  <img src=\"https://github.com/carlosalvarezh/EstructuraDatosAlgoritmos1/blob/main/Images/BFS03.webp?raw=true\" width=\"500\" />\n",
    "</p>\n",
    "\n",
    "Marcamos `A` como visitado y exploramos nodos adyacentes no visitados de `A`. En este ejemplo, tenemos dos nodos y podemos elegir cualquiera de ellos. Tomaremos el nodo en orden alfabético y lo pondremos en cola.\n",
    "\n",
    "<p float=\"center\">\n",
    "  <img src=\"https://github.com/carlosalvarezh/EstructuraDatosAlgoritmos1/blob/main/Images/BFS04.webp?raw=true\" width=\"500\" />\n",
    "</p>\n",
    "\n",
    "A continuación, marcamos `B` como visitado y ponemos en cola a `D` y `E`, que son nodos adyacentes no visitados de `B`, en la cola.\n",
    "\n",
    "<p float=\"center\">\n",
    "  <img src=\"https://github.com/carlosalvarezh/EstructuraDatosAlgoritmos1/blob/main/Images/BFS05.webp?raw=true\" width=\"500\" />\n",
    "</p>\n",
    "\n",
    "Ahora, a `C` no le quedan nodos adyacentes no visitados.\n",
    "\n",
    "<p float=\"center\">\n",
    "  <img src=\"https://github.com/carlosalvarezh/EstructuraDatosAlgoritmos1/blob/main/Images/BFS06.webp?raw=true\" width=\"500\" />\n",
    "</p>\n",
    "\n",
    "Marcamos `D` como visitado y lo retiramos de la cola. Seguimos quitando la cola para obtener todos los nodos no visitados. Cuando la cola se vacía, el programa termina.\n",
    "\n",
    "<p float=\"center\">\n",
    "  <img src=\"https://github.com/carlosalvarezh/EstructuraDatosAlgoritmos1/blob/main/Images/BFS07.webp?raw=true\" width=\"500\" />\n",
    "</p>\n",
    "\n",
    "<p float=\"center\">\n",
    "  <img src=\"https://github.com/carlosalvarezh/EstructuraDatosAlgoritmos1/blob/main/Images/BFS08.webp?raw=true\" width=\"500\" />\n",
    "</p>"
   ]
  },
  {
   "cell_type": "markdown",
   "id": "fa7c2b3c",
   "metadata": {},
   "source": [
    "##### Ventajas y Desventajas de BFS"
   ]
  },
  {
   "cell_type": "markdown",
   "id": "66aa2a76",
   "metadata": {},
   "source": [
    "***Ventajas:***\n",
    "\n",
    "- *BFS* es sencillo de implementar.\n",
    "- *BFS* se puede aplicar a cualquier problema de búsqueda.\n",
    "- *BFS* no sufre ningún problema potencial de bucle infinito en comparación con *DFS*. El problema del bucle infinito puede provocar que la computadora falle, mientras que *DFS* realiza una búsqueda profunda.\n",
    "- *BFS* siempre encontrará el camino más corto si el peso de los enlaces es uniforme. Entonces *BFS* es completo y óptimo.\n",
    "\n",
    "***Desventajas:***\n",
    "\n",
    "- Como se mencionó, la utilización de la memoria es deficiente en *BFS*, por lo que podemos decir que *BFS* necesita más memoria que *DFS*.\n",
    "- *BFS* es una búsqueda \"ciega\"; es decir, el espacio de búsqueda es enorme. El rendimiento de la búsqueda será débil en comparación con otras búsquedas heurísticas."
   ]
  },
  {
   "cell_type": "markdown",
   "id": "270394dc",
   "metadata": {},
   "source": [
    "##### algoritmo BFS (python)"
   ]
  },
  {
   "cell_type": "markdown",
   "id": "d9716e91",
   "metadata": {},
   "source": [
    "Estamos representando el árbol en código usando una lista de adyacencia a través del Diccionario Python. Cada vértice tiene almacenada una lista de sus nodos adyacentes.\n",
    "\n",
    "```python\n",
    "gráfico = { \n",
    "  'A' : ['B','C'], \n",
    "  'B' : ['D', 'E'], \n",
    "  'C' : [], \n",
    "  'D' : [], \n",
    "  'E' : [ ] \n",
    "}\n",
    "```\n",
    "\n",
    "A continuación, configuramos `visited=[]` el seguimiento de los nodos visitados.\n",
    "\n",
    "Configuramos `queue=[]` para realizar un seguimiento de los nodos actualmente en la cola.\n",
    "\n",
    "Dada la lista de adyacencia y un nodo inicial `A`, podemos encontrar todos los nodos en el árbol usando la siguiente función de búsqueda recursiva en amplitud en Python.\n",
    "\n",
    "La función `bfs` sigue el algoritmo:\n",
    "```pseudocode\n",
    "1. Verificamos y agregamos el nodo inicial a la lista visitada y la cola.\n",
    "2. Mientras la cola contiene elementos, sigue eliminando nodos de la cola, agrega los vecinos de ese nodo a la cola si no están visitados y los marca como visitados.\n",
    "3. Continuamos hasta que la cola esté vacía.\n",
    "```\n",
    "\n",
    "el pseudocódigo sería:\n",
    "\n",
    "```pseudocode\n",
    "def bfs(visitado, gráfico, nodo): \n",
    "    visitado.append(nodo) \n",
    "    cola.append(nodo) \n",
    "    \n",
    "    while cola: \n",
    "        s = queue.pop(0) \n",
    "        print (s, end = \" \") \n",
    "        \n",
    "        para el vecino en el gráfico[s]: \n",
    "            si el vecino no está visitado: \n",
    "                visitado.append(vecino) \n",
    "                cola.append(vecino)\n",
    "```"
   ]
  },
  {
   "cell_type": "markdown",
   "id": "71d9498b",
   "metadata": {},
   "source": [
    "### DFS o BFS, that's the question"
   ]
  },
  {
   "cell_type": "markdown",
   "id": "e9ce33e8",
   "metadata": {},
   "source": [
    "<p float=\"center\">\n",
    "  <img src=\"https://github.com/carlosalvarezh/EstructuraDatosAlgoritmos1/blob/main/Images/BFS%20vs%20DFS.webp?raw=true\" width=\"500\" />\n",
    "</p>\n",
    "\n",
    "La búsqueda en profundidad (*DFS*) y la búsqueda en amplitud (*BFS*) son los dos algoritmos más populares para buscar en un árbol o un grafo. *BFS* utiliza una cola (*queue*) en su recorrido, mientras que *DFS* utiliza una *pila* (*stack*). Si bien ambos recorridos siempre visitarán todos los nodos accesibles en un grafo/árbol conectado, hay casos en los que se preferiría un algoritmo de búsqueda sobre el otro.\n",
    "\n",
    "***Utilice la búsqueda en profundidad (DFS):***\n",
    "- Cuando desea encontrar el camino más largo entre dos nodos en un grafo.\n",
    "<p>&nbsp;</p>\n",
    "\n",
    "- Cuando quieras detectar un ciclo en un grafo.\n",
    "<p>&nbsp;</p>\n",
    "\n",
    "- Cuando el árbol es muy ancho (tiene muchas ramas). *BFS* usaría más memoria.\n",
    "<p>&nbsp;</p>\n",
    "\n",
    "- Cuando desee visitar los nodos secundarios antes que los nodos hermanos.\n",
    "<p>&nbsp;</p>\n",
    "\n",
    "- Al resolver un problema de laberinto/rompecabezas, un *DFS* le permite recorrer todos los caminos posibles. Esto es muy útil para crear un árbol de decisiones.\n",
    "<p>&nbsp;</p>\n",
    "\n",
    "- Si las soluciones son frecuentes pero están ubicadas en lo profundo del árbol, *BFS* podría resultar poco práctico.\n",
    "\n",
    "***Utilice la búsqueda en amplitud (BFS):***\n",
    "- Cuando desea encontrar el camino más corto entre dos nodos en un grafo.\n",
    "<p>&nbsp;</p>\n",
    "\n",
    "- Cuando se tiene conocimiento de que una solución no está lejos de la raíz de un árbol.\n",
    "<p>&nbsp;</p>\n",
    "\n",
    "- Cuando desee priorizar la búsqueda de vértices que están cerca del nodo inicial.\n",
    "<p>&nbsp;</p>\n",
    "\n",
    "- Cuando desee visitar los nodos hermanos antes que los nodos secundarios."
   ]
  },
  {
   "cell_type": "markdown",
   "id": "16077bba",
   "metadata": {},
   "source": [
    "### Implementación de un árbol binario"
   ]
  },
  {
   "cell_type": "code",
   "execution_count": 1,
   "id": "7967ede0",
   "metadata": {},
   "outputs": [
    {
     "name": "stdout",
     "output_type": "stream",
     "text": [
      "The parents of each node are:\n",
      "1 ->Root\n",
      "2 -> 1\n",
      "5 -> 2\n",
      "6 -> 2\n",
      "3 -> 1\n",
      "4 -> 1\n",
      "7 -> 4\n",
      "The children of each node are:\n",
      "1 ->  2   3   4   \n",
      "\n",
      "2 ->  5   6   \n",
      "\n",
      "3 ->  \n",
      "\n",
      "4 ->  7   \n",
      "\n",
      "5 ->  \n",
      "\n",
      "6 ->  \n",
      "\n",
      "7 ->  \n",
      "\n",
      "The leaf nodes of the tree are:\n",
      "3 5 6 7 \n",
      "\n",
      "The degrees of each node are:\n",
      "1 :  3\n",
      "2 :  2\n",
      "3 :  0\n",
      "4 :  1\n",
      "5 :  0\n",
      "6 :  0\n",
      "7 :  0\n"
     ]
    }
   ],
   "source": [
    "# python program to demonstrate some of the above terminologies\n",
    "\n",
    "# Function to print the parent of each node\n",
    "def printParents(node, adj, parent):\n",
    "    # current node is Root, thus, has no parent\n",
    "    if (parent == 0):\n",
    "        print(node, \"->Root\")\n",
    "    else:\n",
    "        print(node, \"->\", parent)\n",
    "\n",
    "    # Using DFS\n",
    "    for cur in adj[node]:\n",
    "        if (cur != parent):\n",
    "            printParents(cur, adj, node)\n",
    "\n",
    "# Function to print the children of each node\n",
    "def printChildren(Root, adj):\n",
    "\n",
    "    # Queue for the BFS\n",
    "    q = []\n",
    "\n",
    "    # pushing the root\n",
    "    q.append(Root)\n",
    "\n",
    "    # visit array to keep track of nodes that have been\n",
    "    # visited\n",
    "    vis = [0]*len(adj)\n",
    "\n",
    "    # BFS\n",
    "    while (len(q) > 0):\n",
    "        node = q[0]\n",
    "        q.pop(0)\n",
    "        vis[node] = 1\n",
    "        print(node, \"-> \", end=\" \")\n",
    "\n",
    "        for cur in adj[node]:\n",
    "            if (vis[cur] == 0):\n",
    "                print(cur, \" \", end=\" \")\n",
    "                q.append(cur)\n",
    "        print(\"\\n\")\n",
    "\n",
    "# Function to print the leaf nodes\n",
    "def printLeafNodes(Root, adj):\n",
    "\n",
    "    # Leaf nodes have only one edge and are not the root\n",
    "    for i in range(0, len(adj)):\n",
    "        if (len(adj[i]) == 1 and i != Root):\n",
    "            print(i, end=\" \")\n",
    "    print(\"\\n\")\n",
    "\n",
    "# Function to print the degrees of each node\n",
    "def printDegrees(Root, adj):\n",
    "\n",
    "    for i in range(1, len(adj)):\n",
    "        print(i, \": \", end=\" \")\n",
    "\n",
    "        # Root has no parent, thus, its degree is equal to\n",
    "        # the edges it is connected to\n",
    "        if (i == Root):\n",
    "            print(len(adj[i]))\n",
    "        else:\n",
    "            print(len(adj[i])-1)\n",
    "\n",
    "# Driver code\n",
    "# Number of nodes\n",
    "N = 7\n",
    "Root = 1\n",
    "\n",
    "# Adjacency list to store the tree\n",
    "adj = []\n",
    "for i in range(0, N+1):\n",
    "    adj.append([])\n",
    "\n",
    "# Creating the tree\n",
    "adj[1].append(2)\n",
    "adj[2].append(1)\n",
    "\n",
    "adj[1].append(3)\n",
    "adj[3].append(1)\n",
    "\n",
    "adj[1].append(4)\n",
    "adj[4].append(1)\n",
    "\n",
    "adj[2].append(5)\n",
    "adj[5].append(2)\n",
    "\n",
    "adj[2].append(6)\n",
    "adj[6].append(2)\n",
    "\n",
    "adj[4].append(7)\n",
    "adj[7].append(4)\n",
    "\n",
    "# Printing the parents of each node\n",
    "print(\"The parents of each node are:\")\n",
    "printParents(Root, adj, 0)\n",
    "\n",
    "# Printing the children of each node\n",
    "print(\"The children of each node are:\")\n",
    "printChildren(Root, adj)\n",
    "\n",
    "# Printing the leaf nodes in the tree\n",
    "print(\"The leaf nodes of the tree are:\")\n",
    "printLeafNodes(Root, adj)\n",
    "\n",
    "# Printing the degrees of each node\n",
    "print(\"The degrees of each node are:\")\n",
    "printDegrees(Root, adj)\n",
    "\n",
    "# This code is contributed by rj13to.\n"
   ]
  }
 ],
 "metadata": {
  "kernelspec": {
   "display_name": "Python 3 (ipykernel)",
   "language": "python",
   "name": "python3"
  },
  "language_info": {
   "codemirror_mode": {
    "name": "ipython",
    "version": 3
   },
   "file_extension": ".py",
   "mimetype": "text/x-python",
   "name": "python",
   "nbconvert_exporter": "python",
   "pygments_lexer": "ipython3",
   "version": "3.11.3"
  },
  "toc": {
   "base_numbering": 1,
   "nav_menu": {},
   "number_sections": true,
   "sideBar": true,
   "skip_h1_title": true,
   "title_cell": "Table of Contents",
   "title_sidebar": "Contents",
   "toc_cell": false,
   "toc_position": {
    "height": "calc(100% - 180px)",
    "left": "10px",
    "top": "150px",
    "width": "256px"
   },
   "toc_section_display": true,
   "toc_window_display": false
  }
 },
 "nbformat": 4,
 "nbformat_minor": 5
}
