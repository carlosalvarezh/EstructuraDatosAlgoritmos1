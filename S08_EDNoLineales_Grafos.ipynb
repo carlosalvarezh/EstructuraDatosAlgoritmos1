{
 "cells": [
  {
   "cell_type": "markdown",
   "id": "49993bb6",
   "metadata": {},
   "source": [
    "<h1 align=\"center\">Estructura de Datos y Algoritmos I</h1>\n",
    "<h1 align=\"center\">Estructuras de Datos No Lineales - Grafos</h1>\n",
    "<h1 align=\"center\">2024</h1>\n",
    "<h1 align=\"center\">MEDELLÍN - COLOMBIA </h1>"
   ]
  },
  {
   "cell_type": "markdown",
   "id": "8d4f8ebf",
   "metadata": {},
   "source": [
    "*** \n",
    "|[![Outlook](https://img.shields.io/badge/Microsoft_Outlook-0078D4?style=plastic&logo=microsoft-outlook&logoColor=white)](mailto:calvar52@eafit.edu.co)||[![Open In Colab](https://colab.research.google.com/assets/colab-badge.svg)](https://colab.research.google.com/github/carlosalvarezh/EstructuraDatosAlgoritmos1/blob/main/S08_EDNoLineales_Grafos.ipynb)\n",
    "|-:|:-|--:|\n",
    "|[![LinkedIn](https://img.shields.io/badge/linkedin-%230077B5.svg?style=plastic&logo=linkedin&logoColor=white)](https://www.linkedin.com/in/carlosalvarez5/)|[![@alvarezhenao](https://img.shields.io/twitter/url/https/twitter.com/alvarezhenao.svg?style=social&label=Follow%20%40alvarezhenao)](https://twitter.com/alvarezhenao)|[![@carlosalvarezh](https://img.shields.io/badge/github-%23121011.svg?style=plastic&logo=github&logoColor=white)](https://github.com/carlosalvarezh)|\n",
    "\n",
    "<table>\n",
    " <tr align=left><td><img align=left src=\"https://github.com/carlosalvarezh/Curso_CEC_EAFIT/blob/main/images/CCLogoColorPop1.gif?raw=true\" width=\"25\">\n",
    " <td>Text provided under a Creative Commons Attribution license, CC-BY. All code is made available under the FSF-approved MIT license.(c) Carlos Alberto Alvarez Henao</td>\n",
    "</table>\n",
    "\n",
    "***"
   ]
  },
  {
   "cell_type": "markdown",
   "id": "43b9ef7e",
   "metadata": {},
   "source": [
    "# Estructuras de Datos No Lineales - Grafos"
   ]
  },
  {
   "cell_type": "markdown",
   "id": "0c868296",
   "metadata": {},
   "source": [
    "<p float=\"center\">\n",
    "  <img src=\"https://github.com/carlosalvarezh/EstructuraDatosAlgoritmos1/blob/main/Images/DataStuctureClassification1.PNG?raw=true\" width=\"350\" />\n",
    "</p>\n",
    "<p style=\"text-align: center;\">\n",
    "    <strong>Fuente:</strong> Elaboración propia.\n",
    "</p>"
   ]
  },
  {
   "cell_type": "markdown",
   "id": "21bb9f3f",
   "metadata": {},
   "source": [
    "## Introducción a los Grafos: Contexto Histórico y Estado del Arte"
   ]
  },
  {
   "cell_type": "markdown",
   "id": "f404cf2d",
   "metadata": {},
   "source": [
    "<p float=\"center\">\n",
    "  <img src=\"https://github.com/carlosalvarezh/EstructuraDatosAlgoritmos1/blob/main/Images/Grafos00.PNG?raw=true\" width=\"500\" />\n",
    "</p>\n",
    "<p style=\"text-align: center;\">\n",
    "    <strong>Fuente:</strong> GoogleMaps.\n",
    "</p>"
   ]
  },
  {
   "cell_type": "markdown",
   "id": "e28fd3f0",
   "metadata": {},
   "source": [
    "### Orígenes Históricos"
   ]
  },
  {
   "cell_type": "markdown",
   "id": "ec3d78b3",
   "metadata": {},
   "source": [
    "La [teoría de grafos](https://en.wikipedia.org/wiki/Graph_theory), como estructura de datos y concepto matemático, tienen su origen en el siglo XVIII. El problema de [los 7 Puentes de Königsberg](https://en.wikipedia.org/wiki/Seven_Bridges_of_K%C3%B6nigsberg), presentado por [Leonhard Euler](https://en.wikipedia.org/wiki/Leonhard_Euler) en 1736, es a menudo considerado el nacimiento de la teoría de grafos. *Euler* se preguntaba si era posible caminar por la ciudad de *Königsberg* y cruzar sus siete puentes una vez y solo una vez. La solución de *Euler*, demostrando que no era posible, sentó las bases para la teoría de grafos.\n",
    "\n",
    "<p float=\"center\">\n",
    "  <img src=\"https://github.com/carlosalvarezh/EstructuraDatosAlgoritmos1/blob/main/Images/Grafos01.PNG?raw=true\" width=\"250\" />\n",
    "</p>\n",
    "<p style=\"text-align: center;\">\n",
    "    <strong>Fuente:</strong> Wikipedia.\n",
    "</p>\n",
    "\n",
    "Este problema llevó a la formulación de conceptos fundamentales en grafos, como vértices, aristas y la idea de conectar nodos de manera que se puedan formar estructuras más complejas. Desde entonces, la teoría de grafos ha evolucionado significativamente, integrándose en numerosas disciplinas como la matemática, la informática, la física, la sociología, y la biología.\n",
    "\n",
    "<p float=\"center\">\n",
    "  <img src=\"https://github.com/carlosalvarezh/EstructuraDatosAlgoritmos1/blob/main/Images/Grafos02.PNG?raw=true\" width=\"500\" />\n",
    "</p>\n",
    "<p style=\"text-align: center;\">\n",
    "    <strong>Fuente:</strong> Wikipedia.\n",
    "</p>"
   ]
  },
  {
   "cell_type": "markdown",
   "id": "4ec8388e",
   "metadata": {},
   "source": [
    "### Desarrollo y Avances Modernos"
   ]
  },
  {
   "cell_type": "markdown",
   "id": "c64c382a",
   "metadata": {},
   "source": [
    "En el siglo XX, con el avance de la computación, los grafos ganaron una nueva dimensión de relevancia. El desarrollo de algoritmos para grafos, como el [algoritmo de Dijkstra](https://en.wikipedia.org/wiki/Dijkstra%27s_algorithm) para el camino más corto, el [algoritmo de Kruskal y Prim](https://en.wikipedia.org/wiki/Kruskal%27s_algorithm) para árboles de expansión mínima, y los [algoritmos de búsqueda en profundidad y en amplitud](https://en.wikipedia.org/wiki/Breadth-first_search), se convirtieron en áreas de estudio fundamentales en ciencias de la computación.\n",
    "\n",
    "El estado del arte actual en grafos abarca tanto su estudio teórico como aplicaciones prácticas. Con la aparición de grandes conjuntos de datos y la necesidad de analizar relaciones complejas (como las redes sociales), los grafos se han vuelto herramientas indispensables. Se han desarrollado estructuras y algoritmos más eficientes para manejar grafos de gran escala, como grafos dispersos y bases de datos de grafos. Además, la inteligencia artificial y el aprendizaje automático han encontrado en los grafos un medio para modelar y resolver problemas complejos de optimización y reconocimiento de patrones."
   ]
  },
  {
   "cell_type": "markdown",
   "id": "8b963ebe",
   "metadata": {},
   "source": [
    "### Aplicaciones Actuales y Futuras"
   ]
  },
  {
   "cell_type": "markdown",
   "id": "e0bbdceb",
   "metadata": {},
   "source": [
    "- **Redes Sociales y Análisis de Redes**: Los grafos son fundamentales para analizar las complejas interacciones sociales y de redes.\n",
    "<p>&nbsp;</p>\n",
    "\n",
    "- **Biología Computacional**: Utilizados para modelar estructuras moleculares y redes genéticas.\n",
    "<p>&nbsp;</p>\n",
    "\n",
    "- **Optimización de Rutas y Logística**: Aplicados en la planificación de rutas para la entrega de mercancías y en sistemas de navegación GPS.\n",
    "<p>&nbsp;</p>\n",
    "\n",
    "- **Internet y Redes de Comunicación**: Fundamental en la estructura de la web y en el análisis de la red de internet.\n",
    "<p>&nbsp;</p>\n",
    "\n",
    "- **Teoría de Grafos en Física y Química**: Para modelar átomos en moléculas y en la física de partículas.\n",
    "<p>&nbsp;</p>\n",
    "\n",
    "- **Computación Cuántica**: Los grafos desempeñan un papel en el diseño y análisis de algoritmos cuánticos."
   ]
  },
  {
   "cell_type": "markdown",
   "id": "71731102",
   "metadata": {},
   "source": [
    "### Árboles vs Grafos"
   ]
  },
  {
   "cell_type": "markdown",
   "id": "e94b5096",
   "metadata": {},
   "source": [
    "<p float=\"center\">\n",
    "  <img src=\"https://github.com/carlosalvarezh/EstructuraDatosAlgoritmos1/blob/main/Images/Grafos14.jpg?raw=true\" width=\"350\" />\n",
    "</p>\n",
    "<p style=\"text-align: center;\">\n",
    "    <strong>Fuente:</strong> geeksforgeeks.org.\n",
    "</p>\n",
    "\n",
    "\n",
    "| **Característica**     | **Árboles**                                                               | **Grafos**                                                                   |\n",
    "|------------------------|---------------------------------------------------------------------------|------------------------------------------------------------------------------|\n",
    "| **Definición**         | Un tipo especial de grafo no dirigido y conectado sin ciclos.             | Colección de vértices y aristas que pueden formar estructuras con ciclos.   |\n",
    "| **Jerarquía**          | Estructura jerárquica con un nodo raíz y una relación padre-hijo clara.   | No tienen una jerarquía inherente; cualquier nodo puede estar conectado con cualquier otro. |\n",
    "| **Ciclos**             | No tienen ciclos. Cada dos nodos están conectados por exactamente un camino. | Pueden tener ciclos y múltiples caminos entre nodos.                        |\n",
    "| **Tipos de Conexión**  | Conexiones unidireccionales siguiendo la jerarquía padre-hijo.            | Conexiones pueden ser unidireccionales o bidireccionales (en grafos dirigidos y no dirigidos). |\n",
    "| **Tipos**              | Solo un tipo principal, con variantes (como árbol binario, AVL, etc.).    | Variados, incluyendo dirigidos, no dirigidos, ponderados, multigrafos, etc. |\n",
    "| **Relaciones**         | Relaciones lineales y unidireccionales.                                   | Relaciones más complejas y posiblemente bidireccionales.                    |\n",
    "| **Usos**               | Modelado de jerarquías y estructuras con una sola vía de acceso.          | Modelado de redes y estructuras con múltiples vías de interconexión.        |\n",
    "| **Ejemplos**           | Árboles de decisión, árboles genealógicos, árboles de sintaxis.           | Redes sociales, mapas, grafos de dependencias en software.                  |"
   ]
  },
  {
   "cell_type": "markdown",
   "id": "fba0bc18",
   "metadata": {},
   "source": [
    "## Grafos"
   ]
  },
  {
   "cell_type": "markdown",
   "id": "50e52b0b",
   "metadata": {},
   "source": [
    "### Definición"
   ]
  },
  {
   "cell_type": "markdown",
   "id": "cf17bd87",
   "metadata": {},
   "source": [
    "<p float=\"center\">\n",
    "  <img src=\"https://github.com/carlosalvarezh/EstructuraDatosAlgoritmos1/blob/main/Images/Grafos04.PNG?raw=true\" width=\"500\" />\n",
    "</p>\n",
    "<p style=\"text-align: center;\">\n",
    "    <strong>Fuente:</strong> geeksforgeeks.org.\n",
    "</p>\n",
    "\n",
    "Los grafos son una estructura de datos que consiste en una colección de nodos conectados por aristas (*edges*). Se utiliza para representar relaciones entre diferentes entidades. Los algoritmos de grafos son métodos utilizados para manipular y analizar grafos, resolviendo diversos problemas como encontrar el camino más corto o detectar ciclos.\n",
    "\n",
    "Un grafo $G$ se define matemáticamente como un par ordenado de dos conjuntos, $G = (V, E)$, donde:\n",
    "\n",
    "- $V$ representa el conjunto de vértices o nodos. Los vértices pueden ser cualquier cosa: personas en una red social, ciudades en un mapa, o estaciones en una red de transporte.\n",
    "<p>&nbsp;</p>\n",
    "\n",
    "- $E$ es el conjunto de aristas o bordes, que representan las relaciones o conexiones entre los vértices. En el contexto de un mapa, por ejemplo, una arista podría representar una carretera que conecta dos ciudades.\n",
    "\n",
    "Esta definición básica se expande para abarcar varios tipos y propiedades:"
   ]
  },
  {
   "cell_type": "markdown",
   "id": "6da5eb82",
   "metadata": {},
   "source": [
    "### Tipos de Grafos"
   ]
  },
  {
   "cell_type": "markdown",
   "id": "1c288e21",
   "metadata": {},
   "source": [
    "Por supuesto, aquí tienes las traducciones:\n",
    "\n",
    "- **Grafo Nulo:** Un grafo se conoce como grafo nulo si no hay aristas en el grafo.\n",
    "\n",
    "<p float=\"center\">\n",
    "  <img src=\"https://github.com/carlosalvarezh/EstructuraDatosAlgoritmos1/blob/main/Images/Grafos05.PNG?raw=true\" width=\"150\" />\n",
    "</p>\n",
    "\n",
    "- **Grafo Trivial:** Grafo que tiene solo un vértice, es también el grafo más pequeño posible.\n",
    "\n",
    "<p float=\"center\">\n",
    "  <img src=\"https://github.com/carlosalvarezh/EstructuraDatosAlgoritmos1/blob/main/Images/Grafos06.PNG?raw=true\" width=\"70\" />\n",
    "</p>\n",
    "\n",
    "- **Grafo No Dirigido:** Un grafo en el que las aristas no tienen dirección. Es decir, los nodos son pares no ordenados en la definición de cada arista.\n",
    "\n",
    "<p float=\"center\">\n",
    "  <img src=\"https://github.com/carlosalvarezh/EstructuraDatosAlgoritmos1/blob/main/Images/Grafos07.PNG?raw=true\" width=\"150\" />\n",
    "</p>\n",
    "\n",
    "- **Grafo Dirigido:** Un grafo en el que cada arista tiene dirección. Es decir, los nodos son pares ordenados en la definición de cada arista.\n",
    "\n",
    "<p float=\"center\">\n",
    "  <img src=\"https://github.com/carlosalvarezh/EstructuraDatosAlgoritmos1/blob/main/Images/Grafos08.PNG?raw=true\" width=\"150\" />\n",
    "</p>\n",
    "\n",
    "- **Grafo Conectado:** El grafo en el que desde un nodo se puede visitar cualquier otro nodo en el grafo se conoce como grafo conectado.\n",
    "\n",
    "<p float=\"center\">\n",
    "  <img src=\"https://github.com/carlosalvarezh/EstructuraDatosAlgoritmos1/blob/main/Images/Grafos07.PNG?raw=true\" width=\"150\" />\n",
    "</p>\n",
    "\n",
    "- **Grafo Desconectado:** El grafo en el que al menos un nodo no es alcanzable desde un nodo se conoce como grafo desconectado.\n",
    "\n",
    "<p float=\"center\">\n",
    "  <img src=\"https://github.com/carlosalvarezh/EstructuraDatosAlgoritmos1/blob/main/Images/Grafos09.PNG?raw=true\" width=\"150\" />\n",
    "</p>\n",
    "\n",
    "- **Grafo Regular:** El grafo en el que el grado de cada vértice es igual a K se llama grafo regular K.\n",
    "\n",
    "<p float=\"center\">\n",
    "  <img src=\"https://github.com/carlosalvarezh/EstructuraDatosAlgoritmos1/blob/main/Images/Grafos07.PNG?raw=true\" width=\"150\" />\n",
    "</p>\n",
    "\n",
    "- **Grafo Completo:** El grafo en el que desde cada nodo hay una arista hacia cada otro nodo.\n",
    "\n",
    "<p float=\"center\">\n",
    "  <img src=\"https://github.com/carlosalvarezh/EstructuraDatosAlgoritmos1/blob/main/Images/Grafos10.PNG?raw=true\" width=\"150\" />\n",
    "</p>\n",
    "\n",
    "- **Grafo de Ciclo:** El grafo en el que el grafo es un ciclo en sí mismo, el grado de cada vértice es 2.\n",
    "\n",
    "<p float=\"center\">\n",
    "  <img src=\"https://github.com/carlosalvarezh/EstructuraDatosAlgoritmos1/blob/main/Images/Grafos07.PNG?raw=true\" width=\"150\" />\n",
    "</p>\n",
    "\n",
    "- **Grafo Cíclico:** Un grafo que contiene al menos un ciclo se conoce como grafo cíclico.\n",
    "\n",
    "<p float=\"center\">\n",
    "  <img src=\"https://github.com/carlosalvarezh/EstructuraDatosAlgoritmos1/blob/main/Images/Grafos11.PNG?raw=true\" width=\"150\" />\n",
    "</p>\n",
    "\n",
    "- **Grafo Acíclico Dirigido:** Un Grafo Dirigido que no contiene ningún ciclo.\n",
    "\n",
    "<p float=\"center\">\n",
    "  <img src=\"https://github.com/carlosalvarezh/EstructuraDatosAlgoritmos1/blob/main/Images/Grafos12.PNG?raw=true\" width=\"150\" />\n",
    "</p>\n",
    "\n",
    "- **Grafo Bipartito:** Un grafo en el que los vértices se pueden dividir en dos conjuntos de manera que los vértices en cada conjunto no contengan ninguna arista entre ellos.\n",
    "\n",
    "<p float=\"center\">\n",
    "  <img src=\"https://github.com/carlosalvarezh/EstructuraDatosAlgoritmos1/blob/main/Images/Grafos13.PNG?raw=true\" width=\"150\" />\n",
    "</p>\n",
    "\n",
    "- **Grafo Ponderado:** Un grafo en el que las aristas ya están especificadas con un peso adecuado se conoce como grafo ponderado. Los grafos ponderados pueden clasificarse además en grafos ponderados dirigidos y grafos ponderados no dirigidos."
   ]
  },
  {
   "cell_type": "markdown",
   "id": "4f06b3a8",
   "metadata": {},
   "source": [
    "### Representación de grafos"
   ]
  },
  {
   "cell_type": "markdown",
   "id": "461a546f",
   "metadata": {},
   "source": [
    "Los grafos pueden representarse en una computadora de varias maneras, siendo las más comunes la **Matriz de Adyacencia** y la **Lista de Adyacencia**. Cada método tiene sus propias ventajas y desventajas, dependiendo del tipo de operaciones que se necesitan realizar y las características del grafo (como su densidad)."
   ]
  },
  {
   "cell_type": "markdown",
   "id": "e3a1d574",
   "metadata": {},
   "source": [
    "#### Matriz de Adyacencia"
   ]
  },
  {
   "cell_type": "markdown",
   "id": "98b98d12",
   "metadata": {},
   "source": [
    "Una matriz de adyacencia es una matriz cuadrada que se utiliza para representar un grafo de forma booleana (0's y 1's). Las filas y columnas de la matriz corresponden a los vértices del grafo. Si existe una arista entre dos vértices, el valor en la celda correspondiente se establece en `1` (o el peso de la arista, en el caso de grafos ponderados); de lo contrario, se establece en `0`.\n",
    "\n",
    "Supongamos que hay $n$ vértices en el grafo. Entonces, se crea una matriz 2D `adjMat[n][n]` con dimensiones $n \\times n$.\n",
    "\n",
    "- Si hay una arista del vértice $i$ al $j$, se marca `adjMat[i][j]` como `1`.  \n",
    "- Si no hay una arista del vértice $i$ al $j$, se marca `adjMat[i][j]` como `0`.\n",
    "\n",
    "**Ventajas**:\n",
    "- Representación simple y directa de la estructura del grafo.\n",
    "- Facilita operaciones como determinar si hay una arista entre dos vértices.\n",
    "\n",
    "**Desventajas**:\n",
    "- Ineficiente en términos de espacio para grafos dispersos (grafos con pocas aristas en relación con el número de vértices).\n",
    "- Puede llevar a un uso innecesario de memoria y tiempo de procesamiento.\n",
    "\n",
    "**Ejemplo**:\n",
    "Consideremos un grafo con 4 vértices como el de la figura.\n",
    "\n",
    "<p float=\"center\">\n",
    "  <img src=\"https://github.com/carlosalvarezh/EstructuraDatosAlgoritmos1/blob/main/Images/Grafos15.PNG?raw=true\" width=\"150\" />\n",
    "</p>\n",
    "\n",
    "\n",
    "La matriz de adyacencia sería:\n",
    "\n",
    "|   | A | B | C | D |\n",
    "|---|---|---|---|---|\n",
    "| A | 0 | 1 | 1 | 0 |\n",
    "| B | 1 | 0 | 1 | 0 |\n",
    "| C | 1 | 1 | 0 | 1 |\n",
    "| D | 0 | 0 | 1 | 0 |\n"
   ]
  },
  {
   "cell_type": "markdown",
   "id": "dac03bff",
   "metadata": {},
   "source": [
    "##### Representación de un Grafo No Dirigido a Matriz de Adyacencia:"
   ]
  },
  {
   "cell_type": "markdown",
   "id": "e2b73cc1",
   "metadata": {},
   "source": [
    "La siguiente figura muestra un grafo no dirigido. Inicialmente, toda la matriz se inicializa en `0`. Si hay una arista de la fuente al destino, insertamos `1` en ambos casos (`adjMat[fuente]` y `adjMat[destino]`) porque podemos ir en cualquier dirección.\n",
    "\n",
    "<p float=\"center\">\n",
    "  <img src=\"https://github.com/carlosalvarezh/EstructuraDatosAlgoritmos1/blob/main/Images/Grafos16.PNG?raw=true\" width=\"500\" />\n",
    "</p>"
   ]
  },
  {
   "cell_type": "markdown",
   "id": "68cbe5ed",
   "metadata": {},
   "source": [
    "##### Representación de un Grafo Dirigido a Matriz de Adyacencia"
   ]
  },
  {
   "cell_type": "markdown",
   "id": "05d52afb",
   "metadata": {},
   "source": [
    "La figura de abajo muestra un grafo dirigido. Inicialmente, toda la matriz se inicializa en `0`. Si hay una arista de la fuente al destino, insertamos `1` para ese particular `adjMat[destino]`.\n",
    "\n",
    "<p float=\"center\">\n",
    "  <img src=\"https://github.com/carlosalvarezh/EstructuraDatosAlgoritmos1/blob/main/Images/Grafos17.PNG?raw=true\" width=\"500\" />\n",
    "</p>"
   ]
  },
  {
   "cell_type": "markdown",
   "id": "7b8d002c",
   "metadata": {},
   "source": [
    "#### Lista de Adyacencia"
   ]
  },
  {
   "cell_type": "markdown",
   "id": "aa47e455",
   "metadata": {},
   "source": [
    "Una lista de adyacencia es una colección de listas o conjuntos, una para cada vértice en el grafo. Cada lista contiene los vértices adyacentes (es decir, directamente conectados) a ese vértice.\n",
    "\n",
    "El tamaño del arreglo es igual al número de vértices (es decir, $n$). Cada índice en este arreglo representa un vértice específico en el grafo. La entrada en el índice $i$ del arreglo contiene una lista enlazada con los vértices que son adyacentes al vértice $i$.\n",
    "\n",
    "Supongamos que hay $n$ vértices en el grafo. Entonces, creamos un arreglo de listas de tamaño $n$ como `adjList[n]`.\n",
    "\n",
    "- `adjList[0]` tendrá todos los nodos que están conectados (vecinos) al vértice `0`.\n",
    "- `adjList[1]` tendrá todos los nodos que están conectados (vecinos) al vértice `1`, y así sucesivamente.\n",
    "\n",
    "**Ventajas**:\n",
    "- Eficiente en términos de espacio para grafos dispersos.\n",
    "- Permite un acceso más rápido a los vecinos de un vértice.\n",
    "\n",
    "**Desventajas**:\n",
    "- Determinar si hay una arista entre dos vértices específicos puede ser menos eficiente que con la matriz de adyacencia.\n",
    "- La estructura de datos es ligeramente más compleja.\n",
    "\n",
    "**Ejemplo**:\n",
    "Usando el mismo grafo del ejemplo anterior, la lista de adyacencia sería:\n",
    "\n",
    "<p float=\"center\">\n",
    "  <img src=\"https://github.com/carlosalvarezh/EstructuraDatosAlgoritmos1/blob/main/Images/Grafos15.PNG?raw=true\" width=\"150\" />\n",
    "</p>\n",
    "\n",
    "```pseudocode\n",
    "A --> [B, C]\n",
    "B --> [A, C]\n",
    "C --> [A, B, D]\n",
    "D --> [C]\n",
    "```"
   ]
  },
  {
   "cell_type": "markdown",
   "id": "7a82bd30",
   "metadata": {},
   "source": [
    "##### Representación de un Grafo No Dirigido a Lista de Adyacencia"
   ]
  },
  {
   "cell_type": "markdown",
   "id": "34409466",
   "metadata": {},
   "source": [
    "El grafo no dirigido de la figura tiene $3$ vértices. Por lo tanto, se crea un arreglo de listas de tamaño $3$, donde cada índice representa los vértices. Ahora, el vértice `0` tiene dos vecinos (es decir, `1` y `2`). Entonces, insertamos los vértices `1` y `2` en el índice `0` del arreglo. De manera similar, para el vértice `1`, tiene dos vecinos (es decir, `2` y `0`). Por lo tanto, insertamos los vértices `2` y `0` en el índice `1` del arreglo. De manera similar, para el vértice `2`, insertamos sus vecinos en el arreglo de listas.\n",
    "\n",
    "<p float=\"center\">\n",
    "  <img src=\"https://github.com/carlosalvarezh/EstructuraDatosAlgoritmos1/blob/main/Images/Grafos18.PNG?raw=true\" width=\"500\" />\n",
    "</p>"
   ]
  },
  {
   "cell_type": "markdown",
   "id": "4a98a32c",
   "metadata": {},
   "source": [
    "##### Representación de un Grafo Dirigido a Lista de Adyacencia"
   ]
  },
  {
   "cell_type": "markdown",
   "id": "15594c6a",
   "metadata": {},
   "source": [
    "El grafo dirigido de abajo tiene $3$ vértices. Por lo tanto, se creará un arreglo de listas de tamaño $3$, donde cada índice representa los vértices. Ahora, el vértice `0` no tiene vecinos. Para el vértice `1`, tiene dos vecinos (es decir, `0` y `2`). Entonces, insertamos los vértices `0` y `2` en el índice `1` del arreglo. De manera similar, para el vértice `2`, insertamos sus vecinos en el arreglo de listas.\n",
    "\n",
    "<p float=\"center\">\n",
    "  <img src=\"https://github.com/carlosalvarezh/EstructuraDatosAlgoritmos1/blob/main/Images/Grafos19.PNG?raw=true\" width=\"500\" />\n",
    "</p>"
   ]
  },
  {
   "cell_type": "markdown",
   "id": "3ff02bcf",
   "metadata": {},
   "source": [
    "#### Matriz de adyacencia vs Lista de adyacencia"
   ]
  },
  {
   "cell_type": "markdown",
   "id": "07a5d00f",
   "metadata": {},
   "source": [
    "Al comparar la complejidad algorítmica de la matriz de adyacencia y la lista de adyacencia para representar grafos, es importante considerar las diferentes operaciones que se pueden realizar sobre los grafos, como agregar o eliminar aristas, verificar si existe una conexión entre dos vértices, y recorrer el grafo. A continuación se presentan las operaciones más comunes:\n",
    "\n",
    "- **Agregar un Vértice:** Añadir un nuevo vértice al grafo.\n",
    "   - **Complejidad**:\n",
    "     - En una **lista de adyacencia**, es una operación $O(1)$, ya que simplemente se añade una nueva lista para el nuevo vértice.\n",
    "     - En una **matriz de adyacencia**, puede ser más costoso, $O(V^2)$, debido a la necesidad de aumentar el tamaño de la matriz.\n",
    "<p>&nbsp;</p>\n",
    "\n",
    "- **Eliminar un Vértice:** Eliminar un vértice existente y todas sus aristas asociadas.\n",
    "   - **Complejidad**:\n",
    "     - En una **lista de adyacencia**, es $O(V + E)$, ya que se debe eliminar el vértice y actualizar todas las listas que contienen ese vértice.\n",
    "     - En una **matriz de adyacencia**, también es $O(V^2)$, por la reestructuración necesaria de la matriz.\n",
    "<p>&nbsp;</p>\n",
    "\n",
    "- **Agregar una Arista:** Conectar dos vértices con una arista.\n",
    "   - **Complejidad**:\n",
    "     - En una **lista de adyacencia**, es $O(1)$, simplemente añadiendo el vértice destino a la lista del vértice origen.\n",
    "     - En una **matriz de adyacencia**, es $O(1)$, actualizando el valor de la celda correspondiente.\n",
    "<p>&nbsp;</p>\n",
    "\n",
    "- **Eliminar una Arista:** Remover la conexión entre dos vértices.\n",
    "   - **Complejidad**:\n",
    "     - En una **lista de adyacencia**, puede ser hasta $O(V)$, buscando y eliminando el vértice destino de la lista del vértice origen.\n",
    "     - En una **matriz de adyacencia**, es $O(1)$, estableciendo el valor de la celda correspondiente a 0 o infinito.\n",
    "<p>&nbsp;</p>\n",
    "\n",
    "- **Verificar si Dos Vértices están Conectados:** Determinar si existe una arista entre dos vértices específicos.\n",
    "   - **Complejidad**:\n",
    "     - En una **lista de adyacencia**, puede ser hasta $O(V)$, buscando en la lista.\n",
    "     - En una **matriz de adyacencia**, es $O(1)$.\n",
    "<p>&nbsp;</p>\n",
    "\n",
    "- **Encontrar el Grado de un Vértice:** Calcular el número de aristas conectadas a un vértice.\n",
    "   - **Complejidad**:\n",
    "     - En una **lista de adyacencia**, es $O(1)$ si se mantiene un contador de grado, o $O(deg(V))$ si se cuenta cada vez.\n",
    "     - En una **matriz de adyacencia**, es $O(V)$, sumando las conexiones en la fila/columna correspondiente.\n",
    "<p>&nbsp;</p>\n",
    "\n",
    "- **Recorrido del Grafo (BFS y DFS):** Explorar el grafo, ya sea en amplitud (BFS) o profundidad (DFS).\n",
    "   - **Complejidad**:\n",
    "     - Tanto para **lista de adyacencia** como para **matriz de adyacencia**, es $O(V + E)$, aunque en la práctica, la lista de adyacencia es más eficiente para grafos dispersos.\n",
    "\n",
    "A manera de resumen se deja la siguiente tabla para una consulta rápida:\n",
    "\n",
    "| Operación                          | Matriz de Adyacencia | Lista de Adyacencia |\n",
    "|------------------------------------|----------------------|---------------------|\n",
    "| **Espacio de Almacenamiento**      | $$O(V^2)$$           | $$O(V + E)$$        |\n",
    "| **Agregar Arista**                 | $$O(1)$$             | $$O(1)$$            |\n",
    "| **Eliminar Arista**                | $$O(1)$$             | $$O(V)$$            |\n",
    "| **Verificar Conexión**             | $$O(1)$$             | $$O(V)$$            |\n",
    "| **Recorrer Vecinos de un Vértice** | $$O(V)$$             | $$O(deg(V))$$       |\n",
    "| **Recorrido del Grafo (BFS, DFS)** | $$O(V^2)$$           | $$O(V + E)$$        |\n",
    "\n",
    "- **$V$**: Número de vértices\n",
    "- **$E$**: Número de aristas\n",
    "- **$deg(V)$**: Grado del vértice $V$ (número de vecinos)"
   ]
  },
  {
   "cell_type": "markdown",
   "id": "977f93eb",
   "metadata": {},
   "source": [
    "### Aplicaciones de la vida real"
   ]
  },
  {
   "cell_type": "markdown",
   "id": "fe58b01f",
   "metadata": {},
   "source": [
    "- Las estructuras de datos de grafos pueden utilizarse para representar interacciones entre jugadores en un equipo, como pases, tiros y entradas. Analizar estas interacciones puede proporcionar perspectivas sobre la dinámica del equipo y áreas para mejorar.\n",
    "<p>&nbsp;</p>\n",
    "\n",
    "- Comúnmente se utilizan para representar redes sociales, como redes de amigos en medios sociales.\n",
    "<p>&nbsp;</p>\n",
    "\n",
    "- Los grafos pueden utilizarse para representar la topología de redes informáticas, como las conexiones entre enrutadores y conmutadores.\n",
    "<p>&nbsp;</p>\n",
    "\n",
    "- Los grafos se utilizan para representar las conexiones entre diferentes lugares en una red de transporte, como carreteras y aeropuertos.\n",
    "<p>&nbsp;</p>\n",
    "\n",
    "- ***Redes Neuronales:*** Los vértices representan neuronas y las aristas representan las sinapsis entre ellas. Las redes neuronales se utilizan para comprender cómo funciona nuestro cerebro y cómo cambian las conexiones cuando aprendemos. El cerebro humano tiene alrededor de 10^11 neuronas y cerca de 10^15 sinapsis.\n",
    "<p>&nbsp;</p>\n",
    "\n",
    "- ***Compiladores:*** Los grafos se utilizan ampliamente en compiladores. Pueden ser utilizados para la inferencia de tipos, para el llamado análisis de flujo de datos, asignación de registros y muchos otros propósitos. También se utilizan en compiladores especializados, como la optimización de consultas en lenguajes de bases de datos.\n",
    "<p>&nbsp;</p>\n",
    "\n",
    "- ***Planificación Robótica:*** Los vértices representan estados en los que puede estar el robot y las aristas las posibles transiciones entre los estados. Dichos planes de grafos se utilizan, por ejemplo, en la planificación de rutas para vehículos autónomos."
   ]
  },
  {
   "cell_type": "markdown",
   "id": "e4e17bf9",
   "metadata": {},
   "source": [
    "### Cuándo usar Grafos"
   ]
  },
  {
   "cell_type": "markdown",
   "id": "4c5ce595",
   "metadata": {},
   "source": [
    "- Cuando necesitas representar y analizar las relaciones entre diferentes objetos o entidades.\n",
    "<p>&nbsp;</p>\n",
    "\n",
    "- Cuando necesitas realizar análisis de redes.\n",
    "<p>&nbsp;</p>\n",
    "\n",
    "- Cuando necesitas identificar jugadores clave, influenciadores o cuellos de botella en un sistema.\n",
    "<p>&nbsp;</p>\n",
    "\n",
    "- Cuando necesitas hacer predicciones o recomendaciones.\n",
    "<p>&nbsp;</p>\n",
    "\n",
    "- ***Modelando Redes:*** Los grafos se utilizan comúnmente para modelar varios tipos de redes, como redes sociales, redes de transporte y redes informáticas. En estos casos, los vértices representan nodos en la red, y las aristas representan las conexiones entre ellos.\n",
    "<p>&nbsp;</p>\n",
    "\n",
    "- ***Encontrar Caminos:*** Los grafos se utilizan a menudo en algoritmos para encontrar caminos entre dos vértices en un grafo, como algoritmos de camino más corto. Por ejemplo, los grafos pueden utilizarse para encontrar la ruta más rápida entre dos ciudades en un mapa o la forma más eficiente de viajar entre múltiples destinos.\n",
    "<p>&nbsp;</p>\n",
    "\n",
    "- ***Representando Relaciones de Datos:*** Los grafos pueden utilizarse para representar relaciones entre objetos de datos, como en una base de datos o estructura de datos. En estos casos, los vértices representan objetos de datos, y las aristas representan las relaciones entre ellos.\n",
    "<p>&nbsp;</p>\n",
    "\n",
    "- ***Análisis de Datos:*** Los grafos pueden utilizarse para analizar y visualizar datos complejos, como en algoritmos de agrupamiento de datos o modelos de aprendizaje automático. En estos casos, los vértices representan puntos de datos, y las aristas representan las similitudes o diferencias entre ellos."
   ]
  },
  {
   "cell_type": "markdown",
   "id": "65be438d",
   "metadata": {},
   "source": [
    "### Ventajas y Desventajas"
   ]
  },
  {
   "cell_type": "markdown",
   "id": "17587805",
   "metadata": {},
   "source": [
    "También hay algunos escenarios donde usar un grafo puede no ser el mejor enfoque. Por ejemplo, si los datos que se representan son muy simples o estructurados, un grafo puede ser excesivo y una estructura de datos más simple podría ser suficiente. Además, si el grafo es muy grande o complejo, puede ser difícil o costoso computacionalmente analizarlo o recorrerlo, lo que podría hacer que usar un grafo sea menos deseable.\n",
    "\n",
    "***Ventajas:***\n",
    "- Los grafos son una estructura de datos versátil que se puede usar para representar una amplia gama de relaciones y estructuras de datos.\n",
    "<p>&nbsp;</p>\n",
    "\n",
    "- Pueden usarse para modelar y resolver una amplia gama de problemas, incluyendo la búsqueda de caminos, agrupación de datos, análisis de redes y aprendizaje automático.\n",
    "<p>&nbsp;</p>\n",
    "\n",
    "- Los algoritmos de grafos suelen ser muy eficientes y se pueden usar para resolver problemas complejos de manera rápida y efectiva.\n",
    "<p>&nbsp;</p>\n",
    "\n",
    "- Los grafos pueden usarse para representar estructuras de datos complejas de una manera simple e intuitiva, haciéndolas más fáciles de entender y analizar.\n",
    "<p>&nbsp;</p>\n",
    "\n",
    "\n",
    "***Desventajas:***\n",
    "- Los grafos pueden ser complejos y difíciles de entender, especialmente para personas que no están familiarizadas con la teoría de grafos o algoritmos relacionados.\n",
    "<p>&nbsp;</p>\n",
    "\n",
    "- Crear y manipular grafos puede ser computacionalmente costoso, especialmente para grafos muy grandes o complejos.\n",
    "<p>&nbsp;</p>\n",
    "\n",
    "- Los algoritmos de grafos pueden ser difíciles de diseñar e implementar correctamente, y pueden ser propensos a errores y fallos.\n",
    "<p>&nbsp;</p>\n",
    "\n",
    "- Los grafos pueden ser difíciles de visualizar y analizar, especialmente para grafos muy grandes o complejos, lo que puede dificultar la extracción de conocimientos significativos de los datos."
   ]
  },
  {
   "cell_type": "markdown",
   "id": "bf203e5b",
   "metadata": {},
   "source": [
    "## Recorridos en grafos"
   ]
  },
  {
   "cell_type": "markdown",
   "id": "5890bb54",
   "metadata": {},
   "source": [
    "### Búsqueda en amplitud (BFS)"
   ]
  },
  {
   "cell_type": "markdown",
   "id": "7311fe78",
   "metadata": {},
   "source": [
    "#### Introducción"
   ]
  },
  {
   "cell_type": "markdown",
   "id": "dbd56c01",
   "metadata": {},
   "source": [
    "Breadth First Search (BFS) es un algoritmo de recorrido de grafos que opera nivel por nivel, empezando desde un nodo específico. Utiliza una cola para visitar primero todos los nodos adyacentes a un nodo dado, antes de moverse a los nodos en el siguiente nivel de profundidad. Este método es utilizado principalmente para encontrar componentes conectados y determinar rutas más cortas en grafos no ponderados, ofreciendo una manera sistemática y eficiente de explorar todas las aristas y nodos de un grafo."
   ]
  },
  {
   "cell_type": "markdown",
   "id": "4ff787ae",
   "metadata": {},
   "source": [
    "#### Relación entre BFS para grafos y árboles"
   ]
  },
  {
   "cell_type": "markdown",
   "id": "fe0a3f66",
   "metadata": {},
   "source": [
    "En la relación entre BFS para grafos y árboles, ambos utilizan un enfoque similar de exploración por niveles. La principal diferencia radica en cómo se manejan los nodos repetidos: los árboles, al ser una estructura sin ciclos, no requieren una verificación adicional para los nodos ya visitados, mientras que los grafos pueden contener ciclos, lo que hace esencial llevar un registro de los nodos visitados. Para esto, se emplea una matriz booleana que indica si un nodo ha sido explorado, evitando así su procesamiento múltiple y asegurando una exploración eficiente y sistemática.\n",
    "\n",
    "BFS en grafos parte del supuesto de que todos los vértices son accesibles desde el nodo inicial, utilizando una estructura tipo cola para gestionar el orden de los nodos a visitar. En grafos desconectados, se ajusta el algoritmo para explorar otras componentes desconectadas tras finalizar con la componente conectada actual. Esta estructura de cola garantiza que la exploración se realice en el orden correcto, manteniendo la integridad del recorrido por niveles característico de BFS."
   ]
  },
  {
   "cell_type": "markdown",
   "id": "e9084381",
   "metadata": {},
   "source": [
    "#### Algoritmo BFS en grafos"
   ]
  },
  {
   "cell_type": "markdown",
   "id": "d156c402",
   "metadata": {},
   "source": [
    "El algoritmo de Búsqueda en Amplitud (BFS) para grafos se desarrolla de la siguiente manera:\n",
    "\n",
    "```pseudocode\n",
    "1. Inicialización: Se coloca el nodo de inicio en una cola y se lo marca como visitado, estableciendo así el punto de partida para la exploración del grafo.\n",
    "\n",
    "2. Exploración: Este proceso continúa mientras la cola no esté vacía. Se realiza lo siguiente:\n",
    "   - Se retira un nodo de la cola y se realiza la acción deseada, como imprimir su valor. Esto indica que el nodo está siendo procesado.\n",
    "   - Se examinan todos los vecinos directos de este nodo. Si un vecino aún no ha sido visitado, se le encola y se le marca como visitado.\n",
    "\n",
    "3. Terminación: El algoritmo repite el proceso de exploración hasta que la cola queda vacía. Esto garantiza que todos los nodos accesibles desde el nodo inicial hayan sido explorados en su totalidad.\n",
    "```\n",
    "Este procedimiento asegura que el recorrido del grafo se realiza de manera exhaustiva y en amplitud, procesando primero todos los nodos de un nivel antes de pasar al siguiente. El uso de una estructura tipo cola es crucial, ya que mantiene el orden de visita de los nodos de acuerdo con el principio de primero en entrar, primero en salir (FIFO), característico de BFS."
   ]
  },
  {
   "cell_type": "markdown",
   "id": "8ef3f0e8",
   "metadata": {},
   "source": [
    "#### Ejemplo de aplicación"
   ]
  },
  {
   "cell_type": "markdown",
   "id": "84428d87",
   "metadata": {},
   "source": [
    "Dado el grafo de la siguiente imágen:\n",
    "\n",
    "<p float=\"center\">\n",
    "  <img src=\"https://github.com/carlosalvarezh/EstructuraDatosAlgoritmos1/blob/main/Images/BFS_grafos00.png?raw=true\" width=\"500\" />\n",
    "</p>\n",
    "\n",
    "realizar el paso a paso del algoritmo BFS para recorrer dicho grafo.\n",
    "\n",
    "- ***Paso 1:*** Inicialmente, la cola y las matrices visitadas están vacías (imagen anterior).\n",
    "\n",
    "- ***Paso 2:*** inserte el nodo 0 en la cola y márquelo como visitado.\n",
    "<p float=\"center\">\n",
    "  <img src=\"https://github.com/carlosalvarezh/EstructuraDatosAlgoritmos1/blob/main/Images/BFS_grafos01.png?raw=true\" width=\"500\" />\n",
    "</p>\n",
    "\n",
    "- ***Paso 3:*** elimine el nodo 0 del frente de la cola, visite a los vecinos no visitados y empújelos a la cola.\n",
    "\n",
    "<p float=\"center\">\n",
    "  <img src=\"https://github.com/carlosalvarezh/EstructuraDatosAlgoritmos1/blob/main/Images/BFS_grafos02.png?raw=true\" width=\"500\" />\n",
    "</p>\n",
    "\n",
    "- ***Paso 4:*** elimine el nodo 1 del frente de la cola, visite a los vecinos no visitados y empújelos a la cola.\n",
    "\n",
    "<p float=\"center\">\n",
    "  <img src=\"https://github.com/carlosalvarezh/EstructuraDatosAlgoritmos1/blob/main/Images/BFS_grafos03.png?raw=true\" width=\"500\" />\n",
    "</p>\n",
    "\n",
    "- ***Paso 5:*** elimine el nodo 2 del frente de la cola, visite a los vecinos no visitados y empújelos a la cola.\n",
    "\n",
    "<p float=\"center\">\n",
    "  <img src=\"https://github.com/carlosalvarezh/EstructuraDatosAlgoritmos1/blob/main/Images/BFS_grafos04.png?raw=true\" width=\"500\" />\n",
    "</p>\n",
    "\n",
    "- ***Paso 6:*** Elimine el nodo 3 del frente de la cola, visite a los vecinos no visitados y empújelos a la cola. Como podemos ver, se visitan todos los vecinos del nodo 3, así que pase al siguiente nodo que está al frente de la cola.\n",
    "\n",
    "<p float=\"center\">\n",
    "  <img src=\"https://github.com/carlosalvarezh/EstructuraDatosAlgoritmos1/blob/main/Images/BFS_grafos05.png?raw=true\" width=\"500\" />\n",
    "</p>\n",
    "\n",
    "- ***Paso 7:*** Elimine el nodo 4 del frente de la cola, visite a los vecinos no visitados y empújelos a la cola. Como podemos ver, todos los vecinos del nodo 4 son visitados, así que pase al siguiente nodo que está al frente de la cola.\n",
    "\n",
    "<p float=\"center\">\n",
    "  <img src=\"https://github.com/carlosalvarezh/EstructuraDatosAlgoritmos1/blob/main/Images/BFS_grafos06.png?raw=true\" width=\"500\" />\n",
    "</p>\n",
    "\n",
    "Ahora, la cola queda vacía, por lo tanto, finalice este proceso de iteración."
   ]
  },
  {
   "cell_type": "markdown",
   "id": "d1e28a95",
   "metadata": {},
   "source": [
    "#### Código en Python para el algoritmo BFS"
   ]
  },
  {
   "cell_type": "code",
   "execution_count": 11,
   "id": "e835be27",
   "metadata": {
    "scrolled": true
   },
   "outputs": [
    {
     "name": "stdout",
     "output_type": "stream",
     "text": [
      "Recorrido BFS:\n",
      "0 1 2 3 4 "
     ]
    }
   ],
   "source": [
    "from collections import defaultdict\n",
    "\n",
    "# Clase para representar un grafo\n",
    "class Grafo:\n",
    "    def __init__(self):\n",
    "        self.grafo = defaultdict(list)\n",
    "\n",
    "    # Función para agregar una arista al grafo\n",
    "    def agregar_arista(self, u, v):\n",
    "        self.grafo[u].append(v)\n",
    "\n",
    "    # Función para realizar el recorrido BFS\n",
    "    def bfs(self, inicio):\n",
    "        # Verificar que el nodo de inicio es válido\n",
    "        if inicio > max(self.grafo):\n",
    "            print(\"El nodo de inicio es mayor que el nodo máximo en el grafo.\")\n",
    "            return\n",
    "            \n",
    "        # Lista para almacenar los nodos visitados\n",
    "        visitados = [False] * (len(self.grafo) + 1)\n",
    "\n",
    "        # Cola para el recorrido BFS\n",
    "        cola = []\n",
    "\n",
    "        # Marcar el nodo inicial como visitado y agregarlo a la cola\n",
    "        visitados[inicio] = True\n",
    "        cola.append(inicio)\n",
    "\n",
    "        while cola:\n",
    "            # Sacar un nodo de la cola y mostrarlo\n",
    "            nodo = cola.pop(0)\n",
    "            print(nodo, end=\" \")\n",
    "\n",
    "            # Obtener todos los nodos adyacentes al nodo actual\n",
    "            # Si no han sido visitados, marcarlos como visitados y agregarlos a la cola\n",
    "            for adyacente in self.grafo[nodo]:\n",
    "                if not visitados[adyacente]:\n",
    "                    visitados[adyacente] = True\n",
    "                    cola.append(adyacente)\n",
    "\n",
    "# Crear un objeto de la clase Grafo\n",
    "grafo = Grafo()\n",
    "\n",
    "# Agregar las aristas al grafo\n",
    "aristas = [(0, 1), (0, 2), (1, 3), (1, 2), (2, 4), (3, 4)]\n",
    "for u, v in aristas:\n",
    "    grafo.agregar_arista(u, v)\n",
    "\n",
    "# Realizar el recorrido BFS desde el nodo 0\n",
    "print(\"Recorrido BFS:\")\n",
    "if len(grafo.grafo) > 0:\n",
    "    grafo.bfs(0)\n",
    "else:\n",
    "    print(\"El grafo está vacío.\")\n"
   ]
  },
  {
   "cell_type": "markdown",
   "id": "cfd4e2fb",
   "metadata": {},
   "source": [
    "### Búsqueda en profundidad (DFS)"
   ]
  },
  {
   "cell_type": "markdown",
   "id": "b22408a3",
   "metadata": {},
   "source": [
    "#### Introducción"
   ]
  },
  {
   "cell_type": "markdown",
   "id": "4970db42",
   "metadata": {},
   "source": [
    "El DFS en un grafo es similar al DFS en un árbol. El único inconveniente aquí es que, a diferencia de los árboles, los grafos pueden contener ciclos (un nodo puede ser visitado dos veces). Para evitar procesar un nodo más de una vez, se utiliza una matriz booleana visitada. Un grafo puede tener más de un recorrido DFS."
   ]
  },
  {
   "cell_type": "markdown",
   "id": "d11a22ce",
   "metadata": {},
   "source": [
    "#### Ejemplo de recorridos DFS en un mismo grafo"
   ]
  },
  {
   "cell_type": "markdown",
   "id": "4b57b48e",
   "metadata": {},
   "source": [
    "```pseudocode\n",
    "Entrada: n = 4, e = 6  \n",
    "0 -> 1, 0 -> 2, 1 -> 2, 2 -> 0, 2 -> 3, 3 -> 3  \n",
    "Salida: DFS desde el vértice 1: 1 2 0 3  \n",
    "```\n",
    "\n",
    "<p float=\"center\">\n",
    "  <img src=\"https://github.com/carlosalvarezh/EstructuraDatosAlgoritmos1/blob/main/Images/DFS_grafo00.gif?raw=true\" width=\"250\" />\n",
    "</p>\n",
    "\n",
    "```pseudocode\n",
    "Entrada: n = 4, e = 6 \n",
    "2 -> 0, 0 -> 2, 1 -> 2, 0 -> 1, 3 -> 3, 1 -> 3 \n",
    "Salida: DFS desde el vértice 2: 2 0 1 3 \n",
    "```\n",
    "<p float=\"center\">\n",
    "  <img src=\"https://github.com/carlosalvarezh/EstructuraDatosAlgoritmos1/blob/main/Images/DFS_grafo01.gif?raw=true\" width=\"250\" />\n",
    "</p>\n"
   ]
  },
  {
   "cell_type": "markdown",
   "id": "1cf0674a",
   "metadata": {},
   "source": [
    "#### Ejemplo explicado"
   ]
  },
  {
   "cell_type": "markdown",
   "id": "8aafea80",
   "metadata": {},
   "source": [
    "Dado el grafo de la siguiente imágen:\n",
    "\n",
    "<p float=\"center\">\n",
    "  <img src=\"https://github.com/carlosalvarezh/EstructuraDatosAlgoritmos1/blob/main/Images/DFS_grafo02.webp?raw=true\" width=\"500\" />\n",
    "</p>\n",
    "\n",
    "realizar el paso a paso del algoritmo DFS para recorrer dicho grafo.\n",
    "\n",
    "- ***Paso 1:*** Inicialmente, la pila y las matrices visitadas están vacías (imagen anterior)\n",
    "\n",
    "- ***Paso 2:*** visite 0 y coloque sus nodos adyacentes que aún no han sido visitados en la pila.\n",
    "\n",
    "<p float=\"center\">\n",
    "  <img src=\"https://github.com/carlosalvarezh/EstructuraDatosAlgoritmos1/blob/main/Images/DFS_grafo03.webp?raw=true\" width=\"500\" />\n",
    "</p>\n",
    "\n",
    "- ***Paso 3:*** Ahora, el Nodo 1 está en la parte superior de la pila, así que visite el nodo 1, sáquelo de la pila y coloque todos los nodos adyacentes que no se visitan en la pila.\n",
    "\n",
    "<p float=\"center\">\n",
    "  <img src=\"https://github.com/carlosalvarezh/EstructuraDatosAlgoritmos1/blob/main/Images/DFS_grafo04.webp?raw=true\" width=\"500\" />\n",
    "</p>\n",
    "\n",
    "- ***Paso 4:*** Ahora, el Nodo 2 está en la parte superior de la pila, así que visite el nodo 2, sáquelo de la pila y coloque todos sus nodos adyacentes que no sean visitados (es decir, 3, 4) en la pila.\n",
    "\n",
    "<p float=\"center\">\n",
    "  <img src=\"https://github.com/carlosalvarezh/EstructuraDatosAlgoritmos1/blob/main/Images/DFS_grafo05.webp?raw=true\" width=\"500\" />\n",
    "</p>\n",
    "\n",
    "- ***Paso 5:*** Ahora, el nodo 4 está en la parte superior de la pila, así que visite el nodo 4, sáquelo de la pila y coloque todos los nodos adyacentes que no se visitan en la pila.\n",
    "\n",
    "<p float=\"center\">\n",
    "  <img src=\"https://github.com/carlosalvarezh/EstructuraDatosAlgoritmos1/blob/main/Images/DFS_grafo06.webp?raw=true\" width=\"500\" />\n",
    "</p>\n",
    "\n",
    "- ***Paso 6:*** Ahora, el nodo 3 está en la parte superior de la pila, así que visite el nodo 3, sáquelo de la pila y coloque todos los nodos adyacentes que no se visitan en la pila.\n",
    "\n",
    "<p float=\"center\">\n",
    "  <img src=\"https://github.com/carlosalvarezh/EstructuraDatosAlgoritmos1/blob/main/Images/DFS_grafo07.webp?raw=true\" width=\"500\" />\n",
    "</p>\n",
    "\n",
    "Ahora, la pila queda vacía, lo que significa que hemos visitado todos los nodos y nuestro recorrido DFS finaliza."
   ]
  },
  {
   "cell_type": "code",
   "execution_count": null,
   "id": "7a439fa8",
   "metadata": {},
   "outputs": [],
   "source": []
  }
 ],
 "metadata": {
  "kernelspec": {
   "display_name": "Python 3 (ipykernel)",
   "language": "python",
   "name": "python3"
  },
  "language_info": {
   "codemirror_mode": {
    "name": "ipython",
    "version": 3
   },
   "file_extension": ".py",
   "mimetype": "text/x-python",
   "name": "python",
   "nbconvert_exporter": "python",
   "pygments_lexer": "ipython3",
   "version": "3.11.8"
  },
  "toc": {
   "base_numbering": 1,
   "nav_menu": {},
   "number_sections": true,
   "sideBar": true,
   "skip_h1_title": true,
   "title_cell": "Table of Contents",
   "title_sidebar": "Contents",
   "toc_cell": false,
   "toc_position": {
    "height": "calc(100% - 180px)",
    "left": "10px",
    "top": "150px",
    "width": "256px"
   },
   "toc_section_display": true,
   "toc_window_display": false
  }
 },
 "nbformat": 4,
 "nbformat_minor": 5
}
