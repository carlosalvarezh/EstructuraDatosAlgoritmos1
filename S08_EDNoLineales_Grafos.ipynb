{
 "cells": [
  {
   "cell_type": "markdown",
   "id": "49993bb6",
   "metadata": {},
   "source": [
    "<h1 align=\"center\">Estructura de Datos y Algoritmos I</h1>\n",
    "<h1 align=\"center\">Estructuras de Datos No Lineales - Grafos</h1>\n",
    "<h1 align=\"center\">2024</h1>\n",
    "<h1 align=\"center\">MEDELLÍN - COLOMBIA </h1>"
   ]
  },
  {
   "cell_type": "markdown",
   "id": "8d4f8ebf",
   "metadata": {},
   "source": [
    "*** \n",
    "|[![Outlook](https://img.shields.io/badge/Microsoft_Outlook-0078D4?style=plastic&logo=microsoft-outlook&logoColor=white)](mailto:calvar52@eafit.edu.co)||[![Open In Colab](https://colab.research.google.com/assets/colab-badge.svg)](https://colab.research.google.com/github/carlosalvarezh/EstructuraDatosAlgoritmos1/blob/main/S08_EDNoLineales_Grafos.ipynb)\n",
    "|-:|:-|--:|\n",
    "|[![LinkedIn](https://img.shields.io/badge/linkedin-%230077B5.svg?style=plastic&logo=linkedin&logoColor=white)](https://www.linkedin.com/in/carlosalvarez5/)|[![@alvarezhenao](https://img.shields.io/twitter/url/https/twitter.com/alvarezhenao.svg?style=social&label=Follow%20%40alvarezhenao)](https://twitter.com/alvarezhenao)|[![@carlosalvarezh](https://img.shields.io/badge/github-%23121011.svg?style=plastic&logo=github&logoColor=white)](https://github.com/carlosalvarezh)|\n",
    "\n",
    "<table>\n",
    " <tr align=left><td><img align=left src=\"https://github.com/carlosalvarezh/Curso_CEC_EAFIT/blob/main/images/CCLogoColorPop1.gif?raw=true\" width=\"25\">\n",
    " <td>Text provided under a Creative Commons Attribution license, CC-BY. All code is made available under the FSF-approved MIT license.(c) Carlos Alberto Alvarez Henao</td>\n",
    "</table>\n",
    "\n",
    "***"
   ]
  },
  {
   "cell_type": "markdown",
   "id": "43b9ef7e",
   "metadata": {},
   "source": [
    "# Estructuras de Datos No Lineales - Grafos"
   ]
  },
  {
   "cell_type": "markdown",
   "id": "0c868296",
   "metadata": {},
   "source": [
    "<p float=\"center\">\n",
    "  <img src=\"https://github.com/carlosalvarezh/EstructuraDatosAlgoritmos1/blob/main/Images/DataStuctureClassification1.PNG?raw=true\" width=\"350\" />\n",
    "</p>\n",
    "<p style=\"text-align: center;\">\n",
    "    <strong>Fuente:</strong> Elaboración propia.\n",
    "</p>"
   ]
  },
  {
   "cell_type": "markdown",
   "id": "21bb9f3f",
   "metadata": {},
   "source": [
    "## Introducción a los Grafos: Contexto Histórico y Estado del Arte"
   ]
  },
  {
   "cell_type": "markdown",
   "id": "f404cf2d",
   "metadata": {},
   "source": [
    "<p float=\"center\">\n",
    "  <img src=\"https://github.com/carlosalvarezh/EstructuraDatosAlgoritmos1/blob/main/Images/Grafos00.PNG?raw=true\" width=\"500\" />\n",
    "</p>\n",
    "<p style=\"text-align: center;\">\n",
    "    <strong>Fuente:</strong> GoogleMaps.\n",
    "</p>"
   ]
  },
  {
   "cell_type": "markdown",
   "id": "e28fd3f0",
   "metadata": {},
   "source": [
    "### Orígenes Históricos"
   ]
  },
  {
   "cell_type": "markdown",
   "id": "ec3d78b3",
   "metadata": {},
   "source": [
    "La [teoría de grafos](https://en.wikipedia.org/wiki/Graph_theory), como estructura de datos y concepto matemático, tienen su origen en el siglo XVIII. El problema de [los 7 Puentes de Königsberg](https://en.wikipedia.org/wiki/Seven_Bridges_of_K%C3%B6nigsberg), presentado por [Leonhard Euler](https://en.wikipedia.org/wiki/Leonhard_Euler) en 1736, es a menudo considerado el nacimiento de la teoría de grafos. *Euler* se preguntaba si era posible caminar por la ciudad de *Königsberg* y cruzar sus siete puentes una vez y solo una vez. La solución de *Euler*, demostrando que no era posible, sentó las bases para la teoría de grafos.\n",
    "\n",
    "<p float=\"center\">\n",
    "  <img src=\"https://github.com/carlosalvarezh/EstructuraDatosAlgoritmos1/blob/main/Images/Grafos01.PNG?raw=true\" width=\"250\" />\n",
    "</p>\n",
    "<p style=\"text-align: center;\">\n",
    "    <strong>Fuente:</strong> Wikipedia.\n",
    "</p>\n",
    "\n",
    "Este problema llevó a la formulación de conceptos fundamentales en grafos, como vértices, aristas y la idea de conectar nodos de manera que se puedan formar estructuras más complejas. Desde entonces, la teoría de grafos ha evolucionado significativamente, integrándose en numerosas disciplinas como la matemática, la informática, la física, la sociología, y la biología.\n",
    "\n",
    "<p float=\"center\">\n",
    "  <img src=\"https://github.com/carlosalvarezh/EstructuraDatosAlgoritmos1/blob/main/Images/Grafos02.PNG?raw=true\" width=\"500\" />\n",
    "</p>\n",
    "<p style=\"text-align: center;\">\n",
    "    <strong>Fuente:</strong> Wikipedia.\n",
    "</p>"
   ]
  },
  {
   "cell_type": "markdown",
   "id": "4ec8388e",
   "metadata": {},
   "source": [
    "### Desarrollo y Avances Modernos"
   ]
  },
  {
   "cell_type": "markdown",
   "id": "c64c382a",
   "metadata": {},
   "source": [
    "En el siglo XX, con el avance de la computación, los grafos ganaron una nueva dimensión de relevancia. El desarrollo de algoritmos para grafos, como el [algoritmo de Dijkstra](https://en.wikipedia.org/wiki/Dijkstra%27s_algorithm) para el camino más corto, el [algoritmo de Kruskal y Prim](https://en.wikipedia.org/wiki/Kruskal%27s_algorithm) para árboles de expansión mínima, y los [algoritmos de búsqueda en profundidad y en amplitud](https://en.wikipedia.org/wiki/Breadth-first_search), se convirtieron en áreas de estudio fundamentales en ciencias de la computación.\n",
    "\n",
    "El estado del arte actual en grafos abarca tanto su estudio teórico como aplicaciones prácticas. Con la aparición de grandes conjuntos de datos y la necesidad de analizar relaciones complejas (como las redes sociales), los grafos se han vuelto herramientas indispensables. Se han desarrollado estructuras y algoritmos más eficientes para manejar grafos de gran escala, como grafos dispersos y bases de datos de grafos. Además, la inteligencia artificial y el aprendizaje automático han encontrado en los grafos un medio para modelar y resolver problemas complejos de optimización y reconocimiento de patrones."
   ]
  },
  {
   "cell_type": "markdown",
   "id": "8b963ebe",
   "metadata": {},
   "source": [
    "### Aplicaciones Actuales y Futuras"
   ]
  },
  {
   "cell_type": "markdown",
   "id": "e0bbdceb",
   "metadata": {},
   "source": [
    "- **Redes Sociales y Análisis de Redes**: Los grafos son fundamentales para analizar las complejas interacciones sociales y de redes.\n",
    "<p>&nbsp;</p>\n",
    "\n",
    "- **Biología Computacional**: Utilizados para modelar estructuras moleculares y redes genéticas.\n",
    "<p>&nbsp;</p>\n",
    "\n",
    "- **Optimización de Rutas y Logística**: Aplicados en la planificación de rutas para la entrega de mercancías y en sistemas de navegación GPS.\n",
    "<p>&nbsp;</p>\n",
    "\n",
    "- **Internet y Redes de Comunicación**: Fundamental en la estructura de la web y en el análisis de la red de internet.\n",
    "<p>&nbsp;</p>\n",
    "\n",
    "- **Teoría de Grafos en Física y Química**: Para modelar átomos en moléculas y en la física de partículas.\n",
    "<p>&nbsp;</p>\n",
    "\n",
    "- **Computación Cuántica**: Los grafos desempeñan un papel en el diseño y análisis de algoritmos cuánticos."
   ]
  },
  {
   "cell_type": "markdown",
   "id": "71731102",
   "metadata": {},
   "source": [
    "### Árboles vs Grafos"
   ]
  },
  {
   "cell_type": "markdown",
   "id": "e94b5096",
   "metadata": {},
   "source": [
    "<p float=\"center\">\n",
    "  <img src=\"https://github.com/carlosalvarezh/EstructuraDatosAlgoritmos1/blob/main/Images/Grafos14.jpg?raw=true\" width=\"350\" />\n",
    "</p>\n",
    "<p style=\"text-align: center;\">\n",
    "    <strong>Fuente:</strong> geeksforgeeks.org.\n",
    "</p>\n",
    "\n",
    "\n",
    "| **Característica**     | **Árboles**                                                               | **Grafos**                                                                   |\n",
    "|------------------------|---------------------------------------------------------------------------|------------------------------------------------------------------------------|\n",
    "| **Definición**         | Un tipo especial de grafo no dirigido y conectado sin ciclos.             | Colección de vértices y aristas que pueden formar estructuras con ciclos.   |\n",
    "| **Jerarquía**          | Estructura jerárquica con un nodo raíz y una relación padre-hijo clara.   | No tienen una jerarquía inherente; cualquier nodo puede estar conectado con cualquier otro. |\n",
    "| **Ciclos**             | No tienen ciclos. Cada dos nodos están conectados por exactamente un camino. | Pueden tener ciclos y múltiples caminos entre nodos.                        |\n",
    "| **Tipos de Conexión**  | Conexiones unidireccionales siguiendo la jerarquía padre-hijo.            | Conexiones pueden ser unidireccionales o bidireccionales (en grafos dirigidos y no dirigidos). |\n",
    "| **Tipos**              | Solo un tipo principal, con variantes (como árbol binario, AVL, etc.).    | Variados, incluyendo dirigidos, no dirigidos, ponderados, multigrafos, etc. |\n",
    "| **Relaciones**         | Relaciones lineales y unidireccionales.                                   | Relaciones más complejas y posiblemente bidireccionales.                    |\n",
    "| **Usos**               | Modelado de jerarquías y estructuras con una sola vía de acceso.          | Modelado de redes y estructuras con múltiples vías de interconexión.        |\n",
    "| **Ejemplos**           | Árboles de decisión, árboles genealógicos, árboles de sintaxis.           | Redes sociales, mapas, grafos de dependencias en software.                  |"
   ]
  },
  {
   "cell_type": "markdown",
   "id": "fba0bc18",
   "metadata": {},
   "source": [
    "## Grafos"
   ]
  },
  {
   "cell_type": "markdown",
   "id": "50e52b0b",
   "metadata": {},
   "source": [
    "### Definición"
   ]
  },
  {
   "cell_type": "markdown",
   "id": "cf17bd87",
   "metadata": {},
   "source": [
    "<p float=\"center\">\n",
    "  <img src=\"https://github.com/carlosalvarezh/EstructuraDatosAlgoritmos1/blob/main/Images/Grafos04.PNG?raw=true\" width=\"500\" />\n",
    "</p>\n",
    "<p style=\"text-align: center;\">\n",
    "    <strong>Fuente:</strong> geeksforgeeks.org.\n",
    "</p>\n",
    "\n",
    "Los grafos son una estructura de datos que consiste en una colección de nodos conectados por aristas (*edges*). Se utiliza para representar relaciones entre diferentes entidades. Los algoritmos de grafos son métodos utilizados para manipular y analizar grafos, resolviendo diversos problemas como encontrar el camino más corto o detectar ciclos.\n",
    "\n",
    "Un grafo $G$ se define matemáticamente como un par ordenado de dos conjuntos, $G = (V, E)$, donde:\n",
    "\n",
    "- $V$ representa el conjunto de vértices o nodos. Los vértices pueden ser cualquier cosa: personas en una red social, ciudades en un mapa, o estaciones en una red de transporte.\n",
    "<p>&nbsp;</p>\n",
    "\n",
    "- $E$ es el conjunto de aristas o bordes, que representan las relaciones o conexiones entre los vértices. En el contexto de un mapa, por ejemplo, una arista podría representar una carretera que conecta dos ciudades.\n",
    "\n",
    "Esta definición básica se expande para abarcar varios tipos y propiedades:"
   ]
  },
  {
   "cell_type": "markdown",
   "id": "6da5eb82",
   "metadata": {},
   "source": [
    "### Tipos de Grafos"
   ]
  },
  {
   "cell_type": "markdown",
   "id": "1c288e21",
   "metadata": {},
   "source": [
    "Por supuesto, aquí tienes las traducciones:\n",
    "\n",
    "- **Grafo Nulo:** Un grafo se conoce como grafo nulo si no hay aristas en el grafo.\n",
    "\n",
    "<p float=\"center\">\n",
    "  <img src=\"https://github.com/carlosalvarezh/EstructuraDatosAlgoritmos1/blob/main/Images/Grafos05.PNG?raw=true\" width=\"150\" />\n",
    "</p>\n",
    "\n",
    "- **Grafo Trivial:** Grafo que tiene solo un vértice, es también el grafo más pequeño posible.\n",
    "\n",
    "<p float=\"center\">\n",
    "  <img src=\"https://github.com/carlosalvarezh/EstructuraDatosAlgoritmos1/blob/main/Images/Grafos06.PNG?raw=true\" width=\"70\" />\n",
    "</p>\n",
    "\n",
    "- **Grafo No Dirigido:** Un grafo en el que las aristas no tienen dirección. Es decir, los nodos son pares no ordenados en la definición de cada arista.\n",
    "\n",
    "<p float=\"center\">\n",
    "  <img src=\"https://github.com/carlosalvarezh/EstructuraDatosAlgoritmos1/blob/main/Images/Grafos07.PNG?raw=true\" width=\"150\" />\n",
    "</p>\n",
    "\n",
    "- **Grafo Dirigido:** Un grafo en el que cada arista tiene dirección. Es decir, los nodos son pares ordenados en la definición de cada arista.\n",
    "\n",
    "<p float=\"center\">\n",
    "  <img src=\"https://github.com/carlosalvarezh/EstructuraDatosAlgoritmos1/blob/main/Images/Grafos08.PNG?raw=true\" width=\"150\" />\n",
    "</p>\n",
    "\n",
    "- **Grafo Conectado:** El grafo en el que desde un nodo se puede visitar cualquier otro nodo en el grafo se conoce como grafo conectado.\n",
    "\n",
    "<p float=\"center\">\n",
    "  <img src=\"https://github.com/carlosalvarezh/EstructuraDatosAlgoritmos1/blob/main/Images/Grafos07.PNG?raw=true\" width=\"150\" />\n",
    "</p>\n",
    "\n",
    "- **Grafo Desconectado:** El grafo en el que al menos un nodo no es alcanzable desde un nodo se conoce como grafo desconectado.\n",
    "\n",
    "<p float=\"center\">\n",
    "  <img src=\"https://github.com/carlosalvarezh/EstructuraDatosAlgoritmos1/blob/main/Images/Grafos09.PNG?raw=true\" width=\"150\" />\n",
    "</p>\n",
    "\n",
    "- **Grafo Regular:** El grafo en el que el grado de cada vértice es igual a K se llama grafo regular K.\n",
    "\n",
    "<p float=\"center\">\n",
    "  <img src=\"https://github.com/carlosalvarezh/EstructuraDatosAlgoritmos1/blob/main/Images/Grafos07.PNG?raw=true\" width=\"150\" />\n",
    "</p>\n",
    "\n",
    "- **Grafo Completo:** El grafo en el que desde cada nodo hay una arista hacia cada otro nodo.\n",
    "\n",
    "<p float=\"center\">\n",
    "  <img src=\"https://github.com/carlosalvarezh/EstructuraDatosAlgoritmos1/blob/main/Images/Grafos10.PNG?raw=true\" width=\"150\" />\n",
    "</p>\n",
    "\n",
    "- **Grafo de Ciclo:** El grafo en el que el grafo es un ciclo en sí mismo, el grado de cada vértice es 2.\n",
    "\n",
    "<p float=\"center\">\n",
    "  <img src=\"https://github.com/carlosalvarezh/EstructuraDatosAlgoritmos1/blob/main/Images/Grafos07.PNG?raw=true\" width=\"150\" />\n",
    "</p>\n",
    "\n",
    "- **Grafo Cíclico:** Un grafo que contiene al menos un ciclo se conoce como grafo cíclico.\n",
    "\n",
    "<p float=\"center\">\n",
    "  <img src=\"https://github.com/carlosalvarezh/EstructuraDatosAlgoritmos1/blob/main/Images/Grafos11.PNG?raw=true\" width=\"150\" />\n",
    "</p>\n",
    "\n",
    "- **Grafo Acíclico Dirigido:** Un Grafo Dirigido que no contiene ningún ciclo.\n",
    "\n",
    "<p float=\"center\">\n",
    "  <img src=\"https://github.com/carlosalvarezh/EstructuraDatosAlgoritmos1/blob/main/Images/Grafos12.PNG?raw=true\" width=\"150\" />\n",
    "</p>\n",
    "\n",
    "- **Grafo Bipartito:** Un grafo en el que los vértices se pueden dividir en dos conjuntos de manera que los vértices en cada conjunto no contengan ninguna arista entre ellos.\n",
    "\n",
    "<p float=\"center\">\n",
    "  <img src=\"https://github.com/carlosalvarezh/EstructuraDatosAlgoritmos1/blob/main/Images/Grafos13.PNG?raw=true\" width=\"150\" />\n",
    "</p>\n",
    "\n",
    "- **Grafo Ponderado:** Un grafo en el que las aristas ya están especificadas con un peso adecuado se conoce como grafo ponderado. Los grafos ponderados pueden clasificarse además en grafos ponderados dirigidos y grafos ponderados no dirigidos."
   ]
  },
  {
   "cell_type": "markdown",
   "id": "4f06b3a8",
   "metadata": {},
   "source": [
    "### Representación de grafos"
   ]
  },
  {
   "cell_type": "markdown",
   "id": "461a546f",
   "metadata": {},
   "source": [
    "Los grafos pueden representarse en una computadora de varias maneras, siendo las más comunes la **Matriz de Adyacencia** y la **Lista de Adyacencia**. Cada método tiene sus propias ventajas y desventajas, dependiendo del tipo de operaciones que se necesitan realizar y las características del grafo (como su densidad)."
   ]
  },
  {
   "cell_type": "markdown",
   "id": "e3a1d574",
   "metadata": {},
   "source": [
    "#### Matriz de Adyacencia"
   ]
  },
  {
   "cell_type": "markdown",
   "id": "98b98d12",
   "metadata": {},
   "source": [
    "Una matriz de adyacencia es una matriz cuadrada que se utiliza para representar un grafo. Las filas y columnas de la matriz corresponden a los vértices del grafo. Si existe una arista entre dos vértices, el valor en la celda correspondiente se establece en `1` (o el peso de la arista, en el caso de grafos ponderados); de lo contrario, se establece en `0`.\n",
    "\n",
    "**Ventajas**:\n",
    "- Representación simple y directa de la estructura del grafo.\n",
    "- Facilita operaciones como determinar si hay una arista entre dos vértices.\n",
    "\n",
    "**Desventajas**:\n",
    "- Ineficiente en términos de espacio para grafos dispersos (grafos con pocas aristas en relación con el número de vértices).\n",
    "- Puede llevar a un uso innecesario de memoria y tiempo de procesamiento.\n",
    "\n",
    "**Ejemplo**:\n",
    "Consideremos un grafo con 4 vértices como el de la figura.\n",
    "\n",
    "<p float=\"center\">\n",
    "  <img src=\"https://github.com/carlosalvarezh/EstructuraDatosAlgoritmos1/blob/main/Images/Grafos15.PNG?raw=true\" width=\"150\" />\n",
    "</p>\n",
    "\n",
    "\n",
    "La matriz de adyacencia sería:\n",
    "\n",
    "|   | A | B | C | D |\n",
    "|---|---|---|---|---|\n",
    "| A | 0 | 1 | 1 | 0 |\n",
    "| B | 1 | 0 | 1 | 0 |\n",
    "| C | 1 | 1 | 0 | 1 |\n",
    "| D | 0 | 0 | 1 | 0 |\n"
   ]
  },
  {
   "cell_type": "markdown",
   "id": "7b8d002c",
   "metadata": {},
   "source": [
    "#### Lista de Adyacencia"
   ]
  },
  {
   "cell_type": "markdown",
   "id": "aa47e455",
   "metadata": {},
   "source": [
    "Una lista de adyacencia es una colección de listas o conjuntos, una para cada vértice en el grafo. Cada lista contiene los vértices adyacentes (es decir, directamente conectados) a ese vértice.\n",
    "\n",
    "**Ventajas**:\n",
    "- Eficiente en términos de espacio para grafos dispersos.\n",
    "- Permite un acceso más rápido a los vecinos de un vértice.\n",
    "\n",
    "**Desventajas**:\n",
    "- Determinar si hay una arista entre dos vértices específicos puede ser menos eficiente que con la matriz de adyacencia.\n",
    "- La estructura de datos es ligeramente más compleja.\n",
    "\n",
    "**Ejemplo**:\n",
    "Usando el mismo grafo del ejemplo anterior, la lista de adyacencia sería:\n",
    "\n",
    "```pseudocode\n",
    "A --> [B, C]\n",
    "B --> [A, C]\n",
    "C --> [A, B, D]\n",
    "D --> [B]\n",
    "```"
   ]
  },
  {
   "cell_type": "markdown",
   "id": "3ff02bcf",
   "metadata": {},
   "source": [
    "#### Matriz de adyacencia vs Lista de adyacencia"
   ]
  },
  {
   "cell_type": "markdown",
   "id": "07a5d00f",
   "metadata": {},
   "source": [
    "Al comparar la complejidad algorítmica de la matriz de adyacencia y la lista de adyacencia para representar grafos, es importante considerar las diferentes operaciones que se pueden realizar sobre los grafos, como agregar o eliminar aristas, verificar si existe una conexión entre dos vértices, y recorrer el grafo. A continuación se presentan las operaciones más comunes:\n",
    "\n",
    "- **Agregar un Vértice:** Añadir un nuevo vértice al grafo.\n",
    "   - **Complejidad**:\n",
    "     - En una **lista de adyacencia**, es una operación $O(1)$, ya que simplemente se añade una nueva lista para el nuevo vértice.\n",
    "     - En una **matriz de adyacencia**, puede ser más costoso, $O(V^2)$, debido a la necesidad de aumentar el tamaño de la matriz.\n",
    "<p>&nbsp;</p>\n",
    "\n",
    "- **Eliminar un Vértice:** Eliminar un vértice existente y todas sus aristas asociadas.\n",
    "   - **Complejidad**:\n",
    "     - En una **lista de adyacencia**, es $O(V + E)$, ya que se debe eliminar el vértice y actualizar todas las listas que contienen ese vértice.\n",
    "     - En una **matriz de adyacencia**, también es $O(V^2)$, por la reestructuración necesaria de la matriz.\n",
    "<p>&nbsp;</p>\n",
    "\n",
    "- **Agregar una Arista:** Conectar dos vértices con una arista.\n",
    "   - **Complejidad**:\n",
    "     - En una **lista de adyacencia**, es $O(1)$, simplemente añadiendo el vértice destino a la lista del vértice origen.\n",
    "     - En una **matriz de adyacencia**, es $O(1)$, actualizando el valor de la celda correspondiente.\n",
    "<p>&nbsp;</p>\n",
    "\n",
    "- **Eliminar una Arista:** Remover la conexión entre dos vértices.\n",
    "   - **Complejidad**:\n",
    "     - En una **lista de adyacencia**, puede ser hasta $O(V)$, buscando y eliminando el vértice destino de la lista del vértice origen.\n",
    "     - En una **matriz de adyacencia**, es $O(1)$, estableciendo el valor de la celda correspondiente a 0 o infinito.\n",
    "<p>&nbsp;</p>\n",
    "\n",
    "- **Verificar si Dos Vértices están Conectados:** Determinar si existe una arista entre dos vértices específicos.\n",
    "   - **Complejidad**:\n",
    "     - En una **lista de adyacencia**, puede ser hasta $O(V)$, buscando en la lista.\n",
    "     - En una **matriz de adyacencia**, es $O(1)$.\n",
    "<p>&nbsp;</p>\n",
    "\n",
    "- **Encontrar el Grado de un Vértice:** Calcular el número de aristas conectadas a un vértice.\n",
    "   - **Complejidad**:\n",
    "     - En una **lista de adyacencia**, es $O(1)$ si se mantiene un contador de grado, o $O(deg(V))$ si se cuenta cada vez.\n",
    "     - En una **matriz de adyacencia**, es $O(V)$, sumando las conexiones en la fila/columna correspondiente.\n",
    "<p>&nbsp;</p>\n",
    "\n",
    "- **Recorrido del Grafo (BFS y DFS):** Explorar el grafo, ya sea en amplitud (BFS) o profundidad (DFS).\n",
    "   - **Complejidad**:\n",
    "     - Tanto para **lista de adyacencia** como para **matriz de adyacencia**, es $O(V + E)$, aunque en la práctica, la lista de adyacencia es más eficiente para grafos dispersos.\n",
    "\n",
    "A manera de resumen se deja la siguiente tabla para una consulta rápida:\n",
    "\n",
    "| Operación                          | Matriz de Adyacencia | Lista de Adyacencia |\n",
    "|------------------------------------|----------------------|---------------------|\n",
    "| **Espacio de Almacenamiento**      | $$O(V^2)$$           | $$O(V + E)$$        |\n",
    "| **Agregar Arista**                 | $$O(1)$$             | $$O(1)$$            |\n",
    "| **Eliminar Arista**                | $$O(1)$$             | $$O(V)$$            |\n",
    "| **Verificar Conexión**             | $$O(1)$$             | $$O(V)$$            |\n",
    "| **Recorrer Vecinos de un Vértice** | $$O(V)$$             | $$O(deg(V))$$       |\n",
    "| **Recorrido del Grafo (BFS, DFS)** | $$O(V^2)$$           | $$O(V + E)$$        |\n",
    "\n",
    "- **$V$**: Número de vértices\n",
    "- **$E$**: Número de aristas\n",
    "- **$deg(V)$**: Grado del vértice $V$ (número de vecinos)"
   ]
  },
  {
   "cell_type": "markdown",
   "id": "977f93eb",
   "metadata": {},
   "source": []
  },
  {
   "cell_type": "code",
   "execution_count": null,
   "id": "8f17fcdc",
   "metadata": {},
   "outputs": [],
   "source": []
  }
 ],
 "metadata": {
  "kernelspec": {
   "display_name": "Python 3 (ipykernel)",
   "language": "python",
   "name": "python3"
  },
  "language_info": {
   "codemirror_mode": {
    "name": "ipython",
    "version": 3
   },
   "file_extension": ".py",
   "mimetype": "text/x-python",
   "name": "python",
   "nbconvert_exporter": "python",
   "pygments_lexer": "ipython3",
   "version": "3.11.8"
  },
  "toc": {
   "base_numbering": 1,
   "nav_menu": {},
   "number_sections": true,
   "sideBar": true,
   "skip_h1_title": true,
   "title_cell": "Table of Contents",
   "title_sidebar": "Contents",
   "toc_cell": false,
   "toc_position": {
    "height": "calc(100% - 180px)",
    "left": "10px",
    "top": "150px",
    "width": "256px"
   },
   "toc_section_display": true,
   "toc_window_display": false
  }
 },
 "nbformat": 4,
 "nbformat_minor": 5
}
