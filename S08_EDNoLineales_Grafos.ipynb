{
 "cells": [
  {
   "cell_type": "markdown",
   "id": "49993bb6",
   "metadata": {},
   "source": [
    "<h1 align=\"center\">Estructura de Datos y Algoritmos I</h1>\n",
    "<h1 align=\"center\">Estructuras de Datos No Lineales - Grafos</h1>\n",
    "<h1 align=\"center\">2024</h1>\n",
    "<h1 align=\"center\">MEDELLÍN - COLOMBIA </h1>"
   ]
  },
  {
   "cell_type": "markdown",
   "id": "8d4f8ebf",
   "metadata": {},
   "source": [
    "*** \n",
    "|[![Outlook](https://img.shields.io/badge/Microsoft_Outlook-0078D4?style=plastic&logo=microsoft-outlook&logoColor=white)](mailto:calvar52@eafit.edu.co)||[![Open In Colab](https://colab.research.google.com/assets/colab-badge.svg)](https://colab.research.google.com/github/carlosalvarezh/EstructuraDatosAlgoritmos1/blob/main/S08_EDNoLineales_Grafos.ipynb)\n",
    "|-:|:-|--:|\n",
    "|[![LinkedIn](https://img.shields.io/badge/linkedin-%230077B5.svg?style=plastic&logo=linkedin&logoColor=white)](https://www.linkedin.com/in/carlosalvarez5/)|[![@alvarezhenao](https://img.shields.io/twitter/url/https/twitter.com/alvarezhenao.svg?style=social&label=Follow%20%40alvarezhenao)](https://twitter.com/alvarezhenao)|[![@carlosalvarezh](https://img.shields.io/badge/github-%23121011.svg?style=plastic&logo=github&logoColor=white)](https://github.com/carlosalvarezh)|\n",
    "\n",
    "<table>\n",
    " <tr align=left><td><img align=left src=\"https://github.com/carlosalvarezh/Curso_CEC_EAFIT/blob/main/images/CCLogoColorPop1.gif?raw=true\" width=\"25\">\n",
    " <td>Text provided under a Creative Commons Attribution license, CC-BY. All code is made available under the FSF-approved MIT license.(c) Carlos Alberto Alvarez Henao</td>\n",
    "</table>\n",
    "\n",
    "***"
   ]
  },
  {
   "cell_type": "markdown",
   "id": "43b9ef7e",
   "metadata": {},
   "source": [
    "# Estructuras de Datos No Lineales - Grafos"
   ]
  },
  {
   "cell_type": "markdown",
   "id": "0c868296",
   "metadata": {},
   "source": [
    "<p float=\"center\">\n",
    "  <img src=\"https://github.com/carlosalvarezh/EstructuraDatosAlgoritmos1/blob/main/Images/DataStuctureClassification1.PNG?raw=true\" width=\"350\" />\n",
    "</p>\n",
    "<p style=\"text-align: center;\">\n",
    "    <strong>Fuente:</strong> Elaboración propia.\n",
    "</p>"
   ]
  },
  {
   "cell_type": "markdown",
   "id": "21bb9f3f",
   "metadata": {},
   "source": [
    "## Introducción a los Grafos: Contexto Histórico y Estado del Arte"
   ]
  },
  {
   "cell_type": "markdown",
   "id": "f404cf2d",
   "metadata": {},
   "source": [
    "<p float=\"center\">\n",
    "  <img src=\"https://github.com/carlosalvarezh/EstructuraDatosAlgoritmos1/blob/main/Images/Grafos00.PNG?raw=true\" width=\"500\" />\n",
    "</p>\n",
    "<p style=\"text-align: center;\">\n",
    "    <strong>Fuente:</strong> GoogleMaps.\n",
    "</p>"
   ]
  },
  {
   "cell_type": "markdown",
   "id": "e28fd3f0",
   "metadata": {},
   "source": [
    "### Orígenes Históricos"
   ]
  },
  {
   "cell_type": "markdown",
   "id": "ec3d78b3",
   "metadata": {},
   "source": [
    "La [teoría de grafos](https://en.wikipedia.org/wiki/Graph_theory), como estructura de datos y concepto matemático, tienen su origen en el siglo XVIII. El problema de [los 7 Puentes de Königsberg](https://en.wikipedia.org/wiki/Seven_Bridges_of_K%C3%B6nigsberg), presentado por [Leonhard Euler](https://en.wikipedia.org/wiki/Leonhard_Euler) en 1736, es a menudo considerado el nacimiento de la teoría de grafos. *Euler* se preguntaba si era posible caminar por la ciudad de *Königsberg* y cruzar sus siete puentes una vez y solo una vez. La solución de *Euler*, demostrando que no era posible, sentó las bases para la teoría de grafos.\n",
    "\n",
    "<p float=\"center\">\n",
    "  <img src=\"https://github.com/carlosalvarezh/EstructuraDatosAlgoritmos1/blob/main/Images/Grafos01.PNG?raw=true\" width=\"250\" />\n",
    "</p>\n",
    "<p style=\"text-align: center;\">\n",
    "    <strong>Fuente:</strong> Wikipedia.\n",
    "</p>\n",
    "\n",
    "Este problema llevó a la formulación de conceptos fundamentales en grafos, como vértices, aristas y la idea de conectar nodos de manera que se puedan formar estructuras más complejas. Desde entonces, la teoría de grafos ha evolucionado significativamente, integrándose en numerosas disciplinas como la matemática, la informática, la física, la sociología, y la biología.\n",
    "\n",
    "<p float=\"center\">\n",
    "  <img src=\"https://github.com/carlosalvarezh/EstructuraDatosAlgoritmos1/blob/main/Images/Grafos02.PNG?raw=true\" width=\"500\" />\n",
    "</p>\n",
    "<p style=\"text-align: center;\">\n",
    "    <strong>Fuente:</strong> Wikipedia.\n",
    "</p>"
   ]
  },
  {
   "cell_type": "markdown",
   "id": "4ec8388e",
   "metadata": {},
   "source": [
    "### Desarrollo y Avances Modernos"
   ]
  },
  {
   "cell_type": "markdown",
   "id": "c64c382a",
   "metadata": {},
   "source": [
    "En el siglo XX, con el avance de la computación, los grafos ganaron una nueva dimensión de relevancia. El desarrollo de algoritmos para grafos, como el [algoritmo de Dijkstra](https://en.wikipedia.org/wiki/Dijkstra%27s_algorithm) para el camino más corto, el [algoritmo de Kruskal y Prim](https://en.wikipedia.org/wiki/Kruskal%27s_algorithm) para árboles de expansión mínima, y los [algoritmos de búsqueda en profundidad y en amplitud](https://en.wikipedia.org/wiki/Breadth-first_search), se convirtieron en áreas de estudio fundamentales en ciencias de la computación.\n",
    "\n",
    "El estado del arte actual en grafos abarca tanto su estudio teórico como aplicaciones prácticas. Con la aparición de grandes conjuntos de datos y la necesidad de analizar relaciones complejas (como las redes sociales), los grafos se han vuelto herramientas indispensables. Se han desarrollado estructuras y algoritmos más eficientes para manejar grafos de gran escala, como grafos dispersos y bases de datos de grafos. Además, la inteligencia artificial y el aprendizaje automático han encontrado en los grafos un medio para modelar y resolver problemas complejos de optimización y reconocimiento de patrones."
   ]
  },
  {
   "cell_type": "markdown",
   "id": "8b963ebe",
   "metadata": {},
   "source": [
    "### Aplicaciones Actuales y Futuras"
   ]
  },
  {
   "cell_type": "markdown",
   "id": "e0bbdceb",
   "metadata": {},
   "source": [
    "- **Redes Sociales y Análisis de Redes**: Los grafos son fundamentales para analizar las complejas interacciones sociales y de redes.\n",
    "<p>&nbsp;</p>\n",
    "\n",
    "- **Biología Computacional**: Utilizados para modelar estructuras moleculares y redes genéticas.\n",
    "<p>&nbsp;</p>\n",
    "\n",
    "- **Optimización de Rutas y Logística**: Aplicados en la planificación de rutas para la entrega de mercancías y en sistemas de navegación GPS.\n",
    "<p>&nbsp;</p>\n",
    "\n",
    "- **Internet y Redes de Comunicación**: Fundamental en la estructura de la web y en el análisis de la red de internet.\n",
    "<p>&nbsp;</p>\n",
    "\n",
    "- **Teoría de Grafos en Física y Química**: Para modelar átomos en moléculas y en la física de partículas.\n",
    "<p>&nbsp;</p>\n",
    "\n",
    "- **Computación Cuántica**: Los grafos desempeñan un papel en el diseño y análisis de algoritmos cuánticos."
   ]
  },
  {
   "cell_type": "markdown",
   "id": "71731102",
   "metadata": {},
   "source": [
    "### Árboles vs Grafos"
   ]
  },
  {
   "cell_type": "markdown",
   "id": "e94b5096",
   "metadata": {},
   "source": [
    "<p float=\"center\">\n",
    "  <img src=\"https://github.com/carlosalvarezh/EstructuraDatosAlgoritmos1/blob/main/Images/Grafos14.jpg?raw=true\" width=\"350\" />\n",
    "</p>\n",
    "<p style=\"text-align: center;\">\n",
    "    <strong>Fuente:</strong> geeksforgeeks.org.\n",
    "</p>\n",
    "\n",
    "\n",
    "| **Característica**     | **Árboles**                                                               | **Grafos**                                                                   |\n",
    "|------------------------|---------------------------------------------------------------------------|------------------------------------------------------------------------------|\n",
    "| **Definición**         | Un tipo especial de grafo no dirigido y conectado sin ciclos.             | Colección de vértices y aristas que pueden formar estructuras con ciclos.   |\n",
    "| **Jerarquía**          | Estructura jerárquica con un nodo raíz y una relación padre-hijo clara.   | No tienen una jerarquía inherente; cualquier nodo puede estar conectado con cualquier otro. |\n",
    "| **Ciclos**             | No tienen ciclos. Cada dos nodos están conectados por exactamente un camino. | Pueden tener ciclos y múltiples caminos entre nodos.                        |\n",
    "| **Tipos de Conexión**  | Conexiones unidireccionales siguiendo la jerarquía padre-hijo.            | Conexiones pueden ser unidireccionales o bidireccionales (en grafos dirigidos y no dirigidos). |\n",
    "| **Tipos**              | Solo un tipo principal, con variantes (como árbol binario, AVL, etc.).    | Variados, incluyendo dirigidos, no dirigidos, ponderados, multigrafos, etc. |\n",
    "| **Relaciones**         | Relaciones lineales y unidireccionales.                                   | Relaciones más complejas y posiblemente bidireccionales.                    |\n",
    "| **Usos**               | Modelado de jerarquías y estructuras con una sola vía de acceso.          | Modelado de redes y estructuras con múltiples vías de interconexión.        |\n",
    "| **Ejemplos**           | Árboles de decisión, árboles genealógicos, árboles de sintaxis.           | Redes sociales, mapas, grafos de dependencias en software.                  |"
   ]
  },
  {
   "cell_type": "markdown",
   "id": "fba0bc18",
   "metadata": {},
   "source": [
    "## Grafos"
   ]
  },
  {
   "cell_type": "markdown",
   "id": "50e52b0b",
   "metadata": {},
   "source": [
    "### Definición"
   ]
  },
  {
   "cell_type": "markdown",
   "id": "cf17bd87",
   "metadata": {},
   "source": [
    "<p float=\"center\">\n",
    "  <img src=\"https://github.com/carlosalvarezh/EstructuraDatosAlgoritmos1/blob/main/Images/Grafos04.PNG?raw=true\" width=\"500\" />\n",
    "</p>\n",
    "<p style=\"text-align: center;\">\n",
    "    <strong>Fuente:</strong> geeksforgeeks.org.\n",
    "</p>\n",
    "\n",
    "Los grafos son una estructura de datos que consiste en una colección de nodos conectados por aristas (*edges*). Se utiliza para representar relaciones entre diferentes entidades. Los algoritmos de grafos son métodos utilizados para manipular y analizar grafos, resolviendo diversos problemas como encontrar el camino más corto o detectar ciclos.\n",
    "\n",
    "Un grafo $G$ se define matemáticamente como un par ordenado de dos conjuntos, $G = (V, E)$, donde:\n",
    "\n",
    "- $V$ representa el conjunto de vértices o nodos. Los vértices pueden ser cualquier cosa: personas en una red social, ciudades en un mapa, o estaciones en una red de transporte.\n",
    "<p>&nbsp;</p>\n",
    "\n",
    "- $E$ es el conjunto de aristas o bordes, que representan las relaciones o conexiones entre los vértices. En el contexto de un mapa, por ejemplo, una arista podría representar una carretera que conecta dos ciudades.\n",
    "\n",
    "Esta definición básica se expande para abarcar varios tipos y propiedades:"
   ]
  },
  {
   "cell_type": "markdown",
   "id": "6da5eb82",
   "metadata": {},
   "source": [
    "### Tipos de Grafos"
   ]
  },
  {
   "cell_type": "markdown",
   "id": "1c288e21",
   "metadata": {},
   "source": [
    "Por supuesto, aquí tienes las traducciones:\n",
    "\n",
    "- **Grafo Nulo:** Un grafo se conoce como grafo nulo si no hay aristas en el grafo.\n",
    "\n",
    "<p float=\"center\">\n",
    "  <img src=\"https://github.com/carlosalvarezh/EstructuraDatosAlgoritmos1/blob/main/Images/Grafos05.PNG?raw=true\" width=\"150\" />\n",
    "</p>\n",
    "\n",
    "- **Grafo Trivial:** Grafo que tiene solo un vértice, es también el grafo más pequeño posible.\n",
    "\n",
    "<p float=\"center\">\n",
    "  <img src=\"https://github.com/carlosalvarezh/EstructuraDatosAlgoritmos1/blob/main/Images/Grafos06.PNG?raw=true\" width=\"70\" />\n",
    "</p>\n",
    "\n",
    "- **Grafo No Dirigido:** Un grafo en el que las aristas no tienen dirección. Es decir, los nodos son pares no ordenados en la definición de cada arista.\n",
    "\n",
    "<p float=\"center\">\n",
    "  <img src=\"https://github.com/carlosalvarezh/EstructuraDatosAlgoritmos1/blob/main/Images/Grafos07.PNG?raw=true\" width=\"150\" />\n",
    "</p>\n",
    "\n",
    "- **Grafo Dirigido:** Un grafo en el que cada arista tiene dirección. Es decir, los nodos son pares ordenados en la definición de cada arista.\n",
    "\n",
    "<p float=\"center\">\n",
    "  <img src=\"https://github.com/carlosalvarezh/EstructuraDatosAlgoritmos1/blob/main/Images/Grafos08.PNG?raw=true\" width=\"150\" />\n",
    "</p>\n",
    "\n",
    "- **Grafo Conectado:** El grafo en el que desde un nodo se puede visitar cualquier otro nodo en el grafo se conoce como grafo conectado.\n",
    "\n",
    "<p float=\"center\">\n",
    "  <img src=\"https://github.com/carlosalvarezh/EstructuraDatosAlgoritmos1/blob/main/Images/Grafos07.PNG?raw=true\" width=\"150\" />\n",
    "</p>\n",
    "\n",
    "- **Grafo Desconectado:** El grafo en el que al menos un nodo no es alcanzable desde un nodo se conoce como grafo desconectado.\n",
    "\n",
    "<p float=\"center\">\n",
    "  <img src=\"https://github.com/carlosalvarezh/EstructuraDatosAlgoritmos1/blob/main/Images/Grafos09.PNG?raw=true\" width=\"150\" />\n",
    "</p>\n",
    "\n",
    "- **Grafo Regular:** El grafo en el que el grado de cada vértice es igual a K se llama grafo regular K.\n",
    "\n",
    "<p float=\"center\">\n",
    "  <img src=\"https://github.com/carlosalvarezh/EstructuraDatosAlgoritmos1/blob/main/Images/Grafos07.PNG?raw=true\" width=\"150\" />\n",
    "</p>\n",
    "\n",
    "- **Grafo Completo:** El grafo en el que desde cada nodo hay una arista hacia cada otro nodo.\n",
    "\n",
    "<p float=\"center\">\n",
    "  <img src=\"https://github.com/carlosalvarezh/EstructuraDatosAlgoritmos1/blob/main/Images/Grafos10.PNG?raw=true\" width=\"150\" />\n",
    "</p>\n",
    "\n",
    "- **Grafo de Ciclo:** El grafo en el que el grafo es un ciclo en sí mismo, el grado de cada vértice es 2.\n",
    "\n",
    "<p float=\"center\">\n",
    "  <img src=\"https://github.com/carlosalvarezh/EstructuraDatosAlgoritmos1/blob/main/Images/Grafos07.PNG?raw=true\" width=\"150\" />\n",
    "</p>\n",
    "\n",
    "- **Grafo Cíclico:** Un grafo que contiene al menos un ciclo se conoce como grafo cíclico.\n",
    "\n",
    "<p float=\"center\">\n",
    "  <img src=\"https://github.com/carlosalvarezh/EstructuraDatosAlgoritmos1/blob/main/Images/Grafos11.PNG?raw=true\" width=\"150\" />\n",
    "</p>\n",
    "\n",
    "- **Grafo Acíclico Dirigido:** Un Grafo Dirigido que no contiene ningún ciclo.\n",
    "\n",
    "<p float=\"center\">\n",
    "  <img src=\"https://github.com/carlosalvarezh/EstructuraDatosAlgoritmos1/blob/main/Images/Grafos12.PNG?raw=true\" width=\"150\" />\n",
    "</p>\n",
    "\n",
    "- **Grafo Bipartito:** Un grafo en el que los vértices se pueden dividir en dos conjuntos de manera que los vértices en cada conjunto no contengan ninguna arista entre ellos.\n",
    "\n",
    "<p float=\"center\">\n",
    "  <img src=\"https://github.com/carlosalvarezh/EstructuraDatosAlgoritmos1/blob/main/Images/Grafos13.PNG?raw=true\" width=\"150\" />\n",
    "</p>\n",
    "\n",
    "- **Grafo Ponderado:** Un grafo en el que las aristas ya están especificadas con un peso adecuado se conoce como grafo ponderado. Los grafos ponderados pueden clasificarse además en grafos ponderados dirigidos y grafos ponderados no dirigidos."
   ]
  },
  {
   "cell_type": "markdown",
   "id": "4f06b3a8",
   "metadata": {},
   "source": [
    "### Representación de grafos"
   ]
  },
  {
   "cell_type": "markdown",
   "id": "461a546f",
   "metadata": {},
   "source": [
    "Los grafos pueden representarse en una computadora de varias maneras, siendo las más comunes la **Matriz de Adyacencia** y la **Lista de Adyacencia**. Cada método tiene sus propias ventajas y desventajas, dependiendo del tipo de operaciones que se necesitan realizar y las características del grafo (como su densidad)."
   ]
  },
  {
   "cell_type": "markdown",
   "id": "e3a1d574",
   "metadata": {},
   "source": [
    "#### Matriz de Adyacencia"
   ]
  },
  {
   "cell_type": "markdown",
   "id": "98b98d12",
   "metadata": {},
   "source": [
    "Una matriz de adyacencia es una matriz cuadrada que se utiliza para representar un grafo de forma booleana (0's y 1's). Las filas y columnas de la matriz corresponden a los vértices del grafo. Si existe una arista entre dos vértices, el valor en la celda correspondiente se establece en `1` (o el peso de la arista, en el caso de grafos ponderados); de lo contrario, se establece en `0`.\n",
    "\n",
    "Supongamos que hay $n$ vértices en el grafo. Entonces, se crea una matriz 2D `adjMat[n][n]` con dimensiones $n \\times n$.\n",
    "\n",
    "- Si hay una arista del vértice $i$ al $j$, se marca `adjMat[i][j]` como `1`.  \n",
    "- Si no hay una arista del vértice $i$ al $j$, se marca `adjMat[i][j]` como `0`.\n",
    "\n",
    "**Ventajas**:\n",
    "- Representación simple y directa de la estructura del grafo.\n",
    "- Facilita operaciones como determinar si hay una arista entre dos vértices.\n",
    "\n",
    "**Desventajas**:\n",
    "- Ineficiente en términos de espacio para grafos dispersos (grafos con pocas aristas en relación con el número de vértices).\n",
    "- Puede llevar a un uso innecesario de memoria y tiempo de procesamiento.\n",
    "\n",
    "**Ejemplo**:\n",
    "Consideremos un grafo con 4 vértices como el de la figura.\n",
    "\n",
    "<p float=\"center\">\n",
    "  <img src=\"https://github.com/carlosalvarezh/EstructuraDatosAlgoritmos1/blob/main/Images/Grafos15.PNG?raw=true\" width=\"150\" />\n",
    "</p>\n",
    "\n",
    "\n",
    "La matriz de adyacencia sería:\n",
    "\n",
    "|   | A | B | C | D |\n",
    "|---|---|---|---|---|\n",
    "| A | 0 | 1 | 1 | 0 |\n",
    "| B | 1 | 0 | 1 | 0 |\n",
    "| C | 1 | 1 | 0 | 1 |\n",
    "| D | 0 | 0 | 1 | 0 |\n"
   ]
  },
  {
   "cell_type": "markdown",
   "id": "dac03bff",
   "metadata": {},
   "source": [
    "##### Representación de un Grafo No Dirigido a Matriz de Adyacencia:"
   ]
  },
  {
   "cell_type": "markdown",
   "id": "e2b73cc1",
   "metadata": {},
   "source": [
    "La siguiente figura muestra un grafo no dirigido. Inicialmente, toda la matriz se inicializa en `0`. Si hay una arista de la fuente al destino, insertamos `1` en ambos casos (`adjMat[fuente]` y `adjMat[destino]`) porque podemos ir en cualquier dirección.\n",
    "\n",
    "<p float=\"center\">\n",
    "  <img src=\"https://github.com/carlosalvarezh/EstructuraDatosAlgoritmos1/blob/main/Images/Grafos16.PNG?raw=true\" width=\"500\" />\n",
    "</p>"
   ]
  },
  {
   "cell_type": "markdown",
   "id": "d2de91f7",
   "metadata": {},
   "source": [
    "#### **Código para generar la matriz de adyacencia de un grafo no dirigido**"
   ]
  },
  {
   "cell_type": "code",
   "execution_count": 1,
   "id": "ef83ee89",
   "metadata": {},
   "outputs": [
    {
     "name": "stdout",
     "output_type": "stream",
     "text": [
      "Matriz de adyacencia:\n",
      "[0, 1, 1, 0]\n",
      "[1, 0, 1, 1]\n",
      "[1, 1, 0, 1]\n",
      "[0, 1, 1, 0]\n"
     ]
    }
   ],
   "source": [
    "# Definir los nodos y las aristas\n",
    "nodos = ['A', 'B', 'C', 'D']\n",
    "aristas = [('A', 'B'), ('A', 'C'), ('B', 'C'), ('B', 'D'), ('C', 'D')]\n",
    "\n",
    "# Crear un diccionario para asignar a cada nodo un índice numérico\n",
    "indice_nodos = {nodo: idx for idx, nodo in enumerate(nodos)}\n",
    "\n",
    "# Inicializar la matriz de adyacencia de tamaño NxN (donde N es el número de nodos)\n",
    "N = len(nodos)\n",
    "matriz_adyacencia = [[0 for _ in range(N)] for _ in range(N)]\n",
    "\n",
    "# Rellenar la matriz de adyacencia basándose en las aristas\n",
    "for arista in aristas:\n",
    "    nodo1, nodo2 = arista\n",
    "    i, j = indice_nodos[nodo1], indice_nodos[nodo2]\n",
    "    matriz_adyacencia[i][j] = 1\n",
    "    matriz_adyacencia[j][i] = 1  # Como es un grafo no dirigido, la matriz es simétrica\n",
    "\n",
    "# Imprimir la matriz de adyacencia\n",
    "print(\"Matriz de adyacencia:\")\n",
    "for fila in matriz_adyacencia:\n",
    "    print(fila)\n"
   ]
  },
  {
   "cell_type": "markdown",
   "id": "68cbe5ed",
   "metadata": {},
   "source": [
    "##### Representación de un Grafo Dirigido a Matriz de Adyacencia"
   ]
  },
  {
   "cell_type": "markdown",
   "id": "05d52afb",
   "metadata": {},
   "source": [
    "La figura de abajo muestra un grafo dirigido. Inicialmente, toda la matriz se inicializa en `0`. Si hay una arista de la fuente al destino, insertamos `1` para ese particular `adjMat[destino]`.\n",
    "\n",
    "<p float=\"center\">\n",
    "  <img src=\"https://github.com/carlosalvarezh/EstructuraDatosAlgoritmos1/blob/main/Images/Grafos17.PNG?raw=true\" width=\"500\" />\n",
    "</p>"
   ]
  },
  {
   "cell_type": "markdown",
   "id": "4ee015e7",
   "metadata": {},
   "source": [
    "#### **Código para generar la matriz de adyacencia de un grafo dirigido**"
   ]
  },
  {
   "cell_type": "code",
   "execution_count": 4,
   "id": "b9c91a0b",
   "metadata": {},
   "outputs": [
    {
     "name": "stdout",
     "output_type": "stream",
     "text": [
      "Matriz de adyacencia para el grafo dirigido:\n",
      "[0, 0, 0]\n",
      "[1, 0, 1]\n",
      "[1, 0, 0]\n"
     ]
    }
   ],
   "source": [
    "# Definir los nodos y las aristas dirigidas\n",
    "nodos = [0,1, 2,]\n",
    "aristas = [(1, 2), (1, 0), (2, 0)]  # Aristas dirigidas\n",
    "\n",
    "# Crear un diccionario para asignar a cada nodo un índice numérico\n",
    "indice_nodos = {nodo: idx for idx, nodo in enumerate(nodos)}\n",
    "\n",
    "# Inicializar la matriz de adyacencia de tamaño NxN (donde N es el número de nodos)\n",
    "N = len(nodos)\n",
    "matriz_adyacencia = [[0 for _ in range(N)] for _ in range(N)]\n",
    "\n",
    "# Rellenar la matriz de adyacencia basándose en las aristas\n",
    "for arista in aristas:\n",
    "    nodo_origen, nodo_destino = arista\n",
    "    i, j = indice_nodos[nodo_origen], indice_nodos[nodo_destino]\n",
    "    matriz_adyacencia[i][j] = 1  # Sólo en la dirección del grafo\n",
    "\n",
    "# Imprimir la matriz de adyacencia\n",
    "print(\"Matriz de adyacencia para el grafo dirigido:\")\n",
    "for fila in matriz_adyacencia:\n",
    "    print(fila)\n"
   ]
  },
  {
   "cell_type": "markdown",
   "id": "7b8d002c",
   "metadata": {},
   "source": [
    "#### Lista de Adyacencia"
   ]
  },
  {
   "cell_type": "markdown",
   "id": "aa47e455",
   "metadata": {},
   "source": [
    "Una lista de adyacencia es una colección de listas o conjuntos, una para cada vértice en el grafo. Cada lista contiene los vértices adyacentes (es decir, directamente conectados) a ese vértice.\n",
    "\n",
    "El tamaño del arreglo es igual al número de vértices (es decir, $n$). Cada índice en este arreglo representa un vértice específico en el grafo. La entrada en el índice $i$ del arreglo contiene una lista enlazada con los vértices que son adyacentes al vértice $i$.\n",
    "\n",
    "Supongamos que hay $n$ vértices en el grafo. Entonces, creamos un arreglo de listas de tamaño $n$ como `adjList[n]`.\n",
    "\n",
    "- `adjList[0]` tendrá todos los nodos que están conectados (vecinos) al vértice `0`.\n",
    "- `adjList[1]` tendrá todos los nodos que están conectados (vecinos) al vértice `1`, y así sucesivamente.\n",
    "\n",
    "**Ventajas**:\n",
    "- Eficiente en términos de espacio para grafos dispersos.\n",
    "- Permite un acceso más rápido a los vecinos de un vértice.\n",
    "\n",
    "**Desventajas**:\n",
    "- Determinar si hay una arista entre dos vértices específicos puede ser menos eficiente que con la matriz de adyacencia.\n",
    "- La estructura de datos es ligeramente más compleja.\n",
    "\n",
    "**Ejemplo**:\n",
    "Usando el mismo grafo del ejemplo anterior, la lista de adyacencia sería:\n",
    "\n",
    "<p float=\"center\">\n",
    "  <img src=\"https://github.com/carlosalvarezh/EstructuraDatosAlgoritmos1/blob/main/Images/Grafos15.PNG?raw=true\" width=\"150\" />\n",
    "</p>\n",
    "\n",
    "```pseudocode\n",
    "A --> [B, C]\n",
    "B --> [A, C]\n",
    "C --> [A, B, D]\n",
    "D --> [C]\n",
    "```"
   ]
  },
  {
   "cell_type": "markdown",
   "id": "7a82bd30",
   "metadata": {},
   "source": [
    "##### Representación de un Grafo No Dirigido a Lista de Adyacencia"
   ]
  },
  {
   "cell_type": "markdown",
   "id": "34409466",
   "metadata": {},
   "source": [
    "El grafo no dirigido de la figura tiene $3$ vértices. Por lo tanto, se crea un arreglo de listas de tamaño $3$, donde cada índice representa los vértices. Ahora, el vértice `0` tiene dos vecinos (es decir, `1` y `2`). Entonces, insertamos los vértices `1` y `2` en el índice `0` del arreglo. De manera similar, para el vértice `1`, tiene dos vecinos (es decir, `2` y `0`). Por lo tanto, insertamos los vértices `2` y `0` en el índice `1` del arreglo. De manera similar, para el vértice `2`, insertamos sus vecinos en el arreglo de listas.\n",
    "\n",
    "<p float=\"center\">\n",
    "  <img src=\"https://github.com/carlosalvarezh/EstructuraDatosAlgoritmos1/blob/main/Images/Grafos18.PNG?raw=true\" width=\"500\" />\n",
    "</p>"
   ]
  },
  {
   "cell_type": "markdown",
   "id": "21472999",
   "metadata": {},
   "source": [
    "#### **Código para generar la lista de adyacencia de un grafo no dirigido**"
   ]
  },
  {
   "cell_type": "code",
   "execution_count": 6,
   "id": "7a2c4b27",
   "metadata": {},
   "outputs": [
    {
     "name": "stdout",
     "output_type": "stream",
     "text": [
      "Lista de adyacencia para el grafo no dirigido:\n",
      "1: [2, 0]\n",
      "2: [1, 0]\n",
      "0: [1, 2]\n"
     ]
    }
   ],
   "source": [
    "# Definir los nodos y las aristas no dirigidas\n",
    "nodos = [1, 2, 0]\n",
    "aristas = [(1, 2), (1, 0), (2, 0)]  # Aristas no dirigidas\n",
    "\n",
    "# Inicializar la lista de adyacencia\n",
    "lista_adyacencia = {nodo: [] for nodo in nodos}\n",
    "\n",
    "# Rellenar la lista de adyacencia para grafo no dirigido\n",
    "for arista in aristas:\n",
    "    nodo_origen, nodo_destino = arista\n",
    "    lista_adyacencia[nodo_origen].append(nodo_destino)\n",
    "    lista_adyacencia[nodo_destino].append(nodo_origen)  # Añadir también la arista en sentido inverso\n",
    "\n",
    "# Imprimir la lista de adyacencia para el grafo no dirigido\n",
    "print(\"Lista de adyacencia para el grafo no dirigido:\")\n",
    "for nodo, adyacentes in lista_adyacencia.items():\n",
    "    print(f\"{nodo}: {adyacentes}\")\n"
   ]
  },
  {
   "cell_type": "markdown",
   "id": "4a98a32c",
   "metadata": {},
   "source": [
    "##### Representación de un Grafo Dirigido a Lista de Adyacencia"
   ]
  },
  {
   "cell_type": "markdown",
   "id": "15594c6a",
   "metadata": {},
   "source": [
    "El grafo dirigido de abajo tiene $3$ vértices. Por lo tanto, se creará un arreglo de listas de tamaño $3$, donde cada índice representa los vértices. Ahora, el vértice `0` no tiene vecinos. Para el vértice `1`, tiene dos vecinos (es decir, `0` y `2`). Entonces, insertamos los vértices `0` y `2` en el índice `1` del arreglo. De manera similar, para el vértice `2`, insertamos sus vecinos en el arreglo de listas.\n",
    "\n",
    "<p float=\"center\">\n",
    "  <img src=\"https://github.com/carlosalvarezh/EstructuraDatosAlgoritmos1/blob/main/Images/Grafos19.PNG?raw=true\" width=\"500\" />\n",
    "</p>"
   ]
  },
  {
   "cell_type": "markdown",
   "id": "32997f2b",
   "metadata": {},
   "source": [
    "#### **Código para generar la lista de adyacencia de un grafo dirigido**"
   ]
  },
  {
   "cell_type": "code",
   "execution_count": 9,
   "id": "8d232f79",
   "metadata": {},
   "outputs": [
    {
     "name": "stdout",
     "output_type": "stream",
     "text": [
      "Lista de adyacencia para el grafo dirigido:\n",
      "0: []\n",
      "1: [2, 0]\n",
      "2: [0]\n"
     ]
    }
   ],
   "source": [
    "# Definir los nodos y las aristas dirigidas\n",
    "nodos = [0, 1, 2,]\n",
    "aristas = [(1, 2), (2, 0), (1, 0)]  # Aristas dirigidas\n",
    "\n",
    "# Inicializar la lista de adyacencia\n",
    "lista_adyacencia = {nodo: [] for nodo in nodos}\n",
    "\n",
    "# Rellenar la lista de adyacencia para grafo dirigido\n",
    "for arista in aristas:\n",
    "    nodo_origen, nodo_destino = arista\n",
    "    lista_adyacencia[nodo_origen].append(nodo_destino)\n",
    "\n",
    "# Imprimir la lista de adyacencia para el grafo dirigido\n",
    "print(\"Lista de adyacencia para el grafo dirigido:\")\n",
    "for nodo, adyacentes in lista_adyacencia.items():\n",
    "    print(f\"{nodo}: {adyacentes}\")\n"
   ]
  },
  {
   "cell_type": "markdown",
   "id": "3ff02bcf",
   "metadata": {},
   "source": [
    "#### Matriz de adyacencia vs Lista de adyacencia"
   ]
  },
  {
   "cell_type": "markdown",
   "id": "07a5d00f",
   "metadata": {},
   "source": [
    "Al comparar la complejidad algorítmica de la matriz de adyacencia y la lista de adyacencia para representar grafos, es importante considerar las diferentes operaciones que se pueden realizar sobre los grafos, como agregar o eliminar aristas, verificar si existe una conexión entre dos vértices, y recorrer el grafo. A continuación se presentan las operaciones más comunes:\n",
    "\n",
    "- **Agregar un Vértice:** Añadir un nuevo vértice al grafo.\n",
    "   - **Complejidad**:\n",
    "     - En una **lista de adyacencia**, es una operación $O(1)$, ya que simplemente se añade una nueva lista para el nuevo vértice.\n",
    "     - En una **matriz de adyacencia**, puede ser más costoso, $O(V^2)$, debido a la necesidad de aumentar el tamaño de la matriz.\n",
    "<p>&nbsp;</p>\n",
    "\n",
    "- **Eliminar un Vértice:** Eliminar un vértice existente y todas sus aristas asociadas.\n",
    "   - **Complejidad**:\n",
    "     - En una **lista de adyacencia**, es $O(V + E)$, ya que se debe eliminar el vértice y actualizar todas las listas que contienen ese vértice.\n",
    "     - En una **matriz de adyacencia**, también es $O(V^2)$, por la reestructuración necesaria de la matriz.\n",
    "<p>&nbsp;</p>\n",
    "\n",
    "- **Agregar una Arista:** Conectar dos vértices con una arista.\n",
    "   - **Complejidad**:\n",
    "     - En una **lista de adyacencia**, es $O(1)$, simplemente añadiendo el vértice destino a la lista del vértice origen.\n",
    "     - En una **matriz de adyacencia**, es $O(1)$, actualizando el valor de la celda correspondiente.\n",
    "<p>&nbsp;</p>\n",
    "\n",
    "- **Eliminar una Arista:** Remover la conexión entre dos vértices.\n",
    "   - **Complejidad**:\n",
    "     - En una **lista de adyacencia**, puede ser hasta $O(V)$, buscando y eliminando el vértice destino de la lista del vértice origen.\n",
    "     - En una **matriz de adyacencia**, es $O(1)$, estableciendo el valor de la celda correspondiente a 0 o infinito.\n",
    "<p>&nbsp;</p>\n",
    "\n",
    "- **Verificar si Dos Vértices están Conectados:** Determinar si existe una arista entre dos vértices específicos.\n",
    "   - **Complejidad**:\n",
    "     - En una **lista de adyacencia**, puede ser hasta $O(V)$, buscando en la lista.\n",
    "     - En una **matriz de adyacencia**, es $O(1)$.\n",
    "<p>&nbsp;</p>\n",
    "\n",
    "- **Encontrar el Grado de un Vértice:** Calcular el número de aristas conectadas a un vértice.\n",
    "   - **Complejidad**:\n",
    "     - En una **lista de adyacencia**, es $O(1)$ si se mantiene un contador de grado, o $O(deg(V))$ si se cuenta cada vez.\n",
    "     - En una **matriz de adyacencia**, es $O(V)$, sumando las conexiones en la fila/columna correspondiente.\n",
    "<p>&nbsp;</p>\n",
    "\n",
    "- **Recorrido del Grafo (BFS y DFS):** Explorar el grafo, ya sea en amplitud (BFS) o profundidad (DFS).\n",
    "   - **Complejidad**:\n",
    "     - Tanto para **lista de adyacencia** como para **matriz de adyacencia**, es $O(V + E)$, aunque en la práctica, la lista de adyacencia es más eficiente para grafos dispersos.\n",
    "\n",
    "A manera de resumen se deja la siguiente tabla para una consulta rápida:\n",
    "\n",
    "| Operación                          | Matriz de Adyacencia | Lista de Adyacencia |\n",
    "|------------------------------------|----------------------|---------------------|\n",
    "| **Espacio de Almacenamiento**      | $$O(V^2)$$           | $$O(V + E)$$        |\n",
    "| **Agregar Arista**                 | $$O(1)$$             | $$O(1)$$            |\n",
    "| **Eliminar Arista**                | $$O(1)$$             | $$O(V)$$            |\n",
    "| **Verificar Conexión**             | $$O(1)$$             | $$O(V)$$            |\n",
    "| **Recorrer Vecinos de un Vértice** | $$O(V)$$             | $$O(deg(V))$$       |\n",
    "| **Recorrido del Grafo (BFS, DFS)** | $$O(V^2)$$           | $$O(V + E)$$        |\n",
    "\n",
    "- **$V$**: Número de vértices\n",
    "- **$E$**: Número de aristas\n",
    "- **$deg(V)$**: Grado del vértice $V$ (número de vecinos)"
   ]
  },
  {
   "cell_type": "markdown",
   "id": "977f93eb",
   "metadata": {},
   "source": [
    "### Aplicaciones de la vida real"
   ]
  },
  {
   "cell_type": "markdown",
   "id": "fe58b01f",
   "metadata": {},
   "source": [
    "- Las estructuras de datos de grafos pueden utilizarse para representar interacciones entre jugadores en un equipo, como pases, tiros y entradas. Analizar estas interacciones puede proporcionar perspectivas sobre la dinámica del equipo y áreas para mejorar.\n",
    "<p>&nbsp;</p>\n",
    "\n",
    "- Comúnmente se utilizan para representar redes sociales, como redes de amigos en medios sociales.\n",
    "<p>&nbsp;</p>\n",
    "\n",
    "- Los grafos pueden utilizarse para representar la topología de redes informáticas, como las conexiones entre enrutadores y conmutadores.\n",
    "<p>&nbsp;</p>\n",
    "\n",
    "- Los grafos se utilizan para representar las conexiones entre diferentes lugares en una red de transporte, como carreteras y aeropuertos.\n",
    "<p>&nbsp;</p>\n",
    "\n",
    "- ***Redes Neuronales:*** Los vértices representan neuronas y las aristas representan las sinapsis entre ellas. Las redes neuronales se utilizan para comprender cómo funciona nuestro cerebro y cómo cambian las conexiones cuando aprendemos. El cerebro humano tiene alrededor de 10^11 neuronas y cerca de 10^15 sinapsis.\n",
    "<p>&nbsp;</p>\n",
    "\n",
    "- ***Compiladores:*** Los grafos se utilizan ampliamente en compiladores. Pueden ser utilizados para la inferencia de tipos, para el llamado análisis de flujo de datos, asignación de registros y muchos otros propósitos. También se utilizan en compiladores especializados, como la optimización de consultas en lenguajes de bases de datos.\n",
    "<p>&nbsp;</p>\n",
    "\n",
    "- ***Planificación Robótica:*** Los vértices representan estados en los que puede estar el robot y las aristas las posibles transiciones entre los estados. Dichos planes de grafos se utilizan, por ejemplo, en la planificación de rutas para vehículos autónomos."
   ]
  },
  {
   "cell_type": "markdown",
   "id": "e4e17bf9",
   "metadata": {},
   "source": [
    "### Cuándo usar Grafos"
   ]
  },
  {
   "cell_type": "markdown",
   "id": "4c5ce595",
   "metadata": {},
   "source": [
    "- Cuando necesitas representar y analizar las relaciones entre diferentes objetos o entidades.\n",
    "<p>&nbsp;</p>\n",
    "\n",
    "- Cuando necesitas realizar análisis de redes.\n",
    "<p>&nbsp;</p>\n",
    "\n",
    "- Cuando necesitas identificar jugadores clave, influenciadores o cuellos de botella en un sistema.\n",
    "<p>&nbsp;</p>\n",
    "\n",
    "- Cuando necesitas hacer predicciones o recomendaciones.\n",
    "<p>&nbsp;</p>\n",
    "\n",
    "- ***Modelando Redes:*** Los grafos se utilizan comúnmente para modelar varios tipos de redes, como redes sociales, redes de transporte y redes informáticas. En estos casos, los vértices representan nodos en la red, y las aristas representan las conexiones entre ellos.\n",
    "<p>&nbsp;</p>\n",
    "\n",
    "- ***Encontrar Caminos:*** Los grafos se utilizan a menudo en algoritmos para encontrar caminos entre dos vértices en un grafo, como algoritmos de camino más corto. Por ejemplo, los grafos pueden utilizarse para encontrar la ruta más rápida entre dos ciudades en un mapa o la forma más eficiente de viajar entre múltiples destinos.\n",
    "<p>&nbsp;</p>\n",
    "\n",
    "- ***Representando Relaciones de Datos:*** Los grafos pueden utilizarse para representar relaciones entre objetos de datos, como en una base de datos o estructura de datos. En estos casos, los vértices representan objetos de datos, y las aristas representan las relaciones entre ellos.\n",
    "<p>&nbsp;</p>\n",
    "\n",
    "- ***Análisis de Datos:*** Los grafos pueden utilizarse para analizar y visualizar datos complejos, como en algoritmos de agrupamiento de datos o modelos de aprendizaje automático. En estos casos, los vértices representan puntos de datos, y las aristas representan las similitudes o diferencias entre ellos."
   ]
  },
  {
   "cell_type": "markdown",
   "id": "65be438d",
   "metadata": {},
   "source": [
    "### Ventajas y Desventajas"
   ]
  },
  {
   "cell_type": "markdown",
   "id": "17587805",
   "metadata": {},
   "source": [
    "También hay algunos escenarios donde usar un grafo puede no ser el mejor enfoque. Por ejemplo, si los datos que se representan son muy simples o estructurados, un grafo puede ser excesivo y una estructura de datos más simple podría ser suficiente. Además, si el grafo es muy grande o complejo, puede ser difícil o costoso computacionalmente analizarlo o recorrerlo, lo que podría hacer que usar un grafo sea menos deseable.\n",
    "\n",
    "***Ventajas:***\n",
    "- Los grafos son una estructura de datos versátil que se puede usar para representar una amplia gama de relaciones y estructuras de datos.\n",
    "<p>&nbsp;</p>\n",
    "\n",
    "- Pueden usarse para modelar y resolver una amplia gama de problemas, incluyendo la búsqueda de caminos, agrupación de datos, análisis de redes y aprendizaje automático.\n",
    "<p>&nbsp;</p>\n",
    "\n",
    "- Los algoritmos de grafos suelen ser muy eficientes y se pueden usar para resolver problemas complejos de manera rápida y efectiva.\n",
    "<p>&nbsp;</p>\n",
    "\n",
    "- Los grafos pueden usarse para representar estructuras de datos complejas de una manera simple e intuitiva, haciéndolas más fáciles de entender y analizar.\n",
    "<p>&nbsp;</p>\n",
    "\n",
    "\n",
    "***Desventajas:***\n",
    "- Los grafos pueden ser complejos y difíciles de entender, especialmente para personas que no están familiarizadas con la teoría de grafos o algoritmos relacionados.\n",
    "<p>&nbsp;</p>\n",
    "\n",
    "- Crear y manipular grafos puede ser computacionalmente costoso, especialmente para grafos muy grandes o complejos.\n",
    "<p>&nbsp;</p>\n",
    "\n",
    "- Los algoritmos de grafos pueden ser difíciles de diseñar e implementar correctamente, y pueden ser propensos a errores y fallos.\n",
    "<p>&nbsp;</p>\n",
    "\n",
    "- Los grafos pueden ser difíciles de visualizar y analizar, especialmente para grafos muy grandes o complejos, lo que puede dificultar la extracción de conocimientos significativos de los datos."
   ]
  },
  {
   "cell_type": "markdown",
   "id": "bf203e5b",
   "metadata": {},
   "source": [
    "## Recorridos en grafos"
   ]
  },
  {
   "cell_type": "markdown",
   "id": "5890bb54",
   "metadata": {},
   "source": [
    "### Búsqueda en amplitud (BFS)"
   ]
  },
  {
   "cell_type": "markdown",
   "id": "7311fe78",
   "metadata": {},
   "source": [
    "#### Introducción"
   ]
  },
  {
   "cell_type": "markdown",
   "id": "dbd56c01",
   "metadata": {},
   "source": [
    "Breadth First Search (BFS) es un algoritmo de recorrido de grafos que opera nivel por nivel, empezando desde un nodo específico. Utiliza una cola para visitar primero todos los nodos adyacentes a un nodo dado, antes de moverse a los nodos en el siguiente nivel de profundidad. Este método es utilizado principalmente para encontrar componentes conectados y determinar rutas más cortas en grafos no ponderados, ofreciendo una manera sistemática y eficiente de explorar todas las aristas y nodos de un grafo."
   ]
  },
  {
   "cell_type": "markdown",
   "id": "4ff787ae",
   "metadata": {},
   "source": [
    "#### Relación entre BFS para grafos y árboles"
   ]
  },
  {
   "cell_type": "markdown",
   "id": "fe0a3f66",
   "metadata": {},
   "source": [
    "En la relación entre BFS para grafos y árboles, ambos utilizan un enfoque similar de exploración por niveles. La principal diferencia radica en cómo se manejan los nodos repetidos: los árboles, al ser una estructura sin ciclos, no requieren una verificación adicional para los nodos ya visitados, mientras que los grafos pueden contener ciclos, lo que hace esencial llevar un registro de los nodos visitados. Para esto, se emplea una matriz booleana que indica si un nodo ha sido explorado, evitando así su procesamiento múltiple y asegurando una exploración eficiente y sistemática.\n",
    "\n",
    "BFS en grafos parte del supuesto de que todos los vértices son accesibles desde el nodo inicial, utilizando una estructura tipo cola para gestionar el orden de los nodos a visitar. En grafos desconectados, se ajusta el algoritmo para explorar otras componentes desconectadas tras finalizar con la componente conectada actual. Esta estructura de cola garantiza que la exploración se realice en el orden correcto, manteniendo la integridad del recorrido por niveles característico de BFS."
   ]
  },
  {
   "cell_type": "markdown",
   "id": "e9084381",
   "metadata": {},
   "source": [
    "#### Algoritmo BFS en grafos"
   ]
  },
  {
   "cell_type": "markdown",
   "id": "d156c402",
   "metadata": {},
   "source": [
    "El algoritmo de Búsqueda en Amplitud (BFS) para grafos se desarrolla de la siguiente manera:\n",
    "\n",
    "```pseudocode\n",
    "1. Inicialización: Se coloca el nodo de inicio en una cola y se lo marca como visitado, estableciendo así el punto de partida para la exploración del grafo.\n",
    "\n",
    "2. Exploración: Este proceso continúa mientras la cola no esté vacía. Se realiza lo siguiente:\n",
    "   - Se retira un nodo de la cola y se realiza la acción deseada, como imprimir su valor. Esto indica que el nodo está siendo procesado.\n",
    "   - Se examinan todos los vecinos directos de este nodo. Si un vecino aún no ha sido visitado, se le encola y se le marca como visitado.\n",
    "\n",
    "3. Terminación: El algoritmo repite el proceso de exploración hasta que la cola queda vacía. Esto garantiza que todos los nodos accesibles desde el nodo inicial hayan sido explorados en su totalidad.\n",
    "```\n",
    "Este procedimiento asegura que el recorrido del grafo se realiza de manera exhaustiva y en amplitud, procesando primero todos los nodos de un nivel antes de pasar al siguiente. El uso de una estructura tipo cola es crucial, ya que mantiene el orden de visita de los nodos de acuerdo con el principio de primero en entrar, primero en salir (FIFO), característico de BFS."
   ]
  },
  {
   "cell_type": "markdown",
   "id": "8ef3f0e8",
   "metadata": {},
   "source": [
    "#### Ejemplo de aplicación"
   ]
  },
  {
   "cell_type": "markdown",
   "id": "84428d87",
   "metadata": {},
   "source": [
    "Dado el grafo de la siguiente imágen:\n",
    "\n",
    "<p float=\"center\">\n",
    "  <img src=\"https://github.com/carlosalvarezh/EstructuraDatosAlgoritmos1/blob/main/Images/BFS_grafos00.png?raw=true\" width=\"500\" />\n",
    "</p>\n",
    "\n",
    "realizar el paso a paso del algoritmo BFS para recorrer dicho grafo.\n",
    "\n",
    "- ***Paso 1:*** Inicialmente, la cola y las matrices visitadas están vacías (imagen anterior).\n",
    "\n",
    "- ***Paso 2:*** inserte el nodo 0 en la cola y márquelo como visitado.\n",
    "<p float=\"center\">\n",
    "  <img src=\"https://github.com/carlosalvarezh/EstructuraDatosAlgoritmos1/blob/main/Images/BFS_grafos01.png?raw=true\" width=\"500\" />\n",
    "</p>\n",
    "\n",
    "- ***Paso 3:*** elimine el nodo 0 del frente de la cola, visite a los vecinos no visitados y empújelos a la cola.\n",
    "\n",
    "<p float=\"center\">\n",
    "  <img src=\"https://github.com/carlosalvarezh/EstructuraDatosAlgoritmos1/blob/main/Images/BFS_grafos02.png?raw=true\" width=\"500\" />\n",
    "</p>\n",
    "\n",
    "- ***Paso 4:*** elimine el nodo 1 del frente de la cola, visite a los vecinos no visitados y empújelos a la cola.\n",
    "\n",
    "<p float=\"center\">\n",
    "  <img src=\"https://github.com/carlosalvarezh/EstructuraDatosAlgoritmos1/blob/main/Images/BFS_grafos03.png?raw=true\" width=\"500\" />\n",
    "</p>\n",
    "\n",
    "- ***Paso 5:*** elimine el nodo 2 del frente de la cola, visite a los vecinos no visitados y empújelos a la cola.\n",
    "\n",
    "<p float=\"center\">\n",
    "  <img src=\"https://github.com/carlosalvarezh/EstructuraDatosAlgoritmos1/blob/main/Images/BFS_grafos04.png?raw=true\" width=\"500\" />\n",
    "</p>\n",
    "\n",
    "- ***Paso 6:*** Elimine el nodo 3 del frente de la cola, visite a los vecinos no visitados y empújelos a la cola. Como podemos ver, se visitan todos los vecinos del nodo 3, así que pase al siguiente nodo que está al frente de la cola.\n",
    "\n",
    "<p float=\"center\">\n",
    "  <img src=\"https://github.com/carlosalvarezh/EstructuraDatosAlgoritmos1/blob/main/Images/BFS_grafos05.png?raw=true\" width=\"500\" />\n",
    "</p>\n",
    "\n",
    "- ***Paso 7:*** Elimine el nodo 4 del frente de la cola, visite a los vecinos no visitados y empújelos a la cola. Como podemos ver, todos los vecinos del nodo 4 son visitados, así que pase al siguiente nodo que está al frente de la cola.\n",
    "\n",
    "<p float=\"center\">\n",
    "  <img src=\"https://github.com/carlosalvarezh/EstructuraDatosAlgoritmos1/blob/main/Images/BFS_grafos06.png?raw=true\" width=\"500\" />\n",
    "</p>\n",
    "\n",
    "Ahora, la cola queda vacía, por lo tanto, finalice este proceso de iteración."
   ]
  },
  {
   "cell_type": "markdown",
   "id": "d1e28a95",
   "metadata": {},
   "source": [
    "#### Código en Python para el algoritmo BFS"
   ]
  },
  {
   "cell_type": "code",
   "execution_count": 11,
   "id": "e835be27",
   "metadata": {
    "scrolled": true
   },
   "outputs": [
    {
     "name": "stdout",
     "output_type": "stream",
     "text": [
      "Recorrido BFS:\n",
      "0 1 2 3 4 "
     ]
    }
   ],
   "source": [
    "from collections import defaultdict\n",
    "\n",
    "# Clase para representar un grafo\n",
    "class Grafo:\n",
    "    def __init__(self):\n",
    "        self.grafo = defaultdict(list)\n",
    "\n",
    "    # Función para agregar una arista al grafo\n",
    "    def agregar_arista(self, u, v):\n",
    "        self.grafo[u].append(v)\n",
    "\n",
    "    # Función para realizar el recorrido BFS\n",
    "    def bfs(self, inicio):\n",
    "        # Verificar que el nodo de inicio es válido\n",
    "        if inicio > max(self.grafo):\n",
    "            print(\"El nodo de inicio es mayor que el nodo máximo en el grafo.\")\n",
    "            return\n",
    "            \n",
    "        # Lista para almacenar los nodos visitados\n",
    "        visitados = [False] * (len(self.grafo) + 1)\n",
    "\n",
    "        # Cola para el recorrido BFS\n",
    "        cola = []\n",
    "\n",
    "        # Marcar el nodo inicial como visitado y agregarlo a la cola\n",
    "        visitados[inicio] = True\n",
    "        cola.append(inicio)\n",
    "\n",
    "        while cola:\n",
    "            # Sacar un nodo de la cola y mostrarlo\n",
    "            nodo = cola.pop(0)\n",
    "            print(nodo, end=\" \")\n",
    "\n",
    "            # Obtener todos los nodos adyacentes al nodo actual\n",
    "            # Si no han sido visitados, marcarlos como visitados y agregarlos a la cola\n",
    "            for adyacente in self.grafo[nodo]:\n",
    "                if not visitados[adyacente]:\n",
    "                    visitados[adyacente] = True\n",
    "                    cola.append(adyacente)\n",
    "\n",
    "# Crear un objeto de la clase Grafo\n",
    "grafo = Grafo()\n",
    "\n",
    "# Agregar las aristas al grafo\n",
    "aristas = [(0, 1), (0, 2), (1, 3), (1, 2), (2, 4), (3, 4)]\n",
    "for u, v in aristas:\n",
    "    grafo.agregar_arista(u, v)\n",
    "\n",
    "# Realizar el recorrido BFS desde el nodo 0\n",
    "print(\"Recorrido BFS:\")\n",
    "if len(grafo.grafo) > 0:\n",
    "    grafo.bfs(0)\n",
    "else:\n",
    "    print(\"El grafo está vacío.\")\n"
   ]
  },
  {
   "cell_type": "markdown",
   "id": "cfd4e2fb",
   "metadata": {},
   "source": [
    "### Búsqueda en profundidad (DFS)"
   ]
  },
  {
   "cell_type": "markdown",
   "id": "b22408a3",
   "metadata": {},
   "source": [
    "#### Introducción"
   ]
  },
  {
   "cell_type": "markdown",
   "id": "4970db42",
   "metadata": {},
   "source": [
    "El DFS en un grafo es similar al DFS en un árbol. El único inconveniente aquí es que, a diferencia de los árboles, los grafos pueden contener ciclos (un nodo puede ser visitado dos veces). Para evitar procesar un nodo más de una vez, se utiliza una matriz booleana visitada. Un grafo puede tener más de un recorrido DFS."
   ]
  },
  {
   "cell_type": "markdown",
   "id": "d11a22ce",
   "metadata": {},
   "source": [
    "#### Ejemplo de recorridos DFS en un mismo grafo"
   ]
  },
  {
   "cell_type": "markdown",
   "id": "4b57b48e",
   "metadata": {},
   "source": [
    "```pseudocode\n",
    "Entrada: n = 4, e = 6  \n",
    "0 -> 1, 0 -> 2, 1 -> 2, 2 -> 0, 2 -> 3, 3 -> 3  \n",
    "Salida: DFS desde el vértice 1: 1 2 0 3  \n",
    "```\n",
    "\n",
    "<p float=\"center\">\n",
    "  <img src=\"https://github.com/carlosalvarezh/EstructuraDatosAlgoritmos1/blob/main/Images/DFS_grafo00.gif?raw=true\" width=\"250\" />\n",
    "</p>\n",
    "\n",
    "```pseudocode\n",
    "Entrada: n = 4, e = 6 \n",
    "2 -> 0, 0 -> 2, 1 -> 2, 0 -> 1, 3 -> 3, 1 -> 3 \n",
    "Salida: DFS desde el vértice 2: 2 0 1 3 \n",
    "```\n",
    "<p float=\"center\">\n",
    "  <img src=\"https://github.com/carlosalvarezh/EstructuraDatosAlgoritmos1/blob/main/Images/DFS_grafo01.gif?raw=true\" width=\"250\" />\n",
    "</p>\n"
   ]
  },
  {
   "cell_type": "markdown",
   "id": "1cf0674a",
   "metadata": {},
   "source": [
    "#### Ejemplo explicado"
   ]
  },
  {
   "cell_type": "markdown",
   "id": "8aafea80",
   "metadata": {},
   "source": [
    "Dado el grafo de la siguiente imágen:\n",
    "\n",
    "<p float=\"center\">\n",
    "  <img src=\"https://github.com/carlosalvarezh/EstructuraDatosAlgoritmos1/blob/main/Images/DFS_grafo02.webp?raw=true\" width=\"500\" />\n",
    "</p>\n",
    "\n",
    "realizar el paso a paso del algoritmo DFS para recorrer dicho grafo.\n",
    "\n",
    "- ***Paso 1:*** Inicialmente, la pila y las matrices visitadas están vacías (imagen anterior)\n",
    "\n",
    "- ***Paso 2:*** visite 0 y coloque sus nodos adyacentes que aún no han sido visitados en la pila.\n",
    "\n",
    "<p float=\"center\">\n",
    "  <img src=\"https://github.com/carlosalvarezh/EstructuraDatosAlgoritmos1/blob/main/Images/DFS_grafo03.webp?raw=true\" width=\"500\" />\n",
    "</p>\n",
    "\n",
    "- ***Paso 3:*** Ahora, el Nodo 1 está en la parte superior de la pila, así que visite el nodo 1, sáquelo de la pila y coloque todos los nodos adyacentes que no se visitan en la pila.\n",
    "\n",
    "<p float=\"center\">\n",
    "  <img src=\"https://github.com/carlosalvarezh/EstructuraDatosAlgoritmos1/blob/main/Images/DFS_grafo04.webp?raw=true\" width=\"500\" />\n",
    "</p>\n",
    "\n",
    "- ***Paso 4:*** Ahora, el Nodo 2 está en la parte superior de la pila, así que visite el nodo 2, sáquelo de la pila y coloque todos sus nodos adyacentes que no sean visitados (es decir, 3, 4) en la pila.\n",
    "\n",
    "<p float=\"center\">\n",
    "  <img src=\"https://github.com/carlosalvarezh/EstructuraDatosAlgoritmos1/blob/main/Images/DFS_grafo05.webp?raw=true\" width=\"500\" />\n",
    "</p>\n",
    "\n",
    "- ***Paso 5:*** Ahora, el nodo 4 está en la parte superior de la pila, así que visite el nodo 4, sáquelo de la pila y coloque todos los nodos adyacentes que no se visitan en la pila.\n",
    "\n",
    "<p float=\"center\">\n",
    "  <img src=\"https://github.com/carlosalvarezh/EstructuraDatosAlgoritmos1/blob/main/Images/DFS_grafo06.webp?raw=true\" width=\"500\" />\n",
    "</p>\n",
    "\n",
    "- ***Paso 6:*** Ahora, el nodo 3 está en la parte superior de la pila, así que visite el nodo 3, sáquelo de la pila y coloque todos los nodos adyacentes que no se visitan en la pila.\n",
    "\n",
    "<p float=\"center\">\n",
    "  <img src=\"https://github.com/carlosalvarezh/EstructuraDatosAlgoritmos1/blob/main/Images/DFS_grafo07.webp?raw=true\" width=\"500\" />\n",
    "</p>\n",
    "\n",
    "Ahora, la pila queda vacía, lo que significa que hemos visitado todos los nodos y nuestro recorrido DFS finaliza."
   ]
  },
  {
   "cell_type": "markdown",
   "id": "960687f1",
   "metadata": {},
   "source": [
    "#### Código en Python para el algoritmo DFS"
   ]
  },
  {
   "cell_type": "code",
   "execution_count": 5,
   "id": "ad207f0b",
   "metadata": {},
   "outputs": [
    {
     "name": "stdout",
     "output_type": "stream",
     "text": [
      "Recorrido DFS:\n",
      "2 0 1 3 "
     ]
    }
   ],
   "source": [
    "from collections import defaultdict\n",
    "\n",
    "class Grafo:\n",
    "    def __init__(self):\n",
    "        self.grafo = defaultdict(list)\n",
    "\n",
    "    def agregar_arista(self, u, v):\n",
    "        self.grafo[u].append(v)\n",
    "\n",
    "    def dfs(self, nodo, visitados=None):\n",
    "        if visitados is None:\n",
    "            visitados = set()\n",
    "\n",
    "        # Marcar el nodo como visitado\n",
    "        visitados.add(nodo)\n",
    "\n",
    "        print(nodo, end=\" \")\n",
    "\n",
    "        # Visitar todos los nodos adyacentes que aún no han sido visitados\n",
    "        for adyacente in self.grafo[nodo]:\n",
    "            if adyacente not in visitados:\n",
    "                self.dfs(adyacente, visitados)\n",
    "\n",
    "# Crear un objeto de la clase Grafo\n",
    "grafo = Grafo()\n",
    "\n",
    "# Agregar las aristas al grafo\n",
    "#aristas = [(0, 1), (0, 2), (0, 3), (2, 3), (2, 4)]\n",
    "aristas = [(0, 1), (0, 2), (1,2), (2,0), (2, 3), (3, 3)]\n",
    "for u, v in aristas:\n",
    "    grafo.agregar_arista(u, v)\n",
    "\n",
    "# Realizar el recorrido DFS desde el nodo 0\n",
    "print(\"Recorrido DFS:\")\n",
    "if len(grafo.grafo) > 0:\n",
    "    #grafo.dfs(0)\n",
    "    grafo.dfs(2)\n",
    "else:\n",
    "    print(\"El grafo está vacío.\")"
   ]
  },
  {
   "cell_type": "markdown",
   "id": "1c69a150",
   "metadata": {},
   "source": [
    "### Detección de ciclos en grafos usando DFS"
   ]
  },
  {
   "cell_type": "markdown",
   "id": "6ad2f676",
   "metadata": {},
   "source": [
    "#### Idea central"
   ]
  },
  {
   "cell_type": "markdown",
   "id": "5caf9151",
   "metadata": {},
   "source": [
    "La detección de ciclos en grafos dirigidos se basa en identificar si existe un \"borde de regreso\" en el grafo, es decir, un nodo que apunta a uno de sus ancestros."
   ]
  },
  {
   "cell_type": "markdown",
   "id": "fdb5aa5c",
   "metadata": {},
   "source": [
    "#### Uso de la Técnica DFS\n"
   ]
  },
  {
   "cell_type": "markdown",
   "id": "fe0b9ef5",
   "metadata": {},
   "source": [
    "Para encontrar ciclos, se emplea la técnica de Búsqueda en Profundidad (DFS). Esta técnica consiste en explorar el grafo de manera exhaustiva, adentrándose lo más posible a lo largo de cada rama antes de retroceder. El ciclo está presente si, y solo si, se encuentra un borde de regreso durante esta exploración."
   ]
  },
  {
   "cell_type": "markdown",
   "id": "b5902907",
   "metadata": {},
   "source": [
    "#### Detección del Borde de Regreso\n"
   ]
  },
  {
   "cell_type": "markdown",
   "id": "e2ced193",
   "metadata": {},
   "source": [
    "Para detectar un borde de regreso, es crucial seguir dos conjuntos de nodos:\n",
    "   1. **Nodos Visitados:** Aquellos que ya hemos explorado.\n",
    "   2. **Pila de Recursión:** Los nodos que están siendo explorados actualmente.\n",
    "\n",
    "Si durante la búsqueda en profundidad llegamos a un nodo que ya se encuentra en la pila de recursión, entonces hemos detectado un ciclo."
   ]
  },
  {
   "cell_type": "markdown",
   "id": "338a80a9",
   "metadata": {},
   "source": [
    "#### Manejo de Grafos Desconectados"
   ]
  },
  {
   "cell_type": "markdown",
   "id": "74c14c35",
   "metadata": {},
   "source": [
    "En grafos desconectados, es necesario realizar una búsqueda en profundidad en cada componente del grafo. Esto se conoce como obtener el \"bosque DFS\". En cada árbol del bosque, se busca de manera independiente la presencia de bordes de regreso para identificar ciclos."
   ]
  },
  {
   "cell_type": "markdown",
   "id": "19c7d122",
   "metadata": {},
   "source": [
    "#### Algoritmo para Implementar la Detección de Ciclos"
   ]
  },
  {
   "cell_type": "markdown",
   "id": "f39b6f01",
   "metadata": {},
   "source": [
    "```pseudocode\n",
    "1. Creación de la Función DFS Recursiva: Esta función toma los siguientes parámetros: el vértice actual, el conjunto de nodos visitados y la pila de recursión.\n",
    "2. Marcar el Nodo Actual: Al llegar a un nodo, se marca como visitado y se añade a la pila de recursión.\n",
    "3. Explorar Vértices Adyacentes:\n",
    "   - Se recorren todos los vértices adyacentes al nodo actual.\n",
    "   - Si un vértice adyacente ya está en la pila de recursión, se retorna verdadero, indicando la detección de un ciclo.\n",
    "   - Si no está en la pila, se realiza una llamada recursiva para ese vértice.\n",
    "4. Retorno de la Función Recursiva: Al concluir la exploración de un nodo, se lo elimina de la pila de recursión. Esto indica que ya no forma parte del camino actual que estamos explorando.\n",
    "5. Conclusión: Si alguna de las llamadas recursivas retorna verdadero, se detienen las llamadas futuras y se concluye que el grafo contiene al menos un ciclo.\n",
    "```"
   ]
  },
  {
   "cell_type": "markdown",
   "id": "a52ec9b5",
   "metadata": {},
   "source": [
    "#### Ejemplo"
   ]
  },
  {
   "cell_type": "markdown",
   "id": "d6c0a48b",
   "metadata": {},
   "source": [
    "Consideremos el siguiente grafo:\n",
    "\n",
    "<p float=\"center\">\n",
    "  <img src=\"https://github.com/carlosalvarezh/EstructuraDatosAlgoritmos1/blob/main/Images/Grafos_ciclos00.webp?raw=true\" width=\"300\" />\n",
    "</p>\n",
    "\n",
    "Considere que comenzamos la iteración desde el vértice `0`.\n",
    "\n",
    "- Inicialmente, se marcará `0` tanto en el arreglo `visited[]` como en el `recStack[]`, ya que es parte de la ruta actual.\n",
    "\n",
    "<p float=\"center\">\n",
    "  <img src=\"https://github.com/carlosalvarezh/EstructuraDatosAlgoritmos1/blob/main/Images/Grafos_ciclos01.webp?raw=true\" width=\"300\" />\n",
    "</p>\n",
    "\n",
    "- Ahora `0` tiene dos vértices adyacentes `1` y `2`. Consideremos el recorrido hasta el vértice `1`. Entonces `1` se marcará tanto en `visited[]` como en el `recStack[]`.\n",
    "\n",
    "<p float=\"center\">\n",
    "  <img src=\"https://github.com/carlosalvarezh/EstructuraDatosAlgoritmos1/blob/main/Images/Grafos_ciclos02.webp?raw=true\" width=\"300\" />\n",
    "</p>\n",
    "\n",
    "- El vértice `1` tiene solo un vértice adyacente. Llame a la función recursiva para `2` y márquela en `visited[]` y en `recStack[]`.\n",
    "\n",
    "<p float=\"center\">\n",
    "  <img src=\"https://github.com/carlosalvarezh/EstructuraDatosAlgoritmos1/blob/main/Images/Grafos_ciclos03.webp?raw=true\" width=\"300\" />\n",
    "</p>\n",
    "\n",
    "- El vértice `2` también tiene dos vértices adyacentes.\n",
    "  - Se visita el vértice `0` y ya está marcado en `recStack[]`. Entonces, si primero se marca `0`, obtendremos la respuesta de que hay un ciclo presente.\n",
    "  - Por otro lado, si se marca primero el vértice `3`, entonces se marcará `3` en `visited[]` y `recStack[]`.\n",
    "  \n",
    "<p float=\"center\">\n",
    "  <img src=\"https://github.com/carlosalvarezh/EstructuraDatosAlgoritmos1/blob/main/Images/Grafos_ciclos04.webp?raw=true\" width=\"300\" />\n",
    "</p>\n",
    "\n",
    "- Al regresar de la llamada recursiva para `3`, se desmarcará de `recStack[]` ya que ahora no forma parte de la ruta que se está rastreando actualmente.\n",
    "\n",
    "<p float=\"center\">\n",
    "  <img src=\"https://github.com/carlosalvarezh/EstructuraDatosAlgoritmos1/blob/main/Images/Grafos_ciclos05.webp?raw=true\" width=\"300\" />\n",
    "</p>\n",
    "\n",
    "- Ahora sólo nos queda una opción para comprobar, el vértice `0`, que ya está marcado en `recStack[]`.\n",
    "\n",
    "Entonces, podemos concluir que existe un ciclo. También podemos encontrar el ciclo si hemos atravesado hasta el vértice `2` desde el propio `0` de esta misma manera."
   ]
  },
  {
   "cell_type": "code",
   "execution_count": null,
   "id": "f838e222",
   "metadata": {},
   "outputs": [],
   "source": [
    "class Grafo:\n",
    "    def __init__(self, num_vertices):\n",
    "        self.num_vertices = num_vertices\n",
    "        self.grafo = defaultdict(list)\n",
    "\n",
    "    def agregar_arista(self, u, v):\n",
    "        self.grafo[u].append(v)\n",
    "\n",
    "    def detectar_ciclo_util(self, nodo, color):\n",
    "        # Marcar el nodo actual como visitado (gris)\n",
    "        color[nodo] = \"gris\"\n",
    "\n",
    "        # Visitar todos los nodos adyacentes\n",
    "        for adyacente in self.grafo[nodo]:\n",
    "            # Si el nodo adyacente es gris, entonces hay un ciclo\n",
    "            if color[adyacente] == \"gris\":\n",
    "                return True\n",
    "\n",
    "            # Si el nodo adyacente es blanco y hay un ciclo en la subgráfica\n",
    "            # a partir del nodo adyacente, entonces hay un ciclo\n",
    "            if color[adyacente] == \"blanco\" and self.detectar_ciclo_util(adyacente, color) == True:\n",
    "                return True\n",
    "\n",
    "        # Marcar el nodo actual como terminado (negro)\n",
    "        color[nodo] = \"negro\"\n",
    "\n",
    "        return False\n",
    "\n",
    "    def detectar_ciclo(self):\n",
    "        # Inicializar todos los nodos como no visitados (blanco)\n",
    "        color = [\"blanco\"] * self.num_vertices\n",
    "\n",
    "        # Hacer un recorrido DFS para cada nodo\n",
    "        for i in range(self.num_vertices):\n",
    "            if color[i] == \"blanco\":\n",
    "                if self.detectar_ciclo_util(i, color) == True:\n",
    "                    return True\n",
    "\n",
    "        return False\n",
    "\n",
    "# Crear un objeto de la clase Grafo\n",
    "grafo = Grafo()\n",
    "\n",
    "# Agregar las aristas al grafo\n",
    "#aristas = [(0, 1), (0, 2), (0, 3), (2, 3), (2, 4)]\n",
    "aristas = [(0, 1), (0, 2), (1,2), (2,0), (2, 3), (3, 3)]\n",
    "for u, v in aristas:\n",
    "    grafo.agregar_arista(u, v)\n",
    "\n",
    "# Realizar el recorrido DFS desde el nodo 0\n",
    "print(\"Recorrido DFS:\")\n",
    "if len(grafo.grafo) > 0:\n",
    "    #grafo.dfs(0)\n",
    "    grafo.dfs(2)\n",
    "else:\n",
    "    print(\"El grafo está vacío.\")"
   ]
  },
  {
   "cell_type": "markdown",
   "id": "263dbc4f",
   "metadata": {},
   "source": [
    "## Optimización de recorridos en grafos"
   ]
  },
  {
   "cell_type": "markdown",
   "id": "f008359a-ee0c-4c1e-8433-e71c575a8f34",
   "metadata": {},
   "source": [
    "<p float=\"center\">\n",
    "  <img src=\"https://github.com/carlosalvarezh/EstructuraDatosAlgoritmos1/blob/main/Images/ShortestPath01.png?raw=true\" width=\"350\" />\n",
    "</p>"
   ]
  },
  {
   "cell_type": "markdown",
   "id": "6cba410d",
   "metadata": {},
   "source": [
    "### Exploración del Problema del Camino Más Corto en Grafos"
   ]
  },
  {
   "cell_type": "markdown",
   "id": "6d6580b4",
   "metadata": {},
   "source": [
    "El problema del [camino más corto](https://en.wikipedia.org/wiki/Shortest_path_problem) (*Shortest path problem*) se concentra en identificar la ruta óptima entre dos puntos en un grafo. Este problema es aplicable en contextos como sistemas de transporte y redes de comunicación, donde se busca minimizar costos, distancias o tiempos. En grafos ponderados, el desafío es hallar el camino que acumula el menor peso total, abarcando dos variantes principales: la búsqueda del camino más corto entre un nodo origen y un destino específico, y la determinación de las rutas más cortas desde un origen a todos los demás nodos.\n",
    "\n",
    "Varios algoritmos han sido desarrollados para abordar este problema, adaptándose a características particulares de los grafos, como la presencia o ausencia de pesos negativos y la naturaleza dirigida o no dirigida de estos. Entre ellos, el [Algoritmo de Dijkstra](https://en.wikipedia.org/wiki/Dijkstra%27s_algorithm) es conocido por su eficiencia en grafos ponderados sin pesos negativos. Sin embargo, otras alternativas como [Bellman-Ford](https://en.wikipedia.org/wiki/Bellman%E2%80%93Ford_algorithm) y [Floyd-Warshall](https://en.wikipedia.org/wiki/Floyd%E2%80%93Warshall_algorithm) también son relevantes, cada una ofreciendo distintas ventajas en contextos específicos."
   ]
  },
  {
   "cell_type": "markdown",
   "id": "da23dfc7",
   "metadata": {},
   "source": [
    "### Introducción al Problema del Camino Más Corto"
   ]
  },
  {
   "cell_type": "markdown",
   "id": "3a9e4fb8",
   "metadata": {},
   "source": [
    "El problema del camino más corto es una interrogante central en la teoría de grafos y un pilar fundamental en las ciencias de la computación. Este problema no solo tiene aplicaciones teóricas, sino que también es crucial en una variedad de aplicaciones prácticas, como en el diseño de redes de transporte, la optimización de rutas en logística, y en sistemas de comunicaciones. El objetivo de este problema es encontrar la ruta más eficiente entre dos puntos en un grafo, una estructura de datos compuesta por nodos (o vértices) interconectados por aristas (o bordes)."
   ]
  },
  {
   "cell_type": "markdown",
   "id": "448e41fa",
   "metadata": {},
   "source": [
    "### Exploración Detallada del Problema"
   ]
  },
  {
   "cell_type": "markdown",
   "id": "4aabbe1b",
   "metadata": {},
   "source": [
    "En su esencia, el problema del camino más corto busca determinar la ruta de menor costo o distancia entre dos nodos en un grafo. Este grafo puede ser no dirigido, donde las aristas no tienen una dirección específica, o dirigido, donde cada arista tiene una dirección definida. Además, el grafo puede ser ponderado, es decir, cada arista tiene un peso o costo asociado, o no ponderado, donde todas las aristas tienen el mismo peso implícito.\n",
    "\n",
    "La complejidad del problema del camino más corto varía según la naturaleza del grafo. En un grafo ponderado, los pesos pueden representar distintas métricas como distancia, tiempo, costo, o incluso probabilidades. Por lo tanto, encontrar el camino más corto implica calcular la ruta que acumula el menor peso total de las aristas entre el punto de inicio y el punto de destino.\n",
    "\n",
    "El problema del camino más corto se presenta en dos variantes principales:\n",
    "\n",
    "1. **Camino más corto desde un origen a un destino específico**: Aquí, el objetivo es encontrar la ruta más corta entre un par de nodos específicos. Este problema es fundamental en situaciones donde se requiere optimizar un trayecto entre dos puntos determinados.\n",
    "<p>&nbsp;</p>\n",
    "\n",
    "2. **Camino más corto desde un origen a todos los destinos (problema de ruta mínima)**: En este caso, se busca determinar el camino más corto desde un nodo de origen a todos los demás nodos en el grafo. Esta variante es especialmente relevante en el contexto de redes, donde se busca conocer las rutas óptimas desde un punto central a múltiples destinos.\n"
   ]
  },
  {
   "cell_type": "markdown",
   "id": "89210614",
   "metadata": {},
   "source": [
    "### Algoritmos y Métodos de Solución"
   ]
  },
  {
   "cell_type": "markdown",
   "id": "f556bae8",
   "metadata": {},
   "source": [
    "Diversos algoritmos han sido desarrollados para abordar el problema del camino más corto, cada uno con sus peculiaridades dependiendo de las características del grafo en cuestión. Entre los más prominentes se encuentran:\n",
    "\n",
    "- **[Algoritmo de Dijkstra](https://en.wikipedia.org/wiki/Dijkstra%27s_algorithm)**: Eficaz en grafos con pesos no negativos, busca el camino más corto expandiéndose iterativamente desde el nodo de origen y actualizando las distancias más cortas.\n",
    "<p>&nbsp;</p>\n",
    "\n",
    "- **[Algoritmo de Bellman-Ford](https://en.wikipedia.org/wiki/Bellman%E2%80%93Ford_algorithm)**: A diferencia del de *Dijkstra*, este algoritmo puede manejar grafos con pesos negativos y es capaz de detectar ciclos de peso negativo.\n",
    "<p>&nbsp;</p>\n",
    "\n",
    "- **[Algoritmo de Floyd-Warshall](https://en.wikipedia.org/wiki/Floyd%E2%80%93Warshall_algorithm)**: Utilizado para encontrar las distancias más cortas entre todos los pares de nodos en un grafo ponderado, es particularmente útil en la evaluación de rutas en redes densas.\n",
    "<p>&nbsp;</p>\n",
    "\n",
    "- **[Algoritmo A*](https://en.wikipedia.org/wiki/A*_search_algorithm)**: Este algoritmo, basado en búsqueda heurística, es útil en grafos de búsqueda y en situaciones donde se necesita una solución óptima eficiente.\n",
    "\n",
    "Cada uno de estos algoritmos tiene aplicaciones específicas y es seleccionado en función del tipo de grafo, la presencia de pesos negativos, y el requisito de optimización de recursos computacionales."
   ]
  },
  {
   "cell_type": "markdown",
   "id": "53177fd5",
   "metadata": {},
   "source": [
    "### Algoritmo de Dijkstra"
   ]
  },
  {
   "cell_type": "markdown",
   "id": "9002c3bd",
   "metadata": {},
   "source": [
    "#### Introducción"
   ]
  },
  {
   "cell_type": "markdown",
   "id": "f25e1432",
   "metadata": {},
   "source": [
    "El *algoritmo de Dijkstra*, nombrado en honor a su creador [Edsger W. Dijkstra](https://en.wikipedia.org/wiki/Edsger_W._Dijkstra), es un método para encontrar el camino más corto en un grafo ponderado dirigido o no dirigido, siempre y cuando los pesos de las aristas sean no negativos. Propuesto en 1956, este algoritmo es un ejemplo clásico en el campo de la teoría de grafos y la ciencia de la computación, especialmente en aplicaciones relacionadas con la planificación de rutas y la optimización de redes."
   ]
  },
  {
   "cell_type": "markdown",
   "id": "32ab0f56",
   "metadata": {},
   "source": [
    "#### Funcionamiento y Uso del Algoritmo"
   ]
  },
  {
   "cell_type": "markdown",
   "id": "433f752e",
   "metadata": {},
   "source": [
    "El *algoritmo de Dijkstra* funciona seleccionando primero un punto de partida fijo, denominado el vértice fuente, y luego calculando la distancia más corta de todos los demás vértices desde el vértice fuente.\n",
    "\n",
    "El algoritmo asume que todos los pesos son positivos porque presupone que la distancia de `X` a `Y` y luego a `Z` siempre es mayor que la distancia directa de `X` a `Y`. Esto siempre será cierto para las distancias. Si se tiene un grafo con pesos negativos o cero, el algoritmo de *Dijkstra* no puede utilizarse.\n",
    "\n",
    "El algoritmo también supone que el grafo está conectado (es decir, es posible encontrar un camino entre cualquier par de vértices `X` e `Y`), que el grafo es no dirigido (la distancia de `X` a `Y` siempre es la misma que de `Y` a `X`), y que no es un multigrafo (no puede haber más de una conexión directa entre cualquier `X` e `Y`), y no contiene bucles (`X` no está conectado consigo mismo).\n",
    "\n",
    "El resultado será un árbol que muestra la ruta más corta entre el vértice fuente y todos los demás vértices. Un árbol es un grafo que no contiene ciclos, en otras palabras, existe un único camino entre cualquier par de vértices `X` e `Y`. Aquí está la solución para el grafo mencionado anteriormente, asumiendo que el vértice fuente es `A`:\n",
    "\n",
    "***Usos del Algoritmo:***\n",
    "- **Planificación de Rutas**: En redes de transporte y logística, para encontrar el camino más eficiente entre ubicaciones.\n",
    "- **Redes de Comunicación**: Optimiza la transmisión de datos al encontrar la ruta de menor latencia en redes.\n",
    "- **Sistemas de Navegación GPS**: Calcula rutas óptimas para la navegación vehicular o peatonal.\n",
    "\n",
    "***Capacidad del Algoritmo:***\n",
    "- El algoritmo es eficiente para grafos con pesos no negativos, donde proporciona una solución precisa y rápida para el camino más corto.\n",
    "- Es altamente eficaz en la exploración de grafos con numerosos nodos, mostrando una capacidad notable para gestionar complejas redes de nodos y aristas.\n",
    "\n",
    "***Dificultades y Limitaciones:***\n",
    "- **Pesos Negativos**: El algoritmo no es adecuado para grafos que contienen aristas con pesos negativos. En tales casos, el algoritmo puede fallar en proporcionar el camino más corto.\n",
    "- **Rendimiento en Grandes Redes**: Aunque eficiente, su rendimiento puede ser superado por algoritmos más avanzados o especializados en ciertas situaciones, especialmente en redes extensas con estructuras complejas.\n",
    "- **Actualizaciones Dinámicas**: El algoritmo de Dijkstra no se adapta bien a situaciones donde el grafo se actualiza frecuentemente, como en redes de tráfico en tiempo real, ya que cada cambio requiere una nueva ejecución completa del algoritmo.\n",
    "\n",
    "***Pros:***\n",
    "- **Simplicidad y Claridad**: El algoritmo es conceptualmente sencillo y fácil de entender, lo que facilita su enseñanza y comprensión.\n",
    "- **Precisión**: Para grafos con pesos no negativos, garantiza encontrar el camino más corto.\n",
    "- **Flexibilidad**: Aplicable a una variedad de problemas prácticos en diferentes dominios.\n",
    "\n",
    "***Contras:***\n",
    "- **Ineficacia con Pesos Negativos**: Incapacidad para manejar grafos con aristas de peso negativo.\n",
    "- **Demanda Computacional en Redes Extensas**: Puede ser menos eficiente en términos de tiempo y espacio en comparación con otros algoritmos en ciertos contextos.\n",
    "- **Rigidez ante Cambios en el Grafo**: No es ideal para situaciones donde el grafo cambia dinámicamente.\n"
   ]
  },
  {
   "cell_type": "markdown",
   "id": "39408765",
   "metadata": {},
   "source": [
    "### Implementación del Algoritmo de Dijkstra"
   ]
  },
  {
   "cell_type": "markdown",
   "id": "d10541b7",
   "metadata": {},
   "source": [
    "El *algoritmo de Dijkstra*, utilizando una Matriz de Adyacencia, tiene como objetivo generar un árbol de caminos más cortos (*SPT*, por sus siglas en inglés) con un origen dado. Se mantiene una Matriz de Adyacencia con dos conjuntos: \n",
    "- Un conjunto contiene los vértices ya incluidos en el árbol de camino más corto.\n",
    "- El otro conjunto contiene los vértices que aún no han sido incluidos en dicho árbol. \n",
    "En cada paso del algoritmo, se busca un vértice que esté en el segundo conjunto y que tenga la distancia mínima desde el origen.\n",
    "\n",
    "```pseudocode\n",
    "1. Inicializar una lista o conjunto (por ejemplo, 'unvisited') con todos los nodos en el grafo.\n",
    "2. Asignar a cada nodo una distancia tentativa: establecerla en cero para el nodo inicial y en infinito para todos los demás nodos.\n",
    "3. Establecer el nodo inicial como nodo actual.\n",
    "4. Para el nodo actual, considerar todos sus vecinos no visitados y calcular su distancia tentativa. Si la distancia calculada es menor que la asignada actualmente, actualizar la distancia.\n",
    "5. Después de considerar todos los vecinos del nodo actual, marcar el nodo como visitado y eliminarlo del conjunto 'unvisited'. Un nodo visitado no será verificado de nuevo.\n",
    "6. Si el nodo destino ha sido marcado visitado (cuando se planifica una ruta entre dos puntos específicos) o si la distancia más pequeña entre los nodos no visitados es infinita (cuando se están calculando rutas más cortas a todos los nodos), entonces el algoritmo ha terminado.\n",
    "7. De lo contrario, seleccionar el nodo no visitado que está marcado con la distancia más pequeña, establecerlo como el nuevo \"nodo actual\" y volver al paso 4.\n",
    "```"
   ]
  },
  {
   "cell_type": "markdown",
   "id": "9f24a5a9",
   "metadata": {},
   "source": [
    "### Ejemplo - Algoritmo Dijkstra (usando matriz de adjacencia)"
   ]
  },
  {
   "cell_type": "markdown",
   "id": "b6333a90",
   "metadata": {},
   "source": [
    "Dado un grafo ponderado y un vértice de origen en dicho grafo, el objetivo es encontrar las rutas más cortas desde este vértice origen hacia todos los demás vértices presentes en el grafo.\n",
    "\n",
    "***Nota:*** Es importante señalar que el grafo en cuestión no incluye aristas con pesos negativos."
   ]
  },
  {
   "cell_type": "markdown",
   "id": "f99e6b04",
   "metadata": {},
   "source": [
    "**Paso 0 (Inicialización):**\n",
    "Todos los nodos tienen distancias infinitas excepto el nodo origen (`0`) que tiene distancia cero.\n",
    "\n",
    "<table id=\"mytable\" border=0>\n",
    "<tr>\n",
    "<td rowspan='2'> <img src=\"https://github.com/carlosalvarezh/EstructuraDatosAlgoritmos1/blob/main/Images/Dijkstra01.PNG?raw=true\" width=\"350\"/></td>\n",
    "<td style=\"height:50%\"> \n",
    "<table border=\"1\">\n",
    "    <thead>\n",
    "        <tr>\n",
    "            <th>Vértice</th>\n",
    "            <th>Vis</th>\n",
    "            <th>Dist</th>\n",
    "            <th>Prev</th>\n",
    "        </tr>\n",
    "    </thead>\n",
    "    <tbody>\n",
    "        <tr>\n",
    "            <td>0</td>\n",
    "            <td>No</td>\n",
    "            <td>0</td>\n",
    "            <td>-</td>\n",
    "        </tr>\n",
    "        <tr>\n",
    "            <td>1</td>\n",
    "            <td>No</td>\n",
    "            <td>INF</td>\n",
    "            <td>-</td>\n",
    "        </tr>\n",
    "        <tr>\n",
    "            <td>2</td>\n",
    "            <td>No</td>\n",
    "            <td>INF</td>\n",
    "            <td>-</td>\n",
    "        </tr>\n",
    "        <tr>\n",
    "            <td>3</td>\n",
    "            <td>No</td>\n",
    "            <td>INF</td>\n",
    "            <td>-</td>\n",
    "        </tr>\n",
    "        <tr>\n",
    "            <td>4</td>\n",
    "            <td>No</td>\n",
    "            <td>INF</td>\n",
    "            <td>-</td>\n",
    "        </tr>\n",
    "        <tr>\n",
    "            <td>5</td>\n",
    "            <td>No</td>\n",
    "            <td>INF</td>\n",
    "            <td>-</td>\n",
    "        </tr>\n",
    "        <tr>\n",
    "            <td>6</td>\n",
    "            <td>No</td>\n",
    "            <td>INF</td>\n",
    "            <td>-</td>\n",
    "        </tr>\n",
    "        <tr>\n",
    "            <td>7</td>\n",
    "            <td>No</td>\n",
    "            <td>INF</td>\n",
    "            <td>-</td>\n",
    "        </tr>\n",
    "        <tr>\n",
    "            <td>8</td>\n",
    "            <td>No</td>\n",
    "            <td>INF</td>\n",
    "            <td>-</td>\n",
    "        </tr>\n",
    "    </tbody>\n",
    "</table>\n",
    "\n",
    "</td>\n",
    "</tr>\n",
    "</table>"
   ]
  },
  {
   "cell_type": "markdown",
   "id": "1a01ce71",
   "metadata": {},
   "source": [
    "**Paso 1 (Visita del nodo `0`):**\n",
    "Visitamos el nodo `0` y actualizamos las distancias a los nodos `1` y `7`.\n",
    "\n",
    "<table id=\"mytable\" border=0>\n",
    "<tr>\n",
    "<td rowspan='2'> <img src=\"https://github.com/carlosalvarezh/EstructuraDatosAlgoritmos1/blob/main/Images/Dijkstra02.PNG?raw=true\" width=\"150\"/></td>\n",
    "<td style=\"height:50%\"> \n",
    "<table border=\"1\">\n",
    "    <thead>\n",
    "        <tr>\n",
    "            <th>Vértice</th>\n",
    "            <th>Vis</th>\n",
    "            <th>Dist</th>\n",
    "            <th>Prev</th>\n",
    "        </tr>\n",
    "    </thead>\n",
    "    <tbody>\n",
    "        <tr>\n",
    "            <td>0</td>\n",
    "            <td>Sí</td>\n",
    "            <td>0</td>\n",
    "            <td>-</td>\n",
    "        </tr>\n",
    "        <tr>\n",
    "            <td>1</td>\n",
    "            <td>No</td>\n",
    "            <td>4</td>\n",
    "            <td>0</td>\n",
    "        </tr>\n",
    "        <tr>\n",
    "            <td>2</td>\n",
    "            <td>No</td>\n",
    "            <td>INF</td>\n",
    "            <td>-</td>\n",
    "        </tr>\n",
    "        <tr>\n",
    "            <td>3</td>\n",
    "            <td>No</td>\n",
    "            <td>INF</td>\n",
    "            <td>-</td>\n",
    "        </tr>\n",
    "        <tr>\n",
    "            <td>4</td>\n",
    "            <td>No</td>\n",
    "            <td>INF</td>\n",
    "            <td>-</td>\n",
    "        </tr>\n",
    "        <tr>\n",
    "            <td>5</td>\n",
    "            <td>No</td>\n",
    "            <td>INF</td>\n",
    "            <td>-</td>\n",
    "        </tr>\n",
    "        <tr>\n",
    "            <td>6</td>\n",
    "            <td>No</td>\n",
    "            <td>INF</td>\n",
    "            <td>-</td>\n",
    "        </tr>\n",
    "        <tr>\n",
    "            <td>7</td>\n",
    "            <td>No</td>\n",
    "            <td>8</td>\n",
    "            <td>0</td>\n",
    "        </tr>\n",
    "        <tr>\n",
    "            <td>8</td>\n",
    "            <td>No</td>\n",
    "            <td>INF</td>\n",
    "            <td>-</td>\n",
    "        </tr>\n",
    "    </tbody>\n",
    "</table>\n",
    "\n",
    "</td>\n",
    "</tr>\n",
    "</table>"
   ]
  },
  {
   "cell_type": "markdown",
   "id": "07ab751c",
   "metadata": {},
   "source": [
    "**Paso 2 (Visita del nodo `1`):**\n",
    "El nodo `1` es el siguiente más cercano a `0`, así que lo visitamos y actualizamos las distancias a `2` y `7`.\n",
    "\n",
    "<table id=\"mytable\" border=0>\n",
    "<tr>\n",
    "<td rowspan='2'> <img src=\"https://github.com/carlosalvarezh/EstructuraDatosAlgoritmos1/blob/main/Images/Dijkstra03.PNG?raw=true\" width=\"250\"/></td>\n",
    "<td style=\"height:50%\"> \n",
    "<table border=\"1\">\n",
    "    <thead>\n",
    "        <tr>\n",
    "            <th>Vértice</th>\n",
    "            <th>Vis</th>\n",
    "            <th>Dist</th>\n",
    "            <th>Prev</th>\n",
    "        </tr>\n",
    "    </thead>\n",
    "    <tbody>\n",
    "        <tr>\n",
    "            <td>0</td>\n",
    "            <td>Sí</td>\n",
    "            <td>0</td>\n",
    "            <td>-</td>\n",
    "        </tr>\n",
    "        <tr>\n",
    "            <td>1</td>\n",
    "            <td>Sí</td>\n",
    "            <td>4</td>\n",
    "            <td>0</td>\n",
    "        </tr>\n",
    "        <tr>\n",
    "            <td>2</td>\n",
    "            <td>No</td>\n",
    "            <td>12</td>\n",
    "            <td>1</td>\n",
    "        </tr>\n",
    "        <tr>\n",
    "            <td>3</td>\n",
    "            <td>No</td>\n",
    "            <td>INF</td>\n",
    "            <td>-</td>\n",
    "        </tr>\n",
    "        <tr>\n",
    "            <td>4</td>\n",
    "            <td>No</td>\n",
    "            <td>INF</td>\n",
    "            <td>-</td>\n",
    "        </tr>\n",
    "        <tr>\n",
    "            <td>5</td>\n",
    "            <td>No</td>\n",
    "            <td>INF</td>\n",
    "            <td>-</td>\n",
    "        </tr>\n",
    "        <tr>\n",
    "            <td>6</td>\n",
    "            <td>No</td>\n",
    "            <td>INF</td>\n",
    "            <td>-</td>\n",
    "        </tr>\n",
    "        <tr>\n",
    "            <td>7</td>\n",
    "            <td>No</td>\n",
    "            <td>8</td>\n",
    "            <td>0</td>\n",
    "        </tr>\n",
    "        <tr>\n",
    "            <td>8</td>\n",
    "            <td>No</td>\n",
    "            <td>INF</td>\n",
    "            <td>-</td>\n",
    "        </tr>\n",
    "    </tbody>\n",
    "</table>\n",
    "\n",
    "</td>\n",
    "</tr>\n",
    "</table>\n"
   ]
  },
  {
   "cell_type": "markdown",
   "id": "4fb40a74",
   "metadata": {},
   "source": [
    "**Paso 3 (Visita del nodo `7`):**\n",
    "Seleccionamos `7` como el más cercano a `0` y actualizamos las distancias para `6` y `8`.\n",
    "\n",
    "<table id=\"mytable\" border=0>\n",
    "<tr>\n",
    "<td rowspan='2'> <img src=\"https://github.com/carlosalvarezh/EstructuraDatosAlgoritmos1/blob/main/Images/Dijkstra04.PNG?raw=true\" width=\"250\"/></td>\n",
    "<td style=\"height:50%\"> \n",
    "<table border=\"1\">\n",
    "    <thead>\n",
    "        <tr>\n",
    "            <th>Vértice</th>\n",
    "            <th>Vis</th>\n",
    "            <th>Dist</th>\n",
    "            <th>Prev</th>\n",
    "        </tr>\n",
    "    </thead>\n",
    "    <tbody>\n",
    "        <tr>\n",
    "            <td>0</td>\n",
    "            <td>Sí</td>\n",
    "            <td>0</td>\n",
    "            <td>-</td>\n",
    "        </tr>\n",
    "        <tr>\n",
    "            <td>1</td>\n",
    "            <td>Sí</td>\n",
    "            <td>4</td>\n",
    "            <td>0</td>\n",
    "        </tr>\n",
    "        <tr>\n",
    "            <td>2</td>\n",
    "            <td>No</td>\n",
    "            <td>12</td>\n",
    "            <td>1</td>\n",
    "        </tr>\n",
    "        <tr>\n",
    "            <td>3</td>\n",
    "            <td>No</td>\n",
    "            <td>INF</td>\n",
    "            <td>-</td>\n",
    "        </tr>\n",
    "        <tr>\n",
    "            <td>4</td>\n",
    "            <td>No</td>\n",
    "            <td>INF</td>\n",
    "            <td>-</td>\n",
    "        </tr>\n",
    "        <tr>\n",
    "            <td>5</td>\n",
    "            <td>No</td>\n",
    "            <td>INF</td>\n",
    "            <td>-</td>\n",
    "        </tr>\n",
    "        <tr>\n",
    "            <td>6</td>\n",
    "            <td>No</td>\n",
    "            <td>9</td>\n",
    "            <td>7</td>\n",
    "        </tr>\n",
    "        <tr>\n",
    "            <td>7</td>\n",
    "            <td>Sí</td>\n",
    "            <td>8</td>\n",
    "            <td>0</td>\n",
    "        </tr>\n",
    "        <tr>\n",
    "            <td>8</td>\n",
    "            <td>No</td>\n",
    "            <td>14</td>\n",
    "            <td>7</td>\n",
    "        </tr>\n",
    "    </tbody>\n",
    "</table>\n",
    "\n",
    "</td>\n",
    "</tr>\n",
    "</table>"
   ]
  },
  {
   "cell_type": "markdown",
   "id": "6e180951",
   "metadata": {},
   "source": [
    "**Paso 4 (Visita del nodo `6`):**\n",
    "Ahora, el nodo `6` tiene la distancia más corta. Lo visitamos y actualizamos las distancias a `5` y `8`.\n",
    "\n",
    "<table id=\"mytable\" border=0>\n",
    "<tr>\n",
    "<td rowspan='2'> <img src=\"https://github.com/carlosalvarezh/EstructuraDatosAlgoritmos1/blob/main/Images/Dijkstra05.PNG?raw=true\" width=\"250\"/></td>\n",
    "<td style=\"height:50%\"> \n",
    "<table border=\"1\">\n",
    "    <thead>\n",
    "        <tr>\n",
    "            <th>Vértice</th>\n",
    "            <th>Vis</th>\n",
    "            <th>Dist</th>\n",
    "            <th>Prev</th>\n",
    "        </tr>\n",
    "    </thead>\n",
    "    <tbody>\n",
    "        <tr>\n",
    "            <td>0</td>\n",
    "            <td>Sí</td>\n",
    "            <td>0</td>\n",
    "            <td>-</td>\n",
    "        </tr>\n",
    "        <tr>\n",
    "            <td>1</td>\n",
    "            <td>Sí</td>\n",
    "            <td>4</td>\n",
    "            <td>0</td>\n",
    "        </tr>\n",
    "        <tr>\n",
    "            <td>2</td>\n",
    "            <td>No</td>\n",
    "            <td>12</td>\n",
    "            <td>1</td>\n",
    "        </tr>\n",
    "        <tr>\n",
    "            <td>3</td>\n",
    "            <td>No</td>\n",
    "            <td>INF</td>\n",
    "            <td>-</td>\n",
    "        </tr>\n",
    "        <tr>\n",
    "            <td>4</td>\n",
    "            <td>No</td>\n",
    "            <td>INF</td>\n",
    "            <td>-</td>\n",
    "        </tr>\n",
    "        <tr>\n",
    "            <td>5</td>\n",
    "            <td>No</td>\n",
    "            <td>11</td>\n",
    "            <td>6</td>\n",
    "        </tr>\n",
    "        <tr>\n",
    "            <td>6</td>\n",
    "            <td>Sí</td>\n",
    "            <td>9</td>\n",
    "            <td>7</td>\n",
    "        </tr>\n",
    "        <tr>\n",
    "            <td>7</td>\n",
    "            <td>Sí</td>\n",
    "            <td>8</td>\n",
    "            <td>0</td>\n",
    "        </tr>\n",
    "        <tr>\n",
    "            <td>8</td>\n",
    "            <td>No</td>\n",
    "            <td>14</td>\n",
    "            <td>7</td>\n",
    "        </tr>\n",
    "    </tbody>\n",
    "</table>\n",
    "\n",
    "\n",
    "</td>\n",
    "</tr>\n",
    "</table>"
   ]
  },
  {
   "cell_type": "markdown",
   "id": "a5f7ca14",
   "metadata": {},
   "source": [
    "Resumiremos los pasos intermedios, hasta llegar al último paso:\n",
    "\n",
    "**Paso 5 (Visita del nodo `5`):**\n",
    "El nodo `5` es el siguiente. Visitamos y actualizamos las distancias para `3` y `4`.\n",
    "\n",
    "\n",
    "|Vértice | Vis | Dist | Prev|\n",
    "|:------:|:---:|:----:|:---:|\n",
    "|0       | Sí  | 0    | -|\n",
    "|1       | Sí  | 4    | 0|\n",
    "|2       | No  | 12   | 1|\n",
    "|3       | No  | 23   | 5|\n",
    "|4       | No  | 21   | 5|\n",
    "|5       | Sí  | 11   | 6|\n",
    "|6       | Sí  | 9    | 7|\n",
    "|7       | Sí  | 8    | 0|\n",
    "|8       | No  | 14   | 7|\n",
    "\n",
    "\n",
    "**Paso 6 (Visita del nodo `2`):**\n",
    "Seleccionamos `2` y actualizamos las distancias para `3` y `8`.\n",
    "\n",
    "|Vértice | Vis | Dist | Prev|\n",
    "|:------:|:---:|:----:|:---:|\n",
    "|0       | Sí  | 0    | -|\n",
    "|1       | Sí  | 4    | 0|\n",
    "|2       | Sí  | 12   | 1|\n",
    "|3       | No  | 19   | 2|\n",
    "|4       | No  | 21   | 5|\n",
    "|5       | Sí  | 11   | 6|\n",
    "|6       | Sí  | 9    | 7|\n",
    "|7       | Sí  | 8    | 0|\n",
    "|8       | No  | 14   | 2|\n",
    "\n",
    "**Paso 7 (Visita del nodo `8`):**\n",
    "Visitamos `8`, aunque no hay actualizaciones para `8`  ya que todos sus vecinos han sido visitados o tienen distancias más cortas.\n",
    "\n",
    "|Vértice | Vis | Dist | Prev|\n",
    "|:------:|:---:|:----:|:---:|\n",
    "|0       | Sí  | 0    | -|\n",
    "|1       | Sí  | 4    | 0|\n",
    "|2       | Sí  | 12   | 1|\n",
    "|3       | No  | 19   | 2|\n",
    "|4       | No  | 21   | 5|\n",
    "|5       | Sí  | 11   | 6|\n",
    "|6       | Sí  | 9    | 7|\n",
    "|7       | Sí  | 8    | 0|\n",
    "|8       | Sí  | 14   | 2|\n",
    "\n",
    "**Paso 8 (Visita del nodo `3`):**\n",
    "El nodo `3` es visitado y actualizamos la distancia para `4`.\n",
    "\n",
    "|Vértice | Vis | Dist | Prev|\n",
    "|:------:|:---:|:----:|:---:|\n",
    "|0       | Sí  | 0    | -|\n",
    "|1       | Sí  | 4    | 0|\n",
    "|2       | Sí  | 12   | 1|\n",
    "|3       | Sí  | 19   | 2|\n",
    "|4       | No  | 21   | 5|\n",
    "|5       | Sí  | 11   | 6|\n",
    "|6       | Sí  | 9    | 7|\n",
    "|7       | Sí  | 8    | 0|\n",
    "|8       | Sí  | 14   | 2|\n"
   ]
  },
  {
   "cell_type": "markdown",
   "id": "c0e33cf8",
   "metadata": {},
   "source": [
    "Repetimos los pasos anteriores hasta que se incluyan todos los vértices del grafo dado. Finalmente, obtenemos el siguiente *Árbol de Camino Más Corto* (*SPT*, por sus siglas en inglés).\n",
    "\n",
    "Finalmente, el **Paso 9 (Visita del nodo `4`):**\n",
    "El nodo `4` es el último nodo que visitamos y finalizamos el algoritmo.\n",
    "\n",
    "<table id=\"mytable\" border=0>\n",
    "<tr>\n",
    "<td rowspan='2'> <img src=\"https://github.com/carlosalvarezh/EstructuraDatosAlgoritmos1/blob/main/Images/Dijkstra06.PNG?raw=true\" width=\"350\"/></td>\n",
    "<td style=\"height:50%\"> \n",
    "<table border=\"1\">\n",
    "    <thead>\n",
    "        <tr>\n",
    "            <th>Vértice</th>\n",
    "            <th>Vis</th>\n",
    "            <th>Dist</th>\n",
    "            <th>Prev</th>\n",
    "        </tr>\n",
    "    </thead>\n",
    "    <tbody>\n",
    "        <tr>\n",
    "            <td>0</td>\n",
    "            <td>Sí</td>\n",
    "            <td>0</td>\n",
    "            <td>-</td>\n",
    "        </tr>\n",
    "        <tr>\n",
    "            <td>1</td>\n",
    "            <td>Sí</td>\n",
    "            <td>4</td>\n",
    "            <td>0</td>\n",
    "        </tr>\n",
    "        <tr>\n",
    "            <td>2</td>\n",
    "            <td>Sí</td>\n",
    "            <td>12</td>\n",
    "            <td>1</td>\n",
    "        </tr>\n",
    "        <tr>\n",
    "            <td>3</td>\n",
    "            <td>Sí</td>\n",
    "            <td>19</td>\n",
    "            <td>2</td>\n",
    "        </tr>\n",
    "        <tr>\n",
    "            <td>4</td>\n",
    "            <td>Sí</td>\n",
    "            <td>21</td>\n",
    "            <td>5</td>\n",
    "        </tr>\n",
    "        <tr>\n",
    "            <td>5</td>\n",
    "            <td>Sí</td>\n",
    "            <td>11</td>\n",
    "            <td>6</td>\n",
    "        </tr>\n",
    "        <tr>\n",
    "            <td>6</td>\n",
    "            <td>Sí</td>\n",
    "            <td>9</td>\n",
    "            <td>7</td>\n",
    "        </tr>\n",
    "        <tr>\n",
    "            <td>7</td>\n",
    "            <td>Sí</td>\n",
    "            <td>8</td>\n",
    "            <td>0</td>\n",
    "        </tr>\n",
    "        <tr>\n",
    "            <td>8</td>\n",
    "            <td>Sí</td>\n",
    "            <td>14</td>\n",
    "            <td>2</td>\n",
    "        </tr>\n",
    "    </tbody>\n",
    "</table>\n",
    "\n",
    "\n",
    "</td>\n",
    "</tr>\n",
    "</table>"
   ]
  },
  {
   "cell_type": "markdown",
   "id": "89d4195b",
   "metadata": {},
   "source": [
    "### Código"
   ]
  },
  {
   "cell_type": "code",
   "execution_count": 5,
   "id": "9f711f4f",
   "metadata": {},
   "outputs": [],
   "source": [
    "def dijkstra(graph, start):\n",
    "    distances = {node: float('infinity') for node in graph}\n",
    "    previous_nodes = {node: None for node in graph}\n",
    "    distances[start] = 0\n",
    "    unvisited = list(graph.keys())\n",
    "\n",
    "    while unvisited:\n",
    "        # Find the node with the smallest distance\n",
    "        current_node = min(unvisited, key=lambda node: distances[node])\n",
    "\n",
    "        # Stop if the smallest distance is infinity, which means the remaining nodes are not connected\n",
    "        if distances[current_node] == float('infinity'):\n",
    "            break\n",
    "\n",
    "        # Calculate the distance to each neighboring node\n",
    "        for neighbor, weight in graph[current_node]:\n",
    "            distance = distances[current_node] + weight\n",
    "            if distance < distances[neighbor]:\n",
    "                distances[neighbor] = distance\n",
    "                previous_nodes[neighbor] = current_node\n",
    "\n",
    "        # Remove the current node from the unvisited list\n",
    "        unvisited.remove(current_node)\n",
    "\n",
    "    return distances, previous_nodes\n",
    "\n",
    "def shortest_path(graph, start, end):\n",
    "    distances, previous_nodes = dijkstra(graph, start)\n",
    "\n",
    "    path = []\n",
    "    while end is not None:\n",
    "        path.append(end)\n",
    "        end = previous_nodes[end]\n",
    "\n",
    "    path = path[::-1]  # Reverse the list\n",
    "\n",
    "    return distances, path"
   ]
  },
  {
   "cell_type": "code",
   "execution_count": 6,
   "id": "1fc0f4a7",
   "metadata": {},
   "outputs": [],
   "source": [
    "# grafo\n",
    "\n",
    "graph = {\n",
    "    '0': [('1', 4), ('7', 8)],\n",
    "    '1': [('0', 4), ('2', 8), ('7', 11)],\n",
    "    '2': [('1', 8), ('3', 7), ('8', 2), ('5', 4)],\n",
    "    '3': [('2', 7), ('4', 9), ('5', 14)],\n",
    "    '4': [('3', 9), ('5', 10)],\n",
    "    '5': [('2', 4), ('3', 14), ('4', 10), ('6', 2)],\n",
    "    '6': [('5', 2), ('7', 1), ('8', 6)],\n",
    "    '7': [('0', 8), ('1', 11), ('6', 1), ('8', 7)],\n",
    "    '8': [('2', 2), ('6', 6), ('7', 7)]\n",
    "}"
   ]
  },
  {
   "cell_type": "code",
   "execution_count": 11,
   "id": "b7c989d6",
   "metadata": {},
   "outputs": [
    {
     "name": "stdout",
     "output_type": "stream",
     "text": [
      "Salida: 0 4 12 19 21 11 9 8 14\n",
      "Explicación:\n",
      "La distancia mínima desde 0 a 1 = 4, y el camino recorrido fue 0->1\n",
      "La distancia mínima desde 0 a 2 = 12, y el camino recorrido fue 0->1->2\n",
      "La distancia mínima desde 0 a 3 = 19, y el camino recorrido fue 0->1->2->3\n",
      "La distancia mínima desde 0 a 4 = 21, y el camino recorrido fue 0->7->6->5->4\n",
      "La distancia mínima desde 0 a 5 = 11, y el camino recorrido fue 0->7->6->5\n",
      "La distancia mínima desde 0 a 6 = 9, y el camino recorrido fue 0->7->6\n",
      "La distancia mínima desde 0 a 7 = 8, y el camino recorrido fue 0->7\n",
      "La distancia mínima desde 0 a 8 = 14, y el camino recorrido fue 0->1->2->8\n"
     ]
    }
   ],
   "source": [
    "distances_list = []\n",
    "paths_list = []\n",
    "for end in graph:\n",
    "    distances, path = shortest_path(graph, '0', end)\n",
    "    distances_list.append(distances[end])\n",
    "    paths_list.append(path)\n",
    "\n",
    "print('Salida:', ' '.join(str(distance) for distance in distances_list))\n",
    "print('Explicación:')\n",
    "for i in range(1, len(paths_list)):\n",
    "    print(f'La distancia mínima desde 0 a {paths_list[i][-1]} = {distances_list[i]}, y el camino recorrido fue {\"->\".join(paths_list[i])}')"
   ]
  },
  {
   "cell_type": "code",
   "execution_count": null,
   "id": "0c840bcd",
   "metadata": {},
   "outputs": [],
   "source": []
  }
 ],
 "metadata": {
  "kernelspec": {
   "display_name": "Python 3 (ipykernel)",
   "language": "python",
   "name": "python3"
  },
  "language_info": {
   "codemirror_mode": {
    "name": "ipython",
    "version": 3
   },
   "file_extension": ".py",
   "mimetype": "text/x-python",
   "name": "python",
   "nbconvert_exporter": "python",
   "pygments_lexer": "ipython3",
   "version": "3.12.4"
  },
  "toc": {
   "base_numbering": 1,
   "nav_menu": {},
   "number_sections": true,
   "sideBar": true,
   "skip_h1_title": true,
   "title_cell": "Table of Contents",
   "title_sidebar": "Contents",
   "toc_cell": false,
   "toc_position": {
    "height": "calc(100% - 180px)",
    "left": "10px",
    "top": "150px",
    "width": "256px"
   },
   "toc_section_display": true,
   "toc_window_display": false
  }
 },
 "nbformat": 4,
 "nbformat_minor": 5
}
