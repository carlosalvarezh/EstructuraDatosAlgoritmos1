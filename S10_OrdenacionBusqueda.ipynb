{
 "cells": [
  {
   "cell_type": "markdown",
   "metadata": {
    "slideshow": {
     "slide_type": "slide"
    }
   },
   "source": [
    "<h1 align=\"center\">Estructura de Datos y Algoritmos I</h1>\n",
    "<h1 align=\"center\">Algoritmos de Ordenación y Búsqueda</h1>\n",
    "<h1 align=\"center\">MEDELLÍN - COLOMBIA </h1>"
   ]
  },
  {
   "cell_type": "markdown",
   "metadata": {
    "slideshow": {
     "slide_type": "subslide"
    }
   },
   "source": [
    "*** \n",
    "|[![Outlook](https://img.shields.io/badge/Microsoft_Outlook-0078D4?style=plastic&logo=microsoft-outlook&logoColor=white)](mailto:calvar52@eafit.edu.co)||[![Open In Colab](https://colab.research.google.com/assets/colab-badge.svg)](https://colab.research.google.com/github/carlosalvarezh/EstructuraDatosAlgoritmos1/blob/main/S10_OrdenacionBusqueda.ipynb)\n",
    "|-:|:-|--:|\n",
    "|[![LinkedIn](https://img.shields.io/badge/linkedin-%230077B5.svg?style=plastic&logo=linkedin&logoColor=white)](https://www.linkedin.com/in/carlosalvarez5/)|[![@alvarezhenao](https://img.shields.io/twitter/url/https/twitter.com/alvarezhenao.svg?style=social&label=Follow%20%40alvarezhenao)](https://twitter.com/alvarezhenao)|[![@carlosalvarezh](https://img.shields.io/badge/github-%23121011.svg?style=plastic&logo=github&logoColor=white)](https://github.com/carlosalvarezh)|\n",
    "\n",
    "<table>\n",
    " <tr align=left><td><img align=left src=\"https://github.com/carlosalvarezh/Curso_CEC_EAFIT/blob/main/images/CCLogoColorPop1.gif?raw=true\" width=\"25\">\n",
    " <td>Text provided under a Creative Commons Attribution license, CC-BY. All code is made available under the FSF-approved MIT license.(c) Carlos Alberto Alvarez Henao</td>\n",
    "</table>\n",
    "\n",
    "***"
   ]
  },
  {
   "cell_type": "markdown",
   "metadata": {},
   "source": [
    "<a id='TOC'></a>"
   ]
  },
  {
   "cell_type": "markdown",
   "metadata": {
    "slideshow": {
     "slide_type": "slide"
    }
   },
   "source": [
    "## Introducción"
   ]
  },
  {
   "cell_type": "markdown",
   "metadata": {},
   "source": [
    "<p float=\"center\">\n",
    "  <img src=\"https://github.com/carlosalvarezh/Analisis_de_Algoritmos/blob/master/images/Sorting01.PNG?raw=true\" width=\"500\" />\n",
    "</p>"
   ]
  },
  {
   "cell_type": "markdown",
   "metadata": {
    "slideshow": {
     "slide_type": "subslide"
    }
   },
   "source": [
    "**Ordenación o Clasificación de datos ($sort$, en inglés):** Operación consistente en disponer un conjunto —estructura— de datos en algún determinado orden con respecto a uno de los campos de elementos del conjunto. Una colección de datos (Estructura) puede ser almacenada en un archivo, un arreglo (lista, tupla, diccionario) u otra estructura especial.\n",
    "\n",
    "\n",
    "**Ejemplo:** cada elemento del conjunto de datos de una guía telefónica tiene un campo nombre, un campo dirección y un campo número de teléfono; la guía telefónica está dispuesta en orden alfabético de nombres; los elementos numéricos se pueden ordenar en orden creciente o decreciente de acuerdo al valor numérico del elemento. \n",
    "\n",
    "En terminología de ordenación, el elemento por el cual está ordenado un conjunto de datos (o se está buscando) se denomina clave. Un arreglo se dice que está ordenado por la clave $k$ si está en orden ascendente o descendente con respecto a la clave.\n",
    " \n",
    "  - El arreglo se dice que está en orden ascendente si: \n",
    "$𝑖<𝑗$, esto implica que $𝑘_𝑖 \\leq 𝑘_j$\n",
    "\n",
    "  - y se dice que está en orden descendente si:\n",
    "$𝑖>𝑗$, esto implica que $𝑘_𝑖 \\geq 𝑘_j$\n",
    " "
   ]
  },
  {
   "cell_type": "markdown",
   "metadata": {
    "slideshow": {
     "slide_type": "slide"
    }
   },
   "source": [
    "## Algoritmos de Ordenamiento"
   ]
  },
  {
   "cell_type": "markdown",
   "metadata": {
    "slideshow": {
     "slide_type": "subslide"
    }
   },
   "source": [
    "Existen muchos algoritmos de ordenamiento, cuál es el “mejor”? \n",
    "\n",
    "***Eficiencia:*** factor que mide la calidad y rendimiento de un algoritmo. El más eficiente es el que:\n",
    "    - Resuelve en menor tiempo de ejecución en computador;\n",
    "    - Menor número de instrucciones.\n",
    "\n",
    "\n",
    "- A veces no se cuenta con un mecanismo que permita cuantificar la *eficiencia*.\n",
    "\n",
    "\n",
    "- El mejor criterio para medirla es aislar una operación específica clave en la ordenación.\n",
    "\n",
    "\n",
    "- Se empleará como medida de $eficiencia$ el número de comparaciones efectuada entre elementos.\n",
    "\n",
    "  - $A$ será más eficiente que $B$ si se requiere un menor número de comparaciones."
   ]
  },
  {
   "cell_type": "markdown",
   "metadata": {
    "slideshow": {
     "slide_type": "subslide"
    }
   },
   "source": [
    "- En el caso de ordenar elementos de un arreglo vectorial, el número de comparaciones será función del número de elementos, $n$, del arreglo: $n+4$, $n^2$, etc.\n",
    "\n",
    "- Los métodos de ordenación se suelen dividir en dos grandes grupos:\n",
    "\n",
    "  - **Directos:** `Burbuja, Selección, Inserción`.\n",
    "  \n",
    "  - **Indirectos:** `Shell, Ordenación Rápida, Ordenación por Mezcla, Radixsort`."
   ]
  },
  {
   "cell_type": "markdown",
   "metadata": {
    "slideshow": {
     "slide_type": "slide"
    }
   },
   "source": [
    "### Ordenamiento por intercambio (Bubble sort)"
   ]
  },
  {
   "cell_type": "markdown",
   "metadata": {},
   "source": [
    "<p float=\"center\">\n",
    "  <img src=\"https://github.com/carlosalvarezh/Analisis_de_Algoritmos/blob/master/images/Sort_Bubble01.gif?raw=true\" width=\"500\" />\n",
    "</p>\n"
   ]
  },
  {
   "cell_type": "markdown",
   "metadata": {
    "slideshow": {
     "slide_type": "subslide"
    }
   },
   "source": [
    "- Basado en la lectura sucesiva de la lista a ordenar, comparando el elemento inferior de la lista con los restantes y efectuando el intercambio de posiciones cuando el orden de la comparación no sea el correcto."
   ]
  },
  {
   "cell_type": "markdown",
   "metadata": {},
   "source": [
    "#### Ejemplo"
   ]
  },
  {
   "cell_type": "markdown",
   "metadata": {},
   "source": [
    "Ordenar el arreglo $[8, 4, 6, 2]$"
   ]
  },
  {
   "cell_type": "markdown",
   "metadata": {
    "slideshow": {
     "slide_type": "subslide"
    }
   },
   "source": [
    "<p float=\"center\">\n",
    "  <img src=\"https://github.com/carlosalvarezh/Analisis_de_Algoritmos/blob/master/images/Ordena_Intercambio0.PNG?raw=true\" width=\"600\" />\n",
    "</p>\n"
   ]
  },
  {
   "cell_type": "markdown",
   "metadata": {
    "slideshow": {
     "slide_type": "subslide"
    }
   },
   "source": [
    "- El elemento de índice $0$ se compara con cada elemento posterior del arreglo de índices $1$, $2$ y $3$.\n",
    "\n",
    "\n",
    "- En cada comparación se comprueba si el elemento siguiente es menor que el del índice $0$, en este caso se intercambian.\n",
    "\n",
    "\n",
    "- Después de terminar todas las comparaciones, el elemento menor se localiza en el índice $0$.\n"
   ]
  },
  {
   "cell_type": "markdown",
   "metadata": {
    "slideshow": {
     "slide_type": "subslide"
    }
   },
   "source": [
    "<p float=\"center\">\n",
    "  <img src=\"https://github.com/carlosalvarezh/Analisis_de_Algoritmos/blob/master/images/Ordena_Intercambio1.PNG?raw=true\" width=\"500\" />\n",
    "</p>\n"
   ]
  },
  {
   "cell_type": "markdown",
   "metadata": {
    "slideshow": {
     "slide_type": "subslide"
    }
   },
   "source": [
    "- El algoritmo continua comparando el elemento de índice $1$ con los elementos posteriores de índices $2$ y $3$. En cada comparación, si el elemento mayor está en el índice $1$ se intercambian los elementos.\n",
    "\n",
    "\n",
    "- Después de hacer todas las comparaciones, el segundo elemento de menor valor del arreglo se almacena en el índice $1$.\n"
   ]
  },
  {
   "cell_type": "markdown",
   "metadata": {
    "slideshow": {
     "slide_type": "subslide"
    }
   },
   "source": [
    "<p float=\"center\">\n",
    "  <img src=\"https://github.com/carlosalvarezh/Analisis_de_Algoritmos/blob/master/images/Ordena_Intercambio2.PNG?raw=true\" width=\"500\" />\n",
    "</p>\n"
   ]
  },
  {
   "cell_type": "markdown",
   "metadata": {
    "slideshow": {
     "slide_type": "subslide"
    }
   },
   "source": [
    "La sublista a considerar es $8$, $6$. Una única comparación produce el arreglo ordenado."
   ]
  },
  {
   "cell_type": "markdown",
   "metadata": {
    "slideshow": {
     "slide_type": "subslide"
    }
   },
   "source": [
    "- El método utiliza dos bucles anidados.\n",
    "\n",
    "\n",
    "- Suponiendo que el arreglo es de tamaño $n$, el rango del ciclo externo irá desde el índice $0$ hasta $n-2$.\n",
    "\n",
    "\n",
    "- Por cada índice $i$, se comparan los elementos posteriores de índices $j=i+1, i+2, \\ldots, n-1$."
   ]
  },
  {
   "cell_type": "markdown",
   "metadata": {
    "slideshow": {
     "slide_type": "subslide"
    }
   },
   "source": [
    "El intercambio ($swap$) de los elementos $a_i$, $a_j$ se realiza en un bloque:\n",
    "\n",
    "```pseudocode\n",
    "aux = a_i\n",
    "a_i = a_j\n",
    "a_j = aux\n",
    "```"
   ]
  },
  {
   "cell_type": "markdown",
   "metadata": {},
   "source": [
    "#### Pseudocódigo"
   ]
  },
  {
   "cell_type": "markdown",
   "metadata": {},
   "source": [
    "```pseudocode\n",
    "para i <-- 1 hasta n hacer:\n",
    "    para j <-- 0 hasta n-i hacer:\n",
    "        si a(j) > a(j+1) entonces:\n",
    "            aux <-- a(j)\n",
    "            a(j) <-- a(j+1)\n",
    "            a(j+1) <-- aux\n",
    "        fin si\n",
    "    fin para\n",
    "fin para\n",
    "```"
   ]
  },
  {
   "cell_type": "code",
   "execution_count": 1,
   "metadata": {},
   "outputs": [],
   "source": [
    "# CODIFIQUE AQUÍ EL ALGORITMO ...\n"
   ]
  },
  {
   "cell_type": "markdown",
   "metadata": {
    "slideshow": {
     "slide_type": "slide"
    }
   },
   "source": [
    "### Ordenamiento por Selección (Selection)"
   ]
  },
  {
   "cell_type": "markdown",
   "metadata": {},
   "source": [
    "<p float=\"center\">\n",
    "  <img src=\"https://github.com/carlosalvarezh/Analisis_de_Algoritmos/blob/master/images/Sort_Selection01.gif?raw=true\" width=\"500\" />\n",
    "</p>"
   ]
  },
  {
   "cell_type": "markdown",
   "metadata": {},
   "source": [
    "#### Algoritmo"
   ]
  },
  {
   "cell_type": "markdown",
   "metadata": {
    "slideshow": {
     "slide_type": "slide"
    }
   },
   "source": [
    "Los pasos del algoritmo son:\n",
    "\n",
    "1. Seleccionar el elemento de menor valor del arreglo, intercambiarlo con el primer elemento, $a_0$. Con esto, la entrada de menor valor está en la primera posición del arreglo.\n",
    "\n",
    "2. Considerar las posiciones del arreglo $a_1, a_2, \\ldots$, seleccionar el elemento de menor valor e intercambiarlo con $a_1$. Las dos primeras entradas están en orden.\n",
    "\n",
    "3. Continuar este proceso encontrando o seleccionando el elemento de menor valor de los restantes elementos del arreglo, intercambiándolos adecuadamente.\n"
   ]
  },
  {
   "cell_type": "markdown",
   "metadata": {},
   "source": [
    "#### Ejemplo"
   ]
  },
  {
   "cell_type": "markdown",
   "metadata": {
    "slideshow": {
     "slide_type": "subslide"
    }
   },
   "source": [
    "Ordenar el arreglo $[51,  21,  39,  80,  36]$"
   ]
  },
  {
   "attachments": {
    "Ordena_Seleccion3.PNG": {
     "image/png": "[encoded data removed]"
    }
   },
   "cell_type": "markdown",
   "metadata": {
    "slideshow": {
     "slide_type": "subslide"
    }
   },
   "source": [
    "![Ordena_Seleccion3.PNG](attachment:Ordena_Seleccion3.PNG)"
   ]
  },
  {
   "cell_type": "markdown",
   "metadata": {},
   "source": [
    "#### Pseudocódigo"
   ]
  },
  {
   "cell_type": "markdown",
   "metadata": {},
   "source": [
    "```pseudocode\n",
    "para i <-- 1 hasta n-1 hacer:\n",
    "    minimo <-- i\n",
    "    para j <-- i+1 hasta n hacer:\n",
    "        si a(j) < a(minimo) entonces:\n",
    "            minimo <-- j\n",
    "        fin si\n",
    "    fin para\n",
    "    aux <-- a(i)\n",
    "    a(i) <-- a(minimo)\n",
    "    a(minimo) <-- aux\n",
    "fin para\n",
    "```"
   ]
  },
  {
   "cell_type": "code",
   "execution_count": null,
   "metadata": {
    "slideshow": {
     "slide_type": "subslide"
    }
   },
   "outputs": [],
   "source": [
    "# CODIFIQUE AQUÍ EL ALGORITMO ...\n"
   ]
  },
  {
   "cell_type": "markdown",
   "metadata": {
    "slideshow": {
     "slide_type": "slide"
    }
   },
   "source": [
    "### Ordenamiento por Insersión (Insertion)"
   ]
  },
  {
   "cell_type": "markdown",
   "metadata": {},
   "source": [
    "<p float=\"center\">\n",
    "  <img src=\"https://github.com/carlosalvarezh/Analisis_de_Algoritmos/blob/master/images/Sort_Insertion01.gif?raw=true\" width=\"400\" />\n",
    "</p>"
   ]
  },
  {
   "cell_type": "markdown",
   "metadata": {},
   "source": [
    "#### Algoritmo"
   ]
  },
  {
   "cell_type": "markdown",
   "metadata": {
    "slideshow": {
     "slide_type": "subslide"
    }
   },
   "source": [
    "Los pasos del algoritmo son:\n",
    "\n",
    "1. El primer elemento, $a_0$ se considera ordenado; es decir el arreglo inicial consta de un elemento.\n",
    "\n",
    "2. Se inserta $a_1$ en la posición correcta, delante o detrás de $a_0$, dependiendo de que sea mayor o menor.\n",
    "\n",
    "3. Por cada ciclo o iteración $i$ (𝑑𝑒𝑠𝑑𝑒 $i = 1$ hasta $n-1$) se explora la sublista $a_{i-1} \\ldots, a_{0}$ buscando la posición correcta de inserción; a la vez se mueve hacia la derecha en la sublista una posición todos los elementos mayores que el elemento a insertar $a_i$, para dejar vacía esa posición.\n",
    "\n",
    "4. Insertar el elemento en la posición correcta."
   ]
  },
  {
   "cell_type": "markdown",
   "metadata": {},
   "source": [
    "#### Ejemplo"
   ]
  },
  {
   "cell_type": "markdown",
   "metadata": {
    "slideshow": {
     "slide_type": "subslide"
    }
   },
   "source": [
    "Ordenar el arreglo $[50,  20,  40,  80,  30]$"
   ]
  },
  {
   "attachments": {
    "Ordena_Insersion.PNG": {
     "image/png": "[encoded data removed]"
    }
   },
   "cell_type": "markdown",
   "metadata": {
    "slideshow": {
     "slide_type": "subslide"
    }
   },
   "source": [
    "![Ordena_Insersion.PNG](attachment:Ordena_Insersion.PNG)"
   ]
  },
  {
   "cell_type": "markdown",
   "metadata": {},
   "source": [
    "#### Seudocódigo"
   ]
  },
  {
   "cell_type": "markdown",
   "metadata": {},
   "source": [
    "```pseudocode\n",
    "para i <-- 1 hasta n hacer:\n",
    "    actual <-- a(i)\n",
    "    j <-- i\n",
    "    mientras j > 0 & a(j-1)> actual hacer:\n",
    "        a(j) <-- a(j-1)\n",
    "        j <-- j-1\n",
    "    fin mientras\n",
    "    a(j) <-- actual\n",
    "fin para\n",
    "```"
   ]
  },
  {
   "cell_type": "code",
   "execution_count": null,
   "metadata": {
    "slideshow": {
     "slide_type": "subslide"
    }
   },
   "outputs": [],
   "source": [
    "# CODIFIQUE AQUÍ EL ALGORITMO ..."
   ]
  },
  {
   "cell_type": "markdown",
   "metadata": {
    "slideshow": {
     "slide_type": "slide"
    }
   },
   "source": [
    "### **Ordenamiento Shell**"
   ]
  },
  {
   "cell_type": "markdown",
   "metadata": {
    "slideshow": {
     "slide_type": "subslide"
    }
   },
   "source": [
    "**Inserción directa:** Cada elemento se compara con los elementos contiguos a su izquierda, uno tras otro.\n",
    "\n",
    "- Si el elemento a insertar es el menor hay qué realizar muchas comparaciones antes de colocar en su lugar definitivo.\n",
    "\n",
    "**Shell:** modifica los saltos contiguos resultantes de las comparaciones por saltos de mayor tamaño.\n",
    "\n",
    "- Generalmente se toma como salto inicial $n/2$ ($n$, número de elementos), luego se reduce el salto a la mitad en cada repetición hasta que le salto es de tamaño $1$.\n"
   ]
  },
  {
   "cell_type": "markdown",
   "metadata": {},
   "source": [
    "#### Ejemplo"
   ]
  },
  {
   "cell_type": "markdown",
   "metadata": {
    "slideshow": {
     "slide_type": "subslide"
    }
   },
   "source": [
    "ordenar el arreglo $[6, 1, 5, 2, 3, 4, 0]$\n",
    "- $n = 7$, salto inicial $n/2 \\approx 3$"
   ]
  },
  {
   "cell_type": "markdown",
   "metadata": {
    "slideshow": {
     "slide_type": "subslide"
    }
   },
   "source": [
    "|Recorrido|Salto|Intercambios|Arreglo|\n",
    "|:-------:|:---:|:----------:|:-----:|\n",
    "|1|3|(6,2), (5,4), (6,0)| 2 1 4 0 3 5 6|\n",
    "|2|3|(2,0)|0 1 4 2 3 5 6|\n",
    "|3|3|Ninguno|0 1 4 2 3 5 6|\n",
    "|Salto 3/2 = 1||||\n",
    "|4|1|(4,2), (4,3)|0 1 2 3 4 5 6|\n",
    "|5|1|Ninguno|0 1 2 3 4 5 6|"
   ]
  },
  {
   "cell_type": "markdown",
   "metadata": {},
   "source": [
    "#### Pseudocódigo"
   ]
  },
  {
   "cell_type": "markdown",
   "metadata": {
    "scrolled": false,
    "slideshow": {
     "slide_type": "subslide"
    }
   },
   "source": [
    "```pseudocode\n",
    "intervalo ← n / 2\n",
    "mientras intervalo > 0 hacer\n",
    "    para i ← intervalo hasta n - 1 hacer\n",
    "        j ← i\n",
    "        auxiliar ← a[i]\n",
    "        mientras j ≥ intervalo y a[j - intervalo] > auxiliar hacer\n",
    "            a[j] ← a[j - intervalo]\n",
    "            j ← j - intervalo\n",
    "        fin mientras\n",
    "        a[j] ← auxiliar\n",
    "    fin para\n",
    "    si intervalo = 2 entonces\n",
    "        intervalo ← 1\n",
    "    sino\n",
    "        intervalo ← entero(intervalo / 2)\n",
    "    fin si\n",
    "fin mientras\n"
   ]
  },
  {
   "cell_type": "code",
   "execution_count": null,
   "metadata": {
    "slideshow": {
     "slide_type": "subslide"
    }
   },
   "outputs": [],
   "source": [
    "# CODIFIQUE AQUÍ EL ALGORITMO ..."
   ]
  },
  {
   "cell_type": "markdown",
   "metadata": {},
   "source": [
    "### Ordenamiento por mezcla (Merge sort)"
   ]
  },
  {
   "cell_type": "markdown",
   "metadata": {},
   "source": [
    "<p float=\"center\">\n",
    "  <img src=\"https://github.com/carlosalvarezh/Analisis_de_Algoritmos/blob/master/images/Sort_Merge01.gif?raw=true\" width=\"400\" />\n",
    "</p>\n"
   ]
  },
  {
   "cell_type": "markdown",
   "metadata": {},
   "source": [
    "### Ordenamiento rápido (Quick sort)"
   ]
  },
  {
   "cell_type": "markdown",
   "metadata": {},
   "source": [
    "<p float=\"center\">\n",
    "  <img src=\"https://github.com/carlosalvarezh/Analisis_de_Algoritmos/blob/master/images/Sort_Quick01.gif?raw=true\" width=\"400\" />\n",
    "</p>\n"
   ]
  },
  {
   "cell_type": "markdown",
   "metadata": {},
   "source": [
    "### Comparación entre algoritmos de ordenamiento"
   ]
  },
  {
   "cell_type": "markdown",
   "metadata": {},
   "source": [
    "<p float=\"center\">\n",
    "  <img src=\"https://github.com/carlosalvarezh/Analisis_de_Algoritmos/blob/master/images/SortComparisson.gif?raw=true\" width=\"600\" />\n",
    "</p>\n",
    "\n",
    "\n",
    "<div style=\"text-align: right\"> Fuente: <a href=\"https://www.toptal.com/developers/sorting-algorithms\">Toptal</a> </div>"
   ]
  },
  {
   "cell_type": "markdown",
   "metadata": {},
   "source": [
    "### Complejidad en algoritmos de ordenamiento"
   ]
  },
  {
   "cell_type": "markdown",
   "metadata": {},
   "source": [
    "<p float=\"center\">\n",
    "  <img src=\"https://github.com/carlosalvarezh/Analisis_de_Algoritmos/blob/master/images/ComplexitySortingAlgorithms.PNG?raw=true\" width=\"500\" />\n",
    "</p>\n",
    "\n",
    "\n",
    "<div style=\"text-align: right\"> Fuente: <a href=\"https://www.bigocheatsheet.com/\">Bigocheatsheet</a> </div>"
   ]
  },
  {
   "cell_type": "markdown",
   "metadata": {},
   "source": [
    "Actividad para el estudiante"
   ]
  },
  {
   "cell_type": "markdown",
   "metadata": {},
   "source": [
    "Para cada uno de los algoritmos planteados, realice un estudio de desempeño tem"
   ]
  },
  {
   "cell_type": "markdown",
   "metadata": {
    "slideshow": {
     "slide_type": "slide"
    }
   },
   "source": [
    "## Búsqueda"
   ]
  },
  {
   "cell_type": "markdown",
   "metadata": {
    "slideshow": {
     "slide_type": "subslide"
    }
   },
   "source": [
    "Cuando se trabaja con grandes cantidades de datos es necesario determinar si una estructura contiene un valor que coincida con un cierto valor clave. El proceso de encontrar un elemento específico se denomina búsqueda. \n",
    "\n",
    " Se analizarán dos técnicas de búsqueda:\n",
    " \n",
    " - Lineal o secuencial: más sencilla, \n",
    " \n",
    " - Binaria o dicotómica: más eficiente.\n",
    "\n",
    "**Ejemplo:** encontrar un nombre en una guía telefónica para consultar su teléfono."
   ]
  },
  {
   "cell_type": "markdown",
   "metadata": {},
   "source": [
    "### Búsqueda Secuencial"
   ]
  },
  {
   "cell_type": "markdown",
   "metadata": {
    "slideshow": {
     "slide_type": "subslide"
    }
   },
   "source": [
    "- El algoritmo de búsqueda secuencial compara cada elemento del conjunto de datos con la clave de búsqueda. \n",
    "\n",
    "\n",
    "- Dado que el conjunto no está en un orden particular, es probable que el elemento a buscar sea el primer elemento, el último o cualquier otro. \n",
    "\n",
    "\n",
    "- En promedio, el algoritmo tendrá que comparar la clave de búsqueda con al menos la mitad de los elementos. \n",
    "\n",
    "\n",
    "- Este método funciona bien con conjuntos pequeños o no ordenados. La eficiencia de la búsqueda secuencial o lineal es pobre."
   ]
  },
  {
   "cell_type": "markdown",
   "metadata": {
    "slideshow": {
     "slide_type": "subslide"
    }
   },
   "source": [
    "**Ejemplo:** Buscar el elemento `u`:\n",
    "\n",
    "<p float=\"center\">\n",
    "  <img src=\"https://github.com/carlosalvarezh/Analisis_de_Algoritmos/blob/master/images/Busqueda01.PNG?raw=true\" width=\"500\" />\n",
    "</p>"
   ]
  },
  {
   "cell_type": "markdown",
   "metadata": {},
   "source": [
    "#### Seudocódigo"
   ]
  },
  {
   "cell_type": "markdown",
   "metadata": {
    "slideshow": {
     "slide_type": "subslide"
    }
   },
   "source": [
    "<p float=\"center\">\n",
    "  <img src=\"https://github.com/carlosalvarezh/Analisis_de_Algoritmos/blob/master/images/Busqueda03.PNG?raw=true\" width=\"500\" />\n",
    "</p>\n"
   ]
  },
  {
   "cell_type": "code",
   "execution_count": null,
   "metadata": {
    "slideshow": {
     "slide_type": "subslide"
    }
   },
   "outputs": [],
   "source": [
    "# CODIFIQUE AQUÍ EL ALGORITMO ...\n"
   ]
  },
  {
   "cell_type": "markdown",
   "metadata": {
    "slideshow": {
     "slide_type": "subslide"
    }
   },
   "source": [
    "<p float=\"center\">\n",
    "  <img src=\"https://github.com/carlosalvarezh/Analisis_de_Algoritmos/blob/master/images/Busqueda04.PNG?raw=true\" width=\"400\" />\n",
    "</p>\n"
   ]
  },
  {
   "cell_type": "code",
   "execution_count": null,
   "metadata": {
    "slideshow": {
     "slide_type": "subslide"
    }
   },
   "outputs": [],
   "source": [
    "# CODIFIQUE AQUÍ EL ALGORITMO ...\n"
   ]
  },
  {
   "cell_type": "markdown",
   "metadata": {},
   "source": [
    "#### Eficiencia y Complejidad"
   ]
  },
  {
   "cell_type": "markdown",
   "metadata": {
    "slideshow": {
     "slide_type": "subslide"
    }
   },
   "source": [
    "Considerando la cantidad de comparaciones\n",
    "\n",
    "**- Mejor caso: 1.** El elemento buscado está en la primera posición, es decir, se hace una sola comparación.\n",
    "\n",
    "**- Peor caso: $n$.** El elemento buscado está en la última posición, necesitando igual número de comparaciones que la cantidad total de elementos en el arreglo.\n",
    "\n",
    "**- Caso promedio: $n/2$.** El elemento buscado estará cerca de la mitad, necesitando, en promedio, la mitad de comparaciones.\n",
    "\n",
    "La velocidad de ejecución depende linealmente del tamaño del arreglo."
   ]
  },
  {
   "cell_type": "markdown",
   "metadata": {},
   "source": [
    "### Búsqueda Binaria"
   ]
  },
  {
   "cell_type": "markdown",
   "metadata": {
    "slideshow": {
     "slide_type": "slide"
    }
   },
   "source": [
    "- La búsqueda secuencial se aplica a cualquier lista. \n",
    "\n",
    "\n",
    "- Si la lista está ordenada, la búsqueda binaria proporciona una técnica de búsqueda mejorada. \n",
    "\n",
    "\n",
    "- Una búsqueda binaria típica es la búsqueda de una palabra en un diccionario. \n",
    "\n",
    "\n",
    "- Una idea similar se aplica en la búsqueda en una lista ordenada. \n",
    "\n",
    "  - Se sitúa la lectura en el centro de la lista y se comprueba si la clave coincide con el valor del elemento central. Si no se encuentra el valor de la clave, se sigue la búsqueda uno en la mitad inferior o superior del elemento central de la lista. \n",
    " \n",
    "  - En general, si los datos de la lista están ordenados se puede utilizar esa información para acortar el tiempo de búsqueda.\n"
   ]
  },
  {
   "cell_type": "markdown",
   "metadata": {},
   "source": [
    "#### Algoritmo"
   ]
  },
  {
   "cell_type": "markdown",
   "metadata": {
    "slideshow": {
     "slide_type": "subslide"
    }
   },
   "source": [
    "Suponiendo la lista almacenada en un arreglo, los índices de la lista son: `bajo=0` y `alto=n-1`, y `n` es el número de elementos en el arreglo.\n",
    "\n",
    "1. Calcular el índice del punto central del arreglo: `central = mod((bajo+alto)/2)` (división entera)\n",
    "\n",
    "2. Comparar el valor de este elemento central con la clave:"
   ]
  },
  {
   "cell_type": "markdown",
   "metadata": {
    "slideshow": {
     "slide_type": "fragment"
    }
   },
   "source": [
    "<p float=\"center\">\n",
    "  <img src=\"https://github.com/carlosalvarezh/Analisis_de_Algoritmos/blob/master/images/Binaria01.PNG?raw=true\" width=\"500\" />\n",
    "</p>\n"
   ]
  },
  {
   "cell_type": "markdown",
   "metadata": {
    "slideshow": {
     "slide_type": "fragment"
    }
   },
   "source": [
    "- Si `a[central]<clave`, la nueva sublista de búsqueda tiene por valores extremos de su rango `bajo = central+1 … alto`.\n",
    "\n",
    "\n",
    "- Si `a[central]>clave`, la nueva sublista de búsqueda tiene por valores extremos de su rango `bajo … central-1 = alto`."
   ]
  },
  {
   "cell_type": "markdown",
   "metadata": {
    "slideshow": {
     "slide_type": "fragment"
    }
   },
   "source": [
    "<p float=\"center\">\n",
    "  <img src=\"https://github.com/carlosalvarezh/Analisis_de_Algoritmos/blob/master/images/Binaria02.PNG?raw=true\" width=\"500\" />\n",
    "</p>\n"
   ]
  },
  {
   "cell_type": "markdown",
   "metadata": {
    "slideshow": {
     "slide_type": "subslide"
    }
   },
   "source": [
    "El algoritmo termina o porque se ha encontrado la clave, o porque el valor `bajo` excede a `alto`, y el algoritmo devuelve el indicador de fallo `-1` (búsqueda no encontrada)."
   ]
  },
  {
   "cell_type": "markdown",
   "metadata": {
    "slideshow": {
     "slide_type": "subslide"
    }
   },
   "source": [
    "***Ejemplo:*** Buscar la clave `40` en el siguiente arreglo:\n",
    "\n",
    "<p float=\"center\">\n",
    "  <img src=\"https://github.com/carlosalvarezh/Analisis_de_Algoritmos/blob/master/images/Binaria03.PNG?raw=true\" width=\"500\" />\n",
    "</p>\n"
   ]
  },
  {
   "cell_type": "markdown",
   "metadata": {
    "slideshow": {
     "slide_type": "fragment"
    }
   },
   "source": [
    "<p float=\"center\">\n",
    "  <img src=\"https://github.com/carlosalvarezh/Analisis_de_Algoritmos/blob/master/images/Binaria04.PNG?raw=true\" width=\"500\" />\n",
    "</p>\n"
   ]
  },
  {
   "cell_type": "markdown",
   "metadata": {
    "slideshow": {
     "slide_type": "subslide"
    }
   },
   "source": [
    "Buscar en la sublista derecha de Central:\n",
    "\n",
    "<p float=\"center\">\n",
    "  <img src=\"https://github.com/carlosalvarezh/Analisis_de_Algoritmos/blob/master/images/Binaria05.PNG?raw=true\" width=\"500\" />\n",
    "</p>\n"
   ]
  },
  {
   "cell_type": "markdown",
   "metadata": {
    "slideshow": {
     "slide_type": "subslide"
    }
   },
   "source": [
    "Buscar en la sublista derecha de Central:\n",
    "\n",
    "<p float=\"center\">\n",
    "  <img src=\"https://github.com/carlosalvarezh/Analisis_de_Algoritmos/blob/master/images/Binaria06.PNG?raw=true\" width=\"500\" />\n",
    "</p>\n"
   ]
  },
  {
   "cell_type": "markdown",
   "metadata": {
    "slideshow": {
     "slide_type": "subslide"
    }
   },
   "source": [
    "El algoritmo ha requerido 3 comparaciones frente a 8 comparaciones que se hubieran requerido con la búsqueda secuencial."
   ]
  },
  {
   "cell_type": "markdown",
   "metadata": {},
   "source": [
    "#### Seudocódigo"
   ]
  },
  {
   "cell_type": "markdown",
   "metadata": {
    "slideshow": {
     "slide_type": "subslide"
    }
   },
   "source": [
    "<p float=\"center\">\n",
    "  <img src=\"https://github.com/carlosalvarezh/Analisis_de_Algoritmos/blob/master/images/Binaria07.PNG?raw=true\" width=\"500\" />\n",
    "</p>\n"
   ]
  },
  {
   "cell_type": "code",
   "execution_count": null,
   "metadata": {
    "slideshow": {
     "slide_type": "subslide"
    }
   },
   "outputs": [],
   "source": [
    "# CODIFIQUE AQUÍ EL ALGORITMO ...\n"
   ]
  },
  {
   "cell_type": "markdown",
   "metadata": {},
   "source": [
    "#### Eficiencia y Complejidad"
   ]
  },
  {
   "cell_type": "markdown",
   "metadata": {
    "slideshow": {
     "slide_type": "subslide"
    }
   },
   "source": [
    "Considerando la cantidad de comparaciones\n",
    "\n",
    "**- Mejor caso: $1$.** El elemento buscado está en el centro, por lo tanto se hace una sola comparación.\n",
    "\n",
    "\n",
    "**- Peor caso: $log(n)$.** El elemento buscado está en una esquina.\n",
    "\n",
    "\n",
    "**- Caso promedio: $log(n/2)$.**\n",
    "\n",
    "\n",
    "La velocidad de ejecución depende logarítmicamente del tamaño del arreglo."
   ]
  },
  {
   "cell_type": "markdown",
   "metadata": {},
   "source": [
    "### Comparación: Búsqueda Binaria y Secuencial"
   ]
  },
  {
   "cell_type": "markdown",
   "metadata": {
    "slideshow": {
     "slide_type": "slide"
    }
   },
   "source": [
    "<p float=\"center\">\n",
    "  <img src=\"https://github.com/carlosalvarezh/Analisis_de_Algoritmos/blob/master/images/ComparacionBinariaSecuencial.png?raw=true\" width=\"500\" />\n",
    "</p>\n"
   ]
  },
  {
   "cell_type": "markdown",
   "metadata": {},
   "source": [
    "### Complejidad en algoritmos de búsqueda"
   ]
  },
  {
   "cell_type": "markdown",
   "metadata": {},
   "source": [
    "|  Algoritmo  | Mejor caso | Caso medio | Peor caso |\n",
    "|:------------|:----------:|:----------:|:---------:|\n",
    "|Secuencial   | O(1)       |  O(n)      |  O(n)     |\n",
    "|Binaria      | O(1)       |  O(log(n)) |  O(log(n))|"
   ]
  },
  {
   "cell_type": "markdown",
   "metadata": {},
   "source": [
    "## Desafío de clase"
   ]
  },
  {
   "cell_type": "markdown",
   "metadata": {
    "slideshow": {
     "slide_type": "slide"
    }
   },
   "source": [
    "En la literatura se encuentran muchos otros algoritmos de ordenammiento. Seleccione uno de ellos (diferente a los vistos aquí) e impleméntelo en un lenguaje de programación. Realice un análisis de complejidad del algoritmo seleccionado y compárelo con los restantes algoritmos vistos en clase. Realice un breve documento para el análisis."
   ]
  }
 ],
 "metadata": {
  "anaconda-cloud": {},
  "kernelspec": {
   "display_name": "Python 3 (ipykernel)",
   "language": "python",
   "name": "python3"
  },
  "language_info": {
   "codemirror_mode": {
    "name": "ipython",
    "version": 3
   },
   "file_extension": ".py",
   "mimetype": "text/x-python",
   "name": "python",
   "nbconvert_exporter": "python",
   "pygments_lexer": "ipython3",
   "version": "3.11.8"
  },
  "latex_envs": {
   "LaTeX_envs_menu_present": true,
   "autocomplete": true,
   "bibliofile": "biblio.bib",
   "cite_by": "apalike",
   "current_citInitial": 1,
   "eqLabelWithNumbers": true,
   "eqNumInitial": 1,
   "hotkeys": {
    "equation": "Ctrl-E",
    "itemize": "Ctrl-I"
   },
   "labels_anchors": false,
   "latex_user_defs": false,
   "report_style_numbering": true,
   "user_envs_cfg": true
  },
  "toc": {
   "base_numbering": 1,
   "nav_menu": {},
   "number_sections": true,
   "sideBar": true,
   "skip_h1_title": false,
   "title_cell": "Table of Contents",
   "title_sidebar": "Contents",
   "toc_cell": false,
   "toc_position": {
    "height": "calc(100% - 180px)",
    "left": "10px",
    "top": "150px",
    "width": "307.198px"
   },
   "toc_section_display": true,
   "toc_window_display": false
  }
 },
 "nbformat": 4,
 "nbformat_minor": 4
}
